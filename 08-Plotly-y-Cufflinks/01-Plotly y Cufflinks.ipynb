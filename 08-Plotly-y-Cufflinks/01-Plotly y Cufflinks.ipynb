{
 "cells": [
  {
   "cell_type": "markdown",
   "metadata": {},
   "source": [
    "___\n",
    "\n",
    "<a href='https://plotly.com/python/'> <img src='https://plotly.com/all_static/images/plotly_graphing_libraries_1.png' /></a>\n",
    "___\n",
    "# Plotly y Cufflinks"
   ]
  },
  {
   "cell_type": "markdown",
   "metadata": {},
   "source": [
    "**Plotly** es una libreria que permite crear gráficos interactivos para poder usarse en cuadros de mando o sitios web (se pueden guardar como archivos html o imágenes estáticas).\n",
    "\n",
    "**Cufflinks** es una libreria que conecta un dataframe de Pandas con Plotly, lo que permite a los usuarios crear visualizaciones directamente desde Pandas. Esta libreria une el poder de Plotly con la flexibilidad de Pandas para facilitar la visualización de los datos.\n",
    "\n",
    "## Instalación\n",
    "\n",
    "Para que todo esto funcione, se deberá instalar plotly y cufflinks para llamar a los gráficos directamente desde un dataframe de Pandas. Estas librerias no están disponibles actualmente a través de Conda, pero están disponibles a través de pip . Instalar las librerias en su línea de comando/terminal usando:\n",
    "\n",
    "    pip install plotly\n",
    "    pip install cufflinks\n",
    "\n",
    "## Importaciones y configuración "
   ]
  },
  {
   "cell_type": "code",
   "execution_count": 1,
   "metadata": {},
   "outputs": [],
   "source": [
    "import pandas as pd\n",
    "import numpy as np\n",
    "%matplotlib inline"
   ]
  },
  {
   "cell_type": "code",
   "execution_count": 3,
   "metadata": {},
   "outputs": [
    {
     "name": "stdout",
     "output_type": "stream",
     "text": [
      "5.3.1\n"
     ]
    }
   ],
   "source": [
    "from plotly import __version__\n",
    "from plotly.offline import download_plotlyjs, init_notebook_mode, plot, iplot\n",
    "\n",
    "print(__version__) # requires version >= 1.9.0"
   ]
  },
  {
   "cell_type": "code",
   "execution_count": 4,
   "metadata": {},
   "outputs": [],
   "source": [
    "import cufflinks as cf"
   ]
  },
  {
   "cell_type": "code",
   "execution_count": 7,
   "metadata": {},
   "outputs": [
    {
     "data": {
      "text/html": [
       "        <script type=\"text/javascript\">\n",
       "        window.PlotlyConfig = {MathJaxConfig: 'local'};\n",
       "        if (window.MathJax) {MathJax.Hub.Config({SVG: {font: \"STIX-Web\"}});}\n",
       "        if (typeof require !== 'undefined') {\n",
       "        require.undef(\"plotly\");\n",
       "        requirejs.config({\n",
       "            paths: {\n",
       "                'plotly': ['https://cdn.plot.ly/plotly-2.4.2.min']\n",
       "            }\n",
       "        });\n",
       "        require(['plotly'], function(Plotly) {\n",
       "            window._Plotly = Plotly;\n",
       "        });\n",
       "        }\n",
       "        </script>\n",
       "        "
      ]
     },
     "metadata": {},
     "output_type": "display_data"
    }
   ],
   "source": [
    "# Para Notebooks\n",
    "init_notebook_mode(connected=True)"
   ]
  },
  {
   "cell_type": "code",
   "execution_count": 6,
   "metadata": {},
   "outputs": [
    {
     "data": {
      "text/html": [
       "        <script type=\"text/javascript\">\n",
       "        window.PlotlyConfig = {MathJaxConfig: 'local'};\n",
       "        if (window.MathJax) {MathJax.Hub.Config({SVG: {font: \"STIX-Web\"}});}\n",
       "        if (typeof require !== 'undefined') {\n",
       "        require.undef(\"plotly\");\n",
       "        requirejs.config({\n",
       "            paths: {\n",
       "                'plotly': ['https://cdn.plot.ly/plotly-2.4.2.min']\n",
       "            }\n",
       "        });\n",
       "        require(['plotly'], function(Plotly) {\n",
       "            window._Plotly = Plotly;\n",
       "        });\n",
       "        }\n",
       "        </script>\n",
       "        "
      ]
     },
     "metadata": {},
     "output_type": "display_data"
    }
   ],
   "source": [
    "# Para uso offline colocar\n",
    "cf.go_offline()"
   ]
  },
  {
   "cell_type": "markdown",
   "metadata": {},
   "source": [
    "### Datos de prueba"
   ]
  },
  {
   "cell_type": "code",
   "execution_count": 13,
   "metadata": {},
   "outputs": [],
   "source": [
    "df = pd.DataFrame(np.random.randn(100,4),columns='A B C D'.split())"
   ]
  },
  {
   "cell_type": "code",
   "execution_count": 14,
   "metadata": {},
   "outputs": [
    {
     "data": {
      "text/html": [
       "<div>\n",
       "<style scoped>\n",
       "    .dataframe tbody tr th:only-of-type {\n",
       "        vertical-align: middle;\n",
       "    }\n",
       "\n",
       "    .dataframe tbody tr th {\n",
       "        vertical-align: top;\n",
       "    }\n",
       "\n",
       "    .dataframe thead th {\n",
       "        text-align: right;\n",
       "    }\n",
       "</style>\n",
       "<table border=\"1\" class=\"dataframe\">\n",
       "  <thead>\n",
       "    <tr style=\"text-align: right;\">\n",
       "      <th></th>\n",
       "      <th>A</th>\n",
       "      <th>B</th>\n",
       "      <th>C</th>\n",
       "      <th>D</th>\n",
       "    </tr>\n",
       "  </thead>\n",
       "  <tbody>\n",
       "    <tr>\n",
       "      <th>0</th>\n",
       "      <td>-1.020647</td>\n",
       "      <td>0.495305</td>\n",
       "      <td>0.128072</td>\n",
       "      <td>-0.049912</td>\n",
       "    </tr>\n",
       "    <tr>\n",
       "      <th>1</th>\n",
       "      <td>0.051856</td>\n",
       "      <td>-0.331553</td>\n",
       "      <td>-0.337946</td>\n",
       "      <td>-0.124391</td>\n",
       "    </tr>\n",
       "    <tr>\n",
       "      <th>2</th>\n",
       "      <td>0.964796</td>\n",
       "      <td>0.382343</td>\n",
       "      <td>1.463396</td>\n",
       "      <td>0.710100</td>\n",
       "    </tr>\n",
       "    <tr>\n",
       "      <th>3</th>\n",
       "      <td>-0.045756</td>\n",
       "      <td>0.908674</td>\n",
       "      <td>-0.773860</td>\n",
       "      <td>-0.353984</td>\n",
       "    </tr>\n",
       "    <tr>\n",
       "      <th>4</th>\n",
       "      <td>0.569896</td>\n",
       "      <td>-0.940690</td>\n",
       "      <td>-1.050689</td>\n",
       "      <td>1.516472</td>\n",
       "    </tr>\n",
       "  </tbody>\n",
       "</table>\n",
       "</div>"
      ],
      "text/plain": [
       "          A         B         C         D\n",
       "0 -1.020647  0.495305  0.128072 -0.049912\n",
       "1  0.051856 -0.331553 -0.337946 -0.124391\n",
       "2  0.964796  0.382343  1.463396  0.710100\n",
       "3 -0.045756  0.908674 -0.773860 -0.353984\n",
       "4  0.569896 -0.940690 -1.050689  1.516472"
      ]
     },
     "execution_count": 14,
     "metadata": {},
     "output_type": "execute_result"
    }
   ],
   "source": [
    "df.head()"
   ]
  },
  {
   "cell_type": "code",
   "execution_count": 15,
   "metadata": {},
   "outputs": [],
   "source": [
    "df2 = pd.DataFrame({'Category':['A','B','C'],'Values':[32,43,50]})"
   ]
  },
  {
   "cell_type": "code",
   "execution_count": 16,
   "metadata": {},
   "outputs": [
    {
     "data": {
      "text/html": [
       "<div>\n",
       "<style scoped>\n",
       "    .dataframe tbody tr th:only-of-type {\n",
       "        vertical-align: middle;\n",
       "    }\n",
       "\n",
       "    .dataframe tbody tr th {\n",
       "        vertical-align: top;\n",
       "    }\n",
       "\n",
       "    .dataframe thead th {\n",
       "        text-align: right;\n",
       "    }\n",
       "</style>\n",
       "<table border=\"1\" class=\"dataframe\">\n",
       "  <thead>\n",
       "    <tr style=\"text-align: right;\">\n",
       "      <th></th>\n",
       "      <th>Category</th>\n",
       "      <th>Values</th>\n",
       "    </tr>\n",
       "  </thead>\n",
       "  <tbody>\n",
       "    <tr>\n",
       "      <th>0</th>\n",
       "      <td>A</td>\n",
       "      <td>32</td>\n",
       "    </tr>\n",
       "    <tr>\n",
       "      <th>1</th>\n",
       "      <td>B</td>\n",
       "      <td>43</td>\n",
       "    </tr>\n",
       "    <tr>\n",
       "      <th>2</th>\n",
       "      <td>C</td>\n",
       "      <td>50</td>\n",
       "    </tr>\n",
       "  </tbody>\n",
       "</table>\n",
       "</div>"
      ],
      "text/plain": [
       "  Category  Values\n",
       "0        A      32\n",
       "1        B      43\n",
       "2        C      50"
      ]
     },
     "execution_count": 16,
     "metadata": {},
     "output_type": "execute_result"
    }
   ],
   "source": [
    "df2.head()"
   ]
  },
  {
   "cell_type": "markdown",
   "metadata": {},
   "source": [
    "## Usando Cufflinks e iplot()\n",
    "\n",
    "* Scatter\n",
    "* Bar\n",
    "* Boxplot\n",
    "* 3D surface\n",
    "* Histograma\n",
    "* Burbujas"
   ]
  },
  {
   "cell_type": "markdown",
   "metadata": {},
   "source": [
    "## Scatter"
   ]
  },
  {
   "cell_type": "code",
   "execution_count": 17,
   "metadata": {},
   "outputs": [
    {
     "data": {
      "application/vnd.plotly.v1+json": {
       "config": {
        "linkText": "Export to plot.ly",
        "plotlyServerURL": "https://plot.ly",
        "showLink": true
       },
       "data": [
        {
         "line": {
          "color": "rgba(255, 153, 51, 1.0)",
          "dash": "solid",
          "shape": "linear",
          "width": 1.3
         },
         "marker": {
          "size": 10,
          "symbol": "circle"
         },
         "mode": "markers",
         "name": "B",
         "text": "",
         "type": "scatter",
         "x": [
          -1.0206472791320926,
          0.051856060673617886,
          0.9647955540467175,
          -0.04575644997517332,
          0.5698958108657399,
          -0.2771160176114073,
          0.6743782176988691,
          1.1334862342367846,
          0.8310518336563363,
          0.8478826680455306,
          2.1049439394759686,
          2.3467568101723724,
          0.471647951479405,
          -1.2913115835715805,
          -0.654693311813495,
          0.24421849479729904,
          0.09926206507316876,
          0.27347604364371714,
          0.6654321688845871,
          1.5441310592053583,
          0.4888350095325806,
          0.85642862115761,
          1.1995385573927553,
          0.4503558668432003,
          -0.9454681741341744,
          0.701552165824799,
          0.633064354844197,
          -2.538557521943568,
          2.100020731645149,
          -0.7309540000436948,
          0.6871288068240419,
          -0.028292285608094582,
          0.9182916080767636,
          -1.1949457214256833,
          -1.0222052787895517,
          -1.2514672068784334,
          1.9246498366119915,
          1.4123911331033236,
          -2.322350025852475,
          -0.05664151881160213,
          -1.3779867444667755,
          -1.5498274819787017,
          1.0424787347683493,
          0.3668668769136654,
          0.34794585434742087,
          -0.085468005814318,
          -0.4776892351955959,
          -0.41465365897849416,
          0.036054477415273366,
          -0.20401231462808525,
          1.161933593045215,
          0.2572211399583732,
          -0.41632458709140546,
          0.29579936461538775,
          1.150198739003133,
          -0.8558190523878071,
          0.5808270794162296,
          0.41731649079801186,
          -0.5199105582655607,
          -2.6536129916330564,
          -0.06255168951021686,
          -0.8144212770271861,
          0.383458149641642,
          0.33043639336985287,
          1.3016023329577706,
          0.3533783749387897,
          -0.7015607338711178,
          0.8265510740131821,
          -0.9446908627414659,
          -0.8394308436032527,
          1.1415191740097297,
          -0.9322500161850434,
          0.4453069113668292,
          0.6512042687445224,
          1.3332779351706576,
          0.9311953072551885,
          0.1487293030571078,
          -0.5091459935053668,
          -1.3200135704942564,
          -0.1628574076500507,
          1.051182645365468,
          -1.6572506810120788,
          -0.11636388492189238,
          0.37233883307653604,
          1.7893157472842727,
          -0.3045955172233988,
          1.4008269920829313,
          0.6601985256765023,
          0.7506108391927792,
          -2.342043098724719,
          0.06261592265701701,
          1.5248256573020205,
          -2.052558012593074,
          1.082105581164093,
          1.4130868971484738,
          0.5979348791248525,
          -1.61064676866785,
          -0.714945330445735,
          0.22106443159093367,
          0.3812254917441854
         ],
         "y": [
          0.49530524243032753,
          -0.33155284111894245,
          0.3823433216033376,
          0.9086742417323572,
          -0.9406898519372928,
          -0.8483154273799747,
          1.6571589657439307,
          -1.938873260364442,
          0.24490043966031677,
          0.18352639143114957,
          0.9049069442332238,
          0.03157437335473936,
          -0.2977416259693257,
          -1.8732813079088602,
          0.17078376111279628,
          -0.8810607662376312,
          0.2641159821815766,
          -0.012533982640648764,
          -0.9081288971485045,
          -0.9810406405593401,
          -0.9379219216301571,
          0.29968958943973506,
          -1.0119355406104276,
          -0.7816240835348891,
          -0.2837443190188271,
          0.5475878740687695,
          0.4743559307052271,
          -1.210423651310594,
          0.9249605228193762,
          0.3138368128256702,
          -0.09785414678591046,
          -0.7625445904547198,
          -0.1862413274505684,
          -0.3320865504202027,
          -0.8859063878791051,
          0.37679083266045055,
          0.9416492196016312,
          -0.007690460086156482,
          0.2297348916331496,
          -1.8412669166114761,
          1.657077117123675,
          -0.7564363578096798,
          0.659923250433344,
          1.2928900454577736,
          0.9449583129144369,
          -0.17798151351480912,
          0.6489246064349281,
          1.3156893789224975,
          1.2456668799367667,
          -1.080640862986375,
          1.539258854092646,
          -2.565655163178437,
          0.169025045961495,
          0.5999296572081371,
          1.3206214739408846,
          0.5561738385726992,
          -0.3476283799882969,
          -1.1093599651666206,
          0.6135274982162919,
          -1.0407166273927153,
          0.9470732034080648,
          -0.42440506264589123,
          1.3324077616499677,
          -0.6303178536842527,
          -0.5087271349329137,
          1.4278230591076921,
          -0.7303842795602131,
          0.8822983642819051,
          -0.9625648779028388,
          1.366666141526766,
          -0.22461546330143253,
          -0.013347324341547062,
          0.34389365060092164,
          -0.08241598369271212,
          1.1262608158821759,
          -2.014612205802725,
          0.3779595899831078,
          -1.9012238535971318,
          -0.13046129724341862,
          -0.5366218036792957,
          -0.12607265453927644,
          -0.5400340075676425,
          1.462777927141379,
          0.33414458333389485,
          -2.1199296704021457,
          -0.40834563774284355,
          -0.40434317871986625,
          0.9887146043266994,
          0.91164489839338,
          -1.6901142716218078,
          0.45073429879340104,
          -1.0270114127775605,
          0.8129813019936439,
          -1.6497272066853281,
          0.2103360616377157,
          1.4329526295414792,
          -1.581915708301178,
          -0.3759567547149745,
          -0.14636819627345232,
          -0.34260170380114285
         ]
        }
       ],
       "layout": {
        "legend": {
         "bgcolor": "#F5F6F9",
         "font": {
          "color": "#4D5663"
         }
        },
        "paper_bgcolor": "#F5F6F9",
        "plot_bgcolor": "#F5F6F9",
        "template": {
         "data": {
          "bar": [
           {
            "error_x": {
             "color": "#2a3f5f"
            },
            "error_y": {
             "color": "#2a3f5f"
            },
            "marker": {
             "line": {
              "color": "#E5ECF6",
              "width": 0.5
             },
             "pattern": {
              "fillmode": "overlay",
              "size": 10,
              "solidity": 0.2
             }
            },
            "type": "bar"
           }
          ],
          "barpolar": [
           {
            "marker": {
             "line": {
              "color": "#E5ECF6",
              "width": 0.5
             },
             "pattern": {
              "fillmode": "overlay",
              "size": 10,
              "solidity": 0.2
             }
            },
            "type": "barpolar"
           }
          ],
          "carpet": [
           {
            "aaxis": {
             "endlinecolor": "#2a3f5f",
             "gridcolor": "white",
             "linecolor": "white",
             "minorgridcolor": "white",
             "startlinecolor": "#2a3f5f"
            },
            "baxis": {
             "endlinecolor": "#2a3f5f",
             "gridcolor": "white",
             "linecolor": "white",
             "minorgridcolor": "white",
             "startlinecolor": "#2a3f5f"
            },
            "type": "carpet"
           }
          ],
          "choropleth": [
           {
            "colorbar": {
             "outlinewidth": 0,
             "ticks": ""
            },
            "type": "choropleth"
           }
          ],
          "contour": [
           {
            "colorbar": {
             "outlinewidth": 0,
             "ticks": ""
            },
            "colorscale": [
             [
              0,
              "#0d0887"
             ],
             [
              0.1111111111111111,
              "#46039f"
             ],
             [
              0.2222222222222222,
              "#7201a8"
             ],
             [
              0.3333333333333333,
              "#9c179e"
             ],
             [
              0.4444444444444444,
              "#bd3786"
             ],
             [
              0.5555555555555556,
              "#d8576b"
             ],
             [
              0.6666666666666666,
              "#ed7953"
             ],
             [
              0.7777777777777778,
              "#fb9f3a"
             ],
             [
              0.8888888888888888,
              "#fdca26"
             ],
             [
              1,
              "#f0f921"
             ]
            ],
            "type": "contour"
           }
          ],
          "contourcarpet": [
           {
            "colorbar": {
             "outlinewidth": 0,
             "ticks": ""
            },
            "type": "contourcarpet"
           }
          ],
          "heatmap": [
           {
            "colorbar": {
             "outlinewidth": 0,
             "ticks": ""
            },
            "colorscale": [
             [
              0,
              "#0d0887"
             ],
             [
              0.1111111111111111,
              "#46039f"
             ],
             [
              0.2222222222222222,
              "#7201a8"
             ],
             [
              0.3333333333333333,
              "#9c179e"
             ],
             [
              0.4444444444444444,
              "#bd3786"
             ],
             [
              0.5555555555555556,
              "#d8576b"
             ],
             [
              0.6666666666666666,
              "#ed7953"
             ],
             [
              0.7777777777777778,
              "#fb9f3a"
             ],
             [
              0.8888888888888888,
              "#fdca26"
             ],
             [
              1,
              "#f0f921"
             ]
            ],
            "type": "heatmap"
           }
          ],
          "heatmapgl": [
           {
            "colorbar": {
             "outlinewidth": 0,
             "ticks": ""
            },
            "colorscale": [
             [
              0,
              "#0d0887"
             ],
             [
              0.1111111111111111,
              "#46039f"
             ],
             [
              0.2222222222222222,
              "#7201a8"
             ],
             [
              0.3333333333333333,
              "#9c179e"
             ],
             [
              0.4444444444444444,
              "#bd3786"
             ],
             [
              0.5555555555555556,
              "#d8576b"
             ],
             [
              0.6666666666666666,
              "#ed7953"
             ],
             [
              0.7777777777777778,
              "#fb9f3a"
             ],
             [
              0.8888888888888888,
              "#fdca26"
             ],
             [
              1,
              "#f0f921"
             ]
            ],
            "type": "heatmapgl"
           }
          ],
          "histogram": [
           {
            "marker": {
             "pattern": {
              "fillmode": "overlay",
              "size": 10,
              "solidity": 0.2
             }
            },
            "type": "histogram"
           }
          ],
          "histogram2d": [
           {
            "colorbar": {
             "outlinewidth": 0,
             "ticks": ""
            },
            "colorscale": [
             [
              0,
              "#0d0887"
             ],
             [
              0.1111111111111111,
              "#46039f"
             ],
             [
              0.2222222222222222,
              "#7201a8"
             ],
             [
              0.3333333333333333,
              "#9c179e"
             ],
             [
              0.4444444444444444,
              "#bd3786"
             ],
             [
              0.5555555555555556,
              "#d8576b"
             ],
             [
              0.6666666666666666,
              "#ed7953"
             ],
             [
              0.7777777777777778,
              "#fb9f3a"
             ],
             [
              0.8888888888888888,
              "#fdca26"
             ],
             [
              1,
              "#f0f921"
             ]
            ],
            "type": "histogram2d"
           }
          ],
          "histogram2dcontour": [
           {
            "colorbar": {
             "outlinewidth": 0,
             "ticks": ""
            },
            "colorscale": [
             [
              0,
              "#0d0887"
             ],
             [
              0.1111111111111111,
              "#46039f"
             ],
             [
              0.2222222222222222,
              "#7201a8"
             ],
             [
              0.3333333333333333,
              "#9c179e"
             ],
             [
              0.4444444444444444,
              "#bd3786"
             ],
             [
              0.5555555555555556,
              "#d8576b"
             ],
             [
              0.6666666666666666,
              "#ed7953"
             ],
             [
              0.7777777777777778,
              "#fb9f3a"
             ],
             [
              0.8888888888888888,
              "#fdca26"
             ],
             [
              1,
              "#f0f921"
             ]
            ],
            "type": "histogram2dcontour"
           }
          ],
          "mesh3d": [
           {
            "colorbar": {
             "outlinewidth": 0,
             "ticks": ""
            },
            "type": "mesh3d"
           }
          ],
          "parcoords": [
           {
            "line": {
             "colorbar": {
              "outlinewidth": 0,
              "ticks": ""
             }
            },
            "type": "parcoords"
           }
          ],
          "pie": [
           {
            "automargin": true,
            "type": "pie"
           }
          ],
          "scatter": [
           {
            "marker": {
             "colorbar": {
              "outlinewidth": 0,
              "ticks": ""
             }
            },
            "type": "scatter"
           }
          ],
          "scatter3d": [
           {
            "line": {
             "colorbar": {
              "outlinewidth": 0,
              "ticks": ""
             }
            },
            "marker": {
             "colorbar": {
              "outlinewidth": 0,
              "ticks": ""
             }
            },
            "type": "scatter3d"
           }
          ],
          "scattercarpet": [
           {
            "marker": {
             "colorbar": {
              "outlinewidth": 0,
              "ticks": ""
             }
            },
            "type": "scattercarpet"
           }
          ],
          "scattergeo": [
           {
            "marker": {
             "colorbar": {
              "outlinewidth": 0,
              "ticks": ""
             }
            },
            "type": "scattergeo"
           }
          ],
          "scattergl": [
           {
            "marker": {
             "colorbar": {
              "outlinewidth": 0,
              "ticks": ""
             }
            },
            "type": "scattergl"
           }
          ],
          "scattermapbox": [
           {
            "marker": {
             "colorbar": {
              "outlinewidth": 0,
              "ticks": ""
             }
            },
            "type": "scattermapbox"
           }
          ],
          "scatterpolar": [
           {
            "marker": {
             "colorbar": {
              "outlinewidth": 0,
              "ticks": ""
             }
            },
            "type": "scatterpolar"
           }
          ],
          "scatterpolargl": [
           {
            "marker": {
             "colorbar": {
              "outlinewidth": 0,
              "ticks": ""
             }
            },
            "type": "scatterpolargl"
           }
          ],
          "scatterternary": [
           {
            "marker": {
             "colorbar": {
              "outlinewidth": 0,
              "ticks": ""
             }
            },
            "type": "scatterternary"
           }
          ],
          "surface": [
           {
            "colorbar": {
             "outlinewidth": 0,
             "ticks": ""
            },
            "colorscale": [
             [
              0,
              "#0d0887"
             ],
             [
              0.1111111111111111,
              "#46039f"
             ],
             [
              0.2222222222222222,
              "#7201a8"
             ],
             [
              0.3333333333333333,
              "#9c179e"
             ],
             [
              0.4444444444444444,
              "#bd3786"
             ],
             [
              0.5555555555555556,
              "#d8576b"
             ],
             [
              0.6666666666666666,
              "#ed7953"
             ],
             [
              0.7777777777777778,
              "#fb9f3a"
             ],
             [
              0.8888888888888888,
              "#fdca26"
             ],
             [
              1,
              "#f0f921"
             ]
            ],
            "type": "surface"
           }
          ],
          "table": [
           {
            "cells": {
             "fill": {
              "color": "#EBF0F8"
             },
             "line": {
              "color": "white"
             }
            },
            "header": {
             "fill": {
              "color": "#C8D4E3"
             },
             "line": {
              "color": "white"
             }
            },
            "type": "table"
           }
          ]
         },
         "layout": {
          "annotationdefaults": {
           "arrowcolor": "#2a3f5f",
           "arrowhead": 0,
           "arrowwidth": 1
          },
          "autotypenumbers": "strict",
          "coloraxis": {
           "colorbar": {
            "outlinewidth": 0,
            "ticks": ""
           }
          },
          "colorscale": {
           "diverging": [
            [
             0,
             "#8e0152"
            ],
            [
             0.1,
             "#c51b7d"
            ],
            [
             0.2,
             "#de77ae"
            ],
            [
             0.3,
             "#f1b6da"
            ],
            [
             0.4,
             "#fde0ef"
            ],
            [
             0.5,
             "#f7f7f7"
            ],
            [
             0.6,
             "#e6f5d0"
            ],
            [
             0.7,
             "#b8e186"
            ],
            [
             0.8,
             "#7fbc41"
            ],
            [
             0.9,
             "#4d9221"
            ],
            [
             1,
             "#276419"
            ]
           ],
           "sequential": [
            [
             0,
             "#0d0887"
            ],
            [
             0.1111111111111111,
             "#46039f"
            ],
            [
             0.2222222222222222,
             "#7201a8"
            ],
            [
             0.3333333333333333,
             "#9c179e"
            ],
            [
             0.4444444444444444,
             "#bd3786"
            ],
            [
             0.5555555555555556,
             "#d8576b"
            ],
            [
             0.6666666666666666,
             "#ed7953"
            ],
            [
             0.7777777777777778,
             "#fb9f3a"
            ],
            [
             0.8888888888888888,
             "#fdca26"
            ],
            [
             1,
             "#f0f921"
            ]
           ],
           "sequentialminus": [
            [
             0,
             "#0d0887"
            ],
            [
             0.1111111111111111,
             "#46039f"
            ],
            [
             0.2222222222222222,
             "#7201a8"
            ],
            [
             0.3333333333333333,
             "#9c179e"
            ],
            [
             0.4444444444444444,
             "#bd3786"
            ],
            [
             0.5555555555555556,
             "#d8576b"
            ],
            [
             0.6666666666666666,
             "#ed7953"
            ],
            [
             0.7777777777777778,
             "#fb9f3a"
            ],
            [
             0.8888888888888888,
             "#fdca26"
            ],
            [
             1,
             "#f0f921"
            ]
           ]
          },
          "colorway": [
           "#636efa",
           "#EF553B",
           "#00cc96",
           "#ab63fa",
           "#FFA15A",
           "#19d3f3",
           "#FF6692",
           "#B6E880",
           "#FF97FF",
           "#FECB52"
          ],
          "font": {
           "color": "#2a3f5f"
          },
          "geo": {
           "bgcolor": "white",
           "lakecolor": "white",
           "landcolor": "#E5ECF6",
           "showlakes": true,
           "showland": true,
           "subunitcolor": "white"
          },
          "hoverlabel": {
           "align": "left"
          },
          "hovermode": "closest",
          "mapbox": {
           "style": "light"
          },
          "paper_bgcolor": "white",
          "plot_bgcolor": "#E5ECF6",
          "polar": {
           "angularaxis": {
            "gridcolor": "white",
            "linecolor": "white",
            "ticks": ""
           },
           "bgcolor": "#E5ECF6",
           "radialaxis": {
            "gridcolor": "white",
            "linecolor": "white",
            "ticks": ""
           }
          },
          "scene": {
           "xaxis": {
            "backgroundcolor": "#E5ECF6",
            "gridcolor": "white",
            "gridwidth": 2,
            "linecolor": "white",
            "showbackground": true,
            "ticks": "",
            "zerolinecolor": "white"
           },
           "yaxis": {
            "backgroundcolor": "#E5ECF6",
            "gridcolor": "white",
            "gridwidth": 2,
            "linecolor": "white",
            "showbackground": true,
            "ticks": "",
            "zerolinecolor": "white"
           },
           "zaxis": {
            "backgroundcolor": "#E5ECF6",
            "gridcolor": "white",
            "gridwidth": 2,
            "linecolor": "white",
            "showbackground": true,
            "ticks": "",
            "zerolinecolor": "white"
           }
          },
          "shapedefaults": {
           "line": {
            "color": "#2a3f5f"
           }
          },
          "ternary": {
           "aaxis": {
            "gridcolor": "white",
            "linecolor": "white",
            "ticks": ""
           },
           "baxis": {
            "gridcolor": "white",
            "linecolor": "white",
            "ticks": ""
           },
           "bgcolor": "#E5ECF6",
           "caxis": {
            "gridcolor": "white",
            "linecolor": "white",
            "ticks": ""
           }
          },
          "title": {
           "x": 0.05
          },
          "xaxis": {
           "automargin": true,
           "gridcolor": "white",
           "linecolor": "white",
           "ticks": "",
           "title": {
            "standoff": 15
           },
           "zerolinecolor": "white",
           "zerolinewidth": 2
          },
          "yaxis": {
           "automargin": true,
           "gridcolor": "white",
           "linecolor": "white",
           "ticks": "",
           "title": {
            "standoff": 15
           },
           "zerolinecolor": "white",
           "zerolinewidth": 2
          }
         }
        },
        "title": {
         "font": {
          "color": "#4D5663"
         }
        },
        "xaxis": {
         "gridcolor": "#E1E5ED",
         "showgrid": true,
         "tickfont": {
          "color": "#4D5663"
         },
         "title": {
          "font": {
           "color": "#4D5663"
          },
          "text": ""
         },
         "zerolinecolor": "#E1E5ED"
        },
        "yaxis": {
         "gridcolor": "#E1E5ED",
         "showgrid": true,
         "tickfont": {
          "color": "#4D5663"
         },
         "title": {
          "font": {
           "color": "#4D5663"
          },
          "text": ""
         },
         "zerolinecolor": "#E1E5ED"
        }
       }
      },
      "text/html": [
       "<div>                            <div id=\"8bf5d9b4-db33-493c-a318-2cd4dcee78f4\" class=\"plotly-graph-div\" style=\"height:525px; width:100%;\"></div>            <script type=\"text/javascript\">                require([\"plotly\"], function(Plotly) {                    window.PLOTLYENV=window.PLOTLYENV || {};\n",
       "                    window.PLOTLYENV.BASE_URL='https://plot.ly';                                    if (document.getElementById(\"8bf5d9b4-db33-493c-a318-2cd4dcee78f4\")) {                    Plotly.newPlot(                        \"8bf5d9b4-db33-493c-a318-2cd4dcee78f4\",                        [{\"line\":{\"color\":\"rgba(255, 153, 51, 1.0)\",\"dash\":\"solid\",\"shape\":\"linear\",\"width\":1.3},\"marker\":{\"size\":10,\"symbol\":\"circle\"},\"mode\":\"markers\",\"name\":\"B\",\"text\":\"\",\"type\":\"scatter\",\"x\":[-1.0206472791320926,0.051856060673617886,0.9647955540467175,-0.04575644997517332,0.5698958108657399,-0.2771160176114073,0.6743782176988691,1.1334862342367846,0.8310518336563363,0.8478826680455306,2.1049439394759686,2.3467568101723724,0.471647951479405,-1.2913115835715805,-0.654693311813495,0.24421849479729904,0.09926206507316876,0.27347604364371714,0.6654321688845871,1.5441310592053583,0.4888350095325806,0.85642862115761,1.1995385573927553,0.4503558668432003,-0.9454681741341744,0.701552165824799,0.633064354844197,-2.538557521943568,2.100020731645149,-0.7309540000436948,0.6871288068240419,-0.028292285608094582,0.9182916080767636,-1.1949457214256833,-1.0222052787895517,-1.2514672068784334,1.9246498366119915,1.4123911331033236,-2.322350025852475,-0.05664151881160213,-1.3779867444667755,-1.5498274819787017,1.0424787347683493,0.3668668769136654,0.34794585434742087,-0.085468005814318,-0.4776892351955959,-0.41465365897849416,0.036054477415273366,-0.20401231462808525,1.161933593045215,0.2572211399583732,-0.41632458709140546,0.29579936461538775,1.150198739003133,-0.8558190523878071,0.5808270794162296,0.41731649079801186,-0.5199105582655607,-2.6536129916330564,-0.06255168951021686,-0.8144212770271861,0.383458149641642,0.33043639336985287,1.3016023329577706,0.3533783749387897,-0.7015607338711178,0.8265510740131821,-0.9446908627414659,-0.8394308436032527,1.1415191740097297,-0.9322500161850434,0.4453069113668292,0.6512042687445224,1.3332779351706576,0.9311953072551885,0.1487293030571078,-0.5091459935053668,-1.3200135704942564,-0.1628574076500507,1.051182645365468,-1.6572506810120788,-0.11636388492189238,0.37233883307653604,1.7893157472842727,-0.3045955172233988,1.4008269920829313,0.6601985256765023,0.7506108391927792,-2.342043098724719,0.06261592265701701,1.5248256573020205,-2.052558012593074,1.082105581164093,1.4130868971484738,0.5979348791248525,-1.61064676866785,-0.714945330445735,0.22106443159093367,0.3812254917441854],\"y\":[0.49530524243032753,-0.33155284111894245,0.3823433216033376,0.9086742417323572,-0.9406898519372928,-0.8483154273799747,1.6571589657439307,-1.938873260364442,0.24490043966031677,0.18352639143114957,0.9049069442332238,0.03157437335473936,-0.2977416259693257,-1.8732813079088602,0.17078376111279628,-0.8810607662376312,0.2641159821815766,-0.012533982640648764,-0.9081288971485045,-0.9810406405593401,-0.9379219216301571,0.29968958943973506,-1.0119355406104276,-0.7816240835348891,-0.2837443190188271,0.5475878740687695,0.4743559307052271,-1.210423651310594,0.9249605228193762,0.3138368128256702,-0.09785414678591046,-0.7625445904547198,-0.1862413274505684,-0.3320865504202027,-0.8859063878791051,0.37679083266045055,0.9416492196016312,-0.007690460086156482,0.2297348916331496,-1.8412669166114761,1.657077117123675,-0.7564363578096798,0.659923250433344,1.2928900454577736,0.9449583129144369,-0.17798151351480912,0.6489246064349281,1.3156893789224975,1.2456668799367667,-1.080640862986375,1.539258854092646,-2.565655163178437,0.169025045961495,0.5999296572081371,1.3206214739408846,0.5561738385726992,-0.3476283799882969,-1.1093599651666206,0.6135274982162919,-1.0407166273927153,0.9470732034080648,-0.42440506264589123,1.3324077616499677,-0.6303178536842527,-0.5087271349329137,1.4278230591076921,-0.7303842795602131,0.8822983642819051,-0.9625648779028388,1.366666141526766,-0.22461546330143253,-0.013347324341547062,0.34389365060092164,-0.08241598369271212,1.1262608158821759,-2.014612205802725,0.3779595899831078,-1.9012238535971318,-0.13046129724341862,-0.5366218036792957,-0.12607265453927644,-0.5400340075676425,1.462777927141379,0.33414458333389485,-2.1199296704021457,-0.40834563774284355,-0.40434317871986625,0.9887146043266994,0.91164489839338,-1.6901142716218078,0.45073429879340104,-1.0270114127775605,0.8129813019936439,-1.6497272066853281,0.2103360616377157,1.4329526295414792,-1.581915708301178,-0.3759567547149745,-0.14636819627345232,-0.34260170380114285]}],                        {\"legend\":{\"bgcolor\":\"#F5F6F9\",\"font\":{\"color\":\"#4D5663\"}},\"paper_bgcolor\":\"#F5F6F9\",\"plot_bgcolor\":\"#F5F6F9\",\"template\":{\"data\":{\"bar\":[{\"error_x\":{\"color\":\"#2a3f5f\"},\"error_y\":{\"color\":\"#2a3f5f\"},\"marker\":{\"line\":{\"color\":\"#E5ECF6\",\"width\":0.5},\"pattern\":{\"fillmode\":\"overlay\",\"size\":10,\"solidity\":0.2}},\"type\":\"bar\"}],\"barpolar\":[{\"marker\":{\"line\":{\"color\":\"#E5ECF6\",\"width\":0.5},\"pattern\":{\"fillmode\":\"overlay\",\"size\":10,\"solidity\":0.2}},\"type\":\"barpolar\"}],\"carpet\":[{\"aaxis\":{\"endlinecolor\":\"#2a3f5f\",\"gridcolor\":\"white\",\"linecolor\":\"white\",\"minorgridcolor\":\"white\",\"startlinecolor\":\"#2a3f5f\"},\"baxis\":{\"endlinecolor\":\"#2a3f5f\",\"gridcolor\":\"white\",\"linecolor\":\"white\",\"minorgridcolor\":\"white\",\"startlinecolor\":\"#2a3f5f\"},\"type\":\"carpet\"}],\"choropleth\":[{\"colorbar\":{\"outlinewidth\":0,\"ticks\":\"\"},\"type\":\"choropleth\"}],\"contour\":[{\"colorbar\":{\"outlinewidth\":0,\"ticks\":\"\"},\"colorscale\":[[0.0,\"#0d0887\"],[0.1111111111111111,\"#46039f\"],[0.2222222222222222,\"#7201a8\"],[0.3333333333333333,\"#9c179e\"],[0.4444444444444444,\"#bd3786\"],[0.5555555555555556,\"#d8576b\"],[0.6666666666666666,\"#ed7953\"],[0.7777777777777778,\"#fb9f3a\"],[0.8888888888888888,\"#fdca26\"],[1.0,\"#f0f921\"]],\"type\":\"contour\"}],\"contourcarpet\":[{\"colorbar\":{\"outlinewidth\":0,\"ticks\":\"\"},\"type\":\"contourcarpet\"}],\"heatmap\":[{\"colorbar\":{\"outlinewidth\":0,\"ticks\":\"\"},\"colorscale\":[[0.0,\"#0d0887\"],[0.1111111111111111,\"#46039f\"],[0.2222222222222222,\"#7201a8\"],[0.3333333333333333,\"#9c179e\"],[0.4444444444444444,\"#bd3786\"],[0.5555555555555556,\"#d8576b\"],[0.6666666666666666,\"#ed7953\"],[0.7777777777777778,\"#fb9f3a\"],[0.8888888888888888,\"#fdca26\"],[1.0,\"#f0f921\"]],\"type\":\"heatmap\"}],\"heatmapgl\":[{\"colorbar\":{\"outlinewidth\":0,\"ticks\":\"\"},\"colorscale\":[[0.0,\"#0d0887\"],[0.1111111111111111,\"#46039f\"],[0.2222222222222222,\"#7201a8\"],[0.3333333333333333,\"#9c179e\"],[0.4444444444444444,\"#bd3786\"],[0.5555555555555556,\"#d8576b\"],[0.6666666666666666,\"#ed7953\"],[0.7777777777777778,\"#fb9f3a\"],[0.8888888888888888,\"#fdca26\"],[1.0,\"#f0f921\"]],\"type\":\"heatmapgl\"}],\"histogram\":[{\"marker\":{\"pattern\":{\"fillmode\":\"overlay\",\"size\":10,\"solidity\":0.2}},\"type\":\"histogram\"}],\"histogram2d\":[{\"colorbar\":{\"outlinewidth\":0,\"ticks\":\"\"},\"colorscale\":[[0.0,\"#0d0887\"],[0.1111111111111111,\"#46039f\"],[0.2222222222222222,\"#7201a8\"],[0.3333333333333333,\"#9c179e\"],[0.4444444444444444,\"#bd3786\"],[0.5555555555555556,\"#d8576b\"],[0.6666666666666666,\"#ed7953\"],[0.7777777777777778,\"#fb9f3a\"],[0.8888888888888888,\"#fdca26\"],[1.0,\"#f0f921\"]],\"type\":\"histogram2d\"}],\"histogram2dcontour\":[{\"colorbar\":{\"outlinewidth\":0,\"ticks\":\"\"},\"colorscale\":[[0.0,\"#0d0887\"],[0.1111111111111111,\"#46039f\"],[0.2222222222222222,\"#7201a8\"],[0.3333333333333333,\"#9c179e\"],[0.4444444444444444,\"#bd3786\"],[0.5555555555555556,\"#d8576b\"],[0.6666666666666666,\"#ed7953\"],[0.7777777777777778,\"#fb9f3a\"],[0.8888888888888888,\"#fdca26\"],[1.0,\"#f0f921\"]],\"type\":\"histogram2dcontour\"}],\"mesh3d\":[{\"colorbar\":{\"outlinewidth\":0,\"ticks\":\"\"},\"type\":\"mesh3d\"}],\"parcoords\":[{\"line\":{\"colorbar\":{\"outlinewidth\":0,\"ticks\":\"\"}},\"type\":\"parcoords\"}],\"pie\":[{\"automargin\":true,\"type\":\"pie\"}],\"scatter\":[{\"marker\":{\"colorbar\":{\"outlinewidth\":0,\"ticks\":\"\"}},\"type\":\"scatter\"}],\"scatter3d\":[{\"line\":{\"colorbar\":{\"outlinewidth\":0,\"ticks\":\"\"}},\"marker\":{\"colorbar\":{\"outlinewidth\":0,\"ticks\":\"\"}},\"type\":\"scatter3d\"}],\"scattercarpet\":[{\"marker\":{\"colorbar\":{\"outlinewidth\":0,\"ticks\":\"\"}},\"type\":\"scattercarpet\"}],\"scattergeo\":[{\"marker\":{\"colorbar\":{\"outlinewidth\":0,\"ticks\":\"\"}},\"type\":\"scattergeo\"}],\"scattergl\":[{\"marker\":{\"colorbar\":{\"outlinewidth\":0,\"ticks\":\"\"}},\"type\":\"scattergl\"}],\"scattermapbox\":[{\"marker\":{\"colorbar\":{\"outlinewidth\":0,\"ticks\":\"\"}},\"type\":\"scattermapbox\"}],\"scatterpolar\":[{\"marker\":{\"colorbar\":{\"outlinewidth\":0,\"ticks\":\"\"}},\"type\":\"scatterpolar\"}],\"scatterpolargl\":[{\"marker\":{\"colorbar\":{\"outlinewidth\":0,\"ticks\":\"\"}},\"type\":\"scatterpolargl\"}],\"scatterternary\":[{\"marker\":{\"colorbar\":{\"outlinewidth\":0,\"ticks\":\"\"}},\"type\":\"scatterternary\"}],\"surface\":[{\"colorbar\":{\"outlinewidth\":0,\"ticks\":\"\"},\"colorscale\":[[0.0,\"#0d0887\"],[0.1111111111111111,\"#46039f\"],[0.2222222222222222,\"#7201a8\"],[0.3333333333333333,\"#9c179e\"],[0.4444444444444444,\"#bd3786\"],[0.5555555555555556,\"#d8576b\"],[0.6666666666666666,\"#ed7953\"],[0.7777777777777778,\"#fb9f3a\"],[0.8888888888888888,\"#fdca26\"],[1.0,\"#f0f921\"]],\"type\":\"surface\"}],\"table\":[{\"cells\":{\"fill\":{\"color\":\"#EBF0F8\"},\"line\":{\"color\":\"white\"}},\"header\":{\"fill\":{\"color\":\"#C8D4E3\"},\"line\":{\"color\":\"white\"}},\"type\":\"table\"}]},\"layout\":{\"annotationdefaults\":{\"arrowcolor\":\"#2a3f5f\",\"arrowhead\":0,\"arrowwidth\":1},\"autotypenumbers\":\"strict\",\"coloraxis\":{\"colorbar\":{\"outlinewidth\":0,\"ticks\":\"\"}},\"colorscale\":{\"diverging\":[[0,\"#8e0152\"],[0.1,\"#c51b7d\"],[0.2,\"#de77ae\"],[0.3,\"#f1b6da\"],[0.4,\"#fde0ef\"],[0.5,\"#f7f7f7\"],[0.6,\"#e6f5d0\"],[0.7,\"#b8e186\"],[0.8,\"#7fbc41\"],[0.9,\"#4d9221\"],[1,\"#276419\"]],\"sequential\":[[0.0,\"#0d0887\"],[0.1111111111111111,\"#46039f\"],[0.2222222222222222,\"#7201a8\"],[0.3333333333333333,\"#9c179e\"],[0.4444444444444444,\"#bd3786\"],[0.5555555555555556,\"#d8576b\"],[0.6666666666666666,\"#ed7953\"],[0.7777777777777778,\"#fb9f3a\"],[0.8888888888888888,\"#fdca26\"],[1.0,\"#f0f921\"]],\"sequentialminus\":[[0.0,\"#0d0887\"],[0.1111111111111111,\"#46039f\"],[0.2222222222222222,\"#7201a8\"],[0.3333333333333333,\"#9c179e\"],[0.4444444444444444,\"#bd3786\"],[0.5555555555555556,\"#d8576b\"],[0.6666666666666666,\"#ed7953\"],[0.7777777777777778,\"#fb9f3a\"],[0.8888888888888888,\"#fdca26\"],[1.0,\"#f0f921\"]]},\"colorway\":[\"#636efa\",\"#EF553B\",\"#00cc96\",\"#ab63fa\",\"#FFA15A\",\"#19d3f3\",\"#FF6692\",\"#B6E880\",\"#FF97FF\",\"#FECB52\"],\"font\":{\"color\":\"#2a3f5f\"},\"geo\":{\"bgcolor\":\"white\",\"lakecolor\":\"white\",\"landcolor\":\"#E5ECF6\",\"showlakes\":true,\"showland\":true,\"subunitcolor\":\"white\"},\"hoverlabel\":{\"align\":\"left\"},\"hovermode\":\"closest\",\"mapbox\":{\"style\":\"light\"},\"paper_bgcolor\":\"white\",\"plot_bgcolor\":\"#E5ECF6\",\"polar\":{\"angularaxis\":{\"gridcolor\":\"white\",\"linecolor\":\"white\",\"ticks\":\"\"},\"bgcolor\":\"#E5ECF6\",\"radialaxis\":{\"gridcolor\":\"white\",\"linecolor\":\"white\",\"ticks\":\"\"}},\"scene\":{\"xaxis\":{\"backgroundcolor\":\"#E5ECF6\",\"gridcolor\":\"white\",\"gridwidth\":2,\"linecolor\":\"white\",\"showbackground\":true,\"ticks\":\"\",\"zerolinecolor\":\"white\"},\"yaxis\":{\"backgroundcolor\":\"#E5ECF6\",\"gridcolor\":\"white\",\"gridwidth\":2,\"linecolor\":\"white\",\"showbackground\":true,\"ticks\":\"\",\"zerolinecolor\":\"white\"},\"zaxis\":{\"backgroundcolor\":\"#E5ECF6\",\"gridcolor\":\"white\",\"gridwidth\":2,\"linecolor\":\"white\",\"showbackground\":true,\"ticks\":\"\",\"zerolinecolor\":\"white\"}},\"shapedefaults\":{\"line\":{\"color\":\"#2a3f5f\"}},\"ternary\":{\"aaxis\":{\"gridcolor\":\"white\",\"linecolor\":\"white\",\"ticks\":\"\"},\"baxis\":{\"gridcolor\":\"white\",\"linecolor\":\"white\",\"ticks\":\"\"},\"bgcolor\":\"#E5ECF6\",\"caxis\":{\"gridcolor\":\"white\",\"linecolor\":\"white\",\"ticks\":\"\"}},\"title\":{\"x\":0.05},\"xaxis\":{\"automargin\":true,\"gridcolor\":\"white\",\"linecolor\":\"white\",\"ticks\":\"\",\"title\":{\"standoff\":15},\"zerolinecolor\":\"white\",\"zerolinewidth\":2},\"yaxis\":{\"automargin\":true,\"gridcolor\":\"white\",\"linecolor\":\"white\",\"ticks\":\"\",\"title\":{\"standoff\":15},\"zerolinecolor\":\"white\",\"zerolinewidth\":2}}},\"title\":{\"font\":{\"color\":\"#4D5663\"}},\"xaxis\":{\"gridcolor\":\"#E1E5ED\",\"showgrid\":true,\"tickfont\":{\"color\":\"#4D5663\"},\"title\":{\"font\":{\"color\":\"#4D5663\"},\"text\":\"\"},\"zerolinecolor\":\"#E1E5ED\"},\"yaxis\":{\"gridcolor\":\"#E1E5ED\",\"showgrid\":true,\"tickfont\":{\"color\":\"#4D5663\"},\"title\":{\"font\":{\"color\":\"#4D5663\"},\"text\":\"\"},\"zerolinecolor\":\"#E1E5ED\"}},                        {\"showLink\": true, \"linkText\": \"Export to plot.ly\", \"plotlyServerURL\": \"https://plot.ly\", \"responsive\": true}                    ).then(function(){\n",
       "                            \n",
       "var gd = document.getElementById('8bf5d9b4-db33-493c-a318-2cd4dcee78f4');\n",
       "var x = new MutationObserver(function (mutations, observer) {{\n",
       "        var display = window.getComputedStyle(gd).display;\n",
       "        if (!display || display === 'none') {{\n",
       "            console.log([gd, 'removed!']);\n",
       "            Plotly.purge(gd);\n",
       "            observer.disconnect();\n",
       "        }}\n",
       "}});\n",
       "\n",
       "// Listen for the removal of the full notebook cells\n",
       "var notebookContainer = gd.closest('#notebook-container');\n",
       "if (notebookContainer) {{\n",
       "    x.observe(notebookContainer, {childList: true});\n",
       "}}\n",
       "\n",
       "// Listen for the clearing of the current output cell\n",
       "var outputEl = gd.closest('.output');\n",
       "if (outputEl) {{\n",
       "    x.observe(outputEl, {childList: true});\n",
       "}}\n",
       "\n",
       "                        })                };                });            </script>        </div>"
      ]
     },
     "metadata": {},
     "output_type": "display_data"
    }
   ],
   "source": [
    "df.iplot(kind='scatter',x='A',y='B',mode='markers',size=10)"
   ]
  },
  {
   "cell_type": "markdown",
   "metadata": {},
   "source": [
    "## Bar Plots"
   ]
  },
  {
   "cell_type": "code",
   "execution_count": 18,
   "metadata": {},
   "outputs": [
    {
     "data": {
      "application/vnd.plotly.v1+json": {
       "config": {
        "linkText": "Export to plot.ly",
        "plotlyServerURL": "https://plot.ly",
        "showLink": true
       },
       "data": [
        {
         "marker": {
          "color": "rgba(255, 153, 51, 0.6)",
          "line": {
           "color": "rgba(255, 153, 51, 1.0)",
           "width": 1
          }
         },
         "name": "Values",
         "orientation": "v",
         "text": "",
         "type": "bar",
         "x": [
          "A",
          "B",
          "C"
         ],
         "y": [
          32,
          43,
          50
         ]
        }
       ],
       "layout": {
        "legend": {
         "bgcolor": "#F5F6F9",
         "font": {
          "color": "#4D5663"
         }
        },
        "paper_bgcolor": "#F5F6F9",
        "plot_bgcolor": "#F5F6F9",
        "template": {
         "data": {
          "bar": [
           {
            "error_x": {
             "color": "#2a3f5f"
            },
            "error_y": {
             "color": "#2a3f5f"
            },
            "marker": {
             "line": {
              "color": "#E5ECF6",
              "width": 0.5
             },
             "pattern": {
              "fillmode": "overlay",
              "size": 10,
              "solidity": 0.2
             }
            },
            "type": "bar"
           }
          ],
          "barpolar": [
           {
            "marker": {
             "line": {
              "color": "#E5ECF6",
              "width": 0.5
             },
             "pattern": {
              "fillmode": "overlay",
              "size": 10,
              "solidity": 0.2
             }
            },
            "type": "barpolar"
           }
          ],
          "carpet": [
           {
            "aaxis": {
             "endlinecolor": "#2a3f5f",
             "gridcolor": "white",
             "linecolor": "white",
             "minorgridcolor": "white",
             "startlinecolor": "#2a3f5f"
            },
            "baxis": {
             "endlinecolor": "#2a3f5f",
             "gridcolor": "white",
             "linecolor": "white",
             "minorgridcolor": "white",
             "startlinecolor": "#2a3f5f"
            },
            "type": "carpet"
           }
          ],
          "choropleth": [
           {
            "colorbar": {
             "outlinewidth": 0,
             "ticks": ""
            },
            "type": "choropleth"
           }
          ],
          "contour": [
           {
            "colorbar": {
             "outlinewidth": 0,
             "ticks": ""
            },
            "colorscale": [
             [
              0,
              "#0d0887"
             ],
             [
              0.1111111111111111,
              "#46039f"
             ],
             [
              0.2222222222222222,
              "#7201a8"
             ],
             [
              0.3333333333333333,
              "#9c179e"
             ],
             [
              0.4444444444444444,
              "#bd3786"
             ],
             [
              0.5555555555555556,
              "#d8576b"
             ],
             [
              0.6666666666666666,
              "#ed7953"
             ],
             [
              0.7777777777777778,
              "#fb9f3a"
             ],
             [
              0.8888888888888888,
              "#fdca26"
             ],
             [
              1,
              "#f0f921"
             ]
            ],
            "type": "contour"
           }
          ],
          "contourcarpet": [
           {
            "colorbar": {
             "outlinewidth": 0,
             "ticks": ""
            },
            "type": "contourcarpet"
           }
          ],
          "heatmap": [
           {
            "colorbar": {
             "outlinewidth": 0,
             "ticks": ""
            },
            "colorscale": [
             [
              0,
              "#0d0887"
             ],
             [
              0.1111111111111111,
              "#46039f"
             ],
             [
              0.2222222222222222,
              "#7201a8"
             ],
             [
              0.3333333333333333,
              "#9c179e"
             ],
             [
              0.4444444444444444,
              "#bd3786"
             ],
             [
              0.5555555555555556,
              "#d8576b"
             ],
             [
              0.6666666666666666,
              "#ed7953"
             ],
             [
              0.7777777777777778,
              "#fb9f3a"
             ],
             [
              0.8888888888888888,
              "#fdca26"
             ],
             [
              1,
              "#f0f921"
             ]
            ],
            "type": "heatmap"
           }
          ],
          "heatmapgl": [
           {
            "colorbar": {
             "outlinewidth": 0,
             "ticks": ""
            },
            "colorscale": [
             [
              0,
              "#0d0887"
             ],
             [
              0.1111111111111111,
              "#46039f"
             ],
             [
              0.2222222222222222,
              "#7201a8"
             ],
             [
              0.3333333333333333,
              "#9c179e"
             ],
             [
              0.4444444444444444,
              "#bd3786"
             ],
             [
              0.5555555555555556,
              "#d8576b"
             ],
             [
              0.6666666666666666,
              "#ed7953"
             ],
             [
              0.7777777777777778,
              "#fb9f3a"
             ],
             [
              0.8888888888888888,
              "#fdca26"
             ],
             [
              1,
              "#f0f921"
             ]
            ],
            "type": "heatmapgl"
           }
          ],
          "histogram": [
           {
            "marker": {
             "pattern": {
              "fillmode": "overlay",
              "size": 10,
              "solidity": 0.2
             }
            },
            "type": "histogram"
           }
          ],
          "histogram2d": [
           {
            "colorbar": {
             "outlinewidth": 0,
             "ticks": ""
            },
            "colorscale": [
             [
              0,
              "#0d0887"
             ],
             [
              0.1111111111111111,
              "#46039f"
             ],
             [
              0.2222222222222222,
              "#7201a8"
             ],
             [
              0.3333333333333333,
              "#9c179e"
             ],
             [
              0.4444444444444444,
              "#bd3786"
             ],
             [
              0.5555555555555556,
              "#d8576b"
             ],
             [
              0.6666666666666666,
              "#ed7953"
             ],
             [
              0.7777777777777778,
              "#fb9f3a"
             ],
             [
              0.8888888888888888,
              "#fdca26"
             ],
             [
              1,
              "#f0f921"
             ]
            ],
            "type": "histogram2d"
           }
          ],
          "histogram2dcontour": [
           {
            "colorbar": {
             "outlinewidth": 0,
             "ticks": ""
            },
            "colorscale": [
             [
              0,
              "#0d0887"
             ],
             [
              0.1111111111111111,
              "#46039f"
             ],
             [
              0.2222222222222222,
              "#7201a8"
             ],
             [
              0.3333333333333333,
              "#9c179e"
             ],
             [
              0.4444444444444444,
              "#bd3786"
             ],
             [
              0.5555555555555556,
              "#d8576b"
             ],
             [
              0.6666666666666666,
              "#ed7953"
             ],
             [
              0.7777777777777778,
              "#fb9f3a"
             ],
             [
              0.8888888888888888,
              "#fdca26"
             ],
             [
              1,
              "#f0f921"
             ]
            ],
            "type": "histogram2dcontour"
           }
          ],
          "mesh3d": [
           {
            "colorbar": {
             "outlinewidth": 0,
             "ticks": ""
            },
            "type": "mesh3d"
           }
          ],
          "parcoords": [
           {
            "line": {
             "colorbar": {
              "outlinewidth": 0,
              "ticks": ""
             }
            },
            "type": "parcoords"
           }
          ],
          "pie": [
           {
            "automargin": true,
            "type": "pie"
           }
          ],
          "scatter": [
           {
            "marker": {
             "colorbar": {
              "outlinewidth": 0,
              "ticks": ""
             }
            },
            "type": "scatter"
           }
          ],
          "scatter3d": [
           {
            "line": {
             "colorbar": {
              "outlinewidth": 0,
              "ticks": ""
             }
            },
            "marker": {
             "colorbar": {
              "outlinewidth": 0,
              "ticks": ""
             }
            },
            "type": "scatter3d"
           }
          ],
          "scattercarpet": [
           {
            "marker": {
             "colorbar": {
              "outlinewidth": 0,
              "ticks": ""
             }
            },
            "type": "scattercarpet"
           }
          ],
          "scattergeo": [
           {
            "marker": {
             "colorbar": {
              "outlinewidth": 0,
              "ticks": ""
             }
            },
            "type": "scattergeo"
           }
          ],
          "scattergl": [
           {
            "marker": {
             "colorbar": {
              "outlinewidth": 0,
              "ticks": ""
             }
            },
            "type": "scattergl"
           }
          ],
          "scattermapbox": [
           {
            "marker": {
             "colorbar": {
              "outlinewidth": 0,
              "ticks": ""
             }
            },
            "type": "scattermapbox"
           }
          ],
          "scatterpolar": [
           {
            "marker": {
             "colorbar": {
              "outlinewidth": 0,
              "ticks": ""
             }
            },
            "type": "scatterpolar"
           }
          ],
          "scatterpolargl": [
           {
            "marker": {
             "colorbar": {
              "outlinewidth": 0,
              "ticks": ""
             }
            },
            "type": "scatterpolargl"
           }
          ],
          "scatterternary": [
           {
            "marker": {
             "colorbar": {
              "outlinewidth": 0,
              "ticks": ""
             }
            },
            "type": "scatterternary"
           }
          ],
          "surface": [
           {
            "colorbar": {
             "outlinewidth": 0,
             "ticks": ""
            },
            "colorscale": [
             [
              0,
              "#0d0887"
             ],
             [
              0.1111111111111111,
              "#46039f"
             ],
             [
              0.2222222222222222,
              "#7201a8"
             ],
             [
              0.3333333333333333,
              "#9c179e"
             ],
             [
              0.4444444444444444,
              "#bd3786"
             ],
             [
              0.5555555555555556,
              "#d8576b"
             ],
             [
              0.6666666666666666,
              "#ed7953"
             ],
             [
              0.7777777777777778,
              "#fb9f3a"
             ],
             [
              0.8888888888888888,
              "#fdca26"
             ],
             [
              1,
              "#f0f921"
             ]
            ],
            "type": "surface"
           }
          ],
          "table": [
           {
            "cells": {
             "fill": {
              "color": "#EBF0F8"
             },
             "line": {
              "color": "white"
             }
            },
            "header": {
             "fill": {
              "color": "#C8D4E3"
             },
             "line": {
              "color": "white"
             }
            },
            "type": "table"
           }
          ]
         },
         "layout": {
          "annotationdefaults": {
           "arrowcolor": "#2a3f5f",
           "arrowhead": 0,
           "arrowwidth": 1
          },
          "autotypenumbers": "strict",
          "coloraxis": {
           "colorbar": {
            "outlinewidth": 0,
            "ticks": ""
           }
          },
          "colorscale": {
           "diverging": [
            [
             0,
             "#8e0152"
            ],
            [
             0.1,
             "#c51b7d"
            ],
            [
             0.2,
             "#de77ae"
            ],
            [
             0.3,
             "#f1b6da"
            ],
            [
             0.4,
             "#fde0ef"
            ],
            [
             0.5,
             "#f7f7f7"
            ],
            [
             0.6,
             "#e6f5d0"
            ],
            [
             0.7,
             "#b8e186"
            ],
            [
             0.8,
             "#7fbc41"
            ],
            [
             0.9,
             "#4d9221"
            ],
            [
             1,
             "#276419"
            ]
           ],
           "sequential": [
            [
             0,
             "#0d0887"
            ],
            [
             0.1111111111111111,
             "#46039f"
            ],
            [
             0.2222222222222222,
             "#7201a8"
            ],
            [
             0.3333333333333333,
             "#9c179e"
            ],
            [
             0.4444444444444444,
             "#bd3786"
            ],
            [
             0.5555555555555556,
             "#d8576b"
            ],
            [
             0.6666666666666666,
             "#ed7953"
            ],
            [
             0.7777777777777778,
             "#fb9f3a"
            ],
            [
             0.8888888888888888,
             "#fdca26"
            ],
            [
             1,
             "#f0f921"
            ]
           ],
           "sequentialminus": [
            [
             0,
             "#0d0887"
            ],
            [
             0.1111111111111111,
             "#46039f"
            ],
            [
             0.2222222222222222,
             "#7201a8"
            ],
            [
             0.3333333333333333,
             "#9c179e"
            ],
            [
             0.4444444444444444,
             "#bd3786"
            ],
            [
             0.5555555555555556,
             "#d8576b"
            ],
            [
             0.6666666666666666,
             "#ed7953"
            ],
            [
             0.7777777777777778,
             "#fb9f3a"
            ],
            [
             0.8888888888888888,
             "#fdca26"
            ],
            [
             1,
             "#f0f921"
            ]
           ]
          },
          "colorway": [
           "#636efa",
           "#EF553B",
           "#00cc96",
           "#ab63fa",
           "#FFA15A",
           "#19d3f3",
           "#FF6692",
           "#B6E880",
           "#FF97FF",
           "#FECB52"
          ],
          "font": {
           "color": "#2a3f5f"
          },
          "geo": {
           "bgcolor": "white",
           "lakecolor": "white",
           "landcolor": "#E5ECF6",
           "showlakes": true,
           "showland": true,
           "subunitcolor": "white"
          },
          "hoverlabel": {
           "align": "left"
          },
          "hovermode": "closest",
          "mapbox": {
           "style": "light"
          },
          "paper_bgcolor": "white",
          "plot_bgcolor": "#E5ECF6",
          "polar": {
           "angularaxis": {
            "gridcolor": "white",
            "linecolor": "white",
            "ticks": ""
           },
           "bgcolor": "#E5ECF6",
           "radialaxis": {
            "gridcolor": "white",
            "linecolor": "white",
            "ticks": ""
           }
          },
          "scene": {
           "xaxis": {
            "backgroundcolor": "#E5ECF6",
            "gridcolor": "white",
            "gridwidth": 2,
            "linecolor": "white",
            "showbackground": true,
            "ticks": "",
            "zerolinecolor": "white"
           },
           "yaxis": {
            "backgroundcolor": "#E5ECF6",
            "gridcolor": "white",
            "gridwidth": 2,
            "linecolor": "white",
            "showbackground": true,
            "ticks": "",
            "zerolinecolor": "white"
           },
           "zaxis": {
            "backgroundcolor": "#E5ECF6",
            "gridcolor": "white",
            "gridwidth": 2,
            "linecolor": "white",
            "showbackground": true,
            "ticks": "",
            "zerolinecolor": "white"
           }
          },
          "shapedefaults": {
           "line": {
            "color": "#2a3f5f"
           }
          },
          "ternary": {
           "aaxis": {
            "gridcolor": "white",
            "linecolor": "white",
            "ticks": ""
           },
           "baxis": {
            "gridcolor": "white",
            "linecolor": "white",
            "ticks": ""
           },
           "bgcolor": "#E5ECF6",
           "caxis": {
            "gridcolor": "white",
            "linecolor": "white",
            "ticks": ""
           }
          },
          "title": {
           "x": 0.05
          },
          "xaxis": {
           "automargin": true,
           "gridcolor": "white",
           "linecolor": "white",
           "ticks": "",
           "title": {
            "standoff": 15
           },
           "zerolinecolor": "white",
           "zerolinewidth": 2
          },
          "yaxis": {
           "automargin": true,
           "gridcolor": "white",
           "linecolor": "white",
           "ticks": "",
           "title": {
            "standoff": 15
           },
           "zerolinecolor": "white",
           "zerolinewidth": 2
          }
         }
        },
        "title": {
         "font": {
          "color": "#4D5663"
         }
        },
        "xaxis": {
         "gridcolor": "#E1E5ED",
         "showgrid": true,
         "tickfont": {
          "color": "#4D5663"
         },
         "title": {
          "font": {
           "color": "#4D5663"
          },
          "text": ""
         },
         "zerolinecolor": "#E1E5ED"
        },
        "yaxis": {
         "gridcolor": "#E1E5ED",
         "showgrid": true,
         "tickfont": {
          "color": "#4D5663"
         },
         "title": {
          "font": {
           "color": "#4D5663"
          },
          "text": ""
         },
         "zerolinecolor": "#E1E5ED"
        }
       }
      },
      "text/html": [
       "<div>                            <div id=\"4ac1736b-3fbf-432d-90e5-3ce0e658e19c\" class=\"plotly-graph-div\" style=\"height:525px; width:100%;\"></div>            <script type=\"text/javascript\">                require([\"plotly\"], function(Plotly) {                    window.PLOTLYENV=window.PLOTLYENV || {};\n",
       "                    window.PLOTLYENV.BASE_URL='https://plot.ly';                                    if (document.getElementById(\"4ac1736b-3fbf-432d-90e5-3ce0e658e19c\")) {                    Plotly.newPlot(                        \"4ac1736b-3fbf-432d-90e5-3ce0e658e19c\",                        [{\"marker\":{\"color\":\"rgba(255, 153, 51, 0.6)\",\"line\":{\"color\":\"rgba(255, 153, 51, 1.0)\",\"width\":1}},\"name\":\"Values\",\"orientation\":\"v\",\"text\":\"\",\"type\":\"bar\",\"x\":[\"A\",\"B\",\"C\"],\"y\":[32,43,50]}],                        {\"legend\":{\"bgcolor\":\"#F5F6F9\",\"font\":{\"color\":\"#4D5663\"}},\"paper_bgcolor\":\"#F5F6F9\",\"plot_bgcolor\":\"#F5F6F9\",\"template\":{\"data\":{\"bar\":[{\"error_x\":{\"color\":\"#2a3f5f\"},\"error_y\":{\"color\":\"#2a3f5f\"},\"marker\":{\"line\":{\"color\":\"#E5ECF6\",\"width\":0.5},\"pattern\":{\"fillmode\":\"overlay\",\"size\":10,\"solidity\":0.2}},\"type\":\"bar\"}],\"barpolar\":[{\"marker\":{\"line\":{\"color\":\"#E5ECF6\",\"width\":0.5},\"pattern\":{\"fillmode\":\"overlay\",\"size\":10,\"solidity\":0.2}},\"type\":\"barpolar\"}],\"carpet\":[{\"aaxis\":{\"endlinecolor\":\"#2a3f5f\",\"gridcolor\":\"white\",\"linecolor\":\"white\",\"minorgridcolor\":\"white\",\"startlinecolor\":\"#2a3f5f\"},\"baxis\":{\"endlinecolor\":\"#2a3f5f\",\"gridcolor\":\"white\",\"linecolor\":\"white\",\"minorgridcolor\":\"white\",\"startlinecolor\":\"#2a3f5f\"},\"type\":\"carpet\"}],\"choropleth\":[{\"colorbar\":{\"outlinewidth\":0,\"ticks\":\"\"},\"type\":\"choropleth\"}],\"contour\":[{\"colorbar\":{\"outlinewidth\":0,\"ticks\":\"\"},\"colorscale\":[[0.0,\"#0d0887\"],[0.1111111111111111,\"#46039f\"],[0.2222222222222222,\"#7201a8\"],[0.3333333333333333,\"#9c179e\"],[0.4444444444444444,\"#bd3786\"],[0.5555555555555556,\"#d8576b\"],[0.6666666666666666,\"#ed7953\"],[0.7777777777777778,\"#fb9f3a\"],[0.8888888888888888,\"#fdca26\"],[1.0,\"#f0f921\"]],\"type\":\"contour\"}],\"contourcarpet\":[{\"colorbar\":{\"outlinewidth\":0,\"ticks\":\"\"},\"type\":\"contourcarpet\"}],\"heatmap\":[{\"colorbar\":{\"outlinewidth\":0,\"ticks\":\"\"},\"colorscale\":[[0.0,\"#0d0887\"],[0.1111111111111111,\"#46039f\"],[0.2222222222222222,\"#7201a8\"],[0.3333333333333333,\"#9c179e\"],[0.4444444444444444,\"#bd3786\"],[0.5555555555555556,\"#d8576b\"],[0.6666666666666666,\"#ed7953\"],[0.7777777777777778,\"#fb9f3a\"],[0.8888888888888888,\"#fdca26\"],[1.0,\"#f0f921\"]],\"type\":\"heatmap\"}],\"heatmapgl\":[{\"colorbar\":{\"outlinewidth\":0,\"ticks\":\"\"},\"colorscale\":[[0.0,\"#0d0887\"],[0.1111111111111111,\"#46039f\"],[0.2222222222222222,\"#7201a8\"],[0.3333333333333333,\"#9c179e\"],[0.4444444444444444,\"#bd3786\"],[0.5555555555555556,\"#d8576b\"],[0.6666666666666666,\"#ed7953\"],[0.7777777777777778,\"#fb9f3a\"],[0.8888888888888888,\"#fdca26\"],[1.0,\"#f0f921\"]],\"type\":\"heatmapgl\"}],\"histogram\":[{\"marker\":{\"pattern\":{\"fillmode\":\"overlay\",\"size\":10,\"solidity\":0.2}},\"type\":\"histogram\"}],\"histogram2d\":[{\"colorbar\":{\"outlinewidth\":0,\"ticks\":\"\"},\"colorscale\":[[0.0,\"#0d0887\"],[0.1111111111111111,\"#46039f\"],[0.2222222222222222,\"#7201a8\"],[0.3333333333333333,\"#9c179e\"],[0.4444444444444444,\"#bd3786\"],[0.5555555555555556,\"#d8576b\"],[0.6666666666666666,\"#ed7953\"],[0.7777777777777778,\"#fb9f3a\"],[0.8888888888888888,\"#fdca26\"],[1.0,\"#f0f921\"]],\"type\":\"histogram2d\"}],\"histogram2dcontour\":[{\"colorbar\":{\"outlinewidth\":0,\"ticks\":\"\"},\"colorscale\":[[0.0,\"#0d0887\"],[0.1111111111111111,\"#46039f\"],[0.2222222222222222,\"#7201a8\"],[0.3333333333333333,\"#9c179e\"],[0.4444444444444444,\"#bd3786\"],[0.5555555555555556,\"#d8576b\"],[0.6666666666666666,\"#ed7953\"],[0.7777777777777778,\"#fb9f3a\"],[0.8888888888888888,\"#fdca26\"],[1.0,\"#f0f921\"]],\"type\":\"histogram2dcontour\"}],\"mesh3d\":[{\"colorbar\":{\"outlinewidth\":0,\"ticks\":\"\"},\"type\":\"mesh3d\"}],\"parcoords\":[{\"line\":{\"colorbar\":{\"outlinewidth\":0,\"ticks\":\"\"}},\"type\":\"parcoords\"}],\"pie\":[{\"automargin\":true,\"type\":\"pie\"}],\"scatter\":[{\"marker\":{\"colorbar\":{\"outlinewidth\":0,\"ticks\":\"\"}},\"type\":\"scatter\"}],\"scatter3d\":[{\"line\":{\"colorbar\":{\"outlinewidth\":0,\"ticks\":\"\"}},\"marker\":{\"colorbar\":{\"outlinewidth\":0,\"ticks\":\"\"}},\"type\":\"scatter3d\"}],\"scattercarpet\":[{\"marker\":{\"colorbar\":{\"outlinewidth\":0,\"ticks\":\"\"}},\"type\":\"scattercarpet\"}],\"scattergeo\":[{\"marker\":{\"colorbar\":{\"outlinewidth\":0,\"ticks\":\"\"}},\"type\":\"scattergeo\"}],\"scattergl\":[{\"marker\":{\"colorbar\":{\"outlinewidth\":0,\"ticks\":\"\"}},\"type\":\"scattergl\"}],\"scattermapbox\":[{\"marker\":{\"colorbar\":{\"outlinewidth\":0,\"ticks\":\"\"}},\"type\":\"scattermapbox\"}],\"scatterpolar\":[{\"marker\":{\"colorbar\":{\"outlinewidth\":0,\"ticks\":\"\"}},\"type\":\"scatterpolar\"}],\"scatterpolargl\":[{\"marker\":{\"colorbar\":{\"outlinewidth\":0,\"ticks\":\"\"}},\"type\":\"scatterpolargl\"}],\"scatterternary\":[{\"marker\":{\"colorbar\":{\"outlinewidth\":0,\"ticks\":\"\"}},\"type\":\"scatterternary\"}],\"surface\":[{\"colorbar\":{\"outlinewidth\":0,\"ticks\":\"\"},\"colorscale\":[[0.0,\"#0d0887\"],[0.1111111111111111,\"#46039f\"],[0.2222222222222222,\"#7201a8\"],[0.3333333333333333,\"#9c179e\"],[0.4444444444444444,\"#bd3786\"],[0.5555555555555556,\"#d8576b\"],[0.6666666666666666,\"#ed7953\"],[0.7777777777777778,\"#fb9f3a\"],[0.8888888888888888,\"#fdca26\"],[1.0,\"#f0f921\"]],\"type\":\"surface\"}],\"table\":[{\"cells\":{\"fill\":{\"color\":\"#EBF0F8\"},\"line\":{\"color\":\"white\"}},\"header\":{\"fill\":{\"color\":\"#C8D4E3\"},\"line\":{\"color\":\"white\"}},\"type\":\"table\"}]},\"layout\":{\"annotationdefaults\":{\"arrowcolor\":\"#2a3f5f\",\"arrowhead\":0,\"arrowwidth\":1},\"autotypenumbers\":\"strict\",\"coloraxis\":{\"colorbar\":{\"outlinewidth\":0,\"ticks\":\"\"}},\"colorscale\":{\"diverging\":[[0,\"#8e0152\"],[0.1,\"#c51b7d\"],[0.2,\"#de77ae\"],[0.3,\"#f1b6da\"],[0.4,\"#fde0ef\"],[0.5,\"#f7f7f7\"],[0.6,\"#e6f5d0\"],[0.7,\"#b8e186\"],[0.8,\"#7fbc41\"],[0.9,\"#4d9221\"],[1,\"#276419\"]],\"sequential\":[[0.0,\"#0d0887\"],[0.1111111111111111,\"#46039f\"],[0.2222222222222222,\"#7201a8\"],[0.3333333333333333,\"#9c179e\"],[0.4444444444444444,\"#bd3786\"],[0.5555555555555556,\"#d8576b\"],[0.6666666666666666,\"#ed7953\"],[0.7777777777777778,\"#fb9f3a\"],[0.8888888888888888,\"#fdca26\"],[1.0,\"#f0f921\"]],\"sequentialminus\":[[0.0,\"#0d0887\"],[0.1111111111111111,\"#46039f\"],[0.2222222222222222,\"#7201a8\"],[0.3333333333333333,\"#9c179e\"],[0.4444444444444444,\"#bd3786\"],[0.5555555555555556,\"#d8576b\"],[0.6666666666666666,\"#ed7953\"],[0.7777777777777778,\"#fb9f3a\"],[0.8888888888888888,\"#fdca26\"],[1.0,\"#f0f921\"]]},\"colorway\":[\"#636efa\",\"#EF553B\",\"#00cc96\",\"#ab63fa\",\"#FFA15A\",\"#19d3f3\",\"#FF6692\",\"#B6E880\",\"#FF97FF\",\"#FECB52\"],\"font\":{\"color\":\"#2a3f5f\"},\"geo\":{\"bgcolor\":\"white\",\"lakecolor\":\"white\",\"landcolor\":\"#E5ECF6\",\"showlakes\":true,\"showland\":true,\"subunitcolor\":\"white\"},\"hoverlabel\":{\"align\":\"left\"},\"hovermode\":\"closest\",\"mapbox\":{\"style\":\"light\"},\"paper_bgcolor\":\"white\",\"plot_bgcolor\":\"#E5ECF6\",\"polar\":{\"angularaxis\":{\"gridcolor\":\"white\",\"linecolor\":\"white\",\"ticks\":\"\"},\"bgcolor\":\"#E5ECF6\",\"radialaxis\":{\"gridcolor\":\"white\",\"linecolor\":\"white\",\"ticks\":\"\"}},\"scene\":{\"xaxis\":{\"backgroundcolor\":\"#E5ECF6\",\"gridcolor\":\"white\",\"gridwidth\":2,\"linecolor\":\"white\",\"showbackground\":true,\"ticks\":\"\",\"zerolinecolor\":\"white\"},\"yaxis\":{\"backgroundcolor\":\"#E5ECF6\",\"gridcolor\":\"white\",\"gridwidth\":2,\"linecolor\":\"white\",\"showbackground\":true,\"ticks\":\"\",\"zerolinecolor\":\"white\"},\"zaxis\":{\"backgroundcolor\":\"#E5ECF6\",\"gridcolor\":\"white\",\"gridwidth\":2,\"linecolor\":\"white\",\"showbackground\":true,\"ticks\":\"\",\"zerolinecolor\":\"white\"}},\"shapedefaults\":{\"line\":{\"color\":\"#2a3f5f\"}},\"ternary\":{\"aaxis\":{\"gridcolor\":\"white\",\"linecolor\":\"white\",\"ticks\":\"\"},\"baxis\":{\"gridcolor\":\"white\",\"linecolor\":\"white\",\"ticks\":\"\"},\"bgcolor\":\"#E5ECF6\",\"caxis\":{\"gridcolor\":\"white\",\"linecolor\":\"white\",\"ticks\":\"\"}},\"title\":{\"x\":0.05},\"xaxis\":{\"automargin\":true,\"gridcolor\":\"white\",\"linecolor\":\"white\",\"ticks\":\"\",\"title\":{\"standoff\":15},\"zerolinecolor\":\"white\",\"zerolinewidth\":2},\"yaxis\":{\"automargin\":true,\"gridcolor\":\"white\",\"linecolor\":\"white\",\"ticks\":\"\",\"title\":{\"standoff\":15},\"zerolinecolor\":\"white\",\"zerolinewidth\":2}}},\"title\":{\"font\":{\"color\":\"#4D5663\"}},\"xaxis\":{\"gridcolor\":\"#E1E5ED\",\"showgrid\":true,\"tickfont\":{\"color\":\"#4D5663\"},\"title\":{\"font\":{\"color\":\"#4D5663\"},\"text\":\"\"},\"zerolinecolor\":\"#E1E5ED\"},\"yaxis\":{\"gridcolor\":\"#E1E5ED\",\"showgrid\":true,\"tickfont\":{\"color\":\"#4D5663\"},\"title\":{\"font\":{\"color\":\"#4D5663\"},\"text\":\"\"},\"zerolinecolor\":\"#E1E5ED\"}},                        {\"showLink\": true, \"linkText\": \"Export to plot.ly\", \"plotlyServerURL\": \"https://plot.ly\", \"responsive\": true}                    ).then(function(){\n",
       "                            \n",
       "var gd = document.getElementById('4ac1736b-3fbf-432d-90e5-3ce0e658e19c');\n",
       "var x = new MutationObserver(function (mutations, observer) {{\n",
       "        var display = window.getComputedStyle(gd).display;\n",
       "        if (!display || display === 'none') {{\n",
       "            console.log([gd, 'removed!']);\n",
       "            Plotly.purge(gd);\n",
       "            observer.disconnect();\n",
       "        }}\n",
       "}});\n",
       "\n",
       "// Listen for the removal of the full notebook cells\n",
       "var notebookContainer = gd.closest('#notebook-container');\n",
       "if (notebookContainer) {{\n",
       "    x.observe(notebookContainer, {childList: true});\n",
       "}}\n",
       "\n",
       "// Listen for the clearing of the current output cell\n",
       "var outputEl = gd.closest('.output');\n",
       "if (outputEl) {{\n",
       "    x.observe(outputEl, {childList: true});\n",
       "}}\n",
       "\n",
       "                        })                };                });            </script>        </div>"
      ]
     },
     "metadata": {},
     "output_type": "display_data"
    }
   ],
   "source": [
    "df2.iplot(kind='bar',x='Category',y='Values')"
   ]
  },
  {
   "cell_type": "code",
   "execution_count": 19,
   "metadata": {},
   "outputs": [
    {
     "data": {
      "application/vnd.plotly.v1+json": {
       "config": {
        "linkText": "Export to plot.ly",
        "plotlyServerURL": "https://plot.ly",
        "showLink": true
       },
       "data": [
        {
         "marker": {
          "color": "rgba(255, 153, 51, 0.6)",
          "line": {
           "color": "rgba(255, 153, 51, 1.0)",
           "width": 1
          }
         },
         "name": "None",
         "orientation": "v",
         "text": "",
         "type": "bar",
         "x": [
          "A",
          "B",
          "C",
          "D"
         ],
         "y": [
          100,
          100,
          100,
          100
         ]
        }
       ],
       "layout": {
        "legend": {
         "bgcolor": "#F5F6F9",
         "font": {
          "color": "#4D5663"
         }
        },
        "paper_bgcolor": "#F5F6F9",
        "plot_bgcolor": "#F5F6F9",
        "template": {
         "data": {
          "bar": [
           {
            "error_x": {
             "color": "#2a3f5f"
            },
            "error_y": {
             "color": "#2a3f5f"
            },
            "marker": {
             "line": {
              "color": "#E5ECF6",
              "width": 0.5
             },
             "pattern": {
              "fillmode": "overlay",
              "size": 10,
              "solidity": 0.2
             }
            },
            "type": "bar"
           }
          ],
          "barpolar": [
           {
            "marker": {
             "line": {
              "color": "#E5ECF6",
              "width": 0.5
             },
             "pattern": {
              "fillmode": "overlay",
              "size": 10,
              "solidity": 0.2
             }
            },
            "type": "barpolar"
           }
          ],
          "carpet": [
           {
            "aaxis": {
             "endlinecolor": "#2a3f5f",
             "gridcolor": "white",
             "linecolor": "white",
             "minorgridcolor": "white",
             "startlinecolor": "#2a3f5f"
            },
            "baxis": {
             "endlinecolor": "#2a3f5f",
             "gridcolor": "white",
             "linecolor": "white",
             "minorgridcolor": "white",
             "startlinecolor": "#2a3f5f"
            },
            "type": "carpet"
           }
          ],
          "choropleth": [
           {
            "colorbar": {
             "outlinewidth": 0,
             "ticks": ""
            },
            "type": "choropleth"
           }
          ],
          "contour": [
           {
            "colorbar": {
             "outlinewidth": 0,
             "ticks": ""
            },
            "colorscale": [
             [
              0,
              "#0d0887"
             ],
             [
              0.1111111111111111,
              "#46039f"
             ],
             [
              0.2222222222222222,
              "#7201a8"
             ],
             [
              0.3333333333333333,
              "#9c179e"
             ],
             [
              0.4444444444444444,
              "#bd3786"
             ],
             [
              0.5555555555555556,
              "#d8576b"
             ],
             [
              0.6666666666666666,
              "#ed7953"
             ],
             [
              0.7777777777777778,
              "#fb9f3a"
             ],
             [
              0.8888888888888888,
              "#fdca26"
             ],
             [
              1,
              "#f0f921"
             ]
            ],
            "type": "contour"
           }
          ],
          "contourcarpet": [
           {
            "colorbar": {
             "outlinewidth": 0,
             "ticks": ""
            },
            "type": "contourcarpet"
           }
          ],
          "heatmap": [
           {
            "colorbar": {
             "outlinewidth": 0,
             "ticks": ""
            },
            "colorscale": [
             [
              0,
              "#0d0887"
             ],
             [
              0.1111111111111111,
              "#46039f"
             ],
             [
              0.2222222222222222,
              "#7201a8"
             ],
             [
              0.3333333333333333,
              "#9c179e"
             ],
             [
              0.4444444444444444,
              "#bd3786"
             ],
             [
              0.5555555555555556,
              "#d8576b"
             ],
             [
              0.6666666666666666,
              "#ed7953"
             ],
             [
              0.7777777777777778,
              "#fb9f3a"
             ],
             [
              0.8888888888888888,
              "#fdca26"
             ],
             [
              1,
              "#f0f921"
             ]
            ],
            "type": "heatmap"
           }
          ],
          "heatmapgl": [
           {
            "colorbar": {
             "outlinewidth": 0,
             "ticks": ""
            },
            "colorscale": [
             [
              0,
              "#0d0887"
             ],
             [
              0.1111111111111111,
              "#46039f"
             ],
             [
              0.2222222222222222,
              "#7201a8"
             ],
             [
              0.3333333333333333,
              "#9c179e"
             ],
             [
              0.4444444444444444,
              "#bd3786"
             ],
             [
              0.5555555555555556,
              "#d8576b"
             ],
             [
              0.6666666666666666,
              "#ed7953"
             ],
             [
              0.7777777777777778,
              "#fb9f3a"
             ],
             [
              0.8888888888888888,
              "#fdca26"
             ],
             [
              1,
              "#f0f921"
             ]
            ],
            "type": "heatmapgl"
           }
          ],
          "histogram": [
           {
            "marker": {
             "pattern": {
              "fillmode": "overlay",
              "size": 10,
              "solidity": 0.2
             }
            },
            "type": "histogram"
           }
          ],
          "histogram2d": [
           {
            "colorbar": {
             "outlinewidth": 0,
             "ticks": ""
            },
            "colorscale": [
             [
              0,
              "#0d0887"
             ],
             [
              0.1111111111111111,
              "#46039f"
             ],
             [
              0.2222222222222222,
              "#7201a8"
             ],
             [
              0.3333333333333333,
              "#9c179e"
             ],
             [
              0.4444444444444444,
              "#bd3786"
             ],
             [
              0.5555555555555556,
              "#d8576b"
             ],
             [
              0.6666666666666666,
              "#ed7953"
             ],
             [
              0.7777777777777778,
              "#fb9f3a"
             ],
             [
              0.8888888888888888,
              "#fdca26"
             ],
             [
              1,
              "#f0f921"
             ]
            ],
            "type": "histogram2d"
           }
          ],
          "histogram2dcontour": [
           {
            "colorbar": {
             "outlinewidth": 0,
             "ticks": ""
            },
            "colorscale": [
             [
              0,
              "#0d0887"
             ],
             [
              0.1111111111111111,
              "#46039f"
             ],
             [
              0.2222222222222222,
              "#7201a8"
             ],
             [
              0.3333333333333333,
              "#9c179e"
             ],
             [
              0.4444444444444444,
              "#bd3786"
             ],
             [
              0.5555555555555556,
              "#d8576b"
             ],
             [
              0.6666666666666666,
              "#ed7953"
             ],
             [
              0.7777777777777778,
              "#fb9f3a"
             ],
             [
              0.8888888888888888,
              "#fdca26"
             ],
             [
              1,
              "#f0f921"
             ]
            ],
            "type": "histogram2dcontour"
           }
          ],
          "mesh3d": [
           {
            "colorbar": {
             "outlinewidth": 0,
             "ticks": ""
            },
            "type": "mesh3d"
           }
          ],
          "parcoords": [
           {
            "line": {
             "colorbar": {
              "outlinewidth": 0,
              "ticks": ""
             }
            },
            "type": "parcoords"
           }
          ],
          "pie": [
           {
            "automargin": true,
            "type": "pie"
           }
          ],
          "scatter": [
           {
            "marker": {
             "colorbar": {
              "outlinewidth": 0,
              "ticks": ""
             }
            },
            "type": "scatter"
           }
          ],
          "scatter3d": [
           {
            "line": {
             "colorbar": {
              "outlinewidth": 0,
              "ticks": ""
             }
            },
            "marker": {
             "colorbar": {
              "outlinewidth": 0,
              "ticks": ""
             }
            },
            "type": "scatter3d"
           }
          ],
          "scattercarpet": [
           {
            "marker": {
             "colorbar": {
              "outlinewidth": 0,
              "ticks": ""
             }
            },
            "type": "scattercarpet"
           }
          ],
          "scattergeo": [
           {
            "marker": {
             "colorbar": {
              "outlinewidth": 0,
              "ticks": ""
             }
            },
            "type": "scattergeo"
           }
          ],
          "scattergl": [
           {
            "marker": {
             "colorbar": {
              "outlinewidth": 0,
              "ticks": ""
             }
            },
            "type": "scattergl"
           }
          ],
          "scattermapbox": [
           {
            "marker": {
             "colorbar": {
              "outlinewidth": 0,
              "ticks": ""
             }
            },
            "type": "scattermapbox"
           }
          ],
          "scatterpolar": [
           {
            "marker": {
             "colorbar": {
              "outlinewidth": 0,
              "ticks": ""
             }
            },
            "type": "scatterpolar"
           }
          ],
          "scatterpolargl": [
           {
            "marker": {
             "colorbar": {
              "outlinewidth": 0,
              "ticks": ""
             }
            },
            "type": "scatterpolargl"
           }
          ],
          "scatterternary": [
           {
            "marker": {
             "colorbar": {
              "outlinewidth": 0,
              "ticks": ""
             }
            },
            "type": "scatterternary"
           }
          ],
          "surface": [
           {
            "colorbar": {
             "outlinewidth": 0,
             "ticks": ""
            },
            "colorscale": [
             [
              0,
              "#0d0887"
             ],
             [
              0.1111111111111111,
              "#46039f"
             ],
             [
              0.2222222222222222,
              "#7201a8"
             ],
             [
              0.3333333333333333,
              "#9c179e"
             ],
             [
              0.4444444444444444,
              "#bd3786"
             ],
             [
              0.5555555555555556,
              "#d8576b"
             ],
             [
              0.6666666666666666,
              "#ed7953"
             ],
             [
              0.7777777777777778,
              "#fb9f3a"
             ],
             [
              0.8888888888888888,
              "#fdca26"
             ],
             [
              1,
              "#f0f921"
             ]
            ],
            "type": "surface"
           }
          ],
          "table": [
           {
            "cells": {
             "fill": {
              "color": "#EBF0F8"
             },
             "line": {
              "color": "white"
             }
            },
            "header": {
             "fill": {
              "color": "#C8D4E3"
             },
             "line": {
              "color": "white"
             }
            },
            "type": "table"
           }
          ]
         },
         "layout": {
          "annotationdefaults": {
           "arrowcolor": "#2a3f5f",
           "arrowhead": 0,
           "arrowwidth": 1
          },
          "autotypenumbers": "strict",
          "coloraxis": {
           "colorbar": {
            "outlinewidth": 0,
            "ticks": ""
           }
          },
          "colorscale": {
           "diverging": [
            [
             0,
             "#8e0152"
            ],
            [
             0.1,
             "#c51b7d"
            ],
            [
             0.2,
             "#de77ae"
            ],
            [
             0.3,
             "#f1b6da"
            ],
            [
             0.4,
             "#fde0ef"
            ],
            [
             0.5,
             "#f7f7f7"
            ],
            [
             0.6,
             "#e6f5d0"
            ],
            [
             0.7,
             "#b8e186"
            ],
            [
             0.8,
             "#7fbc41"
            ],
            [
             0.9,
             "#4d9221"
            ],
            [
             1,
             "#276419"
            ]
           ],
           "sequential": [
            [
             0,
             "#0d0887"
            ],
            [
             0.1111111111111111,
             "#46039f"
            ],
            [
             0.2222222222222222,
             "#7201a8"
            ],
            [
             0.3333333333333333,
             "#9c179e"
            ],
            [
             0.4444444444444444,
             "#bd3786"
            ],
            [
             0.5555555555555556,
             "#d8576b"
            ],
            [
             0.6666666666666666,
             "#ed7953"
            ],
            [
             0.7777777777777778,
             "#fb9f3a"
            ],
            [
             0.8888888888888888,
             "#fdca26"
            ],
            [
             1,
             "#f0f921"
            ]
           ],
           "sequentialminus": [
            [
             0,
             "#0d0887"
            ],
            [
             0.1111111111111111,
             "#46039f"
            ],
            [
             0.2222222222222222,
             "#7201a8"
            ],
            [
             0.3333333333333333,
             "#9c179e"
            ],
            [
             0.4444444444444444,
             "#bd3786"
            ],
            [
             0.5555555555555556,
             "#d8576b"
            ],
            [
             0.6666666666666666,
             "#ed7953"
            ],
            [
             0.7777777777777778,
             "#fb9f3a"
            ],
            [
             0.8888888888888888,
             "#fdca26"
            ],
            [
             1,
             "#f0f921"
            ]
           ]
          },
          "colorway": [
           "#636efa",
           "#EF553B",
           "#00cc96",
           "#ab63fa",
           "#FFA15A",
           "#19d3f3",
           "#FF6692",
           "#B6E880",
           "#FF97FF",
           "#FECB52"
          ],
          "font": {
           "color": "#2a3f5f"
          },
          "geo": {
           "bgcolor": "white",
           "lakecolor": "white",
           "landcolor": "#E5ECF6",
           "showlakes": true,
           "showland": true,
           "subunitcolor": "white"
          },
          "hoverlabel": {
           "align": "left"
          },
          "hovermode": "closest",
          "mapbox": {
           "style": "light"
          },
          "paper_bgcolor": "white",
          "plot_bgcolor": "#E5ECF6",
          "polar": {
           "angularaxis": {
            "gridcolor": "white",
            "linecolor": "white",
            "ticks": ""
           },
           "bgcolor": "#E5ECF6",
           "radialaxis": {
            "gridcolor": "white",
            "linecolor": "white",
            "ticks": ""
           }
          },
          "scene": {
           "xaxis": {
            "backgroundcolor": "#E5ECF6",
            "gridcolor": "white",
            "gridwidth": 2,
            "linecolor": "white",
            "showbackground": true,
            "ticks": "",
            "zerolinecolor": "white"
           },
           "yaxis": {
            "backgroundcolor": "#E5ECF6",
            "gridcolor": "white",
            "gridwidth": 2,
            "linecolor": "white",
            "showbackground": true,
            "ticks": "",
            "zerolinecolor": "white"
           },
           "zaxis": {
            "backgroundcolor": "#E5ECF6",
            "gridcolor": "white",
            "gridwidth": 2,
            "linecolor": "white",
            "showbackground": true,
            "ticks": "",
            "zerolinecolor": "white"
           }
          },
          "shapedefaults": {
           "line": {
            "color": "#2a3f5f"
           }
          },
          "ternary": {
           "aaxis": {
            "gridcolor": "white",
            "linecolor": "white",
            "ticks": ""
           },
           "baxis": {
            "gridcolor": "white",
            "linecolor": "white",
            "ticks": ""
           },
           "bgcolor": "#E5ECF6",
           "caxis": {
            "gridcolor": "white",
            "linecolor": "white",
            "ticks": ""
           }
          },
          "title": {
           "x": 0.05
          },
          "xaxis": {
           "automargin": true,
           "gridcolor": "white",
           "linecolor": "white",
           "ticks": "",
           "title": {
            "standoff": 15
           },
           "zerolinecolor": "white",
           "zerolinewidth": 2
          },
          "yaxis": {
           "automargin": true,
           "gridcolor": "white",
           "linecolor": "white",
           "ticks": "",
           "title": {
            "standoff": 15
           },
           "zerolinecolor": "white",
           "zerolinewidth": 2
          }
         }
        },
        "title": {
         "font": {
          "color": "#4D5663"
         }
        },
        "xaxis": {
         "gridcolor": "#E1E5ED",
         "showgrid": true,
         "tickfont": {
          "color": "#4D5663"
         },
         "title": {
          "font": {
           "color": "#4D5663"
          },
          "text": ""
         },
         "zerolinecolor": "#E1E5ED"
        },
        "yaxis": {
         "gridcolor": "#E1E5ED",
         "showgrid": true,
         "tickfont": {
          "color": "#4D5663"
         },
         "title": {
          "font": {
           "color": "#4D5663"
          },
          "text": ""
         },
         "zerolinecolor": "#E1E5ED"
        }
       }
      },
      "text/html": [
       "<div>                            <div id=\"06e15f17-9bb8-43b4-a1d3-8aba54af8235\" class=\"plotly-graph-div\" style=\"height:525px; width:100%;\"></div>            <script type=\"text/javascript\">                require([\"plotly\"], function(Plotly) {                    window.PLOTLYENV=window.PLOTLYENV || {};\n",
       "                    window.PLOTLYENV.BASE_URL='https://plot.ly';                                    if (document.getElementById(\"06e15f17-9bb8-43b4-a1d3-8aba54af8235\")) {                    Plotly.newPlot(                        \"06e15f17-9bb8-43b4-a1d3-8aba54af8235\",                        [{\"marker\":{\"color\":\"rgba(255, 153, 51, 0.6)\",\"line\":{\"color\":\"rgba(255, 153, 51, 1.0)\",\"width\":1}},\"name\":\"None\",\"orientation\":\"v\",\"text\":\"\",\"type\":\"bar\",\"x\":[\"A\",\"B\",\"C\",\"D\"],\"y\":[100,100,100,100]}],                        {\"legend\":{\"bgcolor\":\"#F5F6F9\",\"font\":{\"color\":\"#4D5663\"}},\"paper_bgcolor\":\"#F5F6F9\",\"plot_bgcolor\":\"#F5F6F9\",\"template\":{\"data\":{\"bar\":[{\"error_x\":{\"color\":\"#2a3f5f\"},\"error_y\":{\"color\":\"#2a3f5f\"},\"marker\":{\"line\":{\"color\":\"#E5ECF6\",\"width\":0.5},\"pattern\":{\"fillmode\":\"overlay\",\"size\":10,\"solidity\":0.2}},\"type\":\"bar\"}],\"barpolar\":[{\"marker\":{\"line\":{\"color\":\"#E5ECF6\",\"width\":0.5},\"pattern\":{\"fillmode\":\"overlay\",\"size\":10,\"solidity\":0.2}},\"type\":\"barpolar\"}],\"carpet\":[{\"aaxis\":{\"endlinecolor\":\"#2a3f5f\",\"gridcolor\":\"white\",\"linecolor\":\"white\",\"minorgridcolor\":\"white\",\"startlinecolor\":\"#2a3f5f\"},\"baxis\":{\"endlinecolor\":\"#2a3f5f\",\"gridcolor\":\"white\",\"linecolor\":\"white\",\"minorgridcolor\":\"white\",\"startlinecolor\":\"#2a3f5f\"},\"type\":\"carpet\"}],\"choropleth\":[{\"colorbar\":{\"outlinewidth\":0,\"ticks\":\"\"},\"type\":\"choropleth\"}],\"contour\":[{\"colorbar\":{\"outlinewidth\":0,\"ticks\":\"\"},\"colorscale\":[[0.0,\"#0d0887\"],[0.1111111111111111,\"#46039f\"],[0.2222222222222222,\"#7201a8\"],[0.3333333333333333,\"#9c179e\"],[0.4444444444444444,\"#bd3786\"],[0.5555555555555556,\"#d8576b\"],[0.6666666666666666,\"#ed7953\"],[0.7777777777777778,\"#fb9f3a\"],[0.8888888888888888,\"#fdca26\"],[1.0,\"#f0f921\"]],\"type\":\"contour\"}],\"contourcarpet\":[{\"colorbar\":{\"outlinewidth\":0,\"ticks\":\"\"},\"type\":\"contourcarpet\"}],\"heatmap\":[{\"colorbar\":{\"outlinewidth\":0,\"ticks\":\"\"},\"colorscale\":[[0.0,\"#0d0887\"],[0.1111111111111111,\"#46039f\"],[0.2222222222222222,\"#7201a8\"],[0.3333333333333333,\"#9c179e\"],[0.4444444444444444,\"#bd3786\"],[0.5555555555555556,\"#d8576b\"],[0.6666666666666666,\"#ed7953\"],[0.7777777777777778,\"#fb9f3a\"],[0.8888888888888888,\"#fdca26\"],[1.0,\"#f0f921\"]],\"type\":\"heatmap\"}],\"heatmapgl\":[{\"colorbar\":{\"outlinewidth\":0,\"ticks\":\"\"},\"colorscale\":[[0.0,\"#0d0887\"],[0.1111111111111111,\"#46039f\"],[0.2222222222222222,\"#7201a8\"],[0.3333333333333333,\"#9c179e\"],[0.4444444444444444,\"#bd3786\"],[0.5555555555555556,\"#d8576b\"],[0.6666666666666666,\"#ed7953\"],[0.7777777777777778,\"#fb9f3a\"],[0.8888888888888888,\"#fdca26\"],[1.0,\"#f0f921\"]],\"type\":\"heatmapgl\"}],\"histogram\":[{\"marker\":{\"pattern\":{\"fillmode\":\"overlay\",\"size\":10,\"solidity\":0.2}},\"type\":\"histogram\"}],\"histogram2d\":[{\"colorbar\":{\"outlinewidth\":0,\"ticks\":\"\"},\"colorscale\":[[0.0,\"#0d0887\"],[0.1111111111111111,\"#46039f\"],[0.2222222222222222,\"#7201a8\"],[0.3333333333333333,\"#9c179e\"],[0.4444444444444444,\"#bd3786\"],[0.5555555555555556,\"#d8576b\"],[0.6666666666666666,\"#ed7953\"],[0.7777777777777778,\"#fb9f3a\"],[0.8888888888888888,\"#fdca26\"],[1.0,\"#f0f921\"]],\"type\":\"histogram2d\"}],\"histogram2dcontour\":[{\"colorbar\":{\"outlinewidth\":0,\"ticks\":\"\"},\"colorscale\":[[0.0,\"#0d0887\"],[0.1111111111111111,\"#46039f\"],[0.2222222222222222,\"#7201a8\"],[0.3333333333333333,\"#9c179e\"],[0.4444444444444444,\"#bd3786\"],[0.5555555555555556,\"#d8576b\"],[0.6666666666666666,\"#ed7953\"],[0.7777777777777778,\"#fb9f3a\"],[0.8888888888888888,\"#fdca26\"],[1.0,\"#f0f921\"]],\"type\":\"histogram2dcontour\"}],\"mesh3d\":[{\"colorbar\":{\"outlinewidth\":0,\"ticks\":\"\"},\"type\":\"mesh3d\"}],\"parcoords\":[{\"line\":{\"colorbar\":{\"outlinewidth\":0,\"ticks\":\"\"}},\"type\":\"parcoords\"}],\"pie\":[{\"automargin\":true,\"type\":\"pie\"}],\"scatter\":[{\"marker\":{\"colorbar\":{\"outlinewidth\":0,\"ticks\":\"\"}},\"type\":\"scatter\"}],\"scatter3d\":[{\"line\":{\"colorbar\":{\"outlinewidth\":0,\"ticks\":\"\"}},\"marker\":{\"colorbar\":{\"outlinewidth\":0,\"ticks\":\"\"}},\"type\":\"scatter3d\"}],\"scattercarpet\":[{\"marker\":{\"colorbar\":{\"outlinewidth\":0,\"ticks\":\"\"}},\"type\":\"scattercarpet\"}],\"scattergeo\":[{\"marker\":{\"colorbar\":{\"outlinewidth\":0,\"ticks\":\"\"}},\"type\":\"scattergeo\"}],\"scattergl\":[{\"marker\":{\"colorbar\":{\"outlinewidth\":0,\"ticks\":\"\"}},\"type\":\"scattergl\"}],\"scattermapbox\":[{\"marker\":{\"colorbar\":{\"outlinewidth\":0,\"ticks\":\"\"}},\"type\":\"scattermapbox\"}],\"scatterpolar\":[{\"marker\":{\"colorbar\":{\"outlinewidth\":0,\"ticks\":\"\"}},\"type\":\"scatterpolar\"}],\"scatterpolargl\":[{\"marker\":{\"colorbar\":{\"outlinewidth\":0,\"ticks\":\"\"}},\"type\":\"scatterpolargl\"}],\"scatterternary\":[{\"marker\":{\"colorbar\":{\"outlinewidth\":0,\"ticks\":\"\"}},\"type\":\"scatterternary\"}],\"surface\":[{\"colorbar\":{\"outlinewidth\":0,\"ticks\":\"\"},\"colorscale\":[[0.0,\"#0d0887\"],[0.1111111111111111,\"#46039f\"],[0.2222222222222222,\"#7201a8\"],[0.3333333333333333,\"#9c179e\"],[0.4444444444444444,\"#bd3786\"],[0.5555555555555556,\"#d8576b\"],[0.6666666666666666,\"#ed7953\"],[0.7777777777777778,\"#fb9f3a\"],[0.8888888888888888,\"#fdca26\"],[1.0,\"#f0f921\"]],\"type\":\"surface\"}],\"table\":[{\"cells\":{\"fill\":{\"color\":\"#EBF0F8\"},\"line\":{\"color\":\"white\"}},\"header\":{\"fill\":{\"color\":\"#C8D4E3\"},\"line\":{\"color\":\"white\"}},\"type\":\"table\"}]},\"layout\":{\"annotationdefaults\":{\"arrowcolor\":\"#2a3f5f\",\"arrowhead\":0,\"arrowwidth\":1},\"autotypenumbers\":\"strict\",\"coloraxis\":{\"colorbar\":{\"outlinewidth\":0,\"ticks\":\"\"}},\"colorscale\":{\"diverging\":[[0,\"#8e0152\"],[0.1,\"#c51b7d\"],[0.2,\"#de77ae\"],[0.3,\"#f1b6da\"],[0.4,\"#fde0ef\"],[0.5,\"#f7f7f7\"],[0.6,\"#e6f5d0\"],[0.7,\"#b8e186\"],[0.8,\"#7fbc41\"],[0.9,\"#4d9221\"],[1,\"#276419\"]],\"sequential\":[[0.0,\"#0d0887\"],[0.1111111111111111,\"#46039f\"],[0.2222222222222222,\"#7201a8\"],[0.3333333333333333,\"#9c179e\"],[0.4444444444444444,\"#bd3786\"],[0.5555555555555556,\"#d8576b\"],[0.6666666666666666,\"#ed7953\"],[0.7777777777777778,\"#fb9f3a\"],[0.8888888888888888,\"#fdca26\"],[1.0,\"#f0f921\"]],\"sequentialminus\":[[0.0,\"#0d0887\"],[0.1111111111111111,\"#46039f\"],[0.2222222222222222,\"#7201a8\"],[0.3333333333333333,\"#9c179e\"],[0.4444444444444444,\"#bd3786\"],[0.5555555555555556,\"#d8576b\"],[0.6666666666666666,\"#ed7953\"],[0.7777777777777778,\"#fb9f3a\"],[0.8888888888888888,\"#fdca26\"],[1.0,\"#f0f921\"]]},\"colorway\":[\"#636efa\",\"#EF553B\",\"#00cc96\",\"#ab63fa\",\"#FFA15A\",\"#19d3f3\",\"#FF6692\",\"#B6E880\",\"#FF97FF\",\"#FECB52\"],\"font\":{\"color\":\"#2a3f5f\"},\"geo\":{\"bgcolor\":\"white\",\"lakecolor\":\"white\",\"landcolor\":\"#E5ECF6\",\"showlakes\":true,\"showland\":true,\"subunitcolor\":\"white\"},\"hoverlabel\":{\"align\":\"left\"},\"hovermode\":\"closest\",\"mapbox\":{\"style\":\"light\"},\"paper_bgcolor\":\"white\",\"plot_bgcolor\":\"#E5ECF6\",\"polar\":{\"angularaxis\":{\"gridcolor\":\"white\",\"linecolor\":\"white\",\"ticks\":\"\"},\"bgcolor\":\"#E5ECF6\",\"radialaxis\":{\"gridcolor\":\"white\",\"linecolor\":\"white\",\"ticks\":\"\"}},\"scene\":{\"xaxis\":{\"backgroundcolor\":\"#E5ECF6\",\"gridcolor\":\"white\",\"gridwidth\":2,\"linecolor\":\"white\",\"showbackground\":true,\"ticks\":\"\",\"zerolinecolor\":\"white\"},\"yaxis\":{\"backgroundcolor\":\"#E5ECF6\",\"gridcolor\":\"white\",\"gridwidth\":2,\"linecolor\":\"white\",\"showbackground\":true,\"ticks\":\"\",\"zerolinecolor\":\"white\"},\"zaxis\":{\"backgroundcolor\":\"#E5ECF6\",\"gridcolor\":\"white\",\"gridwidth\":2,\"linecolor\":\"white\",\"showbackground\":true,\"ticks\":\"\",\"zerolinecolor\":\"white\"}},\"shapedefaults\":{\"line\":{\"color\":\"#2a3f5f\"}},\"ternary\":{\"aaxis\":{\"gridcolor\":\"white\",\"linecolor\":\"white\",\"ticks\":\"\"},\"baxis\":{\"gridcolor\":\"white\",\"linecolor\":\"white\",\"ticks\":\"\"},\"bgcolor\":\"#E5ECF6\",\"caxis\":{\"gridcolor\":\"white\",\"linecolor\":\"white\",\"ticks\":\"\"}},\"title\":{\"x\":0.05},\"xaxis\":{\"automargin\":true,\"gridcolor\":\"white\",\"linecolor\":\"white\",\"ticks\":\"\",\"title\":{\"standoff\":15},\"zerolinecolor\":\"white\",\"zerolinewidth\":2},\"yaxis\":{\"automargin\":true,\"gridcolor\":\"white\",\"linecolor\":\"white\",\"ticks\":\"\",\"title\":{\"standoff\":15},\"zerolinecolor\":\"white\",\"zerolinewidth\":2}}},\"title\":{\"font\":{\"color\":\"#4D5663\"}},\"xaxis\":{\"gridcolor\":\"#E1E5ED\",\"showgrid\":true,\"tickfont\":{\"color\":\"#4D5663\"},\"title\":{\"font\":{\"color\":\"#4D5663\"},\"text\":\"\"},\"zerolinecolor\":\"#E1E5ED\"},\"yaxis\":{\"gridcolor\":\"#E1E5ED\",\"showgrid\":true,\"tickfont\":{\"color\":\"#4D5663\"},\"title\":{\"font\":{\"color\":\"#4D5663\"},\"text\":\"\"},\"zerolinecolor\":\"#E1E5ED\"}},                        {\"showLink\": true, \"linkText\": \"Export to plot.ly\", \"plotlyServerURL\": \"https://plot.ly\", \"responsive\": true}                    ).then(function(){\n",
       "                            \n",
       "var gd = document.getElementById('06e15f17-9bb8-43b4-a1d3-8aba54af8235');\n",
       "var x = new MutationObserver(function (mutations, observer) {{\n",
       "        var display = window.getComputedStyle(gd).display;\n",
       "        if (!display || display === 'none') {{\n",
       "            console.log([gd, 'removed!']);\n",
       "            Plotly.purge(gd);\n",
       "            observer.disconnect();\n",
       "        }}\n",
       "}});\n",
       "\n",
       "// Listen for the removal of the full notebook cells\n",
       "var notebookContainer = gd.closest('#notebook-container');\n",
       "if (notebookContainer) {{\n",
       "    x.observe(notebookContainer, {childList: true});\n",
       "}}\n",
       "\n",
       "// Listen for the clearing of the current output cell\n",
       "var outputEl = gd.closest('.output');\n",
       "if (outputEl) {{\n",
       "    x.observe(outputEl, {childList: true});\n",
       "}}\n",
       "\n",
       "                        })                };                });            </script>        </div>"
      ]
     },
     "metadata": {},
     "output_type": "display_data"
    }
   ],
   "source": [
    "df.count().iplot(kind='bar')"
   ]
  },
  {
   "cell_type": "markdown",
   "metadata": {},
   "source": [
    "## Boxplots"
   ]
  },
  {
   "cell_type": "code",
   "execution_count": 20,
   "metadata": {},
   "outputs": [
    {
     "data": {
      "application/vnd.plotly.v1+json": {
       "config": {
        "linkText": "Export to plot.ly",
        "plotlyServerURL": "https://plot.ly",
        "showLink": true
       },
       "data": [
        {
         "boxpoints": false,
         "line": {
          "width": 1.3
         },
         "marker": {
          "color": "rgba(255, 153, 51, 1.0)"
         },
         "name": "A",
         "orientation": "v",
         "type": "box",
         "y": [
          -1.0206472791320926,
          0.051856060673617886,
          0.9647955540467175,
          -0.04575644997517332,
          0.5698958108657399,
          -0.2771160176114073,
          0.6743782176988691,
          1.1334862342367846,
          0.8310518336563363,
          0.8478826680455306,
          2.1049439394759686,
          2.3467568101723724,
          0.471647951479405,
          -1.2913115835715805,
          -0.654693311813495,
          0.24421849479729904,
          0.09926206507316876,
          0.27347604364371714,
          0.6654321688845871,
          1.5441310592053583,
          0.4888350095325806,
          0.85642862115761,
          1.1995385573927553,
          0.4503558668432003,
          -0.9454681741341744,
          0.701552165824799,
          0.633064354844197,
          -2.538557521943568,
          2.100020731645149,
          -0.7309540000436948,
          0.6871288068240419,
          -0.028292285608094582,
          0.9182916080767636,
          -1.1949457214256833,
          -1.0222052787895517,
          -1.2514672068784334,
          1.9246498366119915,
          1.4123911331033236,
          -2.322350025852475,
          -0.05664151881160213,
          -1.3779867444667755,
          -1.5498274819787017,
          1.0424787347683493,
          0.3668668769136654,
          0.34794585434742087,
          -0.085468005814318,
          -0.4776892351955959,
          -0.41465365897849416,
          0.036054477415273366,
          -0.20401231462808525,
          1.161933593045215,
          0.2572211399583732,
          -0.41632458709140546,
          0.29579936461538775,
          1.150198739003133,
          -0.8558190523878071,
          0.5808270794162296,
          0.41731649079801186,
          -0.5199105582655607,
          -2.6536129916330564,
          -0.06255168951021686,
          -0.8144212770271861,
          0.383458149641642,
          0.33043639336985287,
          1.3016023329577706,
          0.3533783749387897,
          -0.7015607338711178,
          0.8265510740131821,
          -0.9446908627414659,
          -0.8394308436032527,
          1.1415191740097297,
          -0.9322500161850434,
          0.4453069113668292,
          0.6512042687445224,
          1.3332779351706576,
          0.9311953072551885,
          0.1487293030571078,
          -0.5091459935053668,
          -1.3200135704942564,
          -0.1628574076500507,
          1.051182645365468,
          -1.6572506810120788,
          -0.11636388492189238,
          0.37233883307653604,
          1.7893157472842727,
          -0.3045955172233988,
          1.4008269920829313,
          0.6601985256765023,
          0.7506108391927792,
          -2.342043098724719,
          0.06261592265701701,
          1.5248256573020205,
          -2.052558012593074,
          1.082105581164093,
          1.4130868971484738,
          0.5979348791248525,
          -1.61064676866785,
          -0.714945330445735,
          0.22106443159093367,
          0.3812254917441854
         ]
        },
        {
         "boxpoints": false,
         "line": {
          "width": 1.3
         },
         "marker": {
          "color": "rgba(55, 128, 191, 1.0)"
         },
         "name": "B",
         "orientation": "v",
         "type": "box",
         "y": [
          0.49530524243032753,
          -0.33155284111894245,
          0.3823433216033376,
          0.9086742417323572,
          -0.9406898519372928,
          -0.8483154273799747,
          1.6571589657439307,
          -1.938873260364442,
          0.24490043966031677,
          0.18352639143114957,
          0.9049069442332238,
          0.03157437335473936,
          -0.2977416259693257,
          -1.8732813079088602,
          0.17078376111279628,
          -0.8810607662376312,
          0.2641159821815766,
          -0.012533982640648764,
          -0.9081288971485045,
          -0.9810406405593401,
          -0.9379219216301571,
          0.29968958943973506,
          -1.0119355406104276,
          -0.7816240835348891,
          -0.2837443190188271,
          0.5475878740687695,
          0.4743559307052271,
          -1.210423651310594,
          0.9249605228193762,
          0.3138368128256702,
          -0.09785414678591046,
          -0.7625445904547198,
          -0.1862413274505684,
          -0.3320865504202027,
          -0.8859063878791051,
          0.37679083266045055,
          0.9416492196016312,
          -0.007690460086156482,
          0.2297348916331496,
          -1.8412669166114761,
          1.657077117123675,
          -0.7564363578096798,
          0.659923250433344,
          1.2928900454577736,
          0.9449583129144369,
          -0.17798151351480912,
          0.6489246064349281,
          1.3156893789224975,
          1.2456668799367667,
          -1.080640862986375,
          1.539258854092646,
          -2.565655163178437,
          0.169025045961495,
          0.5999296572081371,
          1.3206214739408846,
          0.5561738385726992,
          -0.3476283799882969,
          -1.1093599651666206,
          0.6135274982162919,
          -1.0407166273927153,
          0.9470732034080648,
          -0.42440506264589123,
          1.3324077616499677,
          -0.6303178536842527,
          -0.5087271349329137,
          1.4278230591076921,
          -0.7303842795602131,
          0.8822983642819051,
          -0.9625648779028388,
          1.366666141526766,
          -0.22461546330143253,
          -0.013347324341547062,
          0.34389365060092164,
          -0.08241598369271212,
          1.1262608158821759,
          -2.014612205802725,
          0.3779595899831078,
          -1.9012238535971318,
          -0.13046129724341862,
          -0.5366218036792957,
          -0.12607265453927644,
          -0.5400340075676425,
          1.462777927141379,
          0.33414458333389485,
          -2.1199296704021457,
          -0.40834563774284355,
          -0.40434317871986625,
          0.9887146043266994,
          0.91164489839338,
          -1.6901142716218078,
          0.45073429879340104,
          -1.0270114127775605,
          0.8129813019936439,
          -1.6497272066853281,
          0.2103360616377157,
          1.4329526295414792,
          -1.581915708301178,
          -0.3759567547149745,
          -0.14636819627345232,
          -0.34260170380114285
         ]
        },
        {
         "boxpoints": false,
         "line": {
          "width": 1.3
         },
         "marker": {
          "color": "rgba(50, 171, 96, 1.0)"
         },
         "name": "C",
         "orientation": "v",
         "type": "box",
         "y": [
          0.12807187542398446,
          -0.3379463377964324,
          1.4633959013920768,
          -0.7738598484728232,
          -1.0506891784607324,
          -1.09518691881857,
          0.044644608263914184,
          -1.9890471028668202,
          -0.4979235596864153,
          -0.4917194995315308,
          0.3723206047024177,
          1.4797020017419786,
          0.5822251097411749,
          0.5690730061828009,
          0.8982496318252999,
          0.17036934960817704,
          -0.3348729005798415,
          -1.6858302901496391,
          -0.09501172767999093,
          -0.7619592055406335,
          -0.32528897590914885,
          0.6038411479342818,
          -0.648527324425865,
          -0.27739186473579414,
          -1.1519450600777303,
          0.35994010301896,
          -1.0047115407190013,
          0.018081751091101536,
          -0.5757856328012967,
          0.39663682494637903,
          1.4596645528499967,
          -1.0962404173890326,
          -2.4598285717737594,
          -0.17083847101992244,
          -0.6761894887970228,
          0.24866589158258182,
          -0.029436222060168354,
          1.4155548765095454,
          -1.3271971507233289,
          1.120612037768788,
          -1.7569662771148205,
          -0.8837976051847442,
          0.7814504711599632,
          -1.1585953557552133,
          0.8296550448227875,
          -1.022371651731951,
          2.6474934379087967,
          -0.1912819262932093,
          -1.9066585577083526,
          -0.3901423136816461,
          -0.3760894204814213,
          0.6152684209827143,
          0.32727873814900565,
          0.41456818164039266,
          -1.0900178944425651,
          0.18417547935634557,
          -0.011093448019438791,
          -1.0297139516709861,
          1.8751686118475495,
          1.441084167812649,
          0.6884012654943377,
          2.2678012801697065,
          2.574679436025041,
          0.9451138305462838,
          -2.4745569767804945,
          1.3778785688946562,
          -1.1319363625136982,
          0.9294825643245276,
          -2.2649043477165414,
          0.18409100590505723,
          -1.0863010954183472,
          1.0165512494366178,
          -0.4926783393127255,
          1.5575130252219136,
          0.42694304228021995,
          -1.5016976988685655,
          1.7556337797231079,
          0.16630108389176115,
          0.2005436626847083,
          -0.5662535692768542,
          0.7000057752049412,
          0.20418566509752173,
          -0.8085208385874586,
          1.3547112958490681,
          0.7484134879484421,
          0.7516113952927546,
          1.0302314724346373,
          -0.6282968589562925,
          0.6241653504657344,
          0.051760190304043205,
          0.07008875643568846,
          -0.6663436136115266,
          -0.16976616290151544,
          -0.9639158937639654,
          1.332975648244094,
          0.15542889576827051,
          -1.0420319739732598,
          -0.4051167484244614,
          0.9892453566514525,
          0.03987956195702824
         ]
        },
        {
         "boxpoints": false,
         "line": {
          "width": 1.3
         },
         "marker": {
          "color": "rgba(128, 0, 128, 1.0)"
         },
         "name": "D",
         "orientation": "v",
         "type": "box",
         "y": [
          -0.04991211993374211,
          -0.12439110703781973,
          0.7101003614182688,
          -0.35398370554287545,
          1.5164722533933743,
          -0.41835023750400413,
          1.5578918472611498,
          -1.0470709111688634,
          -0.21564737040826687,
          0.25162592947540413,
          -0.7905196919300693,
          0.9560849098301893,
          1.4076471419284666,
          -1.2314418596796994,
          0.06572488882951952,
          -0.19774577889226952,
          -0.2591421126525056,
          1.4120511137012324,
          -1.982797453619798,
          -0.7368091611591652,
          -0.8908859816266917,
          0.8493942792511213,
          -0.9343664832323013,
          -0.9386450383133357,
          2.2357034181115303,
          -0.9649586851045795,
          -0.047329575850956734,
          0.1474778487189868,
          0.2842770948925106,
          0.7390626475625436,
          1.9440813080345196,
          0.9362213920110779,
          0.04646899136067646,
          -1.3895335865701155,
          -1.4293090319454262,
          -0.08369349619341691,
          -0.1031727868141034,
          0.4318333905014164,
          1.060558604243418,
          -0.6757995431173397,
          -0.7096132372107928,
          0.10785597274051674,
          -0.16725231627786866,
          0.2771413691585504,
          -0.10731638343080796,
          -1.8451425109836772,
          1.274677229320815,
          0.58717604479936,
          0.061611251382167664,
          -0.6430230342613754,
          -1.4743013694904314,
          -0.9158900645774197,
          -0.954786758280121,
          0.6822081948259144,
          0.34839879704861276,
          -0.04598070960361859,
          -0.3477887295783607,
          0.3424614556936414,
          1.2537422587256064,
          -0.3144636316232511,
          -0.33088166767918203,
          0.24098583691838285,
          -1.8494257216038525,
          -1.303321892877603,
          0.08727993420435855,
          -0.21144392685744304,
          -0.99802670303803,
          -0.582998972099361,
          0.12599760514905586,
          0.33768209228641816,
          0.9832081914713734,
          0.6142968437316982,
          -0.4867280205325363,
          -0.4611200177845175,
          1.0887127777617118,
          0.9745419332751694,
          -0.1944659262355014,
          -0.08836951316997524,
          -0.2280425629868187,
          -1.1624890707556061,
          1.3342967092565288,
          -1.4914465689637137,
          1.4051448495954553,
          0.07991409864922384,
          1.4488475536515766,
          -0.4812499254280882,
          -1.3720939113128368,
          1.6994099505627416,
          -0.48774505776445826,
          -0.458635435852188,
          -1.065294785120887,
          -1.2646413351401742,
          -0.803687099083522,
          -0.47927193126466255,
          -0.4379284085692556,
          0.2669769600358279,
          1.069464782804705,
          0.973077922156685,
          0.973895942338388,
          1.97257060193517
         ]
        }
       ],
       "layout": {
        "legend": {
         "bgcolor": "#F5F6F9",
         "font": {
          "color": "#4D5663"
         }
        },
        "paper_bgcolor": "#F5F6F9",
        "plot_bgcolor": "#F5F6F9",
        "template": {
         "data": {
          "bar": [
           {
            "error_x": {
             "color": "#2a3f5f"
            },
            "error_y": {
             "color": "#2a3f5f"
            },
            "marker": {
             "line": {
              "color": "#E5ECF6",
              "width": 0.5
             },
             "pattern": {
              "fillmode": "overlay",
              "size": 10,
              "solidity": 0.2
             }
            },
            "type": "bar"
           }
          ],
          "barpolar": [
           {
            "marker": {
             "line": {
              "color": "#E5ECF6",
              "width": 0.5
             },
             "pattern": {
              "fillmode": "overlay",
              "size": 10,
              "solidity": 0.2
             }
            },
            "type": "barpolar"
           }
          ],
          "carpet": [
           {
            "aaxis": {
             "endlinecolor": "#2a3f5f",
             "gridcolor": "white",
             "linecolor": "white",
             "minorgridcolor": "white",
             "startlinecolor": "#2a3f5f"
            },
            "baxis": {
             "endlinecolor": "#2a3f5f",
             "gridcolor": "white",
             "linecolor": "white",
             "minorgridcolor": "white",
             "startlinecolor": "#2a3f5f"
            },
            "type": "carpet"
           }
          ],
          "choropleth": [
           {
            "colorbar": {
             "outlinewidth": 0,
             "ticks": ""
            },
            "type": "choropleth"
           }
          ],
          "contour": [
           {
            "colorbar": {
             "outlinewidth": 0,
             "ticks": ""
            },
            "colorscale": [
             [
              0,
              "#0d0887"
             ],
             [
              0.1111111111111111,
              "#46039f"
             ],
             [
              0.2222222222222222,
              "#7201a8"
             ],
             [
              0.3333333333333333,
              "#9c179e"
             ],
             [
              0.4444444444444444,
              "#bd3786"
             ],
             [
              0.5555555555555556,
              "#d8576b"
             ],
             [
              0.6666666666666666,
              "#ed7953"
             ],
             [
              0.7777777777777778,
              "#fb9f3a"
             ],
             [
              0.8888888888888888,
              "#fdca26"
             ],
             [
              1,
              "#f0f921"
             ]
            ],
            "type": "contour"
           }
          ],
          "contourcarpet": [
           {
            "colorbar": {
             "outlinewidth": 0,
             "ticks": ""
            },
            "type": "contourcarpet"
           }
          ],
          "heatmap": [
           {
            "colorbar": {
             "outlinewidth": 0,
             "ticks": ""
            },
            "colorscale": [
             [
              0,
              "#0d0887"
             ],
             [
              0.1111111111111111,
              "#46039f"
             ],
             [
              0.2222222222222222,
              "#7201a8"
             ],
             [
              0.3333333333333333,
              "#9c179e"
             ],
             [
              0.4444444444444444,
              "#bd3786"
             ],
             [
              0.5555555555555556,
              "#d8576b"
             ],
             [
              0.6666666666666666,
              "#ed7953"
             ],
             [
              0.7777777777777778,
              "#fb9f3a"
             ],
             [
              0.8888888888888888,
              "#fdca26"
             ],
             [
              1,
              "#f0f921"
             ]
            ],
            "type": "heatmap"
           }
          ],
          "heatmapgl": [
           {
            "colorbar": {
             "outlinewidth": 0,
             "ticks": ""
            },
            "colorscale": [
             [
              0,
              "#0d0887"
             ],
             [
              0.1111111111111111,
              "#46039f"
             ],
             [
              0.2222222222222222,
              "#7201a8"
             ],
             [
              0.3333333333333333,
              "#9c179e"
             ],
             [
              0.4444444444444444,
              "#bd3786"
             ],
             [
              0.5555555555555556,
              "#d8576b"
             ],
             [
              0.6666666666666666,
              "#ed7953"
             ],
             [
              0.7777777777777778,
              "#fb9f3a"
             ],
             [
              0.8888888888888888,
              "#fdca26"
             ],
             [
              1,
              "#f0f921"
             ]
            ],
            "type": "heatmapgl"
           }
          ],
          "histogram": [
           {
            "marker": {
             "pattern": {
              "fillmode": "overlay",
              "size": 10,
              "solidity": 0.2
             }
            },
            "type": "histogram"
           }
          ],
          "histogram2d": [
           {
            "colorbar": {
             "outlinewidth": 0,
             "ticks": ""
            },
            "colorscale": [
             [
              0,
              "#0d0887"
             ],
             [
              0.1111111111111111,
              "#46039f"
             ],
             [
              0.2222222222222222,
              "#7201a8"
             ],
             [
              0.3333333333333333,
              "#9c179e"
             ],
             [
              0.4444444444444444,
              "#bd3786"
             ],
             [
              0.5555555555555556,
              "#d8576b"
             ],
             [
              0.6666666666666666,
              "#ed7953"
             ],
             [
              0.7777777777777778,
              "#fb9f3a"
             ],
             [
              0.8888888888888888,
              "#fdca26"
             ],
             [
              1,
              "#f0f921"
             ]
            ],
            "type": "histogram2d"
           }
          ],
          "histogram2dcontour": [
           {
            "colorbar": {
             "outlinewidth": 0,
             "ticks": ""
            },
            "colorscale": [
             [
              0,
              "#0d0887"
             ],
             [
              0.1111111111111111,
              "#46039f"
             ],
             [
              0.2222222222222222,
              "#7201a8"
             ],
             [
              0.3333333333333333,
              "#9c179e"
             ],
             [
              0.4444444444444444,
              "#bd3786"
             ],
             [
              0.5555555555555556,
              "#d8576b"
             ],
             [
              0.6666666666666666,
              "#ed7953"
             ],
             [
              0.7777777777777778,
              "#fb9f3a"
             ],
             [
              0.8888888888888888,
              "#fdca26"
             ],
             [
              1,
              "#f0f921"
             ]
            ],
            "type": "histogram2dcontour"
           }
          ],
          "mesh3d": [
           {
            "colorbar": {
             "outlinewidth": 0,
             "ticks": ""
            },
            "type": "mesh3d"
           }
          ],
          "parcoords": [
           {
            "line": {
             "colorbar": {
              "outlinewidth": 0,
              "ticks": ""
             }
            },
            "type": "parcoords"
           }
          ],
          "pie": [
           {
            "automargin": true,
            "type": "pie"
           }
          ],
          "scatter": [
           {
            "marker": {
             "colorbar": {
              "outlinewidth": 0,
              "ticks": ""
             }
            },
            "type": "scatter"
           }
          ],
          "scatter3d": [
           {
            "line": {
             "colorbar": {
              "outlinewidth": 0,
              "ticks": ""
             }
            },
            "marker": {
             "colorbar": {
              "outlinewidth": 0,
              "ticks": ""
             }
            },
            "type": "scatter3d"
           }
          ],
          "scattercarpet": [
           {
            "marker": {
             "colorbar": {
              "outlinewidth": 0,
              "ticks": ""
             }
            },
            "type": "scattercarpet"
           }
          ],
          "scattergeo": [
           {
            "marker": {
             "colorbar": {
              "outlinewidth": 0,
              "ticks": ""
             }
            },
            "type": "scattergeo"
           }
          ],
          "scattergl": [
           {
            "marker": {
             "colorbar": {
              "outlinewidth": 0,
              "ticks": ""
             }
            },
            "type": "scattergl"
           }
          ],
          "scattermapbox": [
           {
            "marker": {
             "colorbar": {
              "outlinewidth": 0,
              "ticks": ""
             }
            },
            "type": "scattermapbox"
           }
          ],
          "scatterpolar": [
           {
            "marker": {
             "colorbar": {
              "outlinewidth": 0,
              "ticks": ""
             }
            },
            "type": "scatterpolar"
           }
          ],
          "scatterpolargl": [
           {
            "marker": {
             "colorbar": {
              "outlinewidth": 0,
              "ticks": ""
             }
            },
            "type": "scatterpolargl"
           }
          ],
          "scatterternary": [
           {
            "marker": {
             "colorbar": {
              "outlinewidth": 0,
              "ticks": ""
             }
            },
            "type": "scatterternary"
           }
          ],
          "surface": [
           {
            "colorbar": {
             "outlinewidth": 0,
             "ticks": ""
            },
            "colorscale": [
             [
              0,
              "#0d0887"
             ],
             [
              0.1111111111111111,
              "#46039f"
             ],
             [
              0.2222222222222222,
              "#7201a8"
             ],
             [
              0.3333333333333333,
              "#9c179e"
             ],
             [
              0.4444444444444444,
              "#bd3786"
             ],
             [
              0.5555555555555556,
              "#d8576b"
             ],
             [
              0.6666666666666666,
              "#ed7953"
             ],
             [
              0.7777777777777778,
              "#fb9f3a"
             ],
             [
              0.8888888888888888,
              "#fdca26"
             ],
             [
              1,
              "#f0f921"
             ]
            ],
            "type": "surface"
           }
          ],
          "table": [
           {
            "cells": {
             "fill": {
              "color": "#EBF0F8"
             },
             "line": {
              "color": "white"
             }
            },
            "header": {
             "fill": {
              "color": "#C8D4E3"
             },
             "line": {
              "color": "white"
             }
            },
            "type": "table"
           }
          ]
         },
         "layout": {
          "annotationdefaults": {
           "arrowcolor": "#2a3f5f",
           "arrowhead": 0,
           "arrowwidth": 1
          },
          "autotypenumbers": "strict",
          "coloraxis": {
           "colorbar": {
            "outlinewidth": 0,
            "ticks": ""
           }
          },
          "colorscale": {
           "diverging": [
            [
             0,
             "#8e0152"
            ],
            [
             0.1,
             "#c51b7d"
            ],
            [
             0.2,
             "#de77ae"
            ],
            [
             0.3,
             "#f1b6da"
            ],
            [
             0.4,
             "#fde0ef"
            ],
            [
             0.5,
             "#f7f7f7"
            ],
            [
             0.6,
             "#e6f5d0"
            ],
            [
             0.7,
             "#b8e186"
            ],
            [
             0.8,
             "#7fbc41"
            ],
            [
             0.9,
             "#4d9221"
            ],
            [
             1,
             "#276419"
            ]
           ],
           "sequential": [
            [
             0,
             "#0d0887"
            ],
            [
             0.1111111111111111,
             "#46039f"
            ],
            [
             0.2222222222222222,
             "#7201a8"
            ],
            [
             0.3333333333333333,
             "#9c179e"
            ],
            [
             0.4444444444444444,
             "#bd3786"
            ],
            [
             0.5555555555555556,
             "#d8576b"
            ],
            [
             0.6666666666666666,
             "#ed7953"
            ],
            [
             0.7777777777777778,
             "#fb9f3a"
            ],
            [
             0.8888888888888888,
             "#fdca26"
            ],
            [
             1,
             "#f0f921"
            ]
           ],
           "sequentialminus": [
            [
             0,
             "#0d0887"
            ],
            [
             0.1111111111111111,
             "#46039f"
            ],
            [
             0.2222222222222222,
             "#7201a8"
            ],
            [
             0.3333333333333333,
             "#9c179e"
            ],
            [
             0.4444444444444444,
             "#bd3786"
            ],
            [
             0.5555555555555556,
             "#d8576b"
            ],
            [
             0.6666666666666666,
             "#ed7953"
            ],
            [
             0.7777777777777778,
             "#fb9f3a"
            ],
            [
             0.8888888888888888,
             "#fdca26"
            ],
            [
             1,
             "#f0f921"
            ]
           ]
          },
          "colorway": [
           "#636efa",
           "#EF553B",
           "#00cc96",
           "#ab63fa",
           "#FFA15A",
           "#19d3f3",
           "#FF6692",
           "#B6E880",
           "#FF97FF",
           "#FECB52"
          ],
          "font": {
           "color": "#2a3f5f"
          },
          "geo": {
           "bgcolor": "white",
           "lakecolor": "white",
           "landcolor": "#E5ECF6",
           "showlakes": true,
           "showland": true,
           "subunitcolor": "white"
          },
          "hoverlabel": {
           "align": "left"
          },
          "hovermode": "closest",
          "mapbox": {
           "style": "light"
          },
          "paper_bgcolor": "white",
          "plot_bgcolor": "#E5ECF6",
          "polar": {
           "angularaxis": {
            "gridcolor": "white",
            "linecolor": "white",
            "ticks": ""
           },
           "bgcolor": "#E5ECF6",
           "radialaxis": {
            "gridcolor": "white",
            "linecolor": "white",
            "ticks": ""
           }
          },
          "scene": {
           "xaxis": {
            "backgroundcolor": "#E5ECF6",
            "gridcolor": "white",
            "gridwidth": 2,
            "linecolor": "white",
            "showbackground": true,
            "ticks": "",
            "zerolinecolor": "white"
           },
           "yaxis": {
            "backgroundcolor": "#E5ECF6",
            "gridcolor": "white",
            "gridwidth": 2,
            "linecolor": "white",
            "showbackground": true,
            "ticks": "",
            "zerolinecolor": "white"
           },
           "zaxis": {
            "backgroundcolor": "#E5ECF6",
            "gridcolor": "white",
            "gridwidth": 2,
            "linecolor": "white",
            "showbackground": true,
            "ticks": "",
            "zerolinecolor": "white"
           }
          },
          "shapedefaults": {
           "line": {
            "color": "#2a3f5f"
           }
          },
          "ternary": {
           "aaxis": {
            "gridcolor": "white",
            "linecolor": "white",
            "ticks": ""
           },
           "baxis": {
            "gridcolor": "white",
            "linecolor": "white",
            "ticks": ""
           },
           "bgcolor": "#E5ECF6",
           "caxis": {
            "gridcolor": "white",
            "linecolor": "white",
            "ticks": ""
           }
          },
          "title": {
           "x": 0.05
          },
          "xaxis": {
           "automargin": true,
           "gridcolor": "white",
           "linecolor": "white",
           "ticks": "",
           "title": {
            "standoff": 15
           },
           "zerolinecolor": "white",
           "zerolinewidth": 2
          },
          "yaxis": {
           "automargin": true,
           "gridcolor": "white",
           "linecolor": "white",
           "ticks": "",
           "title": {
            "standoff": 15
           },
           "zerolinecolor": "white",
           "zerolinewidth": 2
          }
         }
        },
        "title": {
         "font": {
          "color": "#4D5663"
         }
        },
        "xaxis": {
         "gridcolor": "#E1E5ED",
         "showgrid": true,
         "tickfont": {
          "color": "#4D5663"
         },
         "title": {
          "font": {
           "color": "#4D5663"
          },
          "text": ""
         },
         "zerolinecolor": "#E1E5ED"
        },
        "yaxis": {
         "gridcolor": "#E1E5ED",
         "showgrid": true,
         "tickfont": {
          "color": "#4D5663"
         },
         "title": {
          "font": {
           "color": "#4D5663"
          },
          "text": ""
         },
         "zerolinecolor": "#E1E5ED"
        }
       }
      },
      "text/html": [
       "<div>                            <div id=\"f43ce435-a455-4b30-b9aa-16b168955dad\" class=\"plotly-graph-div\" style=\"height:525px; width:100%;\"></div>            <script type=\"text/javascript\">                require([\"plotly\"], function(Plotly) {                    window.PLOTLYENV=window.PLOTLYENV || {};\n",
       "                    window.PLOTLYENV.BASE_URL='https://plot.ly';                                    if (document.getElementById(\"f43ce435-a455-4b30-b9aa-16b168955dad\")) {                    Plotly.newPlot(                        \"f43ce435-a455-4b30-b9aa-16b168955dad\",                        [{\"boxpoints\":false,\"line\":{\"width\":1.3},\"marker\":{\"color\":\"rgba(255, 153, 51, 1.0)\"},\"name\":\"A\",\"orientation\":\"v\",\"type\":\"box\",\"y\":[-1.0206472791320926,0.051856060673617886,0.9647955540467175,-0.04575644997517332,0.5698958108657399,-0.2771160176114073,0.6743782176988691,1.1334862342367846,0.8310518336563363,0.8478826680455306,2.1049439394759686,2.3467568101723724,0.471647951479405,-1.2913115835715805,-0.654693311813495,0.24421849479729904,0.09926206507316876,0.27347604364371714,0.6654321688845871,1.5441310592053583,0.4888350095325806,0.85642862115761,1.1995385573927553,0.4503558668432003,-0.9454681741341744,0.701552165824799,0.633064354844197,-2.538557521943568,2.100020731645149,-0.7309540000436948,0.6871288068240419,-0.028292285608094582,0.9182916080767636,-1.1949457214256833,-1.0222052787895517,-1.2514672068784334,1.9246498366119915,1.4123911331033236,-2.322350025852475,-0.05664151881160213,-1.3779867444667755,-1.5498274819787017,1.0424787347683493,0.3668668769136654,0.34794585434742087,-0.085468005814318,-0.4776892351955959,-0.41465365897849416,0.036054477415273366,-0.20401231462808525,1.161933593045215,0.2572211399583732,-0.41632458709140546,0.29579936461538775,1.150198739003133,-0.8558190523878071,0.5808270794162296,0.41731649079801186,-0.5199105582655607,-2.6536129916330564,-0.06255168951021686,-0.8144212770271861,0.383458149641642,0.33043639336985287,1.3016023329577706,0.3533783749387897,-0.7015607338711178,0.8265510740131821,-0.9446908627414659,-0.8394308436032527,1.1415191740097297,-0.9322500161850434,0.4453069113668292,0.6512042687445224,1.3332779351706576,0.9311953072551885,0.1487293030571078,-0.5091459935053668,-1.3200135704942564,-0.1628574076500507,1.051182645365468,-1.6572506810120788,-0.11636388492189238,0.37233883307653604,1.7893157472842727,-0.3045955172233988,1.4008269920829313,0.6601985256765023,0.7506108391927792,-2.342043098724719,0.06261592265701701,1.5248256573020205,-2.052558012593074,1.082105581164093,1.4130868971484738,0.5979348791248525,-1.61064676866785,-0.714945330445735,0.22106443159093367,0.3812254917441854]},{\"boxpoints\":false,\"line\":{\"width\":1.3},\"marker\":{\"color\":\"rgba(55, 128, 191, 1.0)\"},\"name\":\"B\",\"orientation\":\"v\",\"type\":\"box\",\"y\":[0.49530524243032753,-0.33155284111894245,0.3823433216033376,0.9086742417323572,-0.9406898519372928,-0.8483154273799747,1.6571589657439307,-1.938873260364442,0.24490043966031677,0.18352639143114957,0.9049069442332238,0.03157437335473936,-0.2977416259693257,-1.8732813079088602,0.17078376111279628,-0.8810607662376312,0.2641159821815766,-0.012533982640648764,-0.9081288971485045,-0.9810406405593401,-0.9379219216301571,0.29968958943973506,-1.0119355406104276,-0.7816240835348891,-0.2837443190188271,0.5475878740687695,0.4743559307052271,-1.210423651310594,0.9249605228193762,0.3138368128256702,-0.09785414678591046,-0.7625445904547198,-0.1862413274505684,-0.3320865504202027,-0.8859063878791051,0.37679083266045055,0.9416492196016312,-0.007690460086156482,0.2297348916331496,-1.8412669166114761,1.657077117123675,-0.7564363578096798,0.659923250433344,1.2928900454577736,0.9449583129144369,-0.17798151351480912,0.6489246064349281,1.3156893789224975,1.2456668799367667,-1.080640862986375,1.539258854092646,-2.565655163178437,0.169025045961495,0.5999296572081371,1.3206214739408846,0.5561738385726992,-0.3476283799882969,-1.1093599651666206,0.6135274982162919,-1.0407166273927153,0.9470732034080648,-0.42440506264589123,1.3324077616499677,-0.6303178536842527,-0.5087271349329137,1.4278230591076921,-0.7303842795602131,0.8822983642819051,-0.9625648779028388,1.366666141526766,-0.22461546330143253,-0.013347324341547062,0.34389365060092164,-0.08241598369271212,1.1262608158821759,-2.014612205802725,0.3779595899831078,-1.9012238535971318,-0.13046129724341862,-0.5366218036792957,-0.12607265453927644,-0.5400340075676425,1.462777927141379,0.33414458333389485,-2.1199296704021457,-0.40834563774284355,-0.40434317871986625,0.9887146043266994,0.91164489839338,-1.6901142716218078,0.45073429879340104,-1.0270114127775605,0.8129813019936439,-1.6497272066853281,0.2103360616377157,1.4329526295414792,-1.581915708301178,-0.3759567547149745,-0.14636819627345232,-0.34260170380114285]},{\"boxpoints\":false,\"line\":{\"width\":1.3},\"marker\":{\"color\":\"rgba(50, 171, 96, 1.0)\"},\"name\":\"C\",\"orientation\":\"v\",\"type\":\"box\",\"y\":[0.12807187542398446,-0.3379463377964324,1.4633959013920768,-0.7738598484728232,-1.0506891784607324,-1.09518691881857,0.044644608263914184,-1.9890471028668202,-0.4979235596864153,-0.4917194995315308,0.3723206047024177,1.4797020017419786,0.5822251097411749,0.5690730061828009,0.8982496318252999,0.17036934960817704,-0.3348729005798415,-1.6858302901496391,-0.09501172767999093,-0.7619592055406335,-0.32528897590914885,0.6038411479342818,-0.648527324425865,-0.27739186473579414,-1.1519450600777303,0.35994010301896,-1.0047115407190013,0.018081751091101536,-0.5757856328012967,0.39663682494637903,1.4596645528499967,-1.0962404173890326,-2.4598285717737594,-0.17083847101992244,-0.6761894887970228,0.24866589158258182,-0.029436222060168354,1.4155548765095454,-1.3271971507233289,1.120612037768788,-1.7569662771148205,-0.8837976051847442,0.7814504711599632,-1.1585953557552133,0.8296550448227875,-1.022371651731951,2.6474934379087967,-0.1912819262932093,-1.9066585577083526,-0.3901423136816461,-0.3760894204814213,0.6152684209827143,0.32727873814900565,0.41456818164039266,-1.0900178944425651,0.18417547935634557,-0.011093448019438791,-1.0297139516709861,1.8751686118475495,1.441084167812649,0.6884012654943377,2.2678012801697065,2.574679436025041,0.9451138305462838,-2.4745569767804945,1.3778785688946562,-1.1319363625136982,0.9294825643245276,-2.2649043477165414,0.18409100590505723,-1.0863010954183472,1.0165512494366178,-0.4926783393127255,1.5575130252219136,0.42694304228021995,-1.5016976988685655,1.7556337797231079,0.16630108389176115,0.2005436626847083,-0.5662535692768542,0.7000057752049412,0.20418566509752173,-0.8085208385874586,1.3547112958490681,0.7484134879484421,0.7516113952927546,1.0302314724346373,-0.6282968589562925,0.6241653504657344,0.051760190304043205,0.07008875643568846,-0.6663436136115266,-0.16976616290151544,-0.9639158937639654,1.332975648244094,0.15542889576827051,-1.0420319739732598,-0.4051167484244614,0.9892453566514525,0.03987956195702824]},{\"boxpoints\":false,\"line\":{\"width\":1.3},\"marker\":{\"color\":\"rgba(128, 0, 128, 1.0)\"},\"name\":\"D\",\"orientation\":\"v\",\"type\":\"box\",\"y\":[-0.04991211993374211,-0.12439110703781973,0.7101003614182688,-0.35398370554287545,1.5164722533933743,-0.41835023750400413,1.5578918472611498,-1.0470709111688634,-0.21564737040826687,0.25162592947540413,-0.7905196919300693,0.9560849098301893,1.4076471419284666,-1.2314418596796994,0.06572488882951952,-0.19774577889226952,-0.2591421126525056,1.4120511137012324,-1.982797453619798,-0.7368091611591652,-0.8908859816266917,0.8493942792511213,-0.9343664832323013,-0.9386450383133357,2.2357034181115303,-0.9649586851045795,-0.047329575850956734,0.1474778487189868,0.2842770948925106,0.7390626475625436,1.9440813080345196,0.9362213920110779,0.04646899136067646,-1.3895335865701155,-1.4293090319454262,-0.08369349619341691,-0.1031727868141034,0.4318333905014164,1.060558604243418,-0.6757995431173397,-0.7096132372107928,0.10785597274051674,-0.16725231627786866,0.2771413691585504,-0.10731638343080796,-1.8451425109836772,1.274677229320815,0.58717604479936,0.061611251382167664,-0.6430230342613754,-1.4743013694904314,-0.9158900645774197,-0.954786758280121,0.6822081948259144,0.34839879704861276,-0.04598070960361859,-0.3477887295783607,0.3424614556936414,1.2537422587256064,-0.3144636316232511,-0.33088166767918203,0.24098583691838285,-1.8494257216038525,-1.303321892877603,0.08727993420435855,-0.21144392685744304,-0.99802670303803,-0.582998972099361,0.12599760514905586,0.33768209228641816,0.9832081914713734,0.6142968437316982,-0.4867280205325363,-0.4611200177845175,1.0887127777617118,0.9745419332751694,-0.1944659262355014,-0.08836951316997524,-0.2280425629868187,-1.1624890707556061,1.3342967092565288,-1.4914465689637137,1.4051448495954553,0.07991409864922384,1.4488475536515766,-0.4812499254280882,-1.3720939113128368,1.6994099505627416,-0.48774505776445826,-0.458635435852188,-1.065294785120887,-1.2646413351401742,-0.803687099083522,-0.47927193126466255,-0.4379284085692556,0.2669769600358279,1.069464782804705,0.973077922156685,0.973895942338388,1.97257060193517]}],                        {\"legend\":{\"bgcolor\":\"#F5F6F9\",\"font\":{\"color\":\"#4D5663\"}},\"paper_bgcolor\":\"#F5F6F9\",\"plot_bgcolor\":\"#F5F6F9\",\"template\":{\"data\":{\"bar\":[{\"error_x\":{\"color\":\"#2a3f5f\"},\"error_y\":{\"color\":\"#2a3f5f\"},\"marker\":{\"line\":{\"color\":\"#E5ECF6\",\"width\":0.5},\"pattern\":{\"fillmode\":\"overlay\",\"size\":10,\"solidity\":0.2}},\"type\":\"bar\"}],\"barpolar\":[{\"marker\":{\"line\":{\"color\":\"#E5ECF6\",\"width\":0.5},\"pattern\":{\"fillmode\":\"overlay\",\"size\":10,\"solidity\":0.2}},\"type\":\"barpolar\"}],\"carpet\":[{\"aaxis\":{\"endlinecolor\":\"#2a3f5f\",\"gridcolor\":\"white\",\"linecolor\":\"white\",\"minorgridcolor\":\"white\",\"startlinecolor\":\"#2a3f5f\"},\"baxis\":{\"endlinecolor\":\"#2a3f5f\",\"gridcolor\":\"white\",\"linecolor\":\"white\",\"minorgridcolor\":\"white\",\"startlinecolor\":\"#2a3f5f\"},\"type\":\"carpet\"}],\"choropleth\":[{\"colorbar\":{\"outlinewidth\":0,\"ticks\":\"\"},\"type\":\"choropleth\"}],\"contour\":[{\"colorbar\":{\"outlinewidth\":0,\"ticks\":\"\"},\"colorscale\":[[0.0,\"#0d0887\"],[0.1111111111111111,\"#46039f\"],[0.2222222222222222,\"#7201a8\"],[0.3333333333333333,\"#9c179e\"],[0.4444444444444444,\"#bd3786\"],[0.5555555555555556,\"#d8576b\"],[0.6666666666666666,\"#ed7953\"],[0.7777777777777778,\"#fb9f3a\"],[0.8888888888888888,\"#fdca26\"],[1.0,\"#f0f921\"]],\"type\":\"contour\"}],\"contourcarpet\":[{\"colorbar\":{\"outlinewidth\":0,\"ticks\":\"\"},\"type\":\"contourcarpet\"}],\"heatmap\":[{\"colorbar\":{\"outlinewidth\":0,\"ticks\":\"\"},\"colorscale\":[[0.0,\"#0d0887\"],[0.1111111111111111,\"#46039f\"],[0.2222222222222222,\"#7201a8\"],[0.3333333333333333,\"#9c179e\"],[0.4444444444444444,\"#bd3786\"],[0.5555555555555556,\"#d8576b\"],[0.6666666666666666,\"#ed7953\"],[0.7777777777777778,\"#fb9f3a\"],[0.8888888888888888,\"#fdca26\"],[1.0,\"#f0f921\"]],\"type\":\"heatmap\"}],\"heatmapgl\":[{\"colorbar\":{\"outlinewidth\":0,\"ticks\":\"\"},\"colorscale\":[[0.0,\"#0d0887\"],[0.1111111111111111,\"#46039f\"],[0.2222222222222222,\"#7201a8\"],[0.3333333333333333,\"#9c179e\"],[0.4444444444444444,\"#bd3786\"],[0.5555555555555556,\"#d8576b\"],[0.6666666666666666,\"#ed7953\"],[0.7777777777777778,\"#fb9f3a\"],[0.8888888888888888,\"#fdca26\"],[1.0,\"#f0f921\"]],\"type\":\"heatmapgl\"}],\"histogram\":[{\"marker\":{\"pattern\":{\"fillmode\":\"overlay\",\"size\":10,\"solidity\":0.2}},\"type\":\"histogram\"}],\"histogram2d\":[{\"colorbar\":{\"outlinewidth\":0,\"ticks\":\"\"},\"colorscale\":[[0.0,\"#0d0887\"],[0.1111111111111111,\"#46039f\"],[0.2222222222222222,\"#7201a8\"],[0.3333333333333333,\"#9c179e\"],[0.4444444444444444,\"#bd3786\"],[0.5555555555555556,\"#d8576b\"],[0.6666666666666666,\"#ed7953\"],[0.7777777777777778,\"#fb9f3a\"],[0.8888888888888888,\"#fdca26\"],[1.0,\"#f0f921\"]],\"type\":\"histogram2d\"}],\"histogram2dcontour\":[{\"colorbar\":{\"outlinewidth\":0,\"ticks\":\"\"},\"colorscale\":[[0.0,\"#0d0887\"],[0.1111111111111111,\"#46039f\"],[0.2222222222222222,\"#7201a8\"],[0.3333333333333333,\"#9c179e\"],[0.4444444444444444,\"#bd3786\"],[0.5555555555555556,\"#d8576b\"],[0.6666666666666666,\"#ed7953\"],[0.7777777777777778,\"#fb9f3a\"],[0.8888888888888888,\"#fdca26\"],[1.0,\"#f0f921\"]],\"type\":\"histogram2dcontour\"}],\"mesh3d\":[{\"colorbar\":{\"outlinewidth\":0,\"ticks\":\"\"},\"type\":\"mesh3d\"}],\"parcoords\":[{\"line\":{\"colorbar\":{\"outlinewidth\":0,\"ticks\":\"\"}},\"type\":\"parcoords\"}],\"pie\":[{\"automargin\":true,\"type\":\"pie\"}],\"scatter\":[{\"marker\":{\"colorbar\":{\"outlinewidth\":0,\"ticks\":\"\"}},\"type\":\"scatter\"}],\"scatter3d\":[{\"line\":{\"colorbar\":{\"outlinewidth\":0,\"ticks\":\"\"}},\"marker\":{\"colorbar\":{\"outlinewidth\":0,\"ticks\":\"\"}},\"type\":\"scatter3d\"}],\"scattercarpet\":[{\"marker\":{\"colorbar\":{\"outlinewidth\":0,\"ticks\":\"\"}},\"type\":\"scattercarpet\"}],\"scattergeo\":[{\"marker\":{\"colorbar\":{\"outlinewidth\":0,\"ticks\":\"\"}},\"type\":\"scattergeo\"}],\"scattergl\":[{\"marker\":{\"colorbar\":{\"outlinewidth\":0,\"ticks\":\"\"}},\"type\":\"scattergl\"}],\"scattermapbox\":[{\"marker\":{\"colorbar\":{\"outlinewidth\":0,\"ticks\":\"\"}},\"type\":\"scattermapbox\"}],\"scatterpolar\":[{\"marker\":{\"colorbar\":{\"outlinewidth\":0,\"ticks\":\"\"}},\"type\":\"scatterpolar\"}],\"scatterpolargl\":[{\"marker\":{\"colorbar\":{\"outlinewidth\":0,\"ticks\":\"\"}},\"type\":\"scatterpolargl\"}],\"scatterternary\":[{\"marker\":{\"colorbar\":{\"outlinewidth\":0,\"ticks\":\"\"}},\"type\":\"scatterternary\"}],\"surface\":[{\"colorbar\":{\"outlinewidth\":0,\"ticks\":\"\"},\"colorscale\":[[0.0,\"#0d0887\"],[0.1111111111111111,\"#46039f\"],[0.2222222222222222,\"#7201a8\"],[0.3333333333333333,\"#9c179e\"],[0.4444444444444444,\"#bd3786\"],[0.5555555555555556,\"#d8576b\"],[0.6666666666666666,\"#ed7953\"],[0.7777777777777778,\"#fb9f3a\"],[0.8888888888888888,\"#fdca26\"],[1.0,\"#f0f921\"]],\"type\":\"surface\"}],\"table\":[{\"cells\":{\"fill\":{\"color\":\"#EBF0F8\"},\"line\":{\"color\":\"white\"}},\"header\":{\"fill\":{\"color\":\"#C8D4E3\"},\"line\":{\"color\":\"white\"}},\"type\":\"table\"}]},\"layout\":{\"annotationdefaults\":{\"arrowcolor\":\"#2a3f5f\",\"arrowhead\":0,\"arrowwidth\":1},\"autotypenumbers\":\"strict\",\"coloraxis\":{\"colorbar\":{\"outlinewidth\":0,\"ticks\":\"\"}},\"colorscale\":{\"diverging\":[[0,\"#8e0152\"],[0.1,\"#c51b7d\"],[0.2,\"#de77ae\"],[0.3,\"#f1b6da\"],[0.4,\"#fde0ef\"],[0.5,\"#f7f7f7\"],[0.6,\"#e6f5d0\"],[0.7,\"#b8e186\"],[0.8,\"#7fbc41\"],[0.9,\"#4d9221\"],[1,\"#276419\"]],\"sequential\":[[0.0,\"#0d0887\"],[0.1111111111111111,\"#46039f\"],[0.2222222222222222,\"#7201a8\"],[0.3333333333333333,\"#9c179e\"],[0.4444444444444444,\"#bd3786\"],[0.5555555555555556,\"#d8576b\"],[0.6666666666666666,\"#ed7953\"],[0.7777777777777778,\"#fb9f3a\"],[0.8888888888888888,\"#fdca26\"],[1.0,\"#f0f921\"]],\"sequentialminus\":[[0.0,\"#0d0887\"],[0.1111111111111111,\"#46039f\"],[0.2222222222222222,\"#7201a8\"],[0.3333333333333333,\"#9c179e\"],[0.4444444444444444,\"#bd3786\"],[0.5555555555555556,\"#d8576b\"],[0.6666666666666666,\"#ed7953\"],[0.7777777777777778,\"#fb9f3a\"],[0.8888888888888888,\"#fdca26\"],[1.0,\"#f0f921\"]]},\"colorway\":[\"#636efa\",\"#EF553B\",\"#00cc96\",\"#ab63fa\",\"#FFA15A\",\"#19d3f3\",\"#FF6692\",\"#B6E880\",\"#FF97FF\",\"#FECB52\"],\"font\":{\"color\":\"#2a3f5f\"},\"geo\":{\"bgcolor\":\"white\",\"lakecolor\":\"white\",\"landcolor\":\"#E5ECF6\",\"showlakes\":true,\"showland\":true,\"subunitcolor\":\"white\"},\"hoverlabel\":{\"align\":\"left\"},\"hovermode\":\"closest\",\"mapbox\":{\"style\":\"light\"},\"paper_bgcolor\":\"white\",\"plot_bgcolor\":\"#E5ECF6\",\"polar\":{\"angularaxis\":{\"gridcolor\":\"white\",\"linecolor\":\"white\",\"ticks\":\"\"},\"bgcolor\":\"#E5ECF6\",\"radialaxis\":{\"gridcolor\":\"white\",\"linecolor\":\"white\",\"ticks\":\"\"}},\"scene\":{\"xaxis\":{\"backgroundcolor\":\"#E5ECF6\",\"gridcolor\":\"white\",\"gridwidth\":2,\"linecolor\":\"white\",\"showbackground\":true,\"ticks\":\"\",\"zerolinecolor\":\"white\"},\"yaxis\":{\"backgroundcolor\":\"#E5ECF6\",\"gridcolor\":\"white\",\"gridwidth\":2,\"linecolor\":\"white\",\"showbackground\":true,\"ticks\":\"\",\"zerolinecolor\":\"white\"},\"zaxis\":{\"backgroundcolor\":\"#E5ECF6\",\"gridcolor\":\"white\",\"gridwidth\":2,\"linecolor\":\"white\",\"showbackground\":true,\"ticks\":\"\",\"zerolinecolor\":\"white\"}},\"shapedefaults\":{\"line\":{\"color\":\"#2a3f5f\"}},\"ternary\":{\"aaxis\":{\"gridcolor\":\"white\",\"linecolor\":\"white\",\"ticks\":\"\"},\"baxis\":{\"gridcolor\":\"white\",\"linecolor\":\"white\",\"ticks\":\"\"},\"bgcolor\":\"#E5ECF6\",\"caxis\":{\"gridcolor\":\"white\",\"linecolor\":\"white\",\"ticks\":\"\"}},\"title\":{\"x\":0.05},\"xaxis\":{\"automargin\":true,\"gridcolor\":\"white\",\"linecolor\":\"white\",\"ticks\":\"\",\"title\":{\"standoff\":15},\"zerolinecolor\":\"white\",\"zerolinewidth\":2},\"yaxis\":{\"automargin\":true,\"gridcolor\":\"white\",\"linecolor\":\"white\",\"ticks\":\"\",\"title\":{\"standoff\":15},\"zerolinecolor\":\"white\",\"zerolinewidth\":2}}},\"title\":{\"font\":{\"color\":\"#4D5663\"}},\"xaxis\":{\"gridcolor\":\"#E1E5ED\",\"showgrid\":true,\"tickfont\":{\"color\":\"#4D5663\"},\"title\":{\"font\":{\"color\":\"#4D5663\"},\"text\":\"\"},\"zerolinecolor\":\"#E1E5ED\"},\"yaxis\":{\"gridcolor\":\"#E1E5ED\",\"showgrid\":true,\"tickfont\":{\"color\":\"#4D5663\"},\"title\":{\"font\":{\"color\":\"#4D5663\"},\"text\":\"\"},\"zerolinecolor\":\"#E1E5ED\"}},                        {\"showLink\": true, \"linkText\": \"Export to plot.ly\", \"plotlyServerURL\": \"https://plot.ly\", \"responsive\": true}                    ).then(function(){\n",
       "                            \n",
       "var gd = document.getElementById('f43ce435-a455-4b30-b9aa-16b168955dad');\n",
       "var x = new MutationObserver(function (mutations, observer) {{\n",
       "        var display = window.getComputedStyle(gd).display;\n",
       "        if (!display || display === 'none') {{\n",
       "            console.log([gd, 'removed!']);\n",
       "            Plotly.purge(gd);\n",
       "            observer.disconnect();\n",
       "        }}\n",
       "}});\n",
       "\n",
       "// Listen for the removal of the full notebook cells\n",
       "var notebookContainer = gd.closest('#notebook-container');\n",
       "if (notebookContainer) {{\n",
       "    x.observe(notebookContainer, {childList: true});\n",
       "}}\n",
       "\n",
       "// Listen for the clearing of the current output cell\n",
       "var outputEl = gd.closest('.output');\n",
       "if (outputEl) {{\n",
       "    x.observe(outputEl, {childList: true});\n",
       "}}\n",
       "\n",
       "                        })                };                });            </script>        </div>"
      ]
     },
     "metadata": {},
     "output_type": "display_data"
    }
   ],
   "source": [
    "df.iplot(kind='box')"
   ]
  },
  {
   "cell_type": "markdown",
   "metadata": {},
   "source": [
    "## Superficie 3D"
   ]
  },
  {
   "cell_type": "code",
   "execution_count": 21,
   "metadata": {},
   "outputs": [
    {
     "data": {
      "application/vnd.plotly.v1+json": {
       "config": {
        "linkText": "Export to plot.ly",
        "plotlyServerURL": "https://plot.ly",
        "showLink": true
       },
       "data": [
        {
         "colorscale": [
          [
           0,
           "rgb(165,0,38)"
          ],
          [
           0.1,
           "rgb(215,48,39)"
          ],
          [
           0.2,
           "rgb(244,109,67)"
          ],
          [
           0.3,
           "rgb(253,174,97)"
          ],
          [
           0.4,
           "rgb(254,224,144)"
          ],
          [
           0.5,
           "rgb(255,255,191)"
          ],
          [
           0.6,
           "rgb(224,243,248)"
          ],
          [
           0.7,
           "rgb(171,217,233)"
          ],
          [
           0.8,
           "rgb(116,173,209)"
          ],
          [
           0.9,
           "rgb(69,117,180)"
          ],
          [
           1,
           "rgb(49,54,149)"
          ]
         ],
         "type": "surface",
         "x": [
          0,
          1,
          2,
          3,
          4
         ],
         "y": [
          "x",
          "y",
          "z"
         ],
         "z": [
          [
           1,
           2,
           3,
           4,
           5
          ],
          [
           10,
           20,
           30,
           20,
           10
          ],
          [
           5,
           4,
           3,
           2,
           1
          ]
         ]
        }
       ],
       "layout": {
        "legend": {
         "bgcolor": "#F5F6F9",
         "font": {
          "color": "#4D5663"
         }
        },
        "paper_bgcolor": "#F5F6F9",
        "plot_bgcolor": "#F5F6F9",
        "template": {
         "data": {
          "bar": [
           {
            "error_x": {
             "color": "#2a3f5f"
            },
            "error_y": {
             "color": "#2a3f5f"
            },
            "marker": {
             "line": {
              "color": "#E5ECF6",
              "width": 0.5
             },
             "pattern": {
              "fillmode": "overlay",
              "size": 10,
              "solidity": 0.2
             }
            },
            "type": "bar"
           }
          ],
          "barpolar": [
           {
            "marker": {
             "line": {
              "color": "#E5ECF6",
              "width": 0.5
             },
             "pattern": {
              "fillmode": "overlay",
              "size": 10,
              "solidity": 0.2
             }
            },
            "type": "barpolar"
           }
          ],
          "carpet": [
           {
            "aaxis": {
             "endlinecolor": "#2a3f5f",
             "gridcolor": "white",
             "linecolor": "white",
             "minorgridcolor": "white",
             "startlinecolor": "#2a3f5f"
            },
            "baxis": {
             "endlinecolor": "#2a3f5f",
             "gridcolor": "white",
             "linecolor": "white",
             "minorgridcolor": "white",
             "startlinecolor": "#2a3f5f"
            },
            "type": "carpet"
           }
          ],
          "choropleth": [
           {
            "colorbar": {
             "outlinewidth": 0,
             "ticks": ""
            },
            "type": "choropleth"
           }
          ],
          "contour": [
           {
            "colorbar": {
             "outlinewidth": 0,
             "ticks": ""
            },
            "colorscale": [
             [
              0,
              "#0d0887"
             ],
             [
              0.1111111111111111,
              "#46039f"
             ],
             [
              0.2222222222222222,
              "#7201a8"
             ],
             [
              0.3333333333333333,
              "#9c179e"
             ],
             [
              0.4444444444444444,
              "#bd3786"
             ],
             [
              0.5555555555555556,
              "#d8576b"
             ],
             [
              0.6666666666666666,
              "#ed7953"
             ],
             [
              0.7777777777777778,
              "#fb9f3a"
             ],
             [
              0.8888888888888888,
              "#fdca26"
             ],
             [
              1,
              "#f0f921"
             ]
            ],
            "type": "contour"
           }
          ],
          "contourcarpet": [
           {
            "colorbar": {
             "outlinewidth": 0,
             "ticks": ""
            },
            "type": "contourcarpet"
           }
          ],
          "heatmap": [
           {
            "colorbar": {
             "outlinewidth": 0,
             "ticks": ""
            },
            "colorscale": [
             [
              0,
              "#0d0887"
             ],
             [
              0.1111111111111111,
              "#46039f"
             ],
             [
              0.2222222222222222,
              "#7201a8"
             ],
             [
              0.3333333333333333,
              "#9c179e"
             ],
             [
              0.4444444444444444,
              "#bd3786"
             ],
             [
              0.5555555555555556,
              "#d8576b"
             ],
             [
              0.6666666666666666,
              "#ed7953"
             ],
             [
              0.7777777777777778,
              "#fb9f3a"
             ],
             [
              0.8888888888888888,
              "#fdca26"
             ],
             [
              1,
              "#f0f921"
             ]
            ],
            "type": "heatmap"
           }
          ],
          "heatmapgl": [
           {
            "colorbar": {
             "outlinewidth": 0,
             "ticks": ""
            },
            "colorscale": [
             [
              0,
              "#0d0887"
             ],
             [
              0.1111111111111111,
              "#46039f"
             ],
             [
              0.2222222222222222,
              "#7201a8"
             ],
             [
              0.3333333333333333,
              "#9c179e"
             ],
             [
              0.4444444444444444,
              "#bd3786"
             ],
             [
              0.5555555555555556,
              "#d8576b"
             ],
             [
              0.6666666666666666,
              "#ed7953"
             ],
             [
              0.7777777777777778,
              "#fb9f3a"
             ],
             [
              0.8888888888888888,
              "#fdca26"
             ],
             [
              1,
              "#f0f921"
             ]
            ],
            "type": "heatmapgl"
           }
          ],
          "histogram": [
           {
            "marker": {
             "pattern": {
              "fillmode": "overlay",
              "size": 10,
              "solidity": 0.2
             }
            },
            "type": "histogram"
           }
          ],
          "histogram2d": [
           {
            "colorbar": {
             "outlinewidth": 0,
             "ticks": ""
            },
            "colorscale": [
             [
              0,
              "#0d0887"
             ],
             [
              0.1111111111111111,
              "#46039f"
             ],
             [
              0.2222222222222222,
              "#7201a8"
             ],
             [
              0.3333333333333333,
              "#9c179e"
             ],
             [
              0.4444444444444444,
              "#bd3786"
             ],
             [
              0.5555555555555556,
              "#d8576b"
             ],
             [
              0.6666666666666666,
              "#ed7953"
             ],
             [
              0.7777777777777778,
              "#fb9f3a"
             ],
             [
              0.8888888888888888,
              "#fdca26"
             ],
             [
              1,
              "#f0f921"
             ]
            ],
            "type": "histogram2d"
           }
          ],
          "histogram2dcontour": [
           {
            "colorbar": {
             "outlinewidth": 0,
             "ticks": ""
            },
            "colorscale": [
             [
              0,
              "#0d0887"
             ],
             [
              0.1111111111111111,
              "#46039f"
             ],
             [
              0.2222222222222222,
              "#7201a8"
             ],
             [
              0.3333333333333333,
              "#9c179e"
             ],
             [
              0.4444444444444444,
              "#bd3786"
             ],
             [
              0.5555555555555556,
              "#d8576b"
             ],
             [
              0.6666666666666666,
              "#ed7953"
             ],
             [
              0.7777777777777778,
              "#fb9f3a"
             ],
             [
              0.8888888888888888,
              "#fdca26"
             ],
             [
              1,
              "#f0f921"
             ]
            ],
            "type": "histogram2dcontour"
           }
          ],
          "mesh3d": [
           {
            "colorbar": {
             "outlinewidth": 0,
             "ticks": ""
            },
            "type": "mesh3d"
           }
          ],
          "parcoords": [
           {
            "line": {
             "colorbar": {
              "outlinewidth": 0,
              "ticks": ""
             }
            },
            "type": "parcoords"
           }
          ],
          "pie": [
           {
            "automargin": true,
            "type": "pie"
           }
          ],
          "scatter": [
           {
            "marker": {
             "colorbar": {
              "outlinewidth": 0,
              "ticks": ""
             }
            },
            "type": "scatter"
           }
          ],
          "scatter3d": [
           {
            "line": {
             "colorbar": {
              "outlinewidth": 0,
              "ticks": ""
             }
            },
            "marker": {
             "colorbar": {
              "outlinewidth": 0,
              "ticks": ""
             }
            },
            "type": "scatter3d"
           }
          ],
          "scattercarpet": [
           {
            "marker": {
             "colorbar": {
              "outlinewidth": 0,
              "ticks": ""
             }
            },
            "type": "scattercarpet"
           }
          ],
          "scattergeo": [
           {
            "marker": {
             "colorbar": {
              "outlinewidth": 0,
              "ticks": ""
             }
            },
            "type": "scattergeo"
           }
          ],
          "scattergl": [
           {
            "marker": {
             "colorbar": {
              "outlinewidth": 0,
              "ticks": ""
             }
            },
            "type": "scattergl"
           }
          ],
          "scattermapbox": [
           {
            "marker": {
             "colorbar": {
              "outlinewidth": 0,
              "ticks": ""
             }
            },
            "type": "scattermapbox"
           }
          ],
          "scatterpolar": [
           {
            "marker": {
             "colorbar": {
              "outlinewidth": 0,
              "ticks": ""
             }
            },
            "type": "scatterpolar"
           }
          ],
          "scatterpolargl": [
           {
            "marker": {
             "colorbar": {
              "outlinewidth": 0,
              "ticks": ""
             }
            },
            "type": "scatterpolargl"
           }
          ],
          "scatterternary": [
           {
            "marker": {
             "colorbar": {
              "outlinewidth": 0,
              "ticks": ""
             }
            },
            "type": "scatterternary"
           }
          ],
          "surface": [
           {
            "colorbar": {
             "outlinewidth": 0,
             "ticks": ""
            },
            "colorscale": [
             [
              0,
              "#0d0887"
             ],
             [
              0.1111111111111111,
              "#46039f"
             ],
             [
              0.2222222222222222,
              "#7201a8"
             ],
             [
              0.3333333333333333,
              "#9c179e"
             ],
             [
              0.4444444444444444,
              "#bd3786"
             ],
             [
              0.5555555555555556,
              "#d8576b"
             ],
             [
              0.6666666666666666,
              "#ed7953"
             ],
             [
              0.7777777777777778,
              "#fb9f3a"
             ],
             [
              0.8888888888888888,
              "#fdca26"
             ],
             [
              1,
              "#f0f921"
             ]
            ],
            "type": "surface"
           }
          ],
          "table": [
           {
            "cells": {
             "fill": {
              "color": "#EBF0F8"
             },
             "line": {
              "color": "white"
             }
            },
            "header": {
             "fill": {
              "color": "#C8D4E3"
             },
             "line": {
              "color": "white"
             }
            },
            "type": "table"
           }
          ]
         },
         "layout": {
          "annotationdefaults": {
           "arrowcolor": "#2a3f5f",
           "arrowhead": 0,
           "arrowwidth": 1
          },
          "autotypenumbers": "strict",
          "coloraxis": {
           "colorbar": {
            "outlinewidth": 0,
            "ticks": ""
           }
          },
          "colorscale": {
           "diverging": [
            [
             0,
             "#8e0152"
            ],
            [
             0.1,
             "#c51b7d"
            ],
            [
             0.2,
             "#de77ae"
            ],
            [
             0.3,
             "#f1b6da"
            ],
            [
             0.4,
             "#fde0ef"
            ],
            [
             0.5,
             "#f7f7f7"
            ],
            [
             0.6,
             "#e6f5d0"
            ],
            [
             0.7,
             "#b8e186"
            ],
            [
             0.8,
             "#7fbc41"
            ],
            [
             0.9,
             "#4d9221"
            ],
            [
             1,
             "#276419"
            ]
           ],
           "sequential": [
            [
             0,
             "#0d0887"
            ],
            [
             0.1111111111111111,
             "#46039f"
            ],
            [
             0.2222222222222222,
             "#7201a8"
            ],
            [
             0.3333333333333333,
             "#9c179e"
            ],
            [
             0.4444444444444444,
             "#bd3786"
            ],
            [
             0.5555555555555556,
             "#d8576b"
            ],
            [
             0.6666666666666666,
             "#ed7953"
            ],
            [
             0.7777777777777778,
             "#fb9f3a"
            ],
            [
             0.8888888888888888,
             "#fdca26"
            ],
            [
             1,
             "#f0f921"
            ]
           ],
           "sequentialminus": [
            [
             0,
             "#0d0887"
            ],
            [
             0.1111111111111111,
             "#46039f"
            ],
            [
             0.2222222222222222,
             "#7201a8"
            ],
            [
             0.3333333333333333,
             "#9c179e"
            ],
            [
             0.4444444444444444,
             "#bd3786"
            ],
            [
             0.5555555555555556,
             "#d8576b"
            ],
            [
             0.6666666666666666,
             "#ed7953"
            ],
            [
             0.7777777777777778,
             "#fb9f3a"
            ],
            [
             0.8888888888888888,
             "#fdca26"
            ],
            [
             1,
             "#f0f921"
            ]
           ]
          },
          "colorway": [
           "#636efa",
           "#EF553B",
           "#00cc96",
           "#ab63fa",
           "#FFA15A",
           "#19d3f3",
           "#FF6692",
           "#B6E880",
           "#FF97FF",
           "#FECB52"
          ],
          "font": {
           "color": "#2a3f5f"
          },
          "geo": {
           "bgcolor": "white",
           "lakecolor": "white",
           "landcolor": "#E5ECF6",
           "showlakes": true,
           "showland": true,
           "subunitcolor": "white"
          },
          "hoverlabel": {
           "align": "left"
          },
          "hovermode": "closest",
          "mapbox": {
           "style": "light"
          },
          "paper_bgcolor": "white",
          "plot_bgcolor": "#E5ECF6",
          "polar": {
           "angularaxis": {
            "gridcolor": "white",
            "linecolor": "white",
            "ticks": ""
           },
           "bgcolor": "#E5ECF6",
           "radialaxis": {
            "gridcolor": "white",
            "linecolor": "white",
            "ticks": ""
           }
          },
          "scene": {
           "xaxis": {
            "backgroundcolor": "#E5ECF6",
            "gridcolor": "white",
            "gridwidth": 2,
            "linecolor": "white",
            "showbackground": true,
            "ticks": "",
            "zerolinecolor": "white"
           },
           "yaxis": {
            "backgroundcolor": "#E5ECF6",
            "gridcolor": "white",
            "gridwidth": 2,
            "linecolor": "white",
            "showbackground": true,
            "ticks": "",
            "zerolinecolor": "white"
           },
           "zaxis": {
            "backgroundcolor": "#E5ECF6",
            "gridcolor": "white",
            "gridwidth": 2,
            "linecolor": "white",
            "showbackground": true,
            "ticks": "",
            "zerolinecolor": "white"
           }
          },
          "shapedefaults": {
           "line": {
            "color": "#2a3f5f"
           }
          },
          "ternary": {
           "aaxis": {
            "gridcolor": "white",
            "linecolor": "white",
            "ticks": ""
           },
           "baxis": {
            "gridcolor": "white",
            "linecolor": "white",
            "ticks": ""
           },
           "bgcolor": "#E5ECF6",
           "caxis": {
            "gridcolor": "white",
            "linecolor": "white",
            "ticks": ""
           }
          },
          "title": {
           "x": 0.05
          },
          "xaxis": {
           "automargin": true,
           "gridcolor": "white",
           "linecolor": "white",
           "ticks": "",
           "title": {
            "standoff": 15
           },
           "zerolinecolor": "white",
           "zerolinewidth": 2
          },
          "yaxis": {
           "automargin": true,
           "gridcolor": "white",
           "linecolor": "white",
           "ticks": "",
           "title": {
            "standoff": 15
           },
           "zerolinecolor": "white",
           "zerolinewidth": 2
          }
         }
        },
        "title": {
         "font": {
          "color": "#4D5663"
         }
        },
        "xaxis": {
         "gridcolor": "#E1E5ED",
         "showgrid": true,
         "tickfont": {
          "color": "#4D5663"
         },
         "title": {
          "font": {
           "color": "#4D5663"
          },
          "text": ""
         },
         "zerolinecolor": "#E1E5ED"
        },
        "yaxis": {
         "gridcolor": "#E1E5ED",
         "showgrid": true,
         "tickfont": {
          "color": "#4D5663"
         },
         "title": {
          "font": {
           "color": "#4D5663"
          },
          "text": ""
         },
         "zerolinecolor": "#E1E5ED"
        }
       }
      },
      "text/html": [
       "<div>                            <div id=\"c5c93646-456b-482c-a30f-f747bcbc5bba\" class=\"plotly-graph-div\" style=\"height:525px; width:100%;\"></div>            <script type=\"text/javascript\">                require([\"plotly\"], function(Plotly) {                    window.PLOTLYENV=window.PLOTLYENV || {};\n",
       "                    window.PLOTLYENV.BASE_URL='https://plot.ly';                                    if (document.getElementById(\"c5c93646-456b-482c-a30f-f747bcbc5bba\")) {                    Plotly.newPlot(                        \"c5c93646-456b-482c-a30f-f747bcbc5bba\",                        [{\"colorscale\":[[0.0,\"rgb(165,0,38)\"],[0.1,\"rgb(215,48,39)\"],[0.2,\"rgb(244,109,67)\"],[0.3,\"rgb(253,174,97)\"],[0.4,\"rgb(254,224,144)\"],[0.5,\"rgb(255,255,191)\"],[0.6,\"rgb(224,243,248)\"],[0.7,\"rgb(171,217,233)\"],[0.8,\"rgb(116,173,209)\"],[0.9,\"rgb(69,117,180)\"],[1.0,\"rgb(49,54,149)\"]],\"type\":\"surface\",\"x\":[0,1,2,3,4],\"y\":[\"x\",\"y\",\"z\"],\"z\":[[1,2,3,4,5],[10,20,30,20,10],[5,4,3,2,1]]}],                        {\"legend\":{\"bgcolor\":\"#F5F6F9\",\"font\":{\"color\":\"#4D5663\"}},\"paper_bgcolor\":\"#F5F6F9\",\"plot_bgcolor\":\"#F5F6F9\",\"template\":{\"data\":{\"bar\":[{\"error_x\":{\"color\":\"#2a3f5f\"},\"error_y\":{\"color\":\"#2a3f5f\"},\"marker\":{\"line\":{\"color\":\"#E5ECF6\",\"width\":0.5},\"pattern\":{\"fillmode\":\"overlay\",\"size\":10,\"solidity\":0.2}},\"type\":\"bar\"}],\"barpolar\":[{\"marker\":{\"line\":{\"color\":\"#E5ECF6\",\"width\":0.5},\"pattern\":{\"fillmode\":\"overlay\",\"size\":10,\"solidity\":0.2}},\"type\":\"barpolar\"}],\"carpet\":[{\"aaxis\":{\"endlinecolor\":\"#2a3f5f\",\"gridcolor\":\"white\",\"linecolor\":\"white\",\"minorgridcolor\":\"white\",\"startlinecolor\":\"#2a3f5f\"},\"baxis\":{\"endlinecolor\":\"#2a3f5f\",\"gridcolor\":\"white\",\"linecolor\":\"white\",\"minorgridcolor\":\"white\",\"startlinecolor\":\"#2a3f5f\"},\"type\":\"carpet\"}],\"choropleth\":[{\"colorbar\":{\"outlinewidth\":0,\"ticks\":\"\"},\"type\":\"choropleth\"}],\"contour\":[{\"colorbar\":{\"outlinewidth\":0,\"ticks\":\"\"},\"colorscale\":[[0.0,\"#0d0887\"],[0.1111111111111111,\"#46039f\"],[0.2222222222222222,\"#7201a8\"],[0.3333333333333333,\"#9c179e\"],[0.4444444444444444,\"#bd3786\"],[0.5555555555555556,\"#d8576b\"],[0.6666666666666666,\"#ed7953\"],[0.7777777777777778,\"#fb9f3a\"],[0.8888888888888888,\"#fdca26\"],[1.0,\"#f0f921\"]],\"type\":\"contour\"}],\"contourcarpet\":[{\"colorbar\":{\"outlinewidth\":0,\"ticks\":\"\"},\"type\":\"contourcarpet\"}],\"heatmap\":[{\"colorbar\":{\"outlinewidth\":0,\"ticks\":\"\"},\"colorscale\":[[0.0,\"#0d0887\"],[0.1111111111111111,\"#46039f\"],[0.2222222222222222,\"#7201a8\"],[0.3333333333333333,\"#9c179e\"],[0.4444444444444444,\"#bd3786\"],[0.5555555555555556,\"#d8576b\"],[0.6666666666666666,\"#ed7953\"],[0.7777777777777778,\"#fb9f3a\"],[0.8888888888888888,\"#fdca26\"],[1.0,\"#f0f921\"]],\"type\":\"heatmap\"}],\"heatmapgl\":[{\"colorbar\":{\"outlinewidth\":0,\"ticks\":\"\"},\"colorscale\":[[0.0,\"#0d0887\"],[0.1111111111111111,\"#46039f\"],[0.2222222222222222,\"#7201a8\"],[0.3333333333333333,\"#9c179e\"],[0.4444444444444444,\"#bd3786\"],[0.5555555555555556,\"#d8576b\"],[0.6666666666666666,\"#ed7953\"],[0.7777777777777778,\"#fb9f3a\"],[0.8888888888888888,\"#fdca26\"],[1.0,\"#f0f921\"]],\"type\":\"heatmapgl\"}],\"histogram\":[{\"marker\":{\"pattern\":{\"fillmode\":\"overlay\",\"size\":10,\"solidity\":0.2}},\"type\":\"histogram\"}],\"histogram2d\":[{\"colorbar\":{\"outlinewidth\":0,\"ticks\":\"\"},\"colorscale\":[[0.0,\"#0d0887\"],[0.1111111111111111,\"#46039f\"],[0.2222222222222222,\"#7201a8\"],[0.3333333333333333,\"#9c179e\"],[0.4444444444444444,\"#bd3786\"],[0.5555555555555556,\"#d8576b\"],[0.6666666666666666,\"#ed7953\"],[0.7777777777777778,\"#fb9f3a\"],[0.8888888888888888,\"#fdca26\"],[1.0,\"#f0f921\"]],\"type\":\"histogram2d\"}],\"histogram2dcontour\":[{\"colorbar\":{\"outlinewidth\":0,\"ticks\":\"\"},\"colorscale\":[[0.0,\"#0d0887\"],[0.1111111111111111,\"#46039f\"],[0.2222222222222222,\"#7201a8\"],[0.3333333333333333,\"#9c179e\"],[0.4444444444444444,\"#bd3786\"],[0.5555555555555556,\"#d8576b\"],[0.6666666666666666,\"#ed7953\"],[0.7777777777777778,\"#fb9f3a\"],[0.8888888888888888,\"#fdca26\"],[1.0,\"#f0f921\"]],\"type\":\"histogram2dcontour\"}],\"mesh3d\":[{\"colorbar\":{\"outlinewidth\":0,\"ticks\":\"\"},\"type\":\"mesh3d\"}],\"parcoords\":[{\"line\":{\"colorbar\":{\"outlinewidth\":0,\"ticks\":\"\"}},\"type\":\"parcoords\"}],\"pie\":[{\"automargin\":true,\"type\":\"pie\"}],\"scatter\":[{\"marker\":{\"colorbar\":{\"outlinewidth\":0,\"ticks\":\"\"}},\"type\":\"scatter\"}],\"scatter3d\":[{\"line\":{\"colorbar\":{\"outlinewidth\":0,\"ticks\":\"\"}},\"marker\":{\"colorbar\":{\"outlinewidth\":0,\"ticks\":\"\"}},\"type\":\"scatter3d\"}],\"scattercarpet\":[{\"marker\":{\"colorbar\":{\"outlinewidth\":0,\"ticks\":\"\"}},\"type\":\"scattercarpet\"}],\"scattergeo\":[{\"marker\":{\"colorbar\":{\"outlinewidth\":0,\"ticks\":\"\"}},\"type\":\"scattergeo\"}],\"scattergl\":[{\"marker\":{\"colorbar\":{\"outlinewidth\":0,\"ticks\":\"\"}},\"type\":\"scattergl\"}],\"scattermapbox\":[{\"marker\":{\"colorbar\":{\"outlinewidth\":0,\"ticks\":\"\"}},\"type\":\"scattermapbox\"}],\"scatterpolar\":[{\"marker\":{\"colorbar\":{\"outlinewidth\":0,\"ticks\":\"\"}},\"type\":\"scatterpolar\"}],\"scatterpolargl\":[{\"marker\":{\"colorbar\":{\"outlinewidth\":0,\"ticks\":\"\"}},\"type\":\"scatterpolargl\"}],\"scatterternary\":[{\"marker\":{\"colorbar\":{\"outlinewidth\":0,\"ticks\":\"\"}},\"type\":\"scatterternary\"}],\"surface\":[{\"colorbar\":{\"outlinewidth\":0,\"ticks\":\"\"},\"colorscale\":[[0.0,\"#0d0887\"],[0.1111111111111111,\"#46039f\"],[0.2222222222222222,\"#7201a8\"],[0.3333333333333333,\"#9c179e\"],[0.4444444444444444,\"#bd3786\"],[0.5555555555555556,\"#d8576b\"],[0.6666666666666666,\"#ed7953\"],[0.7777777777777778,\"#fb9f3a\"],[0.8888888888888888,\"#fdca26\"],[1.0,\"#f0f921\"]],\"type\":\"surface\"}],\"table\":[{\"cells\":{\"fill\":{\"color\":\"#EBF0F8\"},\"line\":{\"color\":\"white\"}},\"header\":{\"fill\":{\"color\":\"#C8D4E3\"},\"line\":{\"color\":\"white\"}},\"type\":\"table\"}]},\"layout\":{\"annotationdefaults\":{\"arrowcolor\":\"#2a3f5f\",\"arrowhead\":0,\"arrowwidth\":1},\"autotypenumbers\":\"strict\",\"coloraxis\":{\"colorbar\":{\"outlinewidth\":0,\"ticks\":\"\"}},\"colorscale\":{\"diverging\":[[0,\"#8e0152\"],[0.1,\"#c51b7d\"],[0.2,\"#de77ae\"],[0.3,\"#f1b6da\"],[0.4,\"#fde0ef\"],[0.5,\"#f7f7f7\"],[0.6,\"#e6f5d0\"],[0.7,\"#b8e186\"],[0.8,\"#7fbc41\"],[0.9,\"#4d9221\"],[1,\"#276419\"]],\"sequential\":[[0.0,\"#0d0887\"],[0.1111111111111111,\"#46039f\"],[0.2222222222222222,\"#7201a8\"],[0.3333333333333333,\"#9c179e\"],[0.4444444444444444,\"#bd3786\"],[0.5555555555555556,\"#d8576b\"],[0.6666666666666666,\"#ed7953\"],[0.7777777777777778,\"#fb9f3a\"],[0.8888888888888888,\"#fdca26\"],[1.0,\"#f0f921\"]],\"sequentialminus\":[[0.0,\"#0d0887\"],[0.1111111111111111,\"#46039f\"],[0.2222222222222222,\"#7201a8\"],[0.3333333333333333,\"#9c179e\"],[0.4444444444444444,\"#bd3786\"],[0.5555555555555556,\"#d8576b\"],[0.6666666666666666,\"#ed7953\"],[0.7777777777777778,\"#fb9f3a\"],[0.8888888888888888,\"#fdca26\"],[1.0,\"#f0f921\"]]},\"colorway\":[\"#636efa\",\"#EF553B\",\"#00cc96\",\"#ab63fa\",\"#FFA15A\",\"#19d3f3\",\"#FF6692\",\"#B6E880\",\"#FF97FF\",\"#FECB52\"],\"font\":{\"color\":\"#2a3f5f\"},\"geo\":{\"bgcolor\":\"white\",\"lakecolor\":\"white\",\"landcolor\":\"#E5ECF6\",\"showlakes\":true,\"showland\":true,\"subunitcolor\":\"white\"},\"hoverlabel\":{\"align\":\"left\"},\"hovermode\":\"closest\",\"mapbox\":{\"style\":\"light\"},\"paper_bgcolor\":\"white\",\"plot_bgcolor\":\"#E5ECF6\",\"polar\":{\"angularaxis\":{\"gridcolor\":\"white\",\"linecolor\":\"white\",\"ticks\":\"\"},\"bgcolor\":\"#E5ECF6\",\"radialaxis\":{\"gridcolor\":\"white\",\"linecolor\":\"white\",\"ticks\":\"\"}},\"scene\":{\"xaxis\":{\"backgroundcolor\":\"#E5ECF6\",\"gridcolor\":\"white\",\"gridwidth\":2,\"linecolor\":\"white\",\"showbackground\":true,\"ticks\":\"\",\"zerolinecolor\":\"white\"},\"yaxis\":{\"backgroundcolor\":\"#E5ECF6\",\"gridcolor\":\"white\",\"gridwidth\":2,\"linecolor\":\"white\",\"showbackground\":true,\"ticks\":\"\",\"zerolinecolor\":\"white\"},\"zaxis\":{\"backgroundcolor\":\"#E5ECF6\",\"gridcolor\":\"white\",\"gridwidth\":2,\"linecolor\":\"white\",\"showbackground\":true,\"ticks\":\"\",\"zerolinecolor\":\"white\"}},\"shapedefaults\":{\"line\":{\"color\":\"#2a3f5f\"}},\"ternary\":{\"aaxis\":{\"gridcolor\":\"white\",\"linecolor\":\"white\",\"ticks\":\"\"},\"baxis\":{\"gridcolor\":\"white\",\"linecolor\":\"white\",\"ticks\":\"\"},\"bgcolor\":\"#E5ECF6\",\"caxis\":{\"gridcolor\":\"white\",\"linecolor\":\"white\",\"ticks\":\"\"}},\"title\":{\"x\":0.05},\"xaxis\":{\"automargin\":true,\"gridcolor\":\"white\",\"linecolor\":\"white\",\"ticks\":\"\",\"title\":{\"standoff\":15},\"zerolinecolor\":\"white\",\"zerolinewidth\":2},\"yaxis\":{\"automargin\":true,\"gridcolor\":\"white\",\"linecolor\":\"white\",\"ticks\":\"\",\"title\":{\"standoff\":15},\"zerolinecolor\":\"white\",\"zerolinewidth\":2}}},\"title\":{\"font\":{\"color\":\"#4D5663\"}},\"xaxis\":{\"gridcolor\":\"#E1E5ED\",\"showgrid\":true,\"tickfont\":{\"color\":\"#4D5663\"},\"title\":{\"font\":{\"color\":\"#4D5663\"},\"text\":\"\"},\"zerolinecolor\":\"#E1E5ED\"},\"yaxis\":{\"gridcolor\":\"#E1E5ED\",\"showgrid\":true,\"tickfont\":{\"color\":\"#4D5663\"},\"title\":{\"font\":{\"color\":\"#4D5663\"},\"text\":\"\"},\"zerolinecolor\":\"#E1E5ED\"}},                        {\"showLink\": true, \"linkText\": \"Export to plot.ly\", \"plotlyServerURL\": \"https://plot.ly\", \"responsive\": true}                    ).then(function(){\n",
       "                            \n",
       "var gd = document.getElementById('c5c93646-456b-482c-a30f-f747bcbc5bba');\n",
       "var x = new MutationObserver(function (mutations, observer) {{\n",
       "        var display = window.getComputedStyle(gd).display;\n",
       "        if (!display || display === 'none') {{\n",
       "            console.log([gd, 'removed!']);\n",
       "            Plotly.purge(gd);\n",
       "            observer.disconnect();\n",
       "        }}\n",
       "}});\n",
       "\n",
       "// Listen for the removal of the full notebook cells\n",
       "var notebookContainer = gd.closest('#notebook-container');\n",
       "if (notebookContainer) {{\n",
       "    x.observe(notebookContainer, {childList: true});\n",
       "}}\n",
       "\n",
       "// Listen for the clearing of the current output cell\n",
       "var outputEl = gd.closest('.output');\n",
       "if (outputEl) {{\n",
       "    x.observe(outputEl, {childList: true});\n",
       "}}\n",
       "\n",
       "                        })                };                });            </script>        </div>"
      ]
     },
     "metadata": {},
     "output_type": "display_data"
    }
   ],
   "source": [
    "df3 = pd.DataFrame({'x':[1,2,3,4,5],'y':[10,20,30,20,10],'z':[5,4,3,2,1]})\n",
    "df3.iplot(kind='surface',colorscale='rdylbu')"
   ]
  },
  {
   "cell_type": "markdown",
   "metadata": {},
   "source": [
    "## histogram"
   ]
  },
  {
   "cell_type": "code",
   "execution_count": 22,
   "metadata": {},
   "outputs": [
    {
     "data": {
      "application/vnd.plotly.v1+json": {
       "config": {
        "linkText": "Export to plot.ly",
        "plotlyServerURL": "https://plot.ly",
        "showLink": true
       },
       "data": [
        {
         "histfunc": "count",
         "histnorm": "",
         "marker": {
          "color": "rgba(255, 153, 51, 1.0)",
          "line": {
           "color": "#4D5663",
           "width": 1.3
          }
         },
         "name": "A",
         "nbinsx": 25,
         "opacity": 0.8,
         "orientation": "v",
         "type": "histogram",
         "x": [
          -1.0206472791320926,
          0.051856060673617886,
          0.9647955540467175,
          -0.04575644997517332,
          0.5698958108657399,
          -0.2771160176114073,
          0.6743782176988691,
          1.1334862342367846,
          0.8310518336563363,
          0.8478826680455306,
          2.1049439394759686,
          2.3467568101723724,
          0.471647951479405,
          -1.2913115835715805,
          -0.654693311813495,
          0.24421849479729904,
          0.09926206507316876,
          0.27347604364371714,
          0.6654321688845871,
          1.5441310592053583,
          0.4888350095325806,
          0.85642862115761,
          1.1995385573927553,
          0.4503558668432003,
          -0.9454681741341744,
          0.701552165824799,
          0.633064354844197,
          -2.538557521943568,
          2.100020731645149,
          -0.7309540000436948,
          0.6871288068240419,
          -0.028292285608094582,
          0.9182916080767636,
          -1.1949457214256833,
          -1.0222052787895517,
          -1.2514672068784334,
          1.9246498366119915,
          1.4123911331033236,
          -2.322350025852475,
          -0.05664151881160213,
          -1.3779867444667755,
          -1.5498274819787017,
          1.0424787347683493,
          0.3668668769136654,
          0.34794585434742087,
          -0.085468005814318,
          -0.4776892351955959,
          -0.41465365897849416,
          0.036054477415273366,
          -0.20401231462808525,
          1.161933593045215,
          0.2572211399583732,
          -0.41632458709140546,
          0.29579936461538775,
          1.150198739003133,
          -0.8558190523878071,
          0.5808270794162296,
          0.41731649079801186,
          -0.5199105582655607,
          -2.6536129916330564,
          -0.06255168951021686,
          -0.8144212770271861,
          0.383458149641642,
          0.33043639336985287,
          1.3016023329577706,
          0.3533783749387897,
          -0.7015607338711178,
          0.8265510740131821,
          -0.9446908627414659,
          -0.8394308436032527,
          1.1415191740097297,
          -0.9322500161850434,
          0.4453069113668292,
          0.6512042687445224,
          1.3332779351706576,
          0.9311953072551885,
          0.1487293030571078,
          -0.5091459935053668,
          -1.3200135704942564,
          -0.1628574076500507,
          1.051182645365468,
          -1.6572506810120788,
          -0.11636388492189238,
          0.37233883307653604,
          1.7893157472842727,
          -0.3045955172233988,
          1.4008269920829313,
          0.6601985256765023,
          0.7506108391927792,
          -2.342043098724719,
          0.06261592265701701,
          1.5248256573020205,
          -2.052558012593074,
          1.082105581164093,
          1.4130868971484738,
          0.5979348791248525,
          -1.61064676866785,
          -0.714945330445735,
          0.22106443159093367,
          0.3812254917441854
         ]
        }
       ],
       "layout": {
        "barmode": "overlay",
        "legend": {
         "bgcolor": "#F5F6F9",
         "font": {
          "color": "#4D5663"
         }
        },
        "paper_bgcolor": "#F5F6F9",
        "plot_bgcolor": "#F5F6F9",
        "template": {
         "data": {
          "bar": [
           {
            "error_x": {
             "color": "#2a3f5f"
            },
            "error_y": {
             "color": "#2a3f5f"
            },
            "marker": {
             "line": {
              "color": "#E5ECF6",
              "width": 0.5
             },
             "pattern": {
              "fillmode": "overlay",
              "size": 10,
              "solidity": 0.2
             }
            },
            "type": "bar"
           }
          ],
          "barpolar": [
           {
            "marker": {
             "line": {
              "color": "#E5ECF6",
              "width": 0.5
             },
             "pattern": {
              "fillmode": "overlay",
              "size": 10,
              "solidity": 0.2
             }
            },
            "type": "barpolar"
           }
          ],
          "carpet": [
           {
            "aaxis": {
             "endlinecolor": "#2a3f5f",
             "gridcolor": "white",
             "linecolor": "white",
             "minorgridcolor": "white",
             "startlinecolor": "#2a3f5f"
            },
            "baxis": {
             "endlinecolor": "#2a3f5f",
             "gridcolor": "white",
             "linecolor": "white",
             "minorgridcolor": "white",
             "startlinecolor": "#2a3f5f"
            },
            "type": "carpet"
           }
          ],
          "choropleth": [
           {
            "colorbar": {
             "outlinewidth": 0,
             "ticks": ""
            },
            "type": "choropleth"
           }
          ],
          "contour": [
           {
            "colorbar": {
             "outlinewidth": 0,
             "ticks": ""
            },
            "colorscale": [
             [
              0,
              "#0d0887"
             ],
             [
              0.1111111111111111,
              "#46039f"
             ],
             [
              0.2222222222222222,
              "#7201a8"
             ],
             [
              0.3333333333333333,
              "#9c179e"
             ],
             [
              0.4444444444444444,
              "#bd3786"
             ],
             [
              0.5555555555555556,
              "#d8576b"
             ],
             [
              0.6666666666666666,
              "#ed7953"
             ],
             [
              0.7777777777777778,
              "#fb9f3a"
             ],
             [
              0.8888888888888888,
              "#fdca26"
             ],
             [
              1,
              "#f0f921"
             ]
            ],
            "type": "contour"
           }
          ],
          "contourcarpet": [
           {
            "colorbar": {
             "outlinewidth": 0,
             "ticks": ""
            },
            "type": "contourcarpet"
           }
          ],
          "heatmap": [
           {
            "colorbar": {
             "outlinewidth": 0,
             "ticks": ""
            },
            "colorscale": [
             [
              0,
              "#0d0887"
             ],
             [
              0.1111111111111111,
              "#46039f"
             ],
             [
              0.2222222222222222,
              "#7201a8"
             ],
             [
              0.3333333333333333,
              "#9c179e"
             ],
             [
              0.4444444444444444,
              "#bd3786"
             ],
             [
              0.5555555555555556,
              "#d8576b"
             ],
             [
              0.6666666666666666,
              "#ed7953"
             ],
             [
              0.7777777777777778,
              "#fb9f3a"
             ],
             [
              0.8888888888888888,
              "#fdca26"
             ],
             [
              1,
              "#f0f921"
             ]
            ],
            "type": "heatmap"
           }
          ],
          "heatmapgl": [
           {
            "colorbar": {
             "outlinewidth": 0,
             "ticks": ""
            },
            "colorscale": [
             [
              0,
              "#0d0887"
             ],
             [
              0.1111111111111111,
              "#46039f"
             ],
             [
              0.2222222222222222,
              "#7201a8"
             ],
             [
              0.3333333333333333,
              "#9c179e"
             ],
             [
              0.4444444444444444,
              "#bd3786"
             ],
             [
              0.5555555555555556,
              "#d8576b"
             ],
             [
              0.6666666666666666,
              "#ed7953"
             ],
             [
              0.7777777777777778,
              "#fb9f3a"
             ],
             [
              0.8888888888888888,
              "#fdca26"
             ],
             [
              1,
              "#f0f921"
             ]
            ],
            "type": "heatmapgl"
           }
          ],
          "histogram": [
           {
            "marker": {
             "pattern": {
              "fillmode": "overlay",
              "size": 10,
              "solidity": 0.2
             }
            },
            "type": "histogram"
           }
          ],
          "histogram2d": [
           {
            "colorbar": {
             "outlinewidth": 0,
             "ticks": ""
            },
            "colorscale": [
             [
              0,
              "#0d0887"
             ],
             [
              0.1111111111111111,
              "#46039f"
             ],
             [
              0.2222222222222222,
              "#7201a8"
             ],
             [
              0.3333333333333333,
              "#9c179e"
             ],
             [
              0.4444444444444444,
              "#bd3786"
             ],
             [
              0.5555555555555556,
              "#d8576b"
             ],
             [
              0.6666666666666666,
              "#ed7953"
             ],
             [
              0.7777777777777778,
              "#fb9f3a"
             ],
             [
              0.8888888888888888,
              "#fdca26"
             ],
             [
              1,
              "#f0f921"
             ]
            ],
            "type": "histogram2d"
           }
          ],
          "histogram2dcontour": [
           {
            "colorbar": {
             "outlinewidth": 0,
             "ticks": ""
            },
            "colorscale": [
             [
              0,
              "#0d0887"
             ],
             [
              0.1111111111111111,
              "#46039f"
             ],
             [
              0.2222222222222222,
              "#7201a8"
             ],
             [
              0.3333333333333333,
              "#9c179e"
             ],
             [
              0.4444444444444444,
              "#bd3786"
             ],
             [
              0.5555555555555556,
              "#d8576b"
             ],
             [
              0.6666666666666666,
              "#ed7953"
             ],
             [
              0.7777777777777778,
              "#fb9f3a"
             ],
             [
              0.8888888888888888,
              "#fdca26"
             ],
             [
              1,
              "#f0f921"
             ]
            ],
            "type": "histogram2dcontour"
           }
          ],
          "mesh3d": [
           {
            "colorbar": {
             "outlinewidth": 0,
             "ticks": ""
            },
            "type": "mesh3d"
           }
          ],
          "parcoords": [
           {
            "line": {
             "colorbar": {
              "outlinewidth": 0,
              "ticks": ""
             }
            },
            "type": "parcoords"
           }
          ],
          "pie": [
           {
            "automargin": true,
            "type": "pie"
           }
          ],
          "scatter": [
           {
            "marker": {
             "colorbar": {
              "outlinewidth": 0,
              "ticks": ""
             }
            },
            "type": "scatter"
           }
          ],
          "scatter3d": [
           {
            "line": {
             "colorbar": {
              "outlinewidth": 0,
              "ticks": ""
             }
            },
            "marker": {
             "colorbar": {
              "outlinewidth": 0,
              "ticks": ""
             }
            },
            "type": "scatter3d"
           }
          ],
          "scattercarpet": [
           {
            "marker": {
             "colorbar": {
              "outlinewidth": 0,
              "ticks": ""
             }
            },
            "type": "scattercarpet"
           }
          ],
          "scattergeo": [
           {
            "marker": {
             "colorbar": {
              "outlinewidth": 0,
              "ticks": ""
             }
            },
            "type": "scattergeo"
           }
          ],
          "scattergl": [
           {
            "marker": {
             "colorbar": {
              "outlinewidth": 0,
              "ticks": ""
             }
            },
            "type": "scattergl"
           }
          ],
          "scattermapbox": [
           {
            "marker": {
             "colorbar": {
              "outlinewidth": 0,
              "ticks": ""
             }
            },
            "type": "scattermapbox"
           }
          ],
          "scatterpolar": [
           {
            "marker": {
             "colorbar": {
              "outlinewidth": 0,
              "ticks": ""
             }
            },
            "type": "scatterpolar"
           }
          ],
          "scatterpolargl": [
           {
            "marker": {
             "colorbar": {
              "outlinewidth": 0,
              "ticks": ""
             }
            },
            "type": "scatterpolargl"
           }
          ],
          "scatterternary": [
           {
            "marker": {
             "colorbar": {
              "outlinewidth": 0,
              "ticks": ""
             }
            },
            "type": "scatterternary"
           }
          ],
          "surface": [
           {
            "colorbar": {
             "outlinewidth": 0,
             "ticks": ""
            },
            "colorscale": [
             [
              0,
              "#0d0887"
             ],
             [
              0.1111111111111111,
              "#46039f"
             ],
             [
              0.2222222222222222,
              "#7201a8"
             ],
             [
              0.3333333333333333,
              "#9c179e"
             ],
             [
              0.4444444444444444,
              "#bd3786"
             ],
             [
              0.5555555555555556,
              "#d8576b"
             ],
             [
              0.6666666666666666,
              "#ed7953"
             ],
             [
              0.7777777777777778,
              "#fb9f3a"
             ],
             [
              0.8888888888888888,
              "#fdca26"
             ],
             [
              1,
              "#f0f921"
             ]
            ],
            "type": "surface"
           }
          ],
          "table": [
           {
            "cells": {
             "fill": {
              "color": "#EBF0F8"
             },
             "line": {
              "color": "white"
             }
            },
            "header": {
             "fill": {
              "color": "#C8D4E3"
             },
             "line": {
              "color": "white"
             }
            },
            "type": "table"
           }
          ]
         },
         "layout": {
          "annotationdefaults": {
           "arrowcolor": "#2a3f5f",
           "arrowhead": 0,
           "arrowwidth": 1
          },
          "autotypenumbers": "strict",
          "coloraxis": {
           "colorbar": {
            "outlinewidth": 0,
            "ticks": ""
           }
          },
          "colorscale": {
           "diverging": [
            [
             0,
             "#8e0152"
            ],
            [
             0.1,
             "#c51b7d"
            ],
            [
             0.2,
             "#de77ae"
            ],
            [
             0.3,
             "#f1b6da"
            ],
            [
             0.4,
             "#fde0ef"
            ],
            [
             0.5,
             "#f7f7f7"
            ],
            [
             0.6,
             "#e6f5d0"
            ],
            [
             0.7,
             "#b8e186"
            ],
            [
             0.8,
             "#7fbc41"
            ],
            [
             0.9,
             "#4d9221"
            ],
            [
             1,
             "#276419"
            ]
           ],
           "sequential": [
            [
             0,
             "#0d0887"
            ],
            [
             0.1111111111111111,
             "#46039f"
            ],
            [
             0.2222222222222222,
             "#7201a8"
            ],
            [
             0.3333333333333333,
             "#9c179e"
            ],
            [
             0.4444444444444444,
             "#bd3786"
            ],
            [
             0.5555555555555556,
             "#d8576b"
            ],
            [
             0.6666666666666666,
             "#ed7953"
            ],
            [
             0.7777777777777778,
             "#fb9f3a"
            ],
            [
             0.8888888888888888,
             "#fdca26"
            ],
            [
             1,
             "#f0f921"
            ]
           ],
           "sequentialminus": [
            [
             0,
             "#0d0887"
            ],
            [
             0.1111111111111111,
             "#46039f"
            ],
            [
             0.2222222222222222,
             "#7201a8"
            ],
            [
             0.3333333333333333,
             "#9c179e"
            ],
            [
             0.4444444444444444,
             "#bd3786"
            ],
            [
             0.5555555555555556,
             "#d8576b"
            ],
            [
             0.6666666666666666,
             "#ed7953"
            ],
            [
             0.7777777777777778,
             "#fb9f3a"
            ],
            [
             0.8888888888888888,
             "#fdca26"
            ],
            [
             1,
             "#f0f921"
            ]
           ]
          },
          "colorway": [
           "#636efa",
           "#EF553B",
           "#00cc96",
           "#ab63fa",
           "#FFA15A",
           "#19d3f3",
           "#FF6692",
           "#B6E880",
           "#FF97FF",
           "#FECB52"
          ],
          "font": {
           "color": "#2a3f5f"
          },
          "geo": {
           "bgcolor": "white",
           "lakecolor": "white",
           "landcolor": "#E5ECF6",
           "showlakes": true,
           "showland": true,
           "subunitcolor": "white"
          },
          "hoverlabel": {
           "align": "left"
          },
          "hovermode": "closest",
          "mapbox": {
           "style": "light"
          },
          "paper_bgcolor": "white",
          "plot_bgcolor": "#E5ECF6",
          "polar": {
           "angularaxis": {
            "gridcolor": "white",
            "linecolor": "white",
            "ticks": ""
           },
           "bgcolor": "#E5ECF6",
           "radialaxis": {
            "gridcolor": "white",
            "linecolor": "white",
            "ticks": ""
           }
          },
          "scene": {
           "xaxis": {
            "backgroundcolor": "#E5ECF6",
            "gridcolor": "white",
            "gridwidth": 2,
            "linecolor": "white",
            "showbackground": true,
            "ticks": "",
            "zerolinecolor": "white"
           },
           "yaxis": {
            "backgroundcolor": "#E5ECF6",
            "gridcolor": "white",
            "gridwidth": 2,
            "linecolor": "white",
            "showbackground": true,
            "ticks": "",
            "zerolinecolor": "white"
           },
           "zaxis": {
            "backgroundcolor": "#E5ECF6",
            "gridcolor": "white",
            "gridwidth": 2,
            "linecolor": "white",
            "showbackground": true,
            "ticks": "",
            "zerolinecolor": "white"
           }
          },
          "shapedefaults": {
           "line": {
            "color": "#2a3f5f"
           }
          },
          "ternary": {
           "aaxis": {
            "gridcolor": "white",
            "linecolor": "white",
            "ticks": ""
           },
           "baxis": {
            "gridcolor": "white",
            "linecolor": "white",
            "ticks": ""
           },
           "bgcolor": "#E5ECF6",
           "caxis": {
            "gridcolor": "white",
            "linecolor": "white",
            "ticks": ""
           }
          },
          "title": {
           "x": 0.05
          },
          "xaxis": {
           "automargin": true,
           "gridcolor": "white",
           "linecolor": "white",
           "ticks": "",
           "title": {
            "standoff": 15
           },
           "zerolinecolor": "white",
           "zerolinewidth": 2
          },
          "yaxis": {
           "automargin": true,
           "gridcolor": "white",
           "linecolor": "white",
           "ticks": "",
           "title": {
            "standoff": 15
           },
           "zerolinecolor": "white",
           "zerolinewidth": 2
          }
         }
        },
        "title": {
         "font": {
          "color": "#4D5663"
         }
        },
        "xaxis": {
         "gridcolor": "#E1E5ED",
         "showgrid": true,
         "tickfont": {
          "color": "#4D5663"
         },
         "title": {
          "font": {
           "color": "#4D5663"
          },
          "text": ""
         },
         "zerolinecolor": "#E1E5ED"
        },
        "yaxis": {
         "gridcolor": "#E1E5ED",
         "showgrid": true,
         "tickfont": {
          "color": "#4D5663"
         },
         "title": {
          "font": {
           "color": "#4D5663"
          },
          "text": ""
         },
         "zerolinecolor": "#E1E5ED"
        }
       }
      },
      "text/html": [
       "<div>                            <div id=\"638991c0-9baa-45b3-96b4-8c0ab91598fa\" class=\"plotly-graph-div\" style=\"height:525px; width:100%;\"></div>            <script type=\"text/javascript\">                require([\"plotly\"], function(Plotly) {                    window.PLOTLYENV=window.PLOTLYENV || {};\n",
       "                    window.PLOTLYENV.BASE_URL='https://plot.ly';                                    if (document.getElementById(\"638991c0-9baa-45b3-96b4-8c0ab91598fa\")) {                    Plotly.newPlot(                        \"638991c0-9baa-45b3-96b4-8c0ab91598fa\",                        [{\"histfunc\":\"count\",\"histnorm\":\"\",\"marker\":{\"color\":\"rgba(255, 153, 51, 1.0)\",\"line\":{\"color\":\"#4D5663\",\"width\":1.3}},\"name\":\"A\",\"nbinsx\":25,\"opacity\":0.8,\"orientation\":\"v\",\"type\":\"histogram\",\"x\":[-1.0206472791320926,0.051856060673617886,0.9647955540467175,-0.04575644997517332,0.5698958108657399,-0.2771160176114073,0.6743782176988691,1.1334862342367846,0.8310518336563363,0.8478826680455306,2.1049439394759686,2.3467568101723724,0.471647951479405,-1.2913115835715805,-0.654693311813495,0.24421849479729904,0.09926206507316876,0.27347604364371714,0.6654321688845871,1.5441310592053583,0.4888350095325806,0.85642862115761,1.1995385573927553,0.4503558668432003,-0.9454681741341744,0.701552165824799,0.633064354844197,-2.538557521943568,2.100020731645149,-0.7309540000436948,0.6871288068240419,-0.028292285608094582,0.9182916080767636,-1.1949457214256833,-1.0222052787895517,-1.2514672068784334,1.9246498366119915,1.4123911331033236,-2.322350025852475,-0.05664151881160213,-1.3779867444667755,-1.5498274819787017,1.0424787347683493,0.3668668769136654,0.34794585434742087,-0.085468005814318,-0.4776892351955959,-0.41465365897849416,0.036054477415273366,-0.20401231462808525,1.161933593045215,0.2572211399583732,-0.41632458709140546,0.29579936461538775,1.150198739003133,-0.8558190523878071,0.5808270794162296,0.41731649079801186,-0.5199105582655607,-2.6536129916330564,-0.06255168951021686,-0.8144212770271861,0.383458149641642,0.33043639336985287,1.3016023329577706,0.3533783749387897,-0.7015607338711178,0.8265510740131821,-0.9446908627414659,-0.8394308436032527,1.1415191740097297,-0.9322500161850434,0.4453069113668292,0.6512042687445224,1.3332779351706576,0.9311953072551885,0.1487293030571078,-0.5091459935053668,-1.3200135704942564,-0.1628574076500507,1.051182645365468,-1.6572506810120788,-0.11636388492189238,0.37233883307653604,1.7893157472842727,-0.3045955172233988,1.4008269920829313,0.6601985256765023,0.7506108391927792,-2.342043098724719,0.06261592265701701,1.5248256573020205,-2.052558012593074,1.082105581164093,1.4130868971484738,0.5979348791248525,-1.61064676866785,-0.714945330445735,0.22106443159093367,0.3812254917441854]}],                        {\"barmode\":\"overlay\",\"legend\":{\"bgcolor\":\"#F5F6F9\",\"font\":{\"color\":\"#4D5663\"}},\"paper_bgcolor\":\"#F5F6F9\",\"plot_bgcolor\":\"#F5F6F9\",\"template\":{\"data\":{\"bar\":[{\"error_x\":{\"color\":\"#2a3f5f\"},\"error_y\":{\"color\":\"#2a3f5f\"},\"marker\":{\"line\":{\"color\":\"#E5ECF6\",\"width\":0.5},\"pattern\":{\"fillmode\":\"overlay\",\"size\":10,\"solidity\":0.2}},\"type\":\"bar\"}],\"barpolar\":[{\"marker\":{\"line\":{\"color\":\"#E5ECF6\",\"width\":0.5},\"pattern\":{\"fillmode\":\"overlay\",\"size\":10,\"solidity\":0.2}},\"type\":\"barpolar\"}],\"carpet\":[{\"aaxis\":{\"endlinecolor\":\"#2a3f5f\",\"gridcolor\":\"white\",\"linecolor\":\"white\",\"minorgridcolor\":\"white\",\"startlinecolor\":\"#2a3f5f\"},\"baxis\":{\"endlinecolor\":\"#2a3f5f\",\"gridcolor\":\"white\",\"linecolor\":\"white\",\"minorgridcolor\":\"white\",\"startlinecolor\":\"#2a3f5f\"},\"type\":\"carpet\"}],\"choropleth\":[{\"colorbar\":{\"outlinewidth\":0,\"ticks\":\"\"},\"type\":\"choropleth\"}],\"contour\":[{\"colorbar\":{\"outlinewidth\":0,\"ticks\":\"\"},\"colorscale\":[[0.0,\"#0d0887\"],[0.1111111111111111,\"#46039f\"],[0.2222222222222222,\"#7201a8\"],[0.3333333333333333,\"#9c179e\"],[0.4444444444444444,\"#bd3786\"],[0.5555555555555556,\"#d8576b\"],[0.6666666666666666,\"#ed7953\"],[0.7777777777777778,\"#fb9f3a\"],[0.8888888888888888,\"#fdca26\"],[1.0,\"#f0f921\"]],\"type\":\"contour\"}],\"contourcarpet\":[{\"colorbar\":{\"outlinewidth\":0,\"ticks\":\"\"},\"type\":\"contourcarpet\"}],\"heatmap\":[{\"colorbar\":{\"outlinewidth\":0,\"ticks\":\"\"},\"colorscale\":[[0.0,\"#0d0887\"],[0.1111111111111111,\"#46039f\"],[0.2222222222222222,\"#7201a8\"],[0.3333333333333333,\"#9c179e\"],[0.4444444444444444,\"#bd3786\"],[0.5555555555555556,\"#d8576b\"],[0.6666666666666666,\"#ed7953\"],[0.7777777777777778,\"#fb9f3a\"],[0.8888888888888888,\"#fdca26\"],[1.0,\"#f0f921\"]],\"type\":\"heatmap\"}],\"heatmapgl\":[{\"colorbar\":{\"outlinewidth\":0,\"ticks\":\"\"},\"colorscale\":[[0.0,\"#0d0887\"],[0.1111111111111111,\"#46039f\"],[0.2222222222222222,\"#7201a8\"],[0.3333333333333333,\"#9c179e\"],[0.4444444444444444,\"#bd3786\"],[0.5555555555555556,\"#d8576b\"],[0.6666666666666666,\"#ed7953\"],[0.7777777777777778,\"#fb9f3a\"],[0.8888888888888888,\"#fdca26\"],[1.0,\"#f0f921\"]],\"type\":\"heatmapgl\"}],\"histogram\":[{\"marker\":{\"pattern\":{\"fillmode\":\"overlay\",\"size\":10,\"solidity\":0.2}},\"type\":\"histogram\"}],\"histogram2d\":[{\"colorbar\":{\"outlinewidth\":0,\"ticks\":\"\"},\"colorscale\":[[0.0,\"#0d0887\"],[0.1111111111111111,\"#46039f\"],[0.2222222222222222,\"#7201a8\"],[0.3333333333333333,\"#9c179e\"],[0.4444444444444444,\"#bd3786\"],[0.5555555555555556,\"#d8576b\"],[0.6666666666666666,\"#ed7953\"],[0.7777777777777778,\"#fb9f3a\"],[0.8888888888888888,\"#fdca26\"],[1.0,\"#f0f921\"]],\"type\":\"histogram2d\"}],\"histogram2dcontour\":[{\"colorbar\":{\"outlinewidth\":0,\"ticks\":\"\"},\"colorscale\":[[0.0,\"#0d0887\"],[0.1111111111111111,\"#46039f\"],[0.2222222222222222,\"#7201a8\"],[0.3333333333333333,\"#9c179e\"],[0.4444444444444444,\"#bd3786\"],[0.5555555555555556,\"#d8576b\"],[0.6666666666666666,\"#ed7953\"],[0.7777777777777778,\"#fb9f3a\"],[0.8888888888888888,\"#fdca26\"],[1.0,\"#f0f921\"]],\"type\":\"histogram2dcontour\"}],\"mesh3d\":[{\"colorbar\":{\"outlinewidth\":0,\"ticks\":\"\"},\"type\":\"mesh3d\"}],\"parcoords\":[{\"line\":{\"colorbar\":{\"outlinewidth\":0,\"ticks\":\"\"}},\"type\":\"parcoords\"}],\"pie\":[{\"automargin\":true,\"type\":\"pie\"}],\"scatter\":[{\"marker\":{\"colorbar\":{\"outlinewidth\":0,\"ticks\":\"\"}},\"type\":\"scatter\"}],\"scatter3d\":[{\"line\":{\"colorbar\":{\"outlinewidth\":0,\"ticks\":\"\"}},\"marker\":{\"colorbar\":{\"outlinewidth\":0,\"ticks\":\"\"}},\"type\":\"scatter3d\"}],\"scattercarpet\":[{\"marker\":{\"colorbar\":{\"outlinewidth\":0,\"ticks\":\"\"}},\"type\":\"scattercarpet\"}],\"scattergeo\":[{\"marker\":{\"colorbar\":{\"outlinewidth\":0,\"ticks\":\"\"}},\"type\":\"scattergeo\"}],\"scattergl\":[{\"marker\":{\"colorbar\":{\"outlinewidth\":0,\"ticks\":\"\"}},\"type\":\"scattergl\"}],\"scattermapbox\":[{\"marker\":{\"colorbar\":{\"outlinewidth\":0,\"ticks\":\"\"}},\"type\":\"scattermapbox\"}],\"scatterpolar\":[{\"marker\":{\"colorbar\":{\"outlinewidth\":0,\"ticks\":\"\"}},\"type\":\"scatterpolar\"}],\"scatterpolargl\":[{\"marker\":{\"colorbar\":{\"outlinewidth\":0,\"ticks\":\"\"}},\"type\":\"scatterpolargl\"}],\"scatterternary\":[{\"marker\":{\"colorbar\":{\"outlinewidth\":0,\"ticks\":\"\"}},\"type\":\"scatterternary\"}],\"surface\":[{\"colorbar\":{\"outlinewidth\":0,\"ticks\":\"\"},\"colorscale\":[[0.0,\"#0d0887\"],[0.1111111111111111,\"#46039f\"],[0.2222222222222222,\"#7201a8\"],[0.3333333333333333,\"#9c179e\"],[0.4444444444444444,\"#bd3786\"],[0.5555555555555556,\"#d8576b\"],[0.6666666666666666,\"#ed7953\"],[0.7777777777777778,\"#fb9f3a\"],[0.8888888888888888,\"#fdca26\"],[1.0,\"#f0f921\"]],\"type\":\"surface\"}],\"table\":[{\"cells\":{\"fill\":{\"color\":\"#EBF0F8\"},\"line\":{\"color\":\"white\"}},\"header\":{\"fill\":{\"color\":\"#C8D4E3\"},\"line\":{\"color\":\"white\"}},\"type\":\"table\"}]},\"layout\":{\"annotationdefaults\":{\"arrowcolor\":\"#2a3f5f\",\"arrowhead\":0,\"arrowwidth\":1},\"autotypenumbers\":\"strict\",\"coloraxis\":{\"colorbar\":{\"outlinewidth\":0,\"ticks\":\"\"}},\"colorscale\":{\"diverging\":[[0,\"#8e0152\"],[0.1,\"#c51b7d\"],[0.2,\"#de77ae\"],[0.3,\"#f1b6da\"],[0.4,\"#fde0ef\"],[0.5,\"#f7f7f7\"],[0.6,\"#e6f5d0\"],[0.7,\"#b8e186\"],[0.8,\"#7fbc41\"],[0.9,\"#4d9221\"],[1,\"#276419\"]],\"sequential\":[[0.0,\"#0d0887\"],[0.1111111111111111,\"#46039f\"],[0.2222222222222222,\"#7201a8\"],[0.3333333333333333,\"#9c179e\"],[0.4444444444444444,\"#bd3786\"],[0.5555555555555556,\"#d8576b\"],[0.6666666666666666,\"#ed7953\"],[0.7777777777777778,\"#fb9f3a\"],[0.8888888888888888,\"#fdca26\"],[1.0,\"#f0f921\"]],\"sequentialminus\":[[0.0,\"#0d0887\"],[0.1111111111111111,\"#46039f\"],[0.2222222222222222,\"#7201a8\"],[0.3333333333333333,\"#9c179e\"],[0.4444444444444444,\"#bd3786\"],[0.5555555555555556,\"#d8576b\"],[0.6666666666666666,\"#ed7953\"],[0.7777777777777778,\"#fb9f3a\"],[0.8888888888888888,\"#fdca26\"],[1.0,\"#f0f921\"]]},\"colorway\":[\"#636efa\",\"#EF553B\",\"#00cc96\",\"#ab63fa\",\"#FFA15A\",\"#19d3f3\",\"#FF6692\",\"#B6E880\",\"#FF97FF\",\"#FECB52\"],\"font\":{\"color\":\"#2a3f5f\"},\"geo\":{\"bgcolor\":\"white\",\"lakecolor\":\"white\",\"landcolor\":\"#E5ECF6\",\"showlakes\":true,\"showland\":true,\"subunitcolor\":\"white\"},\"hoverlabel\":{\"align\":\"left\"},\"hovermode\":\"closest\",\"mapbox\":{\"style\":\"light\"},\"paper_bgcolor\":\"white\",\"plot_bgcolor\":\"#E5ECF6\",\"polar\":{\"angularaxis\":{\"gridcolor\":\"white\",\"linecolor\":\"white\",\"ticks\":\"\"},\"bgcolor\":\"#E5ECF6\",\"radialaxis\":{\"gridcolor\":\"white\",\"linecolor\":\"white\",\"ticks\":\"\"}},\"scene\":{\"xaxis\":{\"backgroundcolor\":\"#E5ECF6\",\"gridcolor\":\"white\",\"gridwidth\":2,\"linecolor\":\"white\",\"showbackground\":true,\"ticks\":\"\",\"zerolinecolor\":\"white\"},\"yaxis\":{\"backgroundcolor\":\"#E5ECF6\",\"gridcolor\":\"white\",\"gridwidth\":2,\"linecolor\":\"white\",\"showbackground\":true,\"ticks\":\"\",\"zerolinecolor\":\"white\"},\"zaxis\":{\"backgroundcolor\":\"#E5ECF6\",\"gridcolor\":\"white\",\"gridwidth\":2,\"linecolor\":\"white\",\"showbackground\":true,\"ticks\":\"\",\"zerolinecolor\":\"white\"}},\"shapedefaults\":{\"line\":{\"color\":\"#2a3f5f\"}},\"ternary\":{\"aaxis\":{\"gridcolor\":\"white\",\"linecolor\":\"white\",\"ticks\":\"\"},\"baxis\":{\"gridcolor\":\"white\",\"linecolor\":\"white\",\"ticks\":\"\"},\"bgcolor\":\"#E5ECF6\",\"caxis\":{\"gridcolor\":\"white\",\"linecolor\":\"white\",\"ticks\":\"\"}},\"title\":{\"x\":0.05},\"xaxis\":{\"automargin\":true,\"gridcolor\":\"white\",\"linecolor\":\"white\",\"ticks\":\"\",\"title\":{\"standoff\":15},\"zerolinecolor\":\"white\",\"zerolinewidth\":2},\"yaxis\":{\"automargin\":true,\"gridcolor\":\"white\",\"linecolor\":\"white\",\"ticks\":\"\",\"title\":{\"standoff\":15},\"zerolinecolor\":\"white\",\"zerolinewidth\":2}}},\"title\":{\"font\":{\"color\":\"#4D5663\"}},\"xaxis\":{\"gridcolor\":\"#E1E5ED\",\"showgrid\":true,\"tickfont\":{\"color\":\"#4D5663\"},\"title\":{\"font\":{\"color\":\"#4D5663\"},\"text\":\"\"},\"zerolinecolor\":\"#E1E5ED\"},\"yaxis\":{\"gridcolor\":\"#E1E5ED\",\"showgrid\":true,\"tickfont\":{\"color\":\"#4D5663\"},\"title\":{\"font\":{\"color\":\"#4D5663\"},\"text\":\"\"},\"zerolinecolor\":\"#E1E5ED\"}},                        {\"showLink\": true, \"linkText\": \"Export to plot.ly\", \"plotlyServerURL\": \"https://plot.ly\", \"responsive\": true}                    ).then(function(){\n",
       "                            \n",
       "var gd = document.getElementById('638991c0-9baa-45b3-96b4-8c0ab91598fa');\n",
       "var x = new MutationObserver(function (mutations, observer) {{\n",
       "        var display = window.getComputedStyle(gd).display;\n",
       "        if (!display || display === 'none') {{\n",
       "            console.log([gd, 'removed!']);\n",
       "            Plotly.purge(gd);\n",
       "            observer.disconnect();\n",
       "        }}\n",
       "}});\n",
       "\n",
       "// Listen for the removal of the full notebook cells\n",
       "var notebookContainer = gd.closest('#notebook-container');\n",
       "if (notebookContainer) {{\n",
       "    x.observe(notebookContainer, {childList: true});\n",
       "}}\n",
       "\n",
       "// Listen for the clearing of the current output cell\n",
       "var outputEl = gd.closest('.output');\n",
       "if (outputEl) {{\n",
       "    x.observe(outputEl, {childList: true});\n",
       "}}\n",
       "\n",
       "                        })                };                });            </script>        </div>"
      ]
     },
     "metadata": {},
     "output_type": "display_data"
    }
   ],
   "source": [
    "df['A'].iplot(kind='hist',bins=25)"
   ]
  },
  {
   "cell_type": "code",
   "execution_count": 23,
   "metadata": {},
   "outputs": [
    {
     "data": {
      "application/vnd.plotly.v1+json": {
       "config": {
        "linkText": "Export to plot.ly",
        "plotlyServerURL": "https://plot.ly",
        "showLink": true
       },
       "data": [
        {
         "marker": {
          "color": [
           "rgb(255, 153, 51)",
           "rgb(55, 128, 191)",
           "rgb(50, 171, 96)",
           "rgb(128, 0, 128)",
           "rgb(219, 64, 82)",
           "rgb(0, 128, 128)",
           "rgb(255, 255, 51)",
           "rgb(128, 128, 0)",
           "rgb(251, 128, 114)",
           "rgb(128, 177, 211)"
          ],
          "line": {
           "width": 1.3
          },
          "size": [
           62,
           53,
           88,
           45,
           39,
           38,
           61,
           21,
           50,
           50,
           67,
           89,
           71,
           71,
           77,
           63,
           53,
           27,
           58,
           45,
           53,
           72,
           47,
           54,
           37,
           67,
           40,
           60,
           49,
           68,
           88,
           38,
           12,
           56,
           47,
           65,
           59,
           87,
           34,
           82,
           26,
           43,
           75,
           37,
           76,
           40,
           112,
           56,
           23,
           52,
           52,
           72,
           66,
           68,
           39,
           63,
           60,
           40,
           96,
           88,
           73,
           104,
           110,
           78,
           12,
           87,
           38,
           78,
           16,
           63,
           39,
           80,
           50,
           90,
           68,
           30,
           94,
           63,
           64,
           49,
           73,
           64,
           44,
           86,
           74,
           74,
           80,
           48,
           72,
           61,
           61,
           47,
           56,
           41,
           86,
           63,
           39,
           52,
           79,
           61
          ],
          "symbol": "circle"
         },
         "mode": "markers",
         "text": "",
         "type": "scatter",
         "x": [
          -1.0206472791320926,
          0.051856060673617886,
          0.9647955540467175,
          -0.04575644997517332,
          0.5698958108657399,
          -0.2771160176114073,
          0.6743782176988691,
          1.1334862342367846,
          0.8310518336563363,
          0.8478826680455306,
          2.1049439394759686,
          2.3467568101723724,
          0.471647951479405,
          -1.2913115835715805,
          -0.654693311813495,
          0.24421849479729904,
          0.09926206507316876,
          0.27347604364371714,
          0.6654321688845871,
          1.5441310592053583,
          0.4888350095325806,
          0.85642862115761,
          1.1995385573927553,
          0.4503558668432003,
          -0.9454681741341744,
          0.701552165824799,
          0.633064354844197,
          -2.538557521943568,
          2.100020731645149,
          -0.7309540000436948,
          0.6871288068240419,
          -0.028292285608094582,
          0.9182916080767636,
          -1.1949457214256833,
          -1.0222052787895517,
          -1.2514672068784334,
          1.9246498366119915,
          1.4123911331033236,
          -2.322350025852475,
          -0.05664151881160213,
          -1.3779867444667755,
          -1.5498274819787017,
          1.0424787347683493,
          0.3668668769136654,
          0.34794585434742087,
          -0.085468005814318,
          -0.4776892351955959,
          -0.41465365897849416,
          0.036054477415273366,
          -0.20401231462808525,
          1.161933593045215,
          0.2572211399583732,
          -0.41632458709140546,
          0.29579936461538775,
          1.150198739003133,
          -0.8558190523878071,
          0.5808270794162296,
          0.41731649079801186,
          -0.5199105582655607,
          -2.6536129916330564,
          -0.06255168951021686,
          -0.8144212770271861,
          0.383458149641642,
          0.33043639336985287,
          1.3016023329577706,
          0.3533783749387897,
          -0.7015607338711178,
          0.8265510740131821,
          -0.9446908627414659,
          -0.8394308436032527,
          1.1415191740097297,
          -0.9322500161850434,
          0.4453069113668292,
          0.6512042687445224,
          1.3332779351706576,
          0.9311953072551885,
          0.1487293030571078,
          -0.5091459935053668,
          -1.3200135704942564,
          -0.1628574076500507,
          1.051182645365468,
          -1.6572506810120788,
          -0.11636388492189238,
          0.37233883307653604,
          1.7893157472842727,
          -0.3045955172233988,
          1.4008269920829313,
          0.6601985256765023,
          0.7506108391927792,
          -2.342043098724719,
          0.06261592265701701,
          1.5248256573020205,
          -2.052558012593074,
          1.082105581164093,
          1.4130868971484738,
          0.5979348791248525,
          -1.61064676866785,
          -0.714945330445735,
          0.22106443159093367,
          0.3812254917441854
         ],
         "y": [
          0.49530524243032753,
          -0.33155284111894245,
          0.3823433216033376,
          0.9086742417323572,
          -0.9406898519372928,
          -0.8483154273799747,
          1.6571589657439307,
          -1.938873260364442,
          0.24490043966031677,
          0.18352639143114957,
          0.9049069442332238,
          0.03157437335473936,
          -0.2977416259693257,
          -1.8732813079088602,
          0.17078376111279628,
          -0.8810607662376312,
          0.2641159821815766,
          -0.012533982640648764,
          -0.9081288971485045,
          -0.9810406405593401,
          -0.9379219216301571,
          0.29968958943973506,
          -1.0119355406104276,
          -0.7816240835348891,
          -0.2837443190188271,
          0.5475878740687695,
          0.4743559307052271,
          -1.210423651310594,
          0.9249605228193762,
          0.3138368128256702,
          -0.09785414678591046,
          -0.7625445904547198,
          -0.1862413274505684,
          -0.3320865504202027,
          -0.8859063878791051,
          0.37679083266045055,
          0.9416492196016312,
          -0.007690460086156482,
          0.2297348916331496,
          -1.8412669166114761,
          1.657077117123675,
          -0.7564363578096798,
          0.659923250433344,
          1.2928900454577736,
          0.9449583129144369,
          -0.17798151351480912,
          0.6489246064349281,
          1.3156893789224975,
          1.2456668799367667,
          -1.080640862986375,
          1.539258854092646,
          -2.565655163178437,
          0.169025045961495,
          0.5999296572081371,
          1.3206214739408846,
          0.5561738385726992,
          -0.3476283799882969,
          -1.1093599651666206,
          0.6135274982162919,
          -1.0407166273927153,
          0.9470732034080648,
          -0.42440506264589123,
          1.3324077616499677,
          -0.6303178536842527,
          -0.5087271349329137,
          1.4278230591076921,
          -0.7303842795602131,
          0.8822983642819051,
          -0.9625648779028388,
          1.366666141526766,
          -0.22461546330143253,
          -0.013347324341547062,
          0.34389365060092164,
          -0.08241598369271212,
          1.1262608158821759,
          -2.014612205802725,
          0.3779595899831078,
          -1.9012238535971318,
          -0.13046129724341862,
          -0.5366218036792957,
          -0.12607265453927644,
          -0.5400340075676425,
          1.462777927141379,
          0.33414458333389485,
          -2.1199296704021457,
          -0.40834563774284355,
          -0.40434317871986625,
          0.9887146043266994,
          0.91164489839338,
          -1.6901142716218078,
          0.45073429879340104,
          -1.0270114127775605,
          0.8129813019936439,
          -1.6497272066853281,
          0.2103360616377157,
          1.4329526295414792,
          -1.581915708301178,
          -0.3759567547149745,
          -0.14636819627345232,
          -0.34260170380114285
         ]
        }
       ],
       "layout": {
        "legend": {
         "bgcolor": "#F5F6F9",
         "font": {
          "color": "#4D5663"
         }
        },
        "paper_bgcolor": "#F5F6F9",
        "plot_bgcolor": "#F5F6F9",
        "template": {
         "data": {
          "bar": [
           {
            "error_x": {
             "color": "#2a3f5f"
            },
            "error_y": {
             "color": "#2a3f5f"
            },
            "marker": {
             "line": {
              "color": "#E5ECF6",
              "width": 0.5
             },
             "pattern": {
              "fillmode": "overlay",
              "size": 10,
              "solidity": 0.2
             }
            },
            "type": "bar"
           }
          ],
          "barpolar": [
           {
            "marker": {
             "line": {
              "color": "#E5ECF6",
              "width": 0.5
             },
             "pattern": {
              "fillmode": "overlay",
              "size": 10,
              "solidity": 0.2
             }
            },
            "type": "barpolar"
           }
          ],
          "carpet": [
           {
            "aaxis": {
             "endlinecolor": "#2a3f5f",
             "gridcolor": "white",
             "linecolor": "white",
             "minorgridcolor": "white",
             "startlinecolor": "#2a3f5f"
            },
            "baxis": {
             "endlinecolor": "#2a3f5f",
             "gridcolor": "white",
             "linecolor": "white",
             "minorgridcolor": "white",
             "startlinecolor": "#2a3f5f"
            },
            "type": "carpet"
           }
          ],
          "choropleth": [
           {
            "colorbar": {
             "outlinewidth": 0,
             "ticks": ""
            },
            "type": "choropleth"
           }
          ],
          "contour": [
           {
            "colorbar": {
             "outlinewidth": 0,
             "ticks": ""
            },
            "colorscale": [
             [
              0,
              "#0d0887"
             ],
             [
              0.1111111111111111,
              "#46039f"
             ],
             [
              0.2222222222222222,
              "#7201a8"
             ],
             [
              0.3333333333333333,
              "#9c179e"
             ],
             [
              0.4444444444444444,
              "#bd3786"
             ],
             [
              0.5555555555555556,
              "#d8576b"
             ],
             [
              0.6666666666666666,
              "#ed7953"
             ],
             [
              0.7777777777777778,
              "#fb9f3a"
             ],
             [
              0.8888888888888888,
              "#fdca26"
             ],
             [
              1,
              "#f0f921"
             ]
            ],
            "type": "contour"
           }
          ],
          "contourcarpet": [
           {
            "colorbar": {
             "outlinewidth": 0,
             "ticks": ""
            },
            "type": "contourcarpet"
           }
          ],
          "heatmap": [
           {
            "colorbar": {
             "outlinewidth": 0,
             "ticks": ""
            },
            "colorscale": [
             [
              0,
              "#0d0887"
             ],
             [
              0.1111111111111111,
              "#46039f"
             ],
             [
              0.2222222222222222,
              "#7201a8"
             ],
             [
              0.3333333333333333,
              "#9c179e"
             ],
             [
              0.4444444444444444,
              "#bd3786"
             ],
             [
              0.5555555555555556,
              "#d8576b"
             ],
             [
              0.6666666666666666,
              "#ed7953"
             ],
             [
              0.7777777777777778,
              "#fb9f3a"
             ],
             [
              0.8888888888888888,
              "#fdca26"
             ],
             [
              1,
              "#f0f921"
             ]
            ],
            "type": "heatmap"
           }
          ],
          "heatmapgl": [
           {
            "colorbar": {
             "outlinewidth": 0,
             "ticks": ""
            },
            "colorscale": [
             [
              0,
              "#0d0887"
             ],
             [
              0.1111111111111111,
              "#46039f"
             ],
             [
              0.2222222222222222,
              "#7201a8"
             ],
             [
              0.3333333333333333,
              "#9c179e"
             ],
             [
              0.4444444444444444,
              "#bd3786"
             ],
             [
              0.5555555555555556,
              "#d8576b"
             ],
             [
              0.6666666666666666,
              "#ed7953"
             ],
             [
              0.7777777777777778,
              "#fb9f3a"
             ],
             [
              0.8888888888888888,
              "#fdca26"
             ],
             [
              1,
              "#f0f921"
             ]
            ],
            "type": "heatmapgl"
           }
          ],
          "histogram": [
           {
            "marker": {
             "pattern": {
              "fillmode": "overlay",
              "size": 10,
              "solidity": 0.2
             }
            },
            "type": "histogram"
           }
          ],
          "histogram2d": [
           {
            "colorbar": {
             "outlinewidth": 0,
             "ticks": ""
            },
            "colorscale": [
             [
              0,
              "#0d0887"
             ],
             [
              0.1111111111111111,
              "#46039f"
             ],
             [
              0.2222222222222222,
              "#7201a8"
             ],
             [
              0.3333333333333333,
              "#9c179e"
             ],
             [
              0.4444444444444444,
              "#bd3786"
             ],
             [
              0.5555555555555556,
              "#d8576b"
             ],
             [
              0.6666666666666666,
              "#ed7953"
             ],
             [
              0.7777777777777778,
              "#fb9f3a"
             ],
             [
              0.8888888888888888,
              "#fdca26"
             ],
             [
              1,
              "#f0f921"
             ]
            ],
            "type": "histogram2d"
           }
          ],
          "histogram2dcontour": [
           {
            "colorbar": {
             "outlinewidth": 0,
             "ticks": ""
            },
            "colorscale": [
             [
              0,
              "#0d0887"
             ],
             [
              0.1111111111111111,
              "#46039f"
             ],
             [
              0.2222222222222222,
              "#7201a8"
             ],
             [
              0.3333333333333333,
              "#9c179e"
             ],
             [
              0.4444444444444444,
              "#bd3786"
             ],
             [
              0.5555555555555556,
              "#d8576b"
             ],
             [
              0.6666666666666666,
              "#ed7953"
             ],
             [
              0.7777777777777778,
              "#fb9f3a"
             ],
             [
              0.8888888888888888,
              "#fdca26"
             ],
             [
              1,
              "#f0f921"
             ]
            ],
            "type": "histogram2dcontour"
           }
          ],
          "mesh3d": [
           {
            "colorbar": {
             "outlinewidth": 0,
             "ticks": ""
            },
            "type": "mesh3d"
           }
          ],
          "parcoords": [
           {
            "line": {
             "colorbar": {
              "outlinewidth": 0,
              "ticks": ""
             }
            },
            "type": "parcoords"
           }
          ],
          "pie": [
           {
            "automargin": true,
            "type": "pie"
           }
          ],
          "scatter": [
           {
            "marker": {
             "colorbar": {
              "outlinewidth": 0,
              "ticks": ""
             }
            },
            "type": "scatter"
           }
          ],
          "scatter3d": [
           {
            "line": {
             "colorbar": {
              "outlinewidth": 0,
              "ticks": ""
             }
            },
            "marker": {
             "colorbar": {
              "outlinewidth": 0,
              "ticks": ""
             }
            },
            "type": "scatter3d"
           }
          ],
          "scattercarpet": [
           {
            "marker": {
             "colorbar": {
              "outlinewidth": 0,
              "ticks": ""
             }
            },
            "type": "scattercarpet"
           }
          ],
          "scattergeo": [
           {
            "marker": {
             "colorbar": {
              "outlinewidth": 0,
              "ticks": ""
             }
            },
            "type": "scattergeo"
           }
          ],
          "scattergl": [
           {
            "marker": {
             "colorbar": {
              "outlinewidth": 0,
              "ticks": ""
             }
            },
            "type": "scattergl"
           }
          ],
          "scattermapbox": [
           {
            "marker": {
             "colorbar": {
              "outlinewidth": 0,
              "ticks": ""
             }
            },
            "type": "scattermapbox"
           }
          ],
          "scatterpolar": [
           {
            "marker": {
             "colorbar": {
              "outlinewidth": 0,
              "ticks": ""
             }
            },
            "type": "scatterpolar"
           }
          ],
          "scatterpolargl": [
           {
            "marker": {
             "colorbar": {
              "outlinewidth": 0,
              "ticks": ""
             }
            },
            "type": "scatterpolargl"
           }
          ],
          "scatterternary": [
           {
            "marker": {
             "colorbar": {
              "outlinewidth": 0,
              "ticks": ""
             }
            },
            "type": "scatterternary"
           }
          ],
          "surface": [
           {
            "colorbar": {
             "outlinewidth": 0,
             "ticks": ""
            },
            "colorscale": [
             [
              0,
              "#0d0887"
             ],
             [
              0.1111111111111111,
              "#46039f"
             ],
             [
              0.2222222222222222,
              "#7201a8"
             ],
             [
              0.3333333333333333,
              "#9c179e"
             ],
             [
              0.4444444444444444,
              "#bd3786"
             ],
             [
              0.5555555555555556,
              "#d8576b"
             ],
             [
              0.6666666666666666,
              "#ed7953"
             ],
             [
              0.7777777777777778,
              "#fb9f3a"
             ],
             [
              0.8888888888888888,
              "#fdca26"
             ],
             [
              1,
              "#f0f921"
             ]
            ],
            "type": "surface"
           }
          ],
          "table": [
           {
            "cells": {
             "fill": {
              "color": "#EBF0F8"
             },
             "line": {
              "color": "white"
             }
            },
            "header": {
             "fill": {
              "color": "#C8D4E3"
             },
             "line": {
              "color": "white"
             }
            },
            "type": "table"
           }
          ]
         },
         "layout": {
          "annotationdefaults": {
           "arrowcolor": "#2a3f5f",
           "arrowhead": 0,
           "arrowwidth": 1
          },
          "autotypenumbers": "strict",
          "coloraxis": {
           "colorbar": {
            "outlinewidth": 0,
            "ticks": ""
           }
          },
          "colorscale": {
           "diverging": [
            [
             0,
             "#8e0152"
            ],
            [
             0.1,
             "#c51b7d"
            ],
            [
             0.2,
             "#de77ae"
            ],
            [
             0.3,
             "#f1b6da"
            ],
            [
             0.4,
             "#fde0ef"
            ],
            [
             0.5,
             "#f7f7f7"
            ],
            [
             0.6,
             "#e6f5d0"
            ],
            [
             0.7,
             "#b8e186"
            ],
            [
             0.8,
             "#7fbc41"
            ],
            [
             0.9,
             "#4d9221"
            ],
            [
             1,
             "#276419"
            ]
           ],
           "sequential": [
            [
             0,
             "#0d0887"
            ],
            [
             0.1111111111111111,
             "#46039f"
            ],
            [
             0.2222222222222222,
             "#7201a8"
            ],
            [
             0.3333333333333333,
             "#9c179e"
            ],
            [
             0.4444444444444444,
             "#bd3786"
            ],
            [
             0.5555555555555556,
             "#d8576b"
            ],
            [
             0.6666666666666666,
             "#ed7953"
            ],
            [
             0.7777777777777778,
             "#fb9f3a"
            ],
            [
             0.8888888888888888,
             "#fdca26"
            ],
            [
             1,
             "#f0f921"
            ]
           ],
           "sequentialminus": [
            [
             0,
             "#0d0887"
            ],
            [
             0.1111111111111111,
             "#46039f"
            ],
            [
             0.2222222222222222,
             "#7201a8"
            ],
            [
             0.3333333333333333,
             "#9c179e"
            ],
            [
             0.4444444444444444,
             "#bd3786"
            ],
            [
             0.5555555555555556,
             "#d8576b"
            ],
            [
             0.6666666666666666,
             "#ed7953"
            ],
            [
             0.7777777777777778,
             "#fb9f3a"
            ],
            [
             0.8888888888888888,
             "#fdca26"
            ],
            [
             1,
             "#f0f921"
            ]
           ]
          },
          "colorway": [
           "#636efa",
           "#EF553B",
           "#00cc96",
           "#ab63fa",
           "#FFA15A",
           "#19d3f3",
           "#FF6692",
           "#B6E880",
           "#FF97FF",
           "#FECB52"
          ],
          "font": {
           "color": "#2a3f5f"
          },
          "geo": {
           "bgcolor": "white",
           "lakecolor": "white",
           "landcolor": "#E5ECF6",
           "showlakes": true,
           "showland": true,
           "subunitcolor": "white"
          },
          "hoverlabel": {
           "align": "left"
          },
          "hovermode": "closest",
          "mapbox": {
           "style": "light"
          },
          "paper_bgcolor": "white",
          "plot_bgcolor": "#E5ECF6",
          "polar": {
           "angularaxis": {
            "gridcolor": "white",
            "linecolor": "white",
            "ticks": ""
           },
           "bgcolor": "#E5ECF6",
           "radialaxis": {
            "gridcolor": "white",
            "linecolor": "white",
            "ticks": ""
           }
          },
          "scene": {
           "xaxis": {
            "backgroundcolor": "#E5ECF6",
            "gridcolor": "white",
            "gridwidth": 2,
            "linecolor": "white",
            "showbackground": true,
            "ticks": "",
            "zerolinecolor": "white"
           },
           "yaxis": {
            "backgroundcolor": "#E5ECF6",
            "gridcolor": "white",
            "gridwidth": 2,
            "linecolor": "white",
            "showbackground": true,
            "ticks": "",
            "zerolinecolor": "white"
           },
           "zaxis": {
            "backgroundcolor": "#E5ECF6",
            "gridcolor": "white",
            "gridwidth": 2,
            "linecolor": "white",
            "showbackground": true,
            "ticks": "",
            "zerolinecolor": "white"
           }
          },
          "shapedefaults": {
           "line": {
            "color": "#2a3f5f"
           }
          },
          "ternary": {
           "aaxis": {
            "gridcolor": "white",
            "linecolor": "white",
            "ticks": ""
           },
           "baxis": {
            "gridcolor": "white",
            "linecolor": "white",
            "ticks": ""
           },
           "bgcolor": "#E5ECF6",
           "caxis": {
            "gridcolor": "white",
            "linecolor": "white",
            "ticks": ""
           }
          },
          "title": {
           "x": 0.05
          },
          "xaxis": {
           "automargin": true,
           "gridcolor": "white",
           "linecolor": "white",
           "ticks": "",
           "title": {
            "standoff": 15
           },
           "zerolinecolor": "white",
           "zerolinewidth": 2
          },
          "yaxis": {
           "automargin": true,
           "gridcolor": "white",
           "linecolor": "white",
           "ticks": "",
           "title": {
            "standoff": 15
           },
           "zerolinecolor": "white",
           "zerolinewidth": 2
          }
         }
        },
        "title": {
         "font": {
          "color": "#4D5663"
         }
        },
        "xaxis": {
         "gridcolor": "#E1E5ED",
         "showgrid": true,
         "tickfont": {
          "color": "#4D5663"
         },
         "title": {
          "font": {
           "color": "#4D5663"
          },
          "text": ""
         },
         "zerolinecolor": "#E1E5ED"
        },
        "yaxis": {
         "gridcolor": "#E1E5ED",
         "showgrid": true,
         "tickfont": {
          "color": "#4D5663"
         },
         "title": {
          "font": {
           "color": "#4D5663"
          },
          "text": ""
         },
         "zerolinecolor": "#E1E5ED"
        }
       }
      },
      "text/html": [
       "<div>                            <div id=\"76ae62c8-a1cd-48c8-8b61-776495c32dd1\" class=\"plotly-graph-div\" style=\"height:525px; width:100%;\"></div>            <script type=\"text/javascript\">                require([\"plotly\"], function(Plotly) {                    window.PLOTLYENV=window.PLOTLYENV || {};\n",
       "                    window.PLOTLYENV.BASE_URL='https://plot.ly';                                    if (document.getElementById(\"76ae62c8-a1cd-48c8-8b61-776495c32dd1\")) {                    Plotly.newPlot(                        \"76ae62c8-a1cd-48c8-8b61-776495c32dd1\",                        [{\"marker\":{\"color\":[\"rgb(255, 153, 51)\",\"rgb(55, 128, 191)\",\"rgb(50, 171, 96)\",\"rgb(128, 0, 128)\",\"rgb(219, 64, 82)\",\"rgb(0, 128, 128)\",\"rgb(255, 255, 51)\",\"rgb(128, 128, 0)\",\"rgb(251, 128, 114)\",\"rgb(128, 177, 211)\"],\"line\":{\"width\":1.3},\"size\":[62,53,88,45,39,38,61,21,50,50,67,89,71,71,77,63,53,27,58,45,53,72,47,54,37,67,40,60,49,68,88,38,12,56,47,65,59,87,34,82,26,43,75,37,76,40,112,56,23,52,52,72,66,68,39,63,60,40,96,88,73,104,110,78,12,87,38,78,16,63,39,80,50,90,68,30,94,63,64,49,73,64,44,86,74,74,80,48,72,61,61,47,56,41,86,63,39,52,79,61],\"symbol\":\"circle\"},\"mode\":\"markers\",\"text\":\"\",\"type\":\"scatter\",\"x\":[-1.0206472791320926,0.051856060673617886,0.9647955540467175,-0.04575644997517332,0.5698958108657399,-0.2771160176114073,0.6743782176988691,1.1334862342367846,0.8310518336563363,0.8478826680455306,2.1049439394759686,2.3467568101723724,0.471647951479405,-1.2913115835715805,-0.654693311813495,0.24421849479729904,0.09926206507316876,0.27347604364371714,0.6654321688845871,1.5441310592053583,0.4888350095325806,0.85642862115761,1.1995385573927553,0.4503558668432003,-0.9454681741341744,0.701552165824799,0.633064354844197,-2.538557521943568,2.100020731645149,-0.7309540000436948,0.6871288068240419,-0.028292285608094582,0.9182916080767636,-1.1949457214256833,-1.0222052787895517,-1.2514672068784334,1.9246498366119915,1.4123911331033236,-2.322350025852475,-0.05664151881160213,-1.3779867444667755,-1.5498274819787017,1.0424787347683493,0.3668668769136654,0.34794585434742087,-0.085468005814318,-0.4776892351955959,-0.41465365897849416,0.036054477415273366,-0.20401231462808525,1.161933593045215,0.2572211399583732,-0.41632458709140546,0.29579936461538775,1.150198739003133,-0.8558190523878071,0.5808270794162296,0.41731649079801186,-0.5199105582655607,-2.6536129916330564,-0.06255168951021686,-0.8144212770271861,0.383458149641642,0.33043639336985287,1.3016023329577706,0.3533783749387897,-0.7015607338711178,0.8265510740131821,-0.9446908627414659,-0.8394308436032527,1.1415191740097297,-0.9322500161850434,0.4453069113668292,0.6512042687445224,1.3332779351706576,0.9311953072551885,0.1487293030571078,-0.5091459935053668,-1.3200135704942564,-0.1628574076500507,1.051182645365468,-1.6572506810120788,-0.11636388492189238,0.37233883307653604,1.7893157472842727,-0.3045955172233988,1.4008269920829313,0.6601985256765023,0.7506108391927792,-2.342043098724719,0.06261592265701701,1.5248256573020205,-2.052558012593074,1.082105581164093,1.4130868971484738,0.5979348791248525,-1.61064676866785,-0.714945330445735,0.22106443159093367,0.3812254917441854],\"y\":[0.49530524243032753,-0.33155284111894245,0.3823433216033376,0.9086742417323572,-0.9406898519372928,-0.8483154273799747,1.6571589657439307,-1.938873260364442,0.24490043966031677,0.18352639143114957,0.9049069442332238,0.03157437335473936,-0.2977416259693257,-1.8732813079088602,0.17078376111279628,-0.8810607662376312,0.2641159821815766,-0.012533982640648764,-0.9081288971485045,-0.9810406405593401,-0.9379219216301571,0.29968958943973506,-1.0119355406104276,-0.7816240835348891,-0.2837443190188271,0.5475878740687695,0.4743559307052271,-1.210423651310594,0.9249605228193762,0.3138368128256702,-0.09785414678591046,-0.7625445904547198,-0.1862413274505684,-0.3320865504202027,-0.8859063878791051,0.37679083266045055,0.9416492196016312,-0.007690460086156482,0.2297348916331496,-1.8412669166114761,1.657077117123675,-0.7564363578096798,0.659923250433344,1.2928900454577736,0.9449583129144369,-0.17798151351480912,0.6489246064349281,1.3156893789224975,1.2456668799367667,-1.080640862986375,1.539258854092646,-2.565655163178437,0.169025045961495,0.5999296572081371,1.3206214739408846,0.5561738385726992,-0.3476283799882969,-1.1093599651666206,0.6135274982162919,-1.0407166273927153,0.9470732034080648,-0.42440506264589123,1.3324077616499677,-0.6303178536842527,-0.5087271349329137,1.4278230591076921,-0.7303842795602131,0.8822983642819051,-0.9625648779028388,1.366666141526766,-0.22461546330143253,-0.013347324341547062,0.34389365060092164,-0.08241598369271212,1.1262608158821759,-2.014612205802725,0.3779595899831078,-1.9012238535971318,-0.13046129724341862,-0.5366218036792957,-0.12607265453927644,-0.5400340075676425,1.462777927141379,0.33414458333389485,-2.1199296704021457,-0.40834563774284355,-0.40434317871986625,0.9887146043266994,0.91164489839338,-1.6901142716218078,0.45073429879340104,-1.0270114127775605,0.8129813019936439,-1.6497272066853281,0.2103360616377157,1.4329526295414792,-1.581915708301178,-0.3759567547149745,-0.14636819627345232,-0.34260170380114285]}],                        {\"legend\":{\"bgcolor\":\"#F5F6F9\",\"font\":{\"color\":\"#4D5663\"}},\"paper_bgcolor\":\"#F5F6F9\",\"plot_bgcolor\":\"#F5F6F9\",\"template\":{\"data\":{\"bar\":[{\"error_x\":{\"color\":\"#2a3f5f\"},\"error_y\":{\"color\":\"#2a3f5f\"},\"marker\":{\"line\":{\"color\":\"#E5ECF6\",\"width\":0.5},\"pattern\":{\"fillmode\":\"overlay\",\"size\":10,\"solidity\":0.2}},\"type\":\"bar\"}],\"barpolar\":[{\"marker\":{\"line\":{\"color\":\"#E5ECF6\",\"width\":0.5},\"pattern\":{\"fillmode\":\"overlay\",\"size\":10,\"solidity\":0.2}},\"type\":\"barpolar\"}],\"carpet\":[{\"aaxis\":{\"endlinecolor\":\"#2a3f5f\",\"gridcolor\":\"white\",\"linecolor\":\"white\",\"minorgridcolor\":\"white\",\"startlinecolor\":\"#2a3f5f\"},\"baxis\":{\"endlinecolor\":\"#2a3f5f\",\"gridcolor\":\"white\",\"linecolor\":\"white\",\"minorgridcolor\":\"white\",\"startlinecolor\":\"#2a3f5f\"},\"type\":\"carpet\"}],\"choropleth\":[{\"colorbar\":{\"outlinewidth\":0,\"ticks\":\"\"},\"type\":\"choropleth\"}],\"contour\":[{\"colorbar\":{\"outlinewidth\":0,\"ticks\":\"\"},\"colorscale\":[[0.0,\"#0d0887\"],[0.1111111111111111,\"#46039f\"],[0.2222222222222222,\"#7201a8\"],[0.3333333333333333,\"#9c179e\"],[0.4444444444444444,\"#bd3786\"],[0.5555555555555556,\"#d8576b\"],[0.6666666666666666,\"#ed7953\"],[0.7777777777777778,\"#fb9f3a\"],[0.8888888888888888,\"#fdca26\"],[1.0,\"#f0f921\"]],\"type\":\"contour\"}],\"contourcarpet\":[{\"colorbar\":{\"outlinewidth\":0,\"ticks\":\"\"},\"type\":\"contourcarpet\"}],\"heatmap\":[{\"colorbar\":{\"outlinewidth\":0,\"ticks\":\"\"},\"colorscale\":[[0.0,\"#0d0887\"],[0.1111111111111111,\"#46039f\"],[0.2222222222222222,\"#7201a8\"],[0.3333333333333333,\"#9c179e\"],[0.4444444444444444,\"#bd3786\"],[0.5555555555555556,\"#d8576b\"],[0.6666666666666666,\"#ed7953\"],[0.7777777777777778,\"#fb9f3a\"],[0.8888888888888888,\"#fdca26\"],[1.0,\"#f0f921\"]],\"type\":\"heatmap\"}],\"heatmapgl\":[{\"colorbar\":{\"outlinewidth\":0,\"ticks\":\"\"},\"colorscale\":[[0.0,\"#0d0887\"],[0.1111111111111111,\"#46039f\"],[0.2222222222222222,\"#7201a8\"],[0.3333333333333333,\"#9c179e\"],[0.4444444444444444,\"#bd3786\"],[0.5555555555555556,\"#d8576b\"],[0.6666666666666666,\"#ed7953\"],[0.7777777777777778,\"#fb9f3a\"],[0.8888888888888888,\"#fdca26\"],[1.0,\"#f0f921\"]],\"type\":\"heatmapgl\"}],\"histogram\":[{\"marker\":{\"pattern\":{\"fillmode\":\"overlay\",\"size\":10,\"solidity\":0.2}},\"type\":\"histogram\"}],\"histogram2d\":[{\"colorbar\":{\"outlinewidth\":0,\"ticks\":\"\"},\"colorscale\":[[0.0,\"#0d0887\"],[0.1111111111111111,\"#46039f\"],[0.2222222222222222,\"#7201a8\"],[0.3333333333333333,\"#9c179e\"],[0.4444444444444444,\"#bd3786\"],[0.5555555555555556,\"#d8576b\"],[0.6666666666666666,\"#ed7953\"],[0.7777777777777778,\"#fb9f3a\"],[0.8888888888888888,\"#fdca26\"],[1.0,\"#f0f921\"]],\"type\":\"histogram2d\"}],\"histogram2dcontour\":[{\"colorbar\":{\"outlinewidth\":0,\"ticks\":\"\"},\"colorscale\":[[0.0,\"#0d0887\"],[0.1111111111111111,\"#46039f\"],[0.2222222222222222,\"#7201a8\"],[0.3333333333333333,\"#9c179e\"],[0.4444444444444444,\"#bd3786\"],[0.5555555555555556,\"#d8576b\"],[0.6666666666666666,\"#ed7953\"],[0.7777777777777778,\"#fb9f3a\"],[0.8888888888888888,\"#fdca26\"],[1.0,\"#f0f921\"]],\"type\":\"histogram2dcontour\"}],\"mesh3d\":[{\"colorbar\":{\"outlinewidth\":0,\"ticks\":\"\"},\"type\":\"mesh3d\"}],\"parcoords\":[{\"line\":{\"colorbar\":{\"outlinewidth\":0,\"ticks\":\"\"}},\"type\":\"parcoords\"}],\"pie\":[{\"automargin\":true,\"type\":\"pie\"}],\"scatter\":[{\"marker\":{\"colorbar\":{\"outlinewidth\":0,\"ticks\":\"\"}},\"type\":\"scatter\"}],\"scatter3d\":[{\"line\":{\"colorbar\":{\"outlinewidth\":0,\"ticks\":\"\"}},\"marker\":{\"colorbar\":{\"outlinewidth\":0,\"ticks\":\"\"}},\"type\":\"scatter3d\"}],\"scattercarpet\":[{\"marker\":{\"colorbar\":{\"outlinewidth\":0,\"ticks\":\"\"}},\"type\":\"scattercarpet\"}],\"scattergeo\":[{\"marker\":{\"colorbar\":{\"outlinewidth\":0,\"ticks\":\"\"}},\"type\":\"scattergeo\"}],\"scattergl\":[{\"marker\":{\"colorbar\":{\"outlinewidth\":0,\"ticks\":\"\"}},\"type\":\"scattergl\"}],\"scattermapbox\":[{\"marker\":{\"colorbar\":{\"outlinewidth\":0,\"ticks\":\"\"}},\"type\":\"scattermapbox\"}],\"scatterpolar\":[{\"marker\":{\"colorbar\":{\"outlinewidth\":0,\"ticks\":\"\"}},\"type\":\"scatterpolar\"}],\"scatterpolargl\":[{\"marker\":{\"colorbar\":{\"outlinewidth\":0,\"ticks\":\"\"}},\"type\":\"scatterpolargl\"}],\"scatterternary\":[{\"marker\":{\"colorbar\":{\"outlinewidth\":0,\"ticks\":\"\"}},\"type\":\"scatterternary\"}],\"surface\":[{\"colorbar\":{\"outlinewidth\":0,\"ticks\":\"\"},\"colorscale\":[[0.0,\"#0d0887\"],[0.1111111111111111,\"#46039f\"],[0.2222222222222222,\"#7201a8\"],[0.3333333333333333,\"#9c179e\"],[0.4444444444444444,\"#bd3786\"],[0.5555555555555556,\"#d8576b\"],[0.6666666666666666,\"#ed7953\"],[0.7777777777777778,\"#fb9f3a\"],[0.8888888888888888,\"#fdca26\"],[1.0,\"#f0f921\"]],\"type\":\"surface\"}],\"table\":[{\"cells\":{\"fill\":{\"color\":\"#EBF0F8\"},\"line\":{\"color\":\"white\"}},\"header\":{\"fill\":{\"color\":\"#C8D4E3\"},\"line\":{\"color\":\"white\"}},\"type\":\"table\"}]},\"layout\":{\"annotationdefaults\":{\"arrowcolor\":\"#2a3f5f\",\"arrowhead\":0,\"arrowwidth\":1},\"autotypenumbers\":\"strict\",\"coloraxis\":{\"colorbar\":{\"outlinewidth\":0,\"ticks\":\"\"}},\"colorscale\":{\"diverging\":[[0,\"#8e0152\"],[0.1,\"#c51b7d\"],[0.2,\"#de77ae\"],[0.3,\"#f1b6da\"],[0.4,\"#fde0ef\"],[0.5,\"#f7f7f7\"],[0.6,\"#e6f5d0\"],[0.7,\"#b8e186\"],[0.8,\"#7fbc41\"],[0.9,\"#4d9221\"],[1,\"#276419\"]],\"sequential\":[[0.0,\"#0d0887\"],[0.1111111111111111,\"#46039f\"],[0.2222222222222222,\"#7201a8\"],[0.3333333333333333,\"#9c179e\"],[0.4444444444444444,\"#bd3786\"],[0.5555555555555556,\"#d8576b\"],[0.6666666666666666,\"#ed7953\"],[0.7777777777777778,\"#fb9f3a\"],[0.8888888888888888,\"#fdca26\"],[1.0,\"#f0f921\"]],\"sequentialminus\":[[0.0,\"#0d0887\"],[0.1111111111111111,\"#46039f\"],[0.2222222222222222,\"#7201a8\"],[0.3333333333333333,\"#9c179e\"],[0.4444444444444444,\"#bd3786\"],[0.5555555555555556,\"#d8576b\"],[0.6666666666666666,\"#ed7953\"],[0.7777777777777778,\"#fb9f3a\"],[0.8888888888888888,\"#fdca26\"],[1.0,\"#f0f921\"]]},\"colorway\":[\"#636efa\",\"#EF553B\",\"#00cc96\",\"#ab63fa\",\"#FFA15A\",\"#19d3f3\",\"#FF6692\",\"#B6E880\",\"#FF97FF\",\"#FECB52\"],\"font\":{\"color\":\"#2a3f5f\"},\"geo\":{\"bgcolor\":\"white\",\"lakecolor\":\"white\",\"landcolor\":\"#E5ECF6\",\"showlakes\":true,\"showland\":true,\"subunitcolor\":\"white\"},\"hoverlabel\":{\"align\":\"left\"},\"hovermode\":\"closest\",\"mapbox\":{\"style\":\"light\"},\"paper_bgcolor\":\"white\",\"plot_bgcolor\":\"#E5ECF6\",\"polar\":{\"angularaxis\":{\"gridcolor\":\"white\",\"linecolor\":\"white\",\"ticks\":\"\"},\"bgcolor\":\"#E5ECF6\",\"radialaxis\":{\"gridcolor\":\"white\",\"linecolor\":\"white\",\"ticks\":\"\"}},\"scene\":{\"xaxis\":{\"backgroundcolor\":\"#E5ECF6\",\"gridcolor\":\"white\",\"gridwidth\":2,\"linecolor\":\"white\",\"showbackground\":true,\"ticks\":\"\",\"zerolinecolor\":\"white\"},\"yaxis\":{\"backgroundcolor\":\"#E5ECF6\",\"gridcolor\":\"white\",\"gridwidth\":2,\"linecolor\":\"white\",\"showbackground\":true,\"ticks\":\"\",\"zerolinecolor\":\"white\"},\"zaxis\":{\"backgroundcolor\":\"#E5ECF6\",\"gridcolor\":\"white\",\"gridwidth\":2,\"linecolor\":\"white\",\"showbackground\":true,\"ticks\":\"\",\"zerolinecolor\":\"white\"}},\"shapedefaults\":{\"line\":{\"color\":\"#2a3f5f\"}},\"ternary\":{\"aaxis\":{\"gridcolor\":\"white\",\"linecolor\":\"white\",\"ticks\":\"\"},\"baxis\":{\"gridcolor\":\"white\",\"linecolor\":\"white\",\"ticks\":\"\"},\"bgcolor\":\"#E5ECF6\",\"caxis\":{\"gridcolor\":\"white\",\"linecolor\":\"white\",\"ticks\":\"\"}},\"title\":{\"x\":0.05},\"xaxis\":{\"automargin\":true,\"gridcolor\":\"white\",\"linecolor\":\"white\",\"ticks\":\"\",\"title\":{\"standoff\":15},\"zerolinecolor\":\"white\",\"zerolinewidth\":2},\"yaxis\":{\"automargin\":true,\"gridcolor\":\"white\",\"linecolor\":\"white\",\"ticks\":\"\",\"title\":{\"standoff\":15},\"zerolinecolor\":\"white\",\"zerolinewidth\":2}}},\"title\":{\"font\":{\"color\":\"#4D5663\"}},\"xaxis\":{\"gridcolor\":\"#E1E5ED\",\"showgrid\":true,\"tickfont\":{\"color\":\"#4D5663\"},\"title\":{\"font\":{\"color\":\"#4D5663\"},\"text\":\"\"},\"zerolinecolor\":\"#E1E5ED\"},\"yaxis\":{\"gridcolor\":\"#E1E5ED\",\"showgrid\":true,\"tickfont\":{\"color\":\"#4D5663\"},\"title\":{\"font\":{\"color\":\"#4D5663\"},\"text\":\"\"},\"zerolinecolor\":\"#E1E5ED\"}},                        {\"showLink\": true, \"linkText\": \"Export to plot.ly\", \"plotlyServerURL\": \"https://plot.ly\", \"responsive\": true}                    ).then(function(){\n",
       "                            \n",
       "var gd = document.getElementById('76ae62c8-a1cd-48c8-8b61-776495c32dd1');\n",
       "var x = new MutationObserver(function (mutations, observer) {{\n",
       "        var display = window.getComputedStyle(gd).display;\n",
       "        if (!display || display === 'none') {{\n",
       "            console.log([gd, 'removed!']);\n",
       "            Plotly.purge(gd);\n",
       "            observer.disconnect();\n",
       "        }}\n",
       "}});\n",
       "\n",
       "// Listen for the removal of the full notebook cells\n",
       "var notebookContainer = gd.closest('#notebook-container');\n",
       "if (notebookContainer) {{\n",
       "    x.observe(notebookContainer, {childList: true});\n",
       "}}\n",
       "\n",
       "// Listen for the clearing of the current output cell\n",
       "var outputEl = gd.closest('.output');\n",
       "if (outputEl) {{\n",
       "    x.observe(outputEl, {childList: true});\n",
       "}}\n",
       "\n",
       "                        })                };                });            </script>        </div>"
      ]
     },
     "metadata": {},
     "output_type": "display_data"
    }
   ],
   "source": [
    "df.iplot(kind='bubble',x='A',y='B',size='C')"
   ]
  },
  {
   "cell_type": "markdown",
   "metadata": {},
   "source": [
    "## scatter_matrix()\n",
    "\n",
    "Similar a sns.pairplot()"
   ]
  },
  {
   "cell_type": "code",
   "execution_count": 24,
   "metadata": {},
   "outputs": [
    {
     "data": {
      "application/vnd.plotly.v1+json": {
       "config": {
        "linkText": "Export to plot.ly",
        "plotlyServerURL": "https://plot.ly",
        "showLink": true
       },
       "data": [
        {
         "histfunc": "count",
         "histnorm": "",
         "marker": {
          "color": "rgba(255, 153, 51, 1.0)",
          "line": {
           "color": "#4D5663",
           "width": 1.3
          }
         },
         "name": "A",
         "nbinsx": 10,
         "opacity": 0.8,
         "orientation": "v",
         "type": "histogram",
         "x": [
          -1.0206472791320926,
          0.051856060673617886,
          0.9647955540467175,
          -0.04575644997517332,
          0.5698958108657399,
          -0.2771160176114073,
          0.6743782176988691,
          1.1334862342367846,
          0.8310518336563363,
          0.8478826680455306,
          2.1049439394759686,
          2.3467568101723724,
          0.471647951479405,
          -1.2913115835715805,
          -0.654693311813495,
          0.24421849479729904,
          0.09926206507316876,
          0.27347604364371714,
          0.6654321688845871,
          1.5441310592053583,
          0.4888350095325806,
          0.85642862115761,
          1.1995385573927553,
          0.4503558668432003,
          -0.9454681741341744,
          0.701552165824799,
          0.633064354844197,
          -2.538557521943568,
          2.100020731645149,
          -0.7309540000436948,
          0.6871288068240419,
          -0.028292285608094582,
          0.9182916080767636,
          -1.1949457214256833,
          -1.0222052787895517,
          -1.2514672068784334,
          1.9246498366119915,
          1.4123911331033236,
          -2.322350025852475,
          -0.05664151881160213,
          -1.3779867444667755,
          -1.5498274819787017,
          1.0424787347683493,
          0.3668668769136654,
          0.34794585434742087,
          -0.085468005814318,
          -0.4776892351955959,
          -0.41465365897849416,
          0.036054477415273366,
          -0.20401231462808525,
          1.161933593045215,
          0.2572211399583732,
          -0.41632458709140546,
          0.29579936461538775,
          1.150198739003133,
          -0.8558190523878071,
          0.5808270794162296,
          0.41731649079801186,
          -0.5199105582655607,
          -2.6536129916330564,
          -0.06255168951021686,
          -0.8144212770271861,
          0.383458149641642,
          0.33043639336985287,
          1.3016023329577706,
          0.3533783749387897,
          -0.7015607338711178,
          0.8265510740131821,
          -0.9446908627414659,
          -0.8394308436032527,
          1.1415191740097297,
          -0.9322500161850434,
          0.4453069113668292,
          0.6512042687445224,
          1.3332779351706576,
          0.9311953072551885,
          0.1487293030571078,
          -0.5091459935053668,
          -1.3200135704942564,
          -0.1628574076500507,
          1.051182645365468,
          -1.6572506810120788,
          -0.11636388492189238,
          0.37233883307653604,
          1.7893157472842727,
          -0.3045955172233988,
          1.4008269920829313,
          0.6601985256765023,
          0.7506108391927792,
          -2.342043098724719,
          0.06261592265701701,
          1.5248256573020205,
          -2.052558012593074,
          1.082105581164093,
          1.4130868971484738,
          0.5979348791248525,
          -1.61064676866785,
          -0.714945330445735,
          0.22106443159093367,
          0.3812254917441854
         ],
         "xaxis": "x",
         "yaxis": "y"
        },
        {
         "line": {
          "color": "rgba(128, 128, 128, 1.0)",
          "dash": "solid",
          "shape": "linear",
          "width": 1.3
         },
         "marker": {
          "size": 2,
          "symbol": "circle"
         },
         "mode": "markers",
         "name": "A",
         "text": "",
         "type": "scatter",
         "x": [
          0.49530524243032753,
          -0.33155284111894245,
          0.3823433216033376,
          0.9086742417323572,
          -0.9406898519372928,
          -0.8483154273799747,
          1.6571589657439307,
          -1.938873260364442,
          0.24490043966031677,
          0.18352639143114957,
          0.9049069442332238,
          0.03157437335473936,
          -0.2977416259693257,
          -1.8732813079088602,
          0.17078376111279628,
          -0.8810607662376312,
          0.2641159821815766,
          -0.012533982640648764,
          -0.9081288971485045,
          -0.9810406405593401,
          -0.9379219216301571,
          0.29968958943973506,
          -1.0119355406104276,
          -0.7816240835348891,
          -0.2837443190188271,
          0.5475878740687695,
          0.4743559307052271,
          -1.210423651310594,
          0.9249605228193762,
          0.3138368128256702,
          -0.09785414678591046,
          -0.7625445904547198,
          -0.1862413274505684,
          -0.3320865504202027,
          -0.8859063878791051,
          0.37679083266045055,
          0.9416492196016312,
          -0.007690460086156482,
          0.2297348916331496,
          -1.8412669166114761,
          1.657077117123675,
          -0.7564363578096798,
          0.659923250433344,
          1.2928900454577736,
          0.9449583129144369,
          -0.17798151351480912,
          0.6489246064349281,
          1.3156893789224975,
          1.2456668799367667,
          -1.080640862986375,
          1.539258854092646,
          -2.565655163178437,
          0.169025045961495,
          0.5999296572081371,
          1.3206214739408846,
          0.5561738385726992,
          -0.3476283799882969,
          -1.1093599651666206,
          0.6135274982162919,
          -1.0407166273927153,
          0.9470732034080648,
          -0.42440506264589123,
          1.3324077616499677,
          -0.6303178536842527,
          -0.5087271349329137,
          1.4278230591076921,
          -0.7303842795602131,
          0.8822983642819051,
          -0.9625648779028388,
          1.366666141526766,
          -0.22461546330143253,
          -0.013347324341547062,
          0.34389365060092164,
          -0.08241598369271212,
          1.1262608158821759,
          -2.014612205802725,
          0.3779595899831078,
          -1.9012238535971318,
          -0.13046129724341862,
          -0.5366218036792957,
          -0.12607265453927644,
          -0.5400340075676425,
          1.462777927141379,
          0.33414458333389485,
          -2.1199296704021457,
          -0.40834563774284355,
          -0.40434317871986625,
          0.9887146043266994,
          0.91164489839338,
          -1.6901142716218078,
          0.45073429879340104,
          -1.0270114127775605,
          0.8129813019936439,
          -1.6497272066853281,
          0.2103360616377157,
          1.4329526295414792,
          -1.581915708301178,
          -0.3759567547149745,
          -0.14636819627345232,
          -0.34260170380114285
         ],
         "xaxis": "x2",
         "y": [
          -1.0206472791320926,
          0.051856060673617886,
          0.9647955540467175,
          -0.04575644997517332,
          0.5698958108657399,
          -0.2771160176114073,
          0.6743782176988691,
          1.1334862342367846,
          0.8310518336563363,
          0.8478826680455306,
          2.1049439394759686,
          2.3467568101723724,
          0.471647951479405,
          -1.2913115835715805,
          -0.654693311813495,
          0.24421849479729904,
          0.09926206507316876,
          0.27347604364371714,
          0.6654321688845871,
          1.5441310592053583,
          0.4888350095325806,
          0.85642862115761,
          1.1995385573927553,
          0.4503558668432003,
          -0.9454681741341744,
          0.701552165824799,
          0.633064354844197,
          -2.538557521943568,
          2.100020731645149,
          -0.7309540000436948,
          0.6871288068240419,
          -0.028292285608094582,
          0.9182916080767636,
          -1.1949457214256833,
          -1.0222052787895517,
          -1.2514672068784334,
          1.9246498366119915,
          1.4123911331033236,
          -2.322350025852475,
          -0.05664151881160213,
          -1.3779867444667755,
          -1.5498274819787017,
          1.0424787347683493,
          0.3668668769136654,
          0.34794585434742087,
          -0.085468005814318,
          -0.4776892351955959,
          -0.41465365897849416,
          0.036054477415273366,
          -0.20401231462808525,
          1.161933593045215,
          0.2572211399583732,
          -0.41632458709140546,
          0.29579936461538775,
          1.150198739003133,
          -0.8558190523878071,
          0.5808270794162296,
          0.41731649079801186,
          -0.5199105582655607,
          -2.6536129916330564,
          -0.06255168951021686,
          -0.8144212770271861,
          0.383458149641642,
          0.33043639336985287,
          1.3016023329577706,
          0.3533783749387897,
          -0.7015607338711178,
          0.8265510740131821,
          -0.9446908627414659,
          -0.8394308436032527,
          1.1415191740097297,
          -0.9322500161850434,
          0.4453069113668292,
          0.6512042687445224,
          1.3332779351706576,
          0.9311953072551885,
          0.1487293030571078,
          -0.5091459935053668,
          -1.3200135704942564,
          -0.1628574076500507,
          1.051182645365468,
          -1.6572506810120788,
          -0.11636388492189238,
          0.37233883307653604,
          1.7893157472842727,
          -0.3045955172233988,
          1.4008269920829313,
          0.6601985256765023,
          0.7506108391927792,
          -2.342043098724719,
          0.06261592265701701,
          1.5248256573020205,
          -2.052558012593074,
          1.082105581164093,
          1.4130868971484738,
          0.5979348791248525,
          -1.61064676866785,
          -0.714945330445735,
          0.22106443159093367,
          0.3812254917441854
         ],
         "yaxis": "y2"
        },
        {
         "line": {
          "color": "rgba(128, 128, 128, 1.0)",
          "dash": "solid",
          "shape": "linear",
          "width": 1.3
         },
         "marker": {
          "size": 2,
          "symbol": "circle"
         },
         "mode": "markers",
         "name": "A",
         "text": "",
         "type": "scatter",
         "x": [
          0.12807187542398446,
          -0.3379463377964324,
          1.4633959013920768,
          -0.7738598484728232,
          -1.0506891784607324,
          -1.09518691881857,
          0.044644608263914184,
          -1.9890471028668202,
          -0.4979235596864153,
          -0.4917194995315308,
          0.3723206047024177,
          1.4797020017419786,
          0.5822251097411749,
          0.5690730061828009,
          0.8982496318252999,
          0.17036934960817704,
          -0.3348729005798415,
          -1.6858302901496391,
          -0.09501172767999093,
          -0.7619592055406335,
          -0.32528897590914885,
          0.6038411479342818,
          -0.648527324425865,
          -0.27739186473579414,
          -1.1519450600777303,
          0.35994010301896,
          -1.0047115407190013,
          0.018081751091101536,
          -0.5757856328012967,
          0.39663682494637903,
          1.4596645528499967,
          -1.0962404173890326,
          -2.4598285717737594,
          -0.17083847101992244,
          -0.6761894887970228,
          0.24866589158258182,
          -0.029436222060168354,
          1.4155548765095454,
          -1.3271971507233289,
          1.120612037768788,
          -1.7569662771148205,
          -0.8837976051847442,
          0.7814504711599632,
          -1.1585953557552133,
          0.8296550448227875,
          -1.022371651731951,
          2.6474934379087967,
          -0.1912819262932093,
          -1.9066585577083526,
          -0.3901423136816461,
          -0.3760894204814213,
          0.6152684209827143,
          0.32727873814900565,
          0.41456818164039266,
          -1.0900178944425651,
          0.18417547935634557,
          -0.011093448019438791,
          -1.0297139516709861,
          1.8751686118475495,
          1.441084167812649,
          0.6884012654943377,
          2.2678012801697065,
          2.574679436025041,
          0.9451138305462838,
          -2.4745569767804945,
          1.3778785688946562,
          -1.1319363625136982,
          0.9294825643245276,
          -2.2649043477165414,
          0.18409100590505723,
          -1.0863010954183472,
          1.0165512494366178,
          -0.4926783393127255,
          1.5575130252219136,
          0.42694304228021995,
          -1.5016976988685655,
          1.7556337797231079,
          0.16630108389176115,
          0.2005436626847083,
          -0.5662535692768542,
          0.7000057752049412,
          0.20418566509752173,
          -0.8085208385874586,
          1.3547112958490681,
          0.7484134879484421,
          0.7516113952927546,
          1.0302314724346373,
          -0.6282968589562925,
          0.6241653504657344,
          0.051760190304043205,
          0.07008875643568846,
          -0.6663436136115266,
          -0.16976616290151544,
          -0.9639158937639654,
          1.332975648244094,
          0.15542889576827051,
          -1.0420319739732598,
          -0.4051167484244614,
          0.9892453566514525,
          0.03987956195702824
         ],
         "xaxis": "x3",
         "y": [
          -1.0206472791320926,
          0.051856060673617886,
          0.9647955540467175,
          -0.04575644997517332,
          0.5698958108657399,
          -0.2771160176114073,
          0.6743782176988691,
          1.1334862342367846,
          0.8310518336563363,
          0.8478826680455306,
          2.1049439394759686,
          2.3467568101723724,
          0.471647951479405,
          -1.2913115835715805,
          -0.654693311813495,
          0.24421849479729904,
          0.09926206507316876,
          0.27347604364371714,
          0.6654321688845871,
          1.5441310592053583,
          0.4888350095325806,
          0.85642862115761,
          1.1995385573927553,
          0.4503558668432003,
          -0.9454681741341744,
          0.701552165824799,
          0.633064354844197,
          -2.538557521943568,
          2.100020731645149,
          -0.7309540000436948,
          0.6871288068240419,
          -0.028292285608094582,
          0.9182916080767636,
          -1.1949457214256833,
          -1.0222052787895517,
          -1.2514672068784334,
          1.9246498366119915,
          1.4123911331033236,
          -2.322350025852475,
          -0.05664151881160213,
          -1.3779867444667755,
          -1.5498274819787017,
          1.0424787347683493,
          0.3668668769136654,
          0.34794585434742087,
          -0.085468005814318,
          -0.4776892351955959,
          -0.41465365897849416,
          0.036054477415273366,
          -0.20401231462808525,
          1.161933593045215,
          0.2572211399583732,
          -0.41632458709140546,
          0.29579936461538775,
          1.150198739003133,
          -0.8558190523878071,
          0.5808270794162296,
          0.41731649079801186,
          -0.5199105582655607,
          -2.6536129916330564,
          -0.06255168951021686,
          -0.8144212770271861,
          0.383458149641642,
          0.33043639336985287,
          1.3016023329577706,
          0.3533783749387897,
          -0.7015607338711178,
          0.8265510740131821,
          -0.9446908627414659,
          -0.8394308436032527,
          1.1415191740097297,
          -0.9322500161850434,
          0.4453069113668292,
          0.6512042687445224,
          1.3332779351706576,
          0.9311953072551885,
          0.1487293030571078,
          -0.5091459935053668,
          -1.3200135704942564,
          -0.1628574076500507,
          1.051182645365468,
          -1.6572506810120788,
          -0.11636388492189238,
          0.37233883307653604,
          1.7893157472842727,
          -0.3045955172233988,
          1.4008269920829313,
          0.6601985256765023,
          0.7506108391927792,
          -2.342043098724719,
          0.06261592265701701,
          1.5248256573020205,
          -2.052558012593074,
          1.082105581164093,
          1.4130868971484738,
          0.5979348791248525,
          -1.61064676866785,
          -0.714945330445735,
          0.22106443159093367,
          0.3812254917441854
         ],
         "yaxis": "y3"
        },
        {
         "line": {
          "color": "rgba(128, 128, 128, 1.0)",
          "dash": "solid",
          "shape": "linear",
          "width": 1.3
         },
         "marker": {
          "size": 2,
          "symbol": "circle"
         },
         "mode": "markers",
         "name": "A",
         "text": "",
         "type": "scatter",
         "x": [
          -0.04991211993374211,
          -0.12439110703781973,
          0.7101003614182688,
          -0.35398370554287545,
          1.5164722533933743,
          -0.41835023750400413,
          1.5578918472611498,
          -1.0470709111688634,
          -0.21564737040826687,
          0.25162592947540413,
          -0.7905196919300693,
          0.9560849098301893,
          1.4076471419284666,
          -1.2314418596796994,
          0.06572488882951952,
          -0.19774577889226952,
          -0.2591421126525056,
          1.4120511137012324,
          -1.982797453619798,
          -0.7368091611591652,
          -0.8908859816266917,
          0.8493942792511213,
          -0.9343664832323013,
          -0.9386450383133357,
          2.2357034181115303,
          -0.9649586851045795,
          -0.047329575850956734,
          0.1474778487189868,
          0.2842770948925106,
          0.7390626475625436,
          1.9440813080345196,
          0.9362213920110779,
          0.04646899136067646,
          -1.3895335865701155,
          -1.4293090319454262,
          -0.08369349619341691,
          -0.1031727868141034,
          0.4318333905014164,
          1.060558604243418,
          -0.6757995431173397,
          -0.7096132372107928,
          0.10785597274051674,
          -0.16725231627786866,
          0.2771413691585504,
          -0.10731638343080796,
          -1.8451425109836772,
          1.274677229320815,
          0.58717604479936,
          0.061611251382167664,
          -0.6430230342613754,
          -1.4743013694904314,
          -0.9158900645774197,
          -0.954786758280121,
          0.6822081948259144,
          0.34839879704861276,
          -0.04598070960361859,
          -0.3477887295783607,
          0.3424614556936414,
          1.2537422587256064,
          -0.3144636316232511,
          -0.33088166767918203,
          0.24098583691838285,
          -1.8494257216038525,
          -1.303321892877603,
          0.08727993420435855,
          -0.21144392685744304,
          -0.99802670303803,
          -0.582998972099361,
          0.12599760514905586,
          0.33768209228641816,
          0.9832081914713734,
          0.6142968437316982,
          -0.4867280205325363,
          -0.4611200177845175,
          1.0887127777617118,
          0.9745419332751694,
          -0.1944659262355014,
          -0.08836951316997524,
          -0.2280425629868187,
          -1.1624890707556061,
          1.3342967092565288,
          -1.4914465689637137,
          1.4051448495954553,
          0.07991409864922384,
          1.4488475536515766,
          -0.4812499254280882,
          -1.3720939113128368,
          1.6994099505627416,
          -0.48774505776445826,
          -0.458635435852188,
          -1.065294785120887,
          -1.2646413351401742,
          -0.803687099083522,
          -0.47927193126466255,
          -0.4379284085692556,
          0.2669769600358279,
          1.069464782804705,
          0.973077922156685,
          0.973895942338388,
          1.97257060193517
         ],
         "xaxis": "x4",
         "y": [
          -1.0206472791320926,
          0.051856060673617886,
          0.9647955540467175,
          -0.04575644997517332,
          0.5698958108657399,
          -0.2771160176114073,
          0.6743782176988691,
          1.1334862342367846,
          0.8310518336563363,
          0.8478826680455306,
          2.1049439394759686,
          2.3467568101723724,
          0.471647951479405,
          -1.2913115835715805,
          -0.654693311813495,
          0.24421849479729904,
          0.09926206507316876,
          0.27347604364371714,
          0.6654321688845871,
          1.5441310592053583,
          0.4888350095325806,
          0.85642862115761,
          1.1995385573927553,
          0.4503558668432003,
          -0.9454681741341744,
          0.701552165824799,
          0.633064354844197,
          -2.538557521943568,
          2.100020731645149,
          -0.7309540000436948,
          0.6871288068240419,
          -0.028292285608094582,
          0.9182916080767636,
          -1.1949457214256833,
          -1.0222052787895517,
          -1.2514672068784334,
          1.9246498366119915,
          1.4123911331033236,
          -2.322350025852475,
          -0.05664151881160213,
          -1.3779867444667755,
          -1.5498274819787017,
          1.0424787347683493,
          0.3668668769136654,
          0.34794585434742087,
          -0.085468005814318,
          -0.4776892351955959,
          -0.41465365897849416,
          0.036054477415273366,
          -0.20401231462808525,
          1.161933593045215,
          0.2572211399583732,
          -0.41632458709140546,
          0.29579936461538775,
          1.150198739003133,
          -0.8558190523878071,
          0.5808270794162296,
          0.41731649079801186,
          -0.5199105582655607,
          -2.6536129916330564,
          -0.06255168951021686,
          -0.8144212770271861,
          0.383458149641642,
          0.33043639336985287,
          1.3016023329577706,
          0.3533783749387897,
          -0.7015607338711178,
          0.8265510740131821,
          -0.9446908627414659,
          -0.8394308436032527,
          1.1415191740097297,
          -0.9322500161850434,
          0.4453069113668292,
          0.6512042687445224,
          1.3332779351706576,
          0.9311953072551885,
          0.1487293030571078,
          -0.5091459935053668,
          -1.3200135704942564,
          -0.1628574076500507,
          1.051182645365468,
          -1.6572506810120788,
          -0.11636388492189238,
          0.37233883307653604,
          1.7893157472842727,
          -0.3045955172233988,
          1.4008269920829313,
          0.6601985256765023,
          0.7506108391927792,
          -2.342043098724719,
          0.06261592265701701,
          1.5248256573020205,
          -2.052558012593074,
          1.082105581164093,
          1.4130868971484738,
          0.5979348791248525,
          -1.61064676866785,
          -0.714945330445735,
          0.22106443159093367,
          0.3812254917441854
         ],
         "yaxis": "y4"
        },
        {
         "line": {
          "color": "rgba(128, 128, 128, 1.0)",
          "dash": "solid",
          "shape": "linear",
          "width": 1.3
         },
         "marker": {
          "size": 2,
          "symbol": "circle"
         },
         "mode": "markers",
         "name": "B",
         "text": "",
         "type": "scatter",
         "x": [
          -1.0206472791320926,
          0.051856060673617886,
          0.9647955540467175,
          -0.04575644997517332,
          0.5698958108657399,
          -0.2771160176114073,
          0.6743782176988691,
          1.1334862342367846,
          0.8310518336563363,
          0.8478826680455306,
          2.1049439394759686,
          2.3467568101723724,
          0.471647951479405,
          -1.2913115835715805,
          -0.654693311813495,
          0.24421849479729904,
          0.09926206507316876,
          0.27347604364371714,
          0.6654321688845871,
          1.5441310592053583,
          0.4888350095325806,
          0.85642862115761,
          1.1995385573927553,
          0.4503558668432003,
          -0.9454681741341744,
          0.701552165824799,
          0.633064354844197,
          -2.538557521943568,
          2.100020731645149,
          -0.7309540000436948,
          0.6871288068240419,
          -0.028292285608094582,
          0.9182916080767636,
          -1.1949457214256833,
          -1.0222052787895517,
          -1.2514672068784334,
          1.9246498366119915,
          1.4123911331033236,
          -2.322350025852475,
          -0.05664151881160213,
          -1.3779867444667755,
          -1.5498274819787017,
          1.0424787347683493,
          0.3668668769136654,
          0.34794585434742087,
          -0.085468005814318,
          -0.4776892351955959,
          -0.41465365897849416,
          0.036054477415273366,
          -0.20401231462808525,
          1.161933593045215,
          0.2572211399583732,
          -0.41632458709140546,
          0.29579936461538775,
          1.150198739003133,
          -0.8558190523878071,
          0.5808270794162296,
          0.41731649079801186,
          -0.5199105582655607,
          -2.6536129916330564,
          -0.06255168951021686,
          -0.8144212770271861,
          0.383458149641642,
          0.33043639336985287,
          1.3016023329577706,
          0.3533783749387897,
          -0.7015607338711178,
          0.8265510740131821,
          -0.9446908627414659,
          -0.8394308436032527,
          1.1415191740097297,
          -0.9322500161850434,
          0.4453069113668292,
          0.6512042687445224,
          1.3332779351706576,
          0.9311953072551885,
          0.1487293030571078,
          -0.5091459935053668,
          -1.3200135704942564,
          -0.1628574076500507,
          1.051182645365468,
          -1.6572506810120788,
          -0.11636388492189238,
          0.37233883307653604,
          1.7893157472842727,
          -0.3045955172233988,
          1.4008269920829313,
          0.6601985256765023,
          0.7506108391927792,
          -2.342043098724719,
          0.06261592265701701,
          1.5248256573020205,
          -2.052558012593074,
          1.082105581164093,
          1.4130868971484738,
          0.5979348791248525,
          -1.61064676866785,
          -0.714945330445735,
          0.22106443159093367,
          0.3812254917441854
         ],
         "xaxis": "x5",
         "y": [
          0.49530524243032753,
          -0.33155284111894245,
          0.3823433216033376,
          0.9086742417323572,
          -0.9406898519372928,
          -0.8483154273799747,
          1.6571589657439307,
          -1.938873260364442,
          0.24490043966031677,
          0.18352639143114957,
          0.9049069442332238,
          0.03157437335473936,
          -0.2977416259693257,
          -1.8732813079088602,
          0.17078376111279628,
          -0.8810607662376312,
          0.2641159821815766,
          -0.012533982640648764,
          -0.9081288971485045,
          -0.9810406405593401,
          -0.9379219216301571,
          0.29968958943973506,
          -1.0119355406104276,
          -0.7816240835348891,
          -0.2837443190188271,
          0.5475878740687695,
          0.4743559307052271,
          -1.210423651310594,
          0.9249605228193762,
          0.3138368128256702,
          -0.09785414678591046,
          -0.7625445904547198,
          -0.1862413274505684,
          -0.3320865504202027,
          -0.8859063878791051,
          0.37679083266045055,
          0.9416492196016312,
          -0.007690460086156482,
          0.2297348916331496,
          -1.8412669166114761,
          1.657077117123675,
          -0.7564363578096798,
          0.659923250433344,
          1.2928900454577736,
          0.9449583129144369,
          -0.17798151351480912,
          0.6489246064349281,
          1.3156893789224975,
          1.2456668799367667,
          -1.080640862986375,
          1.539258854092646,
          -2.565655163178437,
          0.169025045961495,
          0.5999296572081371,
          1.3206214739408846,
          0.5561738385726992,
          -0.3476283799882969,
          -1.1093599651666206,
          0.6135274982162919,
          -1.0407166273927153,
          0.9470732034080648,
          -0.42440506264589123,
          1.3324077616499677,
          -0.6303178536842527,
          -0.5087271349329137,
          1.4278230591076921,
          -0.7303842795602131,
          0.8822983642819051,
          -0.9625648779028388,
          1.366666141526766,
          -0.22461546330143253,
          -0.013347324341547062,
          0.34389365060092164,
          -0.08241598369271212,
          1.1262608158821759,
          -2.014612205802725,
          0.3779595899831078,
          -1.9012238535971318,
          -0.13046129724341862,
          -0.5366218036792957,
          -0.12607265453927644,
          -0.5400340075676425,
          1.462777927141379,
          0.33414458333389485,
          -2.1199296704021457,
          -0.40834563774284355,
          -0.40434317871986625,
          0.9887146043266994,
          0.91164489839338,
          -1.6901142716218078,
          0.45073429879340104,
          -1.0270114127775605,
          0.8129813019936439,
          -1.6497272066853281,
          0.2103360616377157,
          1.4329526295414792,
          -1.581915708301178,
          -0.3759567547149745,
          -0.14636819627345232,
          -0.34260170380114285
         ],
         "yaxis": "y5"
        },
        {
         "histfunc": "count",
         "histnorm": "",
         "marker": {
          "color": "rgba(55, 128, 191, 1.0)",
          "line": {
           "color": "#4D5663",
           "width": 1.3
          }
         },
         "name": "B",
         "nbinsx": 10,
         "opacity": 0.8,
         "orientation": "v",
         "type": "histogram",
         "x": [
          0.49530524243032753,
          -0.33155284111894245,
          0.3823433216033376,
          0.9086742417323572,
          -0.9406898519372928,
          -0.8483154273799747,
          1.6571589657439307,
          -1.938873260364442,
          0.24490043966031677,
          0.18352639143114957,
          0.9049069442332238,
          0.03157437335473936,
          -0.2977416259693257,
          -1.8732813079088602,
          0.17078376111279628,
          -0.8810607662376312,
          0.2641159821815766,
          -0.012533982640648764,
          -0.9081288971485045,
          -0.9810406405593401,
          -0.9379219216301571,
          0.29968958943973506,
          -1.0119355406104276,
          -0.7816240835348891,
          -0.2837443190188271,
          0.5475878740687695,
          0.4743559307052271,
          -1.210423651310594,
          0.9249605228193762,
          0.3138368128256702,
          -0.09785414678591046,
          -0.7625445904547198,
          -0.1862413274505684,
          -0.3320865504202027,
          -0.8859063878791051,
          0.37679083266045055,
          0.9416492196016312,
          -0.007690460086156482,
          0.2297348916331496,
          -1.8412669166114761,
          1.657077117123675,
          -0.7564363578096798,
          0.659923250433344,
          1.2928900454577736,
          0.9449583129144369,
          -0.17798151351480912,
          0.6489246064349281,
          1.3156893789224975,
          1.2456668799367667,
          -1.080640862986375,
          1.539258854092646,
          -2.565655163178437,
          0.169025045961495,
          0.5999296572081371,
          1.3206214739408846,
          0.5561738385726992,
          -0.3476283799882969,
          -1.1093599651666206,
          0.6135274982162919,
          -1.0407166273927153,
          0.9470732034080648,
          -0.42440506264589123,
          1.3324077616499677,
          -0.6303178536842527,
          -0.5087271349329137,
          1.4278230591076921,
          -0.7303842795602131,
          0.8822983642819051,
          -0.9625648779028388,
          1.366666141526766,
          -0.22461546330143253,
          -0.013347324341547062,
          0.34389365060092164,
          -0.08241598369271212,
          1.1262608158821759,
          -2.014612205802725,
          0.3779595899831078,
          -1.9012238535971318,
          -0.13046129724341862,
          -0.5366218036792957,
          -0.12607265453927644,
          -0.5400340075676425,
          1.462777927141379,
          0.33414458333389485,
          -2.1199296704021457,
          -0.40834563774284355,
          -0.40434317871986625,
          0.9887146043266994,
          0.91164489839338,
          -1.6901142716218078,
          0.45073429879340104,
          -1.0270114127775605,
          0.8129813019936439,
          -1.6497272066853281,
          0.2103360616377157,
          1.4329526295414792,
          -1.581915708301178,
          -0.3759567547149745,
          -0.14636819627345232,
          -0.34260170380114285
         ],
         "xaxis": "x6",
         "yaxis": "y6"
        },
        {
         "line": {
          "color": "rgba(128, 128, 128, 1.0)",
          "dash": "solid",
          "shape": "linear",
          "width": 1.3
         },
         "marker": {
          "size": 2,
          "symbol": "circle"
         },
         "mode": "markers",
         "name": "B",
         "text": "",
         "type": "scatter",
         "x": [
          0.12807187542398446,
          -0.3379463377964324,
          1.4633959013920768,
          -0.7738598484728232,
          -1.0506891784607324,
          -1.09518691881857,
          0.044644608263914184,
          -1.9890471028668202,
          -0.4979235596864153,
          -0.4917194995315308,
          0.3723206047024177,
          1.4797020017419786,
          0.5822251097411749,
          0.5690730061828009,
          0.8982496318252999,
          0.17036934960817704,
          -0.3348729005798415,
          -1.6858302901496391,
          -0.09501172767999093,
          -0.7619592055406335,
          -0.32528897590914885,
          0.6038411479342818,
          -0.648527324425865,
          -0.27739186473579414,
          -1.1519450600777303,
          0.35994010301896,
          -1.0047115407190013,
          0.018081751091101536,
          -0.5757856328012967,
          0.39663682494637903,
          1.4596645528499967,
          -1.0962404173890326,
          -2.4598285717737594,
          -0.17083847101992244,
          -0.6761894887970228,
          0.24866589158258182,
          -0.029436222060168354,
          1.4155548765095454,
          -1.3271971507233289,
          1.120612037768788,
          -1.7569662771148205,
          -0.8837976051847442,
          0.7814504711599632,
          -1.1585953557552133,
          0.8296550448227875,
          -1.022371651731951,
          2.6474934379087967,
          -0.1912819262932093,
          -1.9066585577083526,
          -0.3901423136816461,
          -0.3760894204814213,
          0.6152684209827143,
          0.32727873814900565,
          0.41456818164039266,
          -1.0900178944425651,
          0.18417547935634557,
          -0.011093448019438791,
          -1.0297139516709861,
          1.8751686118475495,
          1.441084167812649,
          0.6884012654943377,
          2.2678012801697065,
          2.574679436025041,
          0.9451138305462838,
          -2.4745569767804945,
          1.3778785688946562,
          -1.1319363625136982,
          0.9294825643245276,
          -2.2649043477165414,
          0.18409100590505723,
          -1.0863010954183472,
          1.0165512494366178,
          -0.4926783393127255,
          1.5575130252219136,
          0.42694304228021995,
          -1.5016976988685655,
          1.7556337797231079,
          0.16630108389176115,
          0.2005436626847083,
          -0.5662535692768542,
          0.7000057752049412,
          0.20418566509752173,
          -0.8085208385874586,
          1.3547112958490681,
          0.7484134879484421,
          0.7516113952927546,
          1.0302314724346373,
          -0.6282968589562925,
          0.6241653504657344,
          0.051760190304043205,
          0.07008875643568846,
          -0.6663436136115266,
          -0.16976616290151544,
          -0.9639158937639654,
          1.332975648244094,
          0.15542889576827051,
          -1.0420319739732598,
          -0.4051167484244614,
          0.9892453566514525,
          0.03987956195702824
         ],
         "xaxis": "x7",
         "y": [
          0.49530524243032753,
          -0.33155284111894245,
          0.3823433216033376,
          0.9086742417323572,
          -0.9406898519372928,
          -0.8483154273799747,
          1.6571589657439307,
          -1.938873260364442,
          0.24490043966031677,
          0.18352639143114957,
          0.9049069442332238,
          0.03157437335473936,
          -0.2977416259693257,
          -1.8732813079088602,
          0.17078376111279628,
          -0.8810607662376312,
          0.2641159821815766,
          -0.012533982640648764,
          -0.9081288971485045,
          -0.9810406405593401,
          -0.9379219216301571,
          0.29968958943973506,
          -1.0119355406104276,
          -0.7816240835348891,
          -0.2837443190188271,
          0.5475878740687695,
          0.4743559307052271,
          -1.210423651310594,
          0.9249605228193762,
          0.3138368128256702,
          -0.09785414678591046,
          -0.7625445904547198,
          -0.1862413274505684,
          -0.3320865504202027,
          -0.8859063878791051,
          0.37679083266045055,
          0.9416492196016312,
          -0.007690460086156482,
          0.2297348916331496,
          -1.8412669166114761,
          1.657077117123675,
          -0.7564363578096798,
          0.659923250433344,
          1.2928900454577736,
          0.9449583129144369,
          -0.17798151351480912,
          0.6489246064349281,
          1.3156893789224975,
          1.2456668799367667,
          -1.080640862986375,
          1.539258854092646,
          -2.565655163178437,
          0.169025045961495,
          0.5999296572081371,
          1.3206214739408846,
          0.5561738385726992,
          -0.3476283799882969,
          -1.1093599651666206,
          0.6135274982162919,
          -1.0407166273927153,
          0.9470732034080648,
          -0.42440506264589123,
          1.3324077616499677,
          -0.6303178536842527,
          -0.5087271349329137,
          1.4278230591076921,
          -0.7303842795602131,
          0.8822983642819051,
          -0.9625648779028388,
          1.366666141526766,
          -0.22461546330143253,
          -0.013347324341547062,
          0.34389365060092164,
          -0.08241598369271212,
          1.1262608158821759,
          -2.014612205802725,
          0.3779595899831078,
          -1.9012238535971318,
          -0.13046129724341862,
          -0.5366218036792957,
          -0.12607265453927644,
          -0.5400340075676425,
          1.462777927141379,
          0.33414458333389485,
          -2.1199296704021457,
          -0.40834563774284355,
          -0.40434317871986625,
          0.9887146043266994,
          0.91164489839338,
          -1.6901142716218078,
          0.45073429879340104,
          -1.0270114127775605,
          0.8129813019936439,
          -1.6497272066853281,
          0.2103360616377157,
          1.4329526295414792,
          -1.581915708301178,
          -0.3759567547149745,
          -0.14636819627345232,
          -0.34260170380114285
         ],
         "yaxis": "y7"
        },
        {
         "line": {
          "color": "rgba(128, 128, 128, 1.0)",
          "dash": "solid",
          "shape": "linear",
          "width": 1.3
         },
         "marker": {
          "size": 2,
          "symbol": "circle"
         },
         "mode": "markers",
         "name": "B",
         "text": "",
         "type": "scatter",
         "x": [
          -0.04991211993374211,
          -0.12439110703781973,
          0.7101003614182688,
          -0.35398370554287545,
          1.5164722533933743,
          -0.41835023750400413,
          1.5578918472611498,
          -1.0470709111688634,
          -0.21564737040826687,
          0.25162592947540413,
          -0.7905196919300693,
          0.9560849098301893,
          1.4076471419284666,
          -1.2314418596796994,
          0.06572488882951952,
          -0.19774577889226952,
          -0.2591421126525056,
          1.4120511137012324,
          -1.982797453619798,
          -0.7368091611591652,
          -0.8908859816266917,
          0.8493942792511213,
          -0.9343664832323013,
          -0.9386450383133357,
          2.2357034181115303,
          -0.9649586851045795,
          -0.047329575850956734,
          0.1474778487189868,
          0.2842770948925106,
          0.7390626475625436,
          1.9440813080345196,
          0.9362213920110779,
          0.04646899136067646,
          -1.3895335865701155,
          -1.4293090319454262,
          -0.08369349619341691,
          -0.1031727868141034,
          0.4318333905014164,
          1.060558604243418,
          -0.6757995431173397,
          -0.7096132372107928,
          0.10785597274051674,
          -0.16725231627786866,
          0.2771413691585504,
          -0.10731638343080796,
          -1.8451425109836772,
          1.274677229320815,
          0.58717604479936,
          0.061611251382167664,
          -0.6430230342613754,
          -1.4743013694904314,
          -0.9158900645774197,
          -0.954786758280121,
          0.6822081948259144,
          0.34839879704861276,
          -0.04598070960361859,
          -0.3477887295783607,
          0.3424614556936414,
          1.2537422587256064,
          -0.3144636316232511,
          -0.33088166767918203,
          0.24098583691838285,
          -1.8494257216038525,
          -1.303321892877603,
          0.08727993420435855,
          -0.21144392685744304,
          -0.99802670303803,
          -0.582998972099361,
          0.12599760514905586,
          0.33768209228641816,
          0.9832081914713734,
          0.6142968437316982,
          -0.4867280205325363,
          -0.4611200177845175,
          1.0887127777617118,
          0.9745419332751694,
          -0.1944659262355014,
          -0.08836951316997524,
          -0.2280425629868187,
          -1.1624890707556061,
          1.3342967092565288,
          -1.4914465689637137,
          1.4051448495954553,
          0.07991409864922384,
          1.4488475536515766,
          -0.4812499254280882,
          -1.3720939113128368,
          1.6994099505627416,
          -0.48774505776445826,
          -0.458635435852188,
          -1.065294785120887,
          -1.2646413351401742,
          -0.803687099083522,
          -0.47927193126466255,
          -0.4379284085692556,
          0.2669769600358279,
          1.069464782804705,
          0.973077922156685,
          0.973895942338388,
          1.97257060193517
         ],
         "xaxis": "x8",
         "y": [
          0.49530524243032753,
          -0.33155284111894245,
          0.3823433216033376,
          0.9086742417323572,
          -0.9406898519372928,
          -0.8483154273799747,
          1.6571589657439307,
          -1.938873260364442,
          0.24490043966031677,
          0.18352639143114957,
          0.9049069442332238,
          0.03157437335473936,
          -0.2977416259693257,
          -1.8732813079088602,
          0.17078376111279628,
          -0.8810607662376312,
          0.2641159821815766,
          -0.012533982640648764,
          -0.9081288971485045,
          -0.9810406405593401,
          -0.9379219216301571,
          0.29968958943973506,
          -1.0119355406104276,
          -0.7816240835348891,
          -0.2837443190188271,
          0.5475878740687695,
          0.4743559307052271,
          -1.210423651310594,
          0.9249605228193762,
          0.3138368128256702,
          -0.09785414678591046,
          -0.7625445904547198,
          -0.1862413274505684,
          -0.3320865504202027,
          -0.8859063878791051,
          0.37679083266045055,
          0.9416492196016312,
          -0.007690460086156482,
          0.2297348916331496,
          -1.8412669166114761,
          1.657077117123675,
          -0.7564363578096798,
          0.659923250433344,
          1.2928900454577736,
          0.9449583129144369,
          -0.17798151351480912,
          0.6489246064349281,
          1.3156893789224975,
          1.2456668799367667,
          -1.080640862986375,
          1.539258854092646,
          -2.565655163178437,
          0.169025045961495,
          0.5999296572081371,
          1.3206214739408846,
          0.5561738385726992,
          -0.3476283799882969,
          -1.1093599651666206,
          0.6135274982162919,
          -1.0407166273927153,
          0.9470732034080648,
          -0.42440506264589123,
          1.3324077616499677,
          -0.6303178536842527,
          -0.5087271349329137,
          1.4278230591076921,
          -0.7303842795602131,
          0.8822983642819051,
          -0.9625648779028388,
          1.366666141526766,
          -0.22461546330143253,
          -0.013347324341547062,
          0.34389365060092164,
          -0.08241598369271212,
          1.1262608158821759,
          -2.014612205802725,
          0.3779595899831078,
          -1.9012238535971318,
          -0.13046129724341862,
          -0.5366218036792957,
          -0.12607265453927644,
          -0.5400340075676425,
          1.462777927141379,
          0.33414458333389485,
          -2.1199296704021457,
          -0.40834563774284355,
          -0.40434317871986625,
          0.9887146043266994,
          0.91164489839338,
          -1.6901142716218078,
          0.45073429879340104,
          -1.0270114127775605,
          0.8129813019936439,
          -1.6497272066853281,
          0.2103360616377157,
          1.4329526295414792,
          -1.581915708301178,
          -0.3759567547149745,
          -0.14636819627345232,
          -0.34260170380114285
         ],
         "yaxis": "y8"
        },
        {
         "line": {
          "color": "rgba(128, 128, 128, 1.0)",
          "dash": "solid",
          "shape": "linear",
          "width": 1.3
         },
         "marker": {
          "size": 2,
          "symbol": "circle"
         },
         "mode": "markers",
         "name": "C",
         "text": "",
         "type": "scatter",
         "x": [
          -1.0206472791320926,
          0.051856060673617886,
          0.9647955540467175,
          -0.04575644997517332,
          0.5698958108657399,
          -0.2771160176114073,
          0.6743782176988691,
          1.1334862342367846,
          0.8310518336563363,
          0.8478826680455306,
          2.1049439394759686,
          2.3467568101723724,
          0.471647951479405,
          -1.2913115835715805,
          -0.654693311813495,
          0.24421849479729904,
          0.09926206507316876,
          0.27347604364371714,
          0.6654321688845871,
          1.5441310592053583,
          0.4888350095325806,
          0.85642862115761,
          1.1995385573927553,
          0.4503558668432003,
          -0.9454681741341744,
          0.701552165824799,
          0.633064354844197,
          -2.538557521943568,
          2.100020731645149,
          -0.7309540000436948,
          0.6871288068240419,
          -0.028292285608094582,
          0.9182916080767636,
          -1.1949457214256833,
          -1.0222052787895517,
          -1.2514672068784334,
          1.9246498366119915,
          1.4123911331033236,
          -2.322350025852475,
          -0.05664151881160213,
          -1.3779867444667755,
          -1.5498274819787017,
          1.0424787347683493,
          0.3668668769136654,
          0.34794585434742087,
          -0.085468005814318,
          -0.4776892351955959,
          -0.41465365897849416,
          0.036054477415273366,
          -0.20401231462808525,
          1.161933593045215,
          0.2572211399583732,
          -0.41632458709140546,
          0.29579936461538775,
          1.150198739003133,
          -0.8558190523878071,
          0.5808270794162296,
          0.41731649079801186,
          -0.5199105582655607,
          -2.6536129916330564,
          -0.06255168951021686,
          -0.8144212770271861,
          0.383458149641642,
          0.33043639336985287,
          1.3016023329577706,
          0.3533783749387897,
          -0.7015607338711178,
          0.8265510740131821,
          -0.9446908627414659,
          -0.8394308436032527,
          1.1415191740097297,
          -0.9322500161850434,
          0.4453069113668292,
          0.6512042687445224,
          1.3332779351706576,
          0.9311953072551885,
          0.1487293030571078,
          -0.5091459935053668,
          -1.3200135704942564,
          -0.1628574076500507,
          1.051182645365468,
          -1.6572506810120788,
          -0.11636388492189238,
          0.37233883307653604,
          1.7893157472842727,
          -0.3045955172233988,
          1.4008269920829313,
          0.6601985256765023,
          0.7506108391927792,
          -2.342043098724719,
          0.06261592265701701,
          1.5248256573020205,
          -2.052558012593074,
          1.082105581164093,
          1.4130868971484738,
          0.5979348791248525,
          -1.61064676866785,
          -0.714945330445735,
          0.22106443159093367,
          0.3812254917441854
         ],
         "xaxis": "x9",
         "y": [
          0.12807187542398446,
          -0.3379463377964324,
          1.4633959013920768,
          -0.7738598484728232,
          -1.0506891784607324,
          -1.09518691881857,
          0.044644608263914184,
          -1.9890471028668202,
          -0.4979235596864153,
          -0.4917194995315308,
          0.3723206047024177,
          1.4797020017419786,
          0.5822251097411749,
          0.5690730061828009,
          0.8982496318252999,
          0.17036934960817704,
          -0.3348729005798415,
          -1.6858302901496391,
          -0.09501172767999093,
          -0.7619592055406335,
          -0.32528897590914885,
          0.6038411479342818,
          -0.648527324425865,
          -0.27739186473579414,
          -1.1519450600777303,
          0.35994010301896,
          -1.0047115407190013,
          0.018081751091101536,
          -0.5757856328012967,
          0.39663682494637903,
          1.4596645528499967,
          -1.0962404173890326,
          -2.4598285717737594,
          -0.17083847101992244,
          -0.6761894887970228,
          0.24866589158258182,
          -0.029436222060168354,
          1.4155548765095454,
          -1.3271971507233289,
          1.120612037768788,
          -1.7569662771148205,
          -0.8837976051847442,
          0.7814504711599632,
          -1.1585953557552133,
          0.8296550448227875,
          -1.022371651731951,
          2.6474934379087967,
          -0.1912819262932093,
          -1.9066585577083526,
          -0.3901423136816461,
          -0.3760894204814213,
          0.6152684209827143,
          0.32727873814900565,
          0.41456818164039266,
          -1.0900178944425651,
          0.18417547935634557,
          -0.011093448019438791,
          -1.0297139516709861,
          1.8751686118475495,
          1.441084167812649,
          0.6884012654943377,
          2.2678012801697065,
          2.574679436025041,
          0.9451138305462838,
          -2.4745569767804945,
          1.3778785688946562,
          -1.1319363625136982,
          0.9294825643245276,
          -2.2649043477165414,
          0.18409100590505723,
          -1.0863010954183472,
          1.0165512494366178,
          -0.4926783393127255,
          1.5575130252219136,
          0.42694304228021995,
          -1.5016976988685655,
          1.7556337797231079,
          0.16630108389176115,
          0.2005436626847083,
          -0.5662535692768542,
          0.7000057752049412,
          0.20418566509752173,
          -0.8085208385874586,
          1.3547112958490681,
          0.7484134879484421,
          0.7516113952927546,
          1.0302314724346373,
          -0.6282968589562925,
          0.6241653504657344,
          0.051760190304043205,
          0.07008875643568846,
          -0.6663436136115266,
          -0.16976616290151544,
          -0.9639158937639654,
          1.332975648244094,
          0.15542889576827051,
          -1.0420319739732598,
          -0.4051167484244614,
          0.9892453566514525,
          0.03987956195702824
         ],
         "yaxis": "y9"
        },
        {
         "line": {
          "color": "rgba(128, 128, 128, 1.0)",
          "dash": "solid",
          "shape": "linear",
          "width": 1.3
         },
         "marker": {
          "size": 2,
          "symbol": "circle"
         },
         "mode": "markers",
         "name": "C",
         "text": "",
         "type": "scatter",
         "x": [
          0.49530524243032753,
          -0.33155284111894245,
          0.3823433216033376,
          0.9086742417323572,
          -0.9406898519372928,
          -0.8483154273799747,
          1.6571589657439307,
          -1.938873260364442,
          0.24490043966031677,
          0.18352639143114957,
          0.9049069442332238,
          0.03157437335473936,
          -0.2977416259693257,
          -1.8732813079088602,
          0.17078376111279628,
          -0.8810607662376312,
          0.2641159821815766,
          -0.012533982640648764,
          -0.9081288971485045,
          -0.9810406405593401,
          -0.9379219216301571,
          0.29968958943973506,
          -1.0119355406104276,
          -0.7816240835348891,
          -0.2837443190188271,
          0.5475878740687695,
          0.4743559307052271,
          -1.210423651310594,
          0.9249605228193762,
          0.3138368128256702,
          -0.09785414678591046,
          -0.7625445904547198,
          -0.1862413274505684,
          -0.3320865504202027,
          -0.8859063878791051,
          0.37679083266045055,
          0.9416492196016312,
          -0.007690460086156482,
          0.2297348916331496,
          -1.8412669166114761,
          1.657077117123675,
          -0.7564363578096798,
          0.659923250433344,
          1.2928900454577736,
          0.9449583129144369,
          -0.17798151351480912,
          0.6489246064349281,
          1.3156893789224975,
          1.2456668799367667,
          -1.080640862986375,
          1.539258854092646,
          -2.565655163178437,
          0.169025045961495,
          0.5999296572081371,
          1.3206214739408846,
          0.5561738385726992,
          -0.3476283799882969,
          -1.1093599651666206,
          0.6135274982162919,
          -1.0407166273927153,
          0.9470732034080648,
          -0.42440506264589123,
          1.3324077616499677,
          -0.6303178536842527,
          -0.5087271349329137,
          1.4278230591076921,
          -0.7303842795602131,
          0.8822983642819051,
          -0.9625648779028388,
          1.366666141526766,
          -0.22461546330143253,
          -0.013347324341547062,
          0.34389365060092164,
          -0.08241598369271212,
          1.1262608158821759,
          -2.014612205802725,
          0.3779595899831078,
          -1.9012238535971318,
          -0.13046129724341862,
          -0.5366218036792957,
          -0.12607265453927644,
          -0.5400340075676425,
          1.462777927141379,
          0.33414458333389485,
          -2.1199296704021457,
          -0.40834563774284355,
          -0.40434317871986625,
          0.9887146043266994,
          0.91164489839338,
          -1.6901142716218078,
          0.45073429879340104,
          -1.0270114127775605,
          0.8129813019936439,
          -1.6497272066853281,
          0.2103360616377157,
          1.4329526295414792,
          -1.581915708301178,
          -0.3759567547149745,
          -0.14636819627345232,
          -0.34260170380114285
         ],
         "xaxis": "x10",
         "y": [
          0.12807187542398446,
          -0.3379463377964324,
          1.4633959013920768,
          -0.7738598484728232,
          -1.0506891784607324,
          -1.09518691881857,
          0.044644608263914184,
          -1.9890471028668202,
          -0.4979235596864153,
          -0.4917194995315308,
          0.3723206047024177,
          1.4797020017419786,
          0.5822251097411749,
          0.5690730061828009,
          0.8982496318252999,
          0.17036934960817704,
          -0.3348729005798415,
          -1.6858302901496391,
          -0.09501172767999093,
          -0.7619592055406335,
          -0.32528897590914885,
          0.6038411479342818,
          -0.648527324425865,
          -0.27739186473579414,
          -1.1519450600777303,
          0.35994010301896,
          -1.0047115407190013,
          0.018081751091101536,
          -0.5757856328012967,
          0.39663682494637903,
          1.4596645528499967,
          -1.0962404173890326,
          -2.4598285717737594,
          -0.17083847101992244,
          -0.6761894887970228,
          0.24866589158258182,
          -0.029436222060168354,
          1.4155548765095454,
          -1.3271971507233289,
          1.120612037768788,
          -1.7569662771148205,
          -0.8837976051847442,
          0.7814504711599632,
          -1.1585953557552133,
          0.8296550448227875,
          -1.022371651731951,
          2.6474934379087967,
          -0.1912819262932093,
          -1.9066585577083526,
          -0.3901423136816461,
          -0.3760894204814213,
          0.6152684209827143,
          0.32727873814900565,
          0.41456818164039266,
          -1.0900178944425651,
          0.18417547935634557,
          -0.011093448019438791,
          -1.0297139516709861,
          1.8751686118475495,
          1.441084167812649,
          0.6884012654943377,
          2.2678012801697065,
          2.574679436025041,
          0.9451138305462838,
          -2.4745569767804945,
          1.3778785688946562,
          -1.1319363625136982,
          0.9294825643245276,
          -2.2649043477165414,
          0.18409100590505723,
          -1.0863010954183472,
          1.0165512494366178,
          -0.4926783393127255,
          1.5575130252219136,
          0.42694304228021995,
          -1.5016976988685655,
          1.7556337797231079,
          0.16630108389176115,
          0.2005436626847083,
          -0.5662535692768542,
          0.7000057752049412,
          0.20418566509752173,
          -0.8085208385874586,
          1.3547112958490681,
          0.7484134879484421,
          0.7516113952927546,
          1.0302314724346373,
          -0.6282968589562925,
          0.6241653504657344,
          0.051760190304043205,
          0.07008875643568846,
          -0.6663436136115266,
          -0.16976616290151544,
          -0.9639158937639654,
          1.332975648244094,
          0.15542889576827051,
          -1.0420319739732598,
          -0.4051167484244614,
          0.9892453566514525,
          0.03987956195702824
         ],
         "yaxis": "y10"
        },
        {
         "histfunc": "count",
         "histnorm": "",
         "marker": {
          "color": "rgba(50, 171, 96, 1.0)",
          "line": {
           "color": "#4D5663",
           "width": 1.3
          }
         },
         "name": "C",
         "nbinsx": 10,
         "opacity": 0.8,
         "orientation": "v",
         "type": "histogram",
         "x": [
          0.12807187542398446,
          -0.3379463377964324,
          1.4633959013920768,
          -0.7738598484728232,
          -1.0506891784607324,
          -1.09518691881857,
          0.044644608263914184,
          -1.9890471028668202,
          -0.4979235596864153,
          -0.4917194995315308,
          0.3723206047024177,
          1.4797020017419786,
          0.5822251097411749,
          0.5690730061828009,
          0.8982496318252999,
          0.17036934960817704,
          -0.3348729005798415,
          -1.6858302901496391,
          -0.09501172767999093,
          -0.7619592055406335,
          -0.32528897590914885,
          0.6038411479342818,
          -0.648527324425865,
          -0.27739186473579414,
          -1.1519450600777303,
          0.35994010301896,
          -1.0047115407190013,
          0.018081751091101536,
          -0.5757856328012967,
          0.39663682494637903,
          1.4596645528499967,
          -1.0962404173890326,
          -2.4598285717737594,
          -0.17083847101992244,
          -0.6761894887970228,
          0.24866589158258182,
          -0.029436222060168354,
          1.4155548765095454,
          -1.3271971507233289,
          1.120612037768788,
          -1.7569662771148205,
          -0.8837976051847442,
          0.7814504711599632,
          -1.1585953557552133,
          0.8296550448227875,
          -1.022371651731951,
          2.6474934379087967,
          -0.1912819262932093,
          -1.9066585577083526,
          -0.3901423136816461,
          -0.3760894204814213,
          0.6152684209827143,
          0.32727873814900565,
          0.41456818164039266,
          -1.0900178944425651,
          0.18417547935634557,
          -0.011093448019438791,
          -1.0297139516709861,
          1.8751686118475495,
          1.441084167812649,
          0.6884012654943377,
          2.2678012801697065,
          2.574679436025041,
          0.9451138305462838,
          -2.4745569767804945,
          1.3778785688946562,
          -1.1319363625136982,
          0.9294825643245276,
          -2.2649043477165414,
          0.18409100590505723,
          -1.0863010954183472,
          1.0165512494366178,
          -0.4926783393127255,
          1.5575130252219136,
          0.42694304228021995,
          -1.5016976988685655,
          1.7556337797231079,
          0.16630108389176115,
          0.2005436626847083,
          -0.5662535692768542,
          0.7000057752049412,
          0.20418566509752173,
          -0.8085208385874586,
          1.3547112958490681,
          0.7484134879484421,
          0.7516113952927546,
          1.0302314724346373,
          -0.6282968589562925,
          0.6241653504657344,
          0.051760190304043205,
          0.07008875643568846,
          -0.6663436136115266,
          -0.16976616290151544,
          -0.9639158937639654,
          1.332975648244094,
          0.15542889576827051,
          -1.0420319739732598,
          -0.4051167484244614,
          0.9892453566514525,
          0.03987956195702824
         ],
         "xaxis": "x11",
         "yaxis": "y11"
        },
        {
         "line": {
          "color": "rgba(128, 128, 128, 1.0)",
          "dash": "solid",
          "shape": "linear",
          "width": 1.3
         },
         "marker": {
          "size": 2,
          "symbol": "circle"
         },
         "mode": "markers",
         "name": "C",
         "text": "",
         "type": "scatter",
         "x": [
          -0.04991211993374211,
          -0.12439110703781973,
          0.7101003614182688,
          -0.35398370554287545,
          1.5164722533933743,
          -0.41835023750400413,
          1.5578918472611498,
          -1.0470709111688634,
          -0.21564737040826687,
          0.25162592947540413,
          -0.7905196919300693,
          0.9560849098301893,
          1.4076471419284666,
          -1.2314418596796994,
          0.06572488882951952,
          -0.19774577889226952,
          -0.2591421126525056,
          1.4120511137012324,
          -1.982797453619798,
          -0.7368091611591652,
          -0.8908859816266917,
          0.8493942792511213,
          -0.9343664832323013,
          -0.9386450383133357,
          2.2357034181115303,
          -0.9649586851045795,
          -0.047329575850956734,
          0.1474778487189868,
          0.2842770948925106,
          0.7390626475625436,
          1.9440813080345196,
          0.9362213920110779,
          0.04646899136067646,
          -1.3895335865701155,
          -1.4293090319454262,
          -0.08369349619341691,
          -0.1031727868141034,
          0.4318333905014164,
          1.060558604243418,
          -0.6757995431173397,
          -0.7096132372107928,
          0.10785597274051674,
          -0.16725231627786866,
          0.2771413691585504,
          -0.10731638343080796,
          -1.8451425109836772,
          1.274677229320815,
          0.58717604479936,
          0.061611251382167664,
          -0.6430230342613754,
          -1.4743013694904314,
          -0.9158900645774197,
          -0.954786758280121,
          0.6822081948259144,
          0.34839879704861276,
          -0.04598070960361859,
          -0.3477887295783607,
          0.3424614556936414,
          1.2537422587256064,
          -0.3144636316232511,
          -0.33088166767918203,
          0.24098583691838285,
          -1.8494257216038525,
          -1.303321892877603,
          0.08727993420435855,
          -0.21144392685744304,
          -0.99802670303803,
          -0.582998972099361,
          0.12599760514905586,
          0.33768209228641816,
          0.9832081914713734,
          0.6142968437316982,
          -0.4867280205325363,
          -0.4611200177845175,
          1.0887127777617118,
          0.9745419332751694,
          -0.1944659262355014,
          -0.08836951316997524,
          -0.2280425629868187,
          -1.1624890707556061,
          1.3342967092565288,
          -1.4914465689637137,
          1.4051448495954553,
          0.07991409864922384,
          1.4488475536515766,
          -0.4812499254280882,
          -1.3720939113128368,
          1.6994099505627416,
          -0.48774505776445826,
          -0.458635435852188,
          -1.065294785120887,
          -1.2646413351401742,
          -0.803687099083522,
          -0.47927193126466255,
          -0.4379284085692556,
          0.2669769600358279,
          1.069464782804705,
          0.973077922156685,
          0.973895942338388,
          1.97257060193517
         ],
         "xaxis": "x12",
         "y": [
          0.12807187542398446,
          -0.3379463377964324,
          1.4633959013920768,
          -0.7738598484728232,
          -1.0506891784607324,
          -1.09518691881857,
          0.044644608263914184,
          -1.9890471028668202,
          -0.4979235596864153,
          -0.4917194995315308,
          0.3723206047024177,
          1.4797020017419786,
          0.5822251097411749,
          0.5690730061828009,
          0.8982496318252999,
          0.17036934960817704,
          -0.3348729005798415,
          -1.6858302901496391,
          -0.09501172767999093,
          -0.7619592055406335,
          -0.32528897590914885,
          0.6038411479342818,
          -0.648527324425865,
          -0.27739186473579414,
          -1.1519450600777303,
          0.35994010301896,
          -1.0047115407190013,
          0.018081751091101536,
          -0.5757856328012967,
          0.39663682494637903,
          1.4596645528499967,
          -1.0962404173890326,
          -2.4598285717737594,
          -0.17083847101992244,
          -0.6761894887970228,
          0.24866589158258182,
          -0.029436222060168354,
          1.4155548765095454,
          -1.3271971507233289,
          1.120612037768788,
          -1.7569662771148205,
          -0.8837976051847442,
          0.7814504711599632,
          -1.1585953557552133,
          0.8296550448227875,
          -1.022371651731951,
          2.6474934379087967,
          -0.1912819262932093,
          -1.9066585577083526,
          -0.3901423136816461,
          -0.3760894204814213,
          0.6152684209827143,
          0.32727873814900565,
          0.41456818164039266,
          -1.0900178944425651,
          0.18417547935634557,
          -0.011093448019438791,
          -1.0297139516709861,
          1.8751686118475495,
          1.441084167812649,
          0.6884012654943377,
          2.2678012801697065,
          2.574679436025041,
          0.9451138305462838,
          -2.4745569767804945,
          1.3778785688946562,
          -1.1319363625136982,
          0.9294825643245276,
          -2.2649043477165414,
          0.18409100590505723,
          -1.0863010954183472,
          1.0165512494366178,
          -0.4926783393127255,
          1.5575130252219136,
          0.42694304228021995,
          -1.5016976988685655,
          1.7556337797231079,
          0.16630108389176115,
          0.2005436626847083,
          -0.5662535692768542,
          0.7000057752049412,
          0.20418566509752173,
          -0.8085208385874586,
          1.3547112958490681,
          0.7484134879484421,
          0.7516113952927546,
          1.0302314724346373,
          -0.6282968589562925,
          0.6241653504657344,
          0.051760190304043205,
          0.07008875643568846,
          -0.6663436136115266,
          -0.16976616290151544,
          -0.9639158937639654,
          1.332975648244094,
          0.15542889576827051,
          -1.0420319739732598,
          -0.4051167484244614,
          0.9892453566514525,
          0.03987956195702824
         ],
         "yaxis": "y12"
        },
        {
         "line": {
          "color": "rgba(128, 128, 128, 1.0)",
          "dash": "solid",
          "shape": "linear",
          "width": 1.3
         },
         "marker": {
          "size": 2,
          "symbol": "circle"
         },
         "mode": "markers",
         "name": "D",
         "text": "",
         "type": "scatter",
         "x": [
          -1.0206472791320926,
          0.051856060673617886,
          0.9647955540467175,
          -0.04575644997517332,
          0.5698958108657399,
          -0.2771160176114073,
          0.6743782176988691,
          1.1334862342367846,
          0.8310518336563363,
          0.8478826680455306,
          2.1049439394759686,
          2.3467568101723724,
          0.471647951479405,
          -1.2913115835715805,
          -0.654693311813495,
          0.24421849479729904,
          0.09926206507316876,
          0.27347604364371714,
          0.6654321688845871,
          1.5441310592053583,
          0.4888350095325806,
          0.85642862115761,
          1.1995385573927553,
          0.4503558668432003,
          -0.9454681741341744,
          0.701552165824799,
          0.633064354844197,
          -2.538557521943568,
          2.100020731645149,
          -0.7309540000436948,
          0.6871288068240419,
          -0.028292285608094582,
          0.9182916080767636,
          -1.1949457214256833,
          -1.0222052787895517,
          -1.2514672068784334,
          1.9246498366119915,
          1.4123911331033236,
          -2.322350025852475,
          -0.05664151881160213,
          -1.3779867444667755,
          -1.5498274819787017,
          1.0424787347683493,
          0.3668668769136654,
          0.34794585434742087,
          -0.085468005814318,
          -0.4776892351955959,
          -0.41465365897849416,
          0.036054477415273366,
          -0.20401231462808525,
          1.161933593045215,
          0.2572211399583732,
          -0.41632458709140546,
          0.29579936461538775,
          1.150198739003133,
          -0.8558190523878071,
          0.5808270794162296,
          0.41731649079801186,
          -0.5199105582655607,
          -2.6536129916330564,
          -0.06255168951021686,
          -0.8144212770271861,
          0.383458149641642,
          0.33043639336985287,
          1.3016023329577706,
          0.3533783749387897,
          -0.7015607338711178,
          0.8265510740131821,
          -0.9446908627414659,
          -0.8394308436032527,
          1.1415191740097297,
          -0.9322500161850434,
          0.4453069113668292,
          0.6512042687445224,
          1.3332779351706576,
          0.9311953072551885,
          0.1487293030571078,
          -0.5091459935053668,
          -1.3200135704942564,
          -0.1628574076500507,
          1.051182645365468,
          -1.6572506810120788,
          -0.11636388492189238,
          0.37233883307653604,
          1.7893157472842727,
          -0.3045955172233988,
          1.4008269920829313,
          0.6601985256765023,
          0.7506108391927792,
          -2.342043098724719,
          0.06261592265701701,
          1.5248256573020205,
          -2.052558012593074,
          1.082105581164093,
          1.4130868971484738,
          0.5979348791248525,
          -1.61064676866785,
          -0.714945330445735,
          0.22106443159093367,
          0.3812254917441854
         ],
         "xaxis": "x13",
         "y": [
          -0.04991211993374211,
          -0.12439110703781973,
          0.7101003614182688,
          -0.35398370554287545,
          1.5164722533933743,
          -0.41835023750400413,
          1.5578918472611498,
          -1.0470709111688634,
          -0.21564737040826687,
          0.25162592947540413,
          -0.7905196919300693,
          0.9560849098301893,
          1.4076471419284666,
          -1.2314418596796994,
          0.06572488882951952,
          -0.19774577889226952,
          -0.2591421126525056,
          1.4120511137012324,
          -1.982797453619798,
          -0.7368091611591652,
          -0.8908859816266917,
          0.8493942792511213,
          -0.9343664832323013,
          -0.9386450383133357,
          2.2357034181115303,
          -0.9649586851045795,
          -0.047329575850956734,
          0.1474778487189868,
          0.2842770948925106,
          0.7390626475625436,
          1.9440813080345196,
          0.9362213920110779,
          0.04646899136067646,
          -1.3895335865701155,
          -1.4293090319454262,
          -0.08369349619341691,
          -0.1031727868141034,
          0.4318333905014164,
          1.060558604243418,
          -0.6757995431173397,
          -0.7096132372107928,
          0.10785597274051674,
          -0.16725231627786866,
          0.2771413691585504,
          -0.10731638343080796,
          -1.8451425109836772,
          1.274677229320815,
          0.58717604479936,
          0.061611251382167664,
          -0.6430230342613754,
          -1.4743013694904314,
          -0.9158900645774197,
          -0.954786758280121,
          0.6822081948259144,
          0.34839879704861276,
          -0.04598070960361859,
          -0.3477887295783607,
          0.3424614556936414,
          1.2537422587256064,
          -0.3144636316232511,
          -0.33088166767918203,
          0.24098583691838285,
          -1.8494257216038525,
          -1.303321892877603,
          0.08727993420435855,
          -0.21144392685744304,
          -0.99802670303803,
          -0.582998972099361,
          0.12599760514905586,
          0.33768209228641816,
          0.9832081914713734,
          0.6142968437316982,
          -0.4867280205325363,
          -0.4611200177845175,
          1.0887127777617118,
          0.9745419332751694,
          -0.1944659262355014,
          -0.08836951316997524,
          -0.2280425629868187,
          -1.1624890707556061,
          1.3342967092565288,
          -1.4914465689637137,
          1.4051448495954553,
          0.07991409864922384,
          1.4488475536515766,
          -0.4812499254280882,
          -1.3720939113128368,
          1.6994099505627416,
          -0.48774505776445826,
          -0.458635435852188,
          -1.065294785120887,
          -1.2646413351401742,
          -0.803687099083522,
          -0.47927193126466255,
          -0.4379284085692556,
          0.2669769600358279,
          1.069464782804705,
          0.973077922156685,
          0.973895942338388,
          1.97257060193517
         ],
         "yaxis": "y13"
        },
        {
         "line": {
          "color": "rgba(128, 128, 128, 1.0)",
          "dash": "solid",
          "shape": "linear",
          "width": 1.3
         },
         "marker": {
          "size": 2,
          "symbol": "circle"
         },
         "mode": "markers",
         "name": "D",
         "text": "",
         "type": "scatter",
         "x": [
          0.49530524243032753,
          -0.33155284111894245,
          0.3823433216033376,
          0.9086742417323572,
          -0.9406898519372928,
          -0.8483154273799747,
          1.6571589657439307,
          -1.938873260364442,
          0.24490043966031677,
          0.18352639143114957,
          0.9049069442332238,
          0.03157437335473936,
          -0.2977416259693257,
          -1.8732813079088602,
          0.17078376111279628,
          -0.8810607662376312,
          0.2641159821815766,
          -0.012533982640648764,
          -0.9081288971485045,
          -0.9810406405593401,
          -0.9379219216301571,
          0.29968958943973506,
          -1.0119355406104276,
          -0.7816240835348891,
          -0.2837443190188271,
          0.5475878740687695,
          0.4743559307052271,
          -1.210423651310594,
          0.9249605228193762,
          0.3138368128256702,
          -0.09785414678591046,
          -0.7625445904547198,
          -0.1862413274505684,
          -0.3320865504202027,
          -0.8859063878791051,
          0.37679083266045055,
          0.9416492196016312,
          -0.007690460086156482,
          0.2297348916331496,
          -1.8412669166114761,
          1.657077117123675,
          -0.7564363578096798,
          0.659923250433344,
          1.2928900454577736,
          0.9449583129144369,
          -0.17798151351480912,
          0.6489246064349281,
          1.3156893789224975,
          1.2456668799367667,
          -1.080640862986375,
          1.539258854092646,
          -2.565655163178437,
          0.169025045961495,
          0.5999296572081371,
          1.3206214739408846,
          0.5561738385726992,
          -0.3476283799882969,
          -1.1093599651666206,
          0.6135274982162919,
          -1.0407166273927153,
          0.9470732034080648,
          -0.42440506264589123,
          1.3324077616499677,
          -0.6303178536842527,
          -0.5087271349329137,
          1.4278230591076921,
          -0.7303842795602131,
          0.8822983642819051,
          -0.9625648779028388,
          1.366666141526766,
          -0.22461546330143253,
          -0.013347324341547062,
          0.34389365060092164,
          -0.08241598369271212,
          1.1262608158821759,
          -2.014612205802725,
          0.3779595899831078,
          -1.9012238535971318,
          -0.13046129724341862,
          -0.5366218036792957,
          -0.12607265453927644,
          -0.5400340075676425,
          1.462777927141379,
          0.33414458333389485,
          -2.1199296704021457,
          -0.40834563774284355,
          -0.40434317871986625,
          0.9887146043266994,
          0.91164489839338,
          -1.6901142716218078,
          0.45073429879340104,
          -1.0270114127775605,
          0.8129813019936439,
          -1.6497272066853281,
          0.2103360616377157,
          1.4329526295414792,
          -1.581915708301178,
          -0.3759567547149745,
          -0.14636819627345232,
          -0.34260170380114285
         ],
         "xaxis": "x14",
         "y": [
          -0.04991211993374211,
          -0.12439110703781973,
          0.7101003614182688,
          -0.35398370554287545,
          1.5164722533933743,
          -0.41835023750400413,
          1.5578918472611498,
          -1.0470709111688634,
          -0.21564737040826687,
          0.25162592947540413,
          -0.7905196919300693,
          0.9560849098301893,
          1.4076471419284666,
          -1.2314418596796994,
          0.06572488882951952,
          -0.19774577889226952,
          -0.2591421126525056,
          1.4120511137012324,
          -1.982797453619798,
          -0.7368091611591652,
          -0.8908859816266917,
          0.8493942792511213,
          -0.9343664832323013,
          -0.9386450383133357,
          2.2357034181115303,
          -0.9649586851045795,
          -0.047329575850956734,
          0.1474778487189868,
          0.2842770948925106,
          0.7390626475625436,
          1.9440813080345196,
          0.9362213920110779,
          0.04646899136067646,
          -1.3895335865701155,
          -1.4293090319454262,
          -0.08369349619341691,
          -0.1031727868141034,
          0.4318333905014164,
          1.060558604243418,
          -0.6757995431173397,
          -0.7096132372107928,
          0.10785597274051674,
          -0.16725231627786866,
          0.2771413691585504,
          -0.10731638343080796,
          -1.8451425109836772,
          1.274677229320815,
          0.58717604479936,
          0.061611251382167664,
          -0.6430230342613754,
          -1.4743013694904314,
          -0.9158900645774197,
          -0.954786758280121,
          0.6822081948259144,
          0.34839879704861276,
          -0.04598070960361859,
          -0.3477887295783607,
          0.3424614556936414,
          1.2537422587256064,
          -0.3144636316232511,
          -0.33088166767918203,
          0.24098583691838285,
          -1.8494257216038525,
          -1.303321892877603,
          0.08727993420435855,
          -0.21144392685744304,
          -0.99802670303803,
          -0.582998972099361,
          0.12599760514905586,
          0.33768209228641816,
          0.9832081914713734,
          0.6142968437316982,
          -0.4867280205325363,
          -0.4611200177845175,
          1.0887127777617118,
          0.9745419332751694,
          -0.1944659262355014,
          -0.08836951316997524,
          -0.2280425629868187,
          -1.1624890707556061,
          1.3342967092565288,
          -1.4914465689637137,
          1.4051448495954553,
          0.07991409864922384,
          1.4488475536515766,
          -0.4812499254280882,
          -1.3720939113128368,
          1.6994099505627416,
          -0.48774505776445826,
          -0.458635435852188,
          -1.065294785120887,
          -1.2646413351401742,
          -0.803687099083522,
          -0.47927193126466255,
          -0.4379284085692556,
          0.2669769600358279,
          1.069464782804705,
          0.973077922156685,
          0.973895942338388,
          1.97257060193517
         ],
         "yaxis": "y14"
        },
        {
         "line": {
          "color": "rgba(128, 128, 128, 1.0)",
          "dash": "solid",
          "shape": "linear",
          "width": 1.3
         },
         "marker": {
          "size": 2,
          "symbol": "circle"
         },
         "mode": "markers",
         "name": "D",
         "text": "",
         "type": "scatter",
         "x": [
          0.12807187542398446,
          -0.3379463377964324,
          1.4633959013920768,
          -0.7738598484728232,
          -1.0506891784607324,
          -1.09518691881857,
          0.044644608263914184,
          -1.9890471028668202,
          -0.4979235596864153,
          -0.4917194995315308,
          0.3723206047024177,
          1.4797020017419786,
          0.5822251097411749,
          0.5690730061828009,
          0.8982496318252999,
          0.17036934960817704,
          -0.3348729005798415,
          -1.6858302901496391,
          -0.09501172767999093,
          -0.7619592055406335,
          -0.32528897590914885,
          0.6038411479342818,
          -0.648527324425865,
          -0.27739186473579414,
          -1.1519450600777303,
          0.35994010301896,
          -1.0047115407190013,
          0.018081751091101536,
          -0.5757856328012967,
          0.39663682494637903,
          1.4596645528499967,
          -1.0962404173890326,
          -2.4598285717737594,
          -0.17083847101992244,
          -0.6761894887970228,
          0.24866589158258182,
          -0.029436222060168354,
          1.4155548765095454,
          -1.3271971507233289,
          1.120612037768788,
          -1.7569662771148205,
          -0.8837976051847442,
          0.7814504711599632,
          -1.1585953557552133,
          0.8296550448227875,
          -1.022371651731951,
          2.6474934379087967,
          -0.1912819262932093,
          -1.9066585577083526,
          -0.3901423136816461,
          -0.3760894204814213,
          0.6152684209827143,
          0.32727873814900565,
          0.41456818164039266,
          -1.0900178944425651,
          0.18417547935634557,
          -0.011093448019438791,
          -1.0297139516709861,
          1.8751686118475495,
          1.441084167812649,
          0.6884012654943377,
          2.2678012801697065,
          2.574679436025041,
          0.9451138305462838,
          -2.4745569767804945,
          1.3778785688946562,
          -1.1319363625136982,
          0.9294825643245276,
          -2.2649043477165414,
          0.18409100590505723,
          -1.0863010954183472,
          1.0165512494366178,
          -0.4926783393127255,
          1.5575130252219136,
          0.42694304228021995,
          -1.5016976988685655,
          1.7556337797231079,
          0.16630108389176115,
          0.2005436626847083,
          -0.5662535692768542,
          0.7000057752049412,
          0.20418566509752173,
          -0.8085208385874586,
          1.3547112958490681,
          0.7484134879484421,
          0.7516113952927546,
          1.0302314724346373,
          -0.6282968589562925,
          0.6241653504657344,
          0.051760190304043205,
          0.07008875643568846,
          -0.6663436136115266,
          -0.16976616290151544,
          -0.9639158937639654,
          1.332975648244094,
          0.15542889576827051,
          -1.0420319739732598,
          -0.4051167484244614,
          0.9892453566514525,
          0.03987956195702824
         ],
         "xaxis": "x15",
         "y": [
          -0.04991211993374211,
          -0.12439110703781973,
          0.7101003614182688,
          -0.35398370554287545,
          1.5164722533933743,
          -0.41835023750400413,
          1.5578918472611498,
          -1.0470709111688634,
          -0.21564737040826687,
          0.25162592947540413,
          -0.7905196919300693,
          0.9560849098301893,
          1.4076471419284666,
          -1.2314418596796994,
          0.06572488882951952,
          -0.19774577889226952,
          -0.2591421126525056,
          1.4120511137012324,
          -1.982797453619798,
          -0.7368091611591652,
          -0.8908859816266917,
          0.8493942792511213,
          -0.9343664832323013,
          -0.9386450383133357,
          2.2357034181115303,
          -0.9649586851045795,
          -0.047329575850956734,
          0.1474778487189868,
          0.2842770948925106,
          0.7390626475625436,
          1.9440813080345196,
          0.9362213920110779,
          0.04646899136067646,
          -1.3895335865701155,
          -1.4293090319454262,
          -0.08369349619341691,
          -0.1031727868141034,
          0.4318333905014164,
          1.060558604243418,
          -0.6757995431173397,
          -0.7096132372107928,
          0.10785597274051674,
          -0.16725231627786866,
          0.2771413691585504,
          -0.10731638343080796,
          -1.8451425109836772,
          1.274677229320815,
          0.58717604479936,
          0.061611251382167664,
          -0.6430230342613754,
          -1.4743013694904314,
          -0.9158900645774197,
          -0.954786758280121,
          0.6822081948259144,
          0.34839879704861276,
          -0.04598070960361859,
          -0.3477887295783607,
          0.3424614556936414,
          1.2537422587256064,
          -0.3144636316232511,
          -0.33088166767918203,
          0.24098583691838285,
          -1.8494257216038525,
          -1.303321892877603,
          0.08727993420435855,
          -0.21144392685744304,
          -0.99802670303803,
          -0.582998972099361,
          0.12599760514905586,
          0.33768209228641816,
          0.9832081914713734,
          0.6142968437316982,
          -0.4867280205325363,
          -0.4611200177845175,
          1.0887127777617118,
          0.9745419332751694,
          -0.1944659262355014,
          -0.08836951316997524,
          -0.2280425629868187,
          -1.1624890707556061,
          1.3342967092565288,
          -1.4914465689637137,
          1.4051448495954553,
          0.07991409864922384,
          1.4488475536515766,
          -0.4812499254280882,
          -1.3720939113128368,
          1.6994099505627416,
          -0.48774505776445826,
          -0.458635435852188,
          -1.065294785120887,
          -1.2646413351401742,
          -0.803687099083522,
          -0.47927193126466255,
          -0.4379284085692556,
          0.2669769600358279,
          1.069464782804705,
          0.973077922156685,
          0.973895942338388,
          1.97257060193517
         ],
         "yaxis": "y15"
        },
        {
         "histfunc": "count",
         "histnorm": "",
         "marker": {
          "color": "rgba(128, 0, 128, 1.0)",
          "line": {
           "color": "#4D5663",
           "width": 1.3
          }
         },
         "name": "D",
         "nbinsx": 10,
         "opacity": 0.8,
         "orientation": "v",
         "type": "histogram",
         "x": [
          -0.04991211993374211,
          -0.12439110703781973,
          0.7101003614182688,
          -0.35398370554287545,
          1.5164722533933743,
          -0.41835023750400413,
          1.5578918472611498,
          -1.0470709111688634,
          -0.21564737040826687,
          0.25162592947540413,
          -0.7905196919300693,
          0.9560849098301893,
          1.4076471419284666,
          -1.2314418596796994,
          0.06572488882951952,
          -0.19774577889226952,
          -0.2591421126525056,
          1.4120511137012324,
          -1.982797453619798,
          -0.7368091611591652,
          -0.8908859816266917,
          0.8493942792511213,
          -0.9343664832323013,
          -0.9386450383133357,
          2.2357034181115303,
          -0.9649586851045795,
          -0.047329575850956734,
          0.1474778487189868,
          0.2842770948925106,
          0.7390626475625436,
          1.9440813080345196,
          0.9362213920110779,
          0.04646899136067646,
          -1.3895335865701155,
          -1.4293090319454262,
          -0.08369349619341691,
          -0.1031727868141034,
          0.4318333905014164,
          1.060558604243418,
          -0.6757995431173397,
          -0.7096132372107928,
          0.10785597274051674,
          -0.16725231627786866,
          0.2771413691585504,
          -0.10731638343080796,
          -1.8451425109836772,
          1.274677229320815,
          0.58717604479936,
          0.061611251382167664,
          -0.6430230342613754,
          -1.4743013694904314,
          -0.9158900645774197,
          -0.954786758280121,
          0.6822081948259144,
          0.34839879704861276,
          -0.04598070960361859,
          -0.3477887295783607,
          0.3424614556936414,
          1.2537422587256064,
          -0.3144636316232511,
          -0.33088166767918203,
          0.24098583691838285,
          -1.8494257216038525,
          -1.303321892877603,
          0.08727993420435855,
          -0.21144392685744304,
          -0.99802670303803,
          -0.582998972099361,
          0.12599760514905586,
          0.33768209228641816,
          0.9832081914713734,
          0.6142968437316982,
          -0.4867280205325363,
          -0.4611200177845175,
          1.0887127777617118,
          0.9745419332751694,
          -0.1944659262355014,
          -0.08836951316997524,
          -0.2280425629868187,
          -1.1624890707556061,
          1.3342967092565288,
          -1.4914465689637137,
          1.4051448495954553,
          0.07991409864922384,
          1.4488475536515766,
          -0.4812499254280882,
          -1.3720939113128368,
          1.6994099505627416,
          -0.48774505776445826,
          -0.458635435852188,
          -1.065294785120887,
          -1.2646413351401742,
          -0.803687099083522,
          -0.47927193126466255,
          -0.4379284085692556,
          0.2669769600358279,
          1.069464782804705,
          0.973077922156685,
          0.973895942338388,
          1.97257060193517
         ],
         "xaxis": "x16",
         "yaxis": "y16"
        }
       ],
       "layout": {
        "bargap": 0.02,
        "legend": {
         "bgcolor": "#F5F6F9",
         "font": {
          "color": "#4D5663"
         }
        },
        "paper_bgcolor": "#F5F6F9",
        "plot_bgcolor": "#F5F6F9",
        "showlegend": false,
        "template": {
         "data": {
          "bar": [
           {
            "error_x": {
             "color": "#2a3f5f"
            },
            "error_y": {
             "color": "#2a3f5f"
            },
            "marker": {
             "line": {
              "color": "#E5ECF6",
              "width": 0.5
             },
             "pattern": {
              "fillmode": "overlay",
              "size": 10,
              "solidity": 0.2
             }
            },
            "type": "bar"
           }
          ],
          "barpolar": [
           {
            "marker": {
             "line": {
              "color": "#E5ECF6",
              "width": 0.5
             },
             "pattern": {
              "fillmode": "overlay",
              "size": 10,
              "solidity": 0.2
             }
            },
            "type": "barpolar"
           }
          ],
          "carpet": [
           {
            "aaxis": {
             "endlinecolor": "#2a3f5f",
             "gridcolor": "white",
             "linecolor": "white",
             "minorgridcolor": "white",
             "startlinecolor": "#2a3f5f"
            },
            "baxis": {
             "endlinecolor": "#2a3f5f",
             "gridcolor": "white",
             "linecolor": "white",
             "minorgridcolor": "white",
             "startlinecolor": "#2a3f5f"
            },
            "type": "carpet"
           }
          ],
          "choropleth": [
           {
            "colorbar": {
             "outlinewidth": 0,
             "ticks": ""
            },
            "type": "choropleth"
           }
          ],
          "contour": [
           {
            "colorbar": {
             "outlinewidth": 0,
             "ticks": ""
            },
            "colorscale": [
             [
              0,
              "#0d0887"
             ],
             [
              0.1111111111111111,
              "#46039f"
             ],
             [
              0.2222222222222222,
              "#7201a8"
             ],
             [
              0.3333333333333333,
              "#9c179e"
             ],
             [
              0.4444444444444444,
              "#bd3786"
             ],
             [
              0.5555555555555556,
              "#d8576b"
             ],
             [
              0.6666666666666666,
              "#ed7953"
             ],
             [
              0.7777777777777778,
              "#fb9f3a"
             ],
             [
              0.8888888888888888,
              "#fdca26"
             ],
             [
              1,
              "#f0f921"
             ]
            ],
            "type": "contour"
           }
          ],
          "contourcarpet": [
           {
            "colorbar": {
             "outlinewidth": 0,
             "ticks": ""
            },
            "type": "contourcarpet"
           }
          ],
          "heatmap": [
           {
            "colorbar": {
             "outlinewidth": 0,
             "ticks": ""
            },
            "colorscale": [
             [
              0,
              "#0d0887"
             ],
             [
              0.1111111111111111,
              "#46039f"
             ],
             [
              0.2222222222222222,
              "#7201a8"
             ],
             [
              0.3333333333333333,
              "#9c179e"
             ],
             [
              0.4444444444444444,
              "#bd3786"
             ],
             [
              0.5555555555555556,
              "#d8576b"
             ],
             [
              0.6666666666666666,
              "#ed7953"
             ],
             [
              0.7777777777777778,
              "#fb9f3a"
             ],
             [
              0.8888888888888888,
              "#fdca26"
             ],
             [
              1,
              "#f0f921"
             ]
            ],
            "type": "heatmap"
           }
          ],
          "heatmapgl": [
           {
            "colorbar": {
             "outlinewidth": 0,
             "ticks": ""
            },
            "colorscale": [
             [
              0,
              "#0d0887"
             ],
             [
              0.1111111111111111,
              "#46039f"
             ],
             [
              0.2222222222222222,
              "#7201a8"
             ],
             [
              0.3333333333333333,
              "#9c179e"
             ],
             [
              0.4444444444444444,
              "#bd3786"
             ],
             [
              0.5555555555555556,
              "#d8576b"
             ],
             [
              0.6666666666666666,
              "#ed7953"
             ],
             [
              0.7777777777777778,
              "#fb9f3a"
             ],
             [
              0.8888888888888888,
              "#fdca26"
             ],
             [
              1,
              "#f0f921"
             ]
            ],
            "type": "heatmapgl"
           }
          ],
          "histogram": [
           {
            "marker": {
             "pattern": {
              "fillmode": "overlay",
              "size": 10,
              "solidity": 0.2
             }
            },
            "type": "histogram"
           }
          ],
          "histogram2d": [
           {
            "colorbar": {
             "outlinewidth": 0,
             "ticks": ""
            },
            "colorscale": [
             [
              0,
              "#0d0887"
             ],
             [
              0.1111111111111111,
              "#46039f"
             ],
             [
              0.2222222222222222,
              "#7201a8"
             ],
             [
              0.3333333333333333,
              "#9c179e"
             ],
             [
              0.4444444444444444,
              "#bd3786"
             ],
             [
              0.5555555555555556,
              "#d8576b"
             ],
             [
              0.6666666666666666,
              "#ed7953"
             ],
             [
              0.7777777777777778,
              "#fb9f3a"
             ],
             [
              0.8888888888888888,
              "#fdca26"
             ],
             [
              1,
              "#f0f921"
             ]
            ],
            "type": "histogram2d"
           }
          ],
          "histogram2dcontour": [
           {
            "colorbar": {
             "outlinewidth": 0,
             "ticks": ""
            },
            "colorscale": [
             [
              0,
              "#0d0887"
             ],
             [
              0.1111111111111111,
              "#46039f"
             ],
             [
              0.2222222222222222,
              "#7201a8"
             ],
             [
              0.3333333333333333,
              "#9c179e"
             ],
             [
              0.4444444444444444,
              "#bd3786"
             ],
             [
              0.5555555555555556,
              "#d8576b"
             ],
             [
              0.6666666666666666,
              "#ed7953"
             ],
             [
              0.7777777777777778,
              "#fb9f3a"
             ],
             [
              0.8888888888888888,
              "#fdca26"
             ],
             [
              1,
              "#f0f921"
             ]
            ],
            "type": "histogram2dcontour"
           }
          ],
          "mesh3d": [
           {
            "colorbar": {
             "outlinewidth": 0,
             "ticks": ""
            },
            "type": "mesh3d"
           }
          ],
          "parcoords": [
           {
            "line": {
             "colorbar": {
              "outlinewidth": 0,
              "ticks": ""
             }
            },
            "type": "parcoords"
           }
          ],
          "pie": [
           {
            "automargin": true,
            "type": "pie"
           }
          ],
          "scatter": [
           {
            "marker": {
             "colorbar": {
              "outlinewidth": 0,
              "ticks": ""
             }
            },
            "type": "scatter"
           }
          ],
          "scatter3d": [
           {
            "line": {
             "colorbar": {
              "outlinewidth": 0,
              "ticks": ""
             }
            },
            "marker": {
             "colorbar": {
              "outlinewidth": 0,
              "ticks": ""
             }
            },
            "type": "scatter3d"
           }
          ],
          "scattercarpet": [
           {
            "marker": {
             "colorbar": {
              "outlinewidth": 0,
              "ticks": ""
             }
            },
            "type": "scattercarpet"
           }
          ],
          "scattergeo": [
           {
            "marker": {
             "colorbar": {
              "outlinewidth": 0,
              "ticks": ""
             }
            },
            "type": "scattergeo"
           }
          ],
          "scattergl": [
           {
            "marker": {
             "colorbar": {
              "outlinewidth": 0,
              "ticks": ""
             }
            },
            "type": "scattergl"
           }
          ],
          "scattermapbox": [
           {
            "marker": {
             "colorbar": {
              "outlinewidth": 0,
              "ticks": ""
             }
            },
            "type": "scattermapbox"
           }
          ],
          "scatterpolar": [
           {
            "marker": {
             "colorbar": {
              "outlinewidth": 0,
              "ticks": ""
             }
            },
            "type": "scatterpolar"
           }
          ],
          "scatterpolargl": [
           {
            "marker": {
             "colorbar": {
              "outlinewidth": 0,
              "ticks": ""
             }
            },
            "type": "scatterpolargl"
           }
          ],
          "scatterternary": [
           {
            "marker": {
             "colorbar": {
              "outlinewidth": 0,
              "ticks": ""
             }
            },
            "type": "scatterternary"
           }
          ],
          "surface": [
           {
            "colorbar": {
             "outlinewidth": 0,
             "ticks": ""
            },
            "colorscale": [
             [
              0,
              "#0d0887"
             ],
             [
              0.1111111111111111,
              "#46039f"
             ],
             [
              0.2222222222222222,
              "#7201a8"
             ],
             [
              0.3333333333333333,
              "#9c179e"
             ],
             [
              0.4444444444444444,
              "#bd3786"
             ],
             [
              0.5555555555555556,
              "#d8576b"
             ],
             [
              0.6666666666666666,
              "#ed7953"
             ],
             [
              0.7777777777777778,
              "#fb9f3a"
             ],
             [
              0.8888888888888888,
              "#fdca26"
             ],
             [
              1,
              "#f0f921"
             ]
            ],
            "type": "surface"
           }
          ],
          "table": [
           {
            "cells": {
             "fill": {
              "color": "#EBF0F8"
             },
             "line": {
              "color": "white"
             }
            },
            "header": {
             "fill": {
              "color": "#C8D4E3"
             },
             "line": {
              "color": "white"
             }
            },
            "type": "table"
           }
          ]
         },
         "layout": {
          "annotationdefaults": {
           "arrowcolor": "#2a3f5f",
           "arrowhead": 0,
           "arrowwidth": 1
          },
          "autotypenumbers": "strict",
          "coloraxis": {
           "colorbar": {
            "outlinewidth": 0,
            "ticks": ""
           }
          },
          "colorscale": {
           "diverging": [
            [
             0,
             "#8e0152"
            ],
            [
             0.1,
             "#c51b7d"
            ],
            [
             0.2,
             "#de77ae"
            ],
            [
             0.3,
             "#f1b6da"
            ],
            [
             0.4,
             "#fde0ef"
            ],
            [
             0.5,
             "#f7f7f7"
            ],
            [
             0.6,
             "#e6f5d0"
            ],
            [
             0.7,
             "#b8e186"
            ],
            [
             0.8,
             "#7fbc41"
            ],
            [
             0.9,
             "#4d9221"
            ],
            [
             1,
             "#276419"
            ]
           ],
           "sequential": [
            [
             0,
             "#0d0887"
            ],
            [
             0.1111111111111111,
             "#46039f"
            ],
            [
             0.2222222222222222,
             "#7201a8"
            ],
            [
             0.3333333333333333,
             "#9c179e"
            ],
            [
             0.4444444444444444,
             "#bd3786"
            ],
            [
             0.5555555555555556,
             "#d8576b"
            ],
            [
             0.6666666666666666,
             "#ed7953"
            ],
            [
             0.7777777777777778,
             "#fb9f3a"
            ],
            [
             0.8888888888888888,
             "#fdca26"
            ],
            [
             1,
             "#f0f921"
            ]
           ],
           "sequentialminus": [
            [
             0,
             "#0d0887"
            ],
            [
             0.1111111111111111,
             "#46039f"
            ],
            [
             0.2222222222222222,
             "#7201a8"
            ],
            [
             0.3333333333333333,
             "#9c179e"
            ],
            [
             0.4444444444444444,
             "#bd3786"
            ],
            [
             0.5555555555555556,
             "#d8576b"
            ],
            [
             0.6666666666666666,
             "#ed7953"
            ],
            [
             0.7777777777777778,
             "#fb9f3a"
            ],
            [
             0.8888888888888888,
             "#fdca26"
            ],
            [
             1,
             "#f0f921"
            ]
           ]
          },
          "colorway": [
           "#636efa",
           "#EF553B",
           "#00cc96",
           "#ab63fa",
           "#FFA15A",
           "#19d3f3",
           "#FF6692",
           "#B6E880",
           "#FF97FF",
           "#FECB52"
          ],
          "font": {
           "color": "#2a3f5f"
          },
          "geo": {
           "bgcolor": "white",
           "lakecolor": "white",
           "landcolor": "#E5ECF6",
           "showlakes": true,
           "showland": true,
           "subunitcolor": "white"
          },
          "hoverlabel": {
           "align": "left"
          },
          "hovermode": "closest",
          "mapbox": {
           "style": "light"
          },
          "paper_bgcolor": "white",
          "plot_bgcolor": "#E5ECF6",
          "polar": {
           "angularaxis": {
            "gridcolor": "white",
            "linecolor": "white",
            "ticks": ""
           },
           "bgcolor": "#E5ECF6",
           "radialaxis": {
            "gridcolor": "white",
            "linecolor": "white",
            "ticks": ""
           }
          },
          "scene": {
           "xaxis": {
            "backgroundcolor": "#E5ECF6",
            "gridcolor": "white",
            "gridwidth": 2,
            "linecolor": "white",
            "showbackground": true,
            "ticks": "",
            "zerolinecolor": "white"
           },
           "yaxis": {
            "backgroundcolor": "#E5ECF6",
            "gridcolor": "white",
            "gridwidth": 2,
            "linecolor": "white",
            "showbackground": true,
            "ticks": "",
            "zerolinecolor": "white"
           },
           "zaxis": {
            "backgroundcolor": "#E5ECF6",
            "gridcolor": "white",
            "gridwidth": 2,
            "linecolor": "white",
            "showbackground": true,
            "ticks": "",
            "zerolinecolor": "white"
           }
          },
          "shapedefaults": {
           "line": {
            "color": "#2a3f5f"
           }
          },
          "ternary": {
           "aaxis": {
            "gridcolor": "white",
            "linecolor": "white",
            "ticks": ""
           },
           "baxis": {
            "gridcolor": "white",
            "linecolor": "white",
            "ticks": ""
           },
           "bgcolor": "#E5ECF6",
           "caxis": {
            "gridcolor": "white",
            "linecolor": "white",
            "ticks": ""
           }
          },
          "title": {
           "x": 0.05
          },
          "xaxis": {
           "automargin": true,
           "gridcolor": "white",
           "linecolor": "white",
           "ticks": "",
           "title": {
            "standoff": 15
           },
           "zerolinecolor": "white",
           "zerolinewidth": 2
          },
          "yaxis": {
           "automargin": true,
           "gridcolor": "white",
           "linecolor": "white",
           "ticks": "",
           "title": {
            "standoff": 15
           },
           "zerolinecolor": "white",
           "zerolinewidth": 2
          }
         }
        },
        "title": {
         "font": {
          "color": "#4D5663"
         }
        },
        "xaxis": {
         "anchor": "y",
         "domain": [
          0,
          0.2125
         ],
         "gridcolor": "#E1E5ED",
         "showgrid": false,
         "tickfont": {
          "color": "#4D5663"
         },
         "title": {
          "font": {
           "color": "#4D5663"
          },
          "text": ""
         },
         "zerolinecolor": "#E1E5ED"
        },
        "xaxis10": {
         "anchor": "y10",
         "domain": [
          0.2625,
          0.475
         ],
         "gridcolor": "#E1E5ED",
         "showgrid": false,
         "tickfont": {
          "color": "#4D5663"
         },
         "title": {
          "font": {
           "color": "#4D5663"
          },
          "text": ""
         },
         "zerolinecolor": "#E1E5ED"
        },
        "xaxis11": {
         "anchor": "y11",
         "domain": [
          0.525,
          0.7375
         ],
         "gridcolor": "#E1E5ED",
         "showgrid": false,
         "tickfont": {
          "color": "#4D5663"
         },
         "title": {
          "font": {
           "color": "#4D5663"
          },
          "text": ""
         },
         "zerolinecolor": "#E1E5ED"
        },
        "xaxis12": {
         "anchor": "y12",
         "domain": [
          0.7875,
          1
         ],
         "gridcolor": "#E1E5ED",
         "showgrid": false,
         "tickfont": {
          "color": "#4D5663"
         },
         "title": {
          "font": {
           "color": "#4D5663"
          },
          "text": ""
         },
         "zerolinecolor": "#E1E5ED"
        },
        "xaxis13": {
         "anchor": "y13",
         "domain": [
          0,
          0.2125
         ],
         "gridcolor": "#E1E5ED",
         "showgrid": false,
         "tickfont": {
          "color": "#4D5663"
         },
         "title": {
          "font": {
           "color": "#4D5663"
          },
          "text": ""
         },
         "zerolinecolor": "#E1E5ED"
        },
        "xaxis14": {
         "anchor": "y14",
         "domain": [
          0.2625,
          0.475
         ],
         "gridcolor": "#E1E5ED",
         "showgrid": false,
         "tickfont": {
          "color": "#4D5663"
         },
         "title": {
          "font": {
           "color": "#4D5663"
          },
          "text": ""
         },
         "zerolinecolor": "#E1E5ED"
        },
        "xaxis15": {
         "anchor": "y15",
         "domain": [
          0.525,
          0.7375
         ],
         "gridcolor": "#E1E5ED",
         "showgrid": false,
         "tickfont": {
          "color": "#4D5663"
         },
         "title": {
          "font": {
           "color": "#4D5663"
          },
          "text": ""
         },
         "zerolinecolor": "#E1E5ED"
        },
        "xaxis16": {
         "anchor": "y16",
         "domain": [
          0.7875,
          1
         ],
         "gridcolor": "#E1E5ED",
         "showgrid": false,
         "tickfont": {
          "color": "#4D5663"
         },
         "title": {
          "font": {
           "color": "#4D5663"
          },
          "text": ""
         },
         "zerolinecolor": "#E1E5ED"
        },
        "xaxis2": {
         "anchor": "y2",
         "domain": [
          0.2625,
          0.475
         ],
         "gridcolor": "#E1E5ED",
         "showgrid": false,
         "tickfont": {
          "color": "#4D5663"
         },
         "title": {
          "font": {
           "color": "#4D5663"
          },
          "text": ""
         },
         "zerolinecolor": "#E1E5ED"
        },
        "xaxis3": {
         "anchor": "y3",
         "domain": [
          0.525,
          0.7375
         ],
         "gridcolor": "#E1E5ED",
         "showgrid": false,
         "tickfont": {
          "color": "#4D5663"
         },
         "title": {
          "font": {
           "color": "#4D5663"
          },
          "text": ""
         },
         "zerolinecolor": "#E1E5ED"
        },
        "xaxis4": {
         "anchor": "y4",
         "domain": [
          0.7875,
          1
         ],
         "gridcolor": "#E1E5ED",
         "showgrid": false,
         "tickfont": {
          "color": "#4D5663"
         },
         "title": {
          "font": {
           "color": "#4D5663"
          },
          "text": ""
         },
         "zerolinecolor": "#E1E5ED"
        },
        "xaxis5": {
         "anchor": "y5",
         "domain": [
          0,
          0.2125
         ],
         "gridcolor": "#E1E5ED",
         "showgrid": false,
         "tickfont": {
          "color": "#4D5663"
         },
         "title": {
          "font": {
           "color": "#4D5663"
          },
          "text": ""
         },
         "zerolinecolor": "#E1E5ED"
        },
        "xaxis6": {
         "anchor": "y6",
         "domain": [
          0.2625,
          0.475
         ],
         "gridcolor": "#E1E5ED",
         "showgrid": false,
         "tickfont": {
          "color": "#4D5663"
         },
         "title": {
          "font": {
           "color": "#4D5663"
          },
          "text": ""
         },
         "zerolinecolor": "#E1E5ED"
        },
        "xaxis7": {
         "anchor": "y7",
         "domain": [
          0.525,
          0.7375
         ],
         "gridcolor": "#E1E5ED",
         "showgrid": false,
         "tickfont": {
          "color": "#4D5663"
         },
         "title": {
          "font": {
           "color": "#4D5663"
          },
          "text": ""
         },
         "zerolinecolor": "#E1E5ED"
        },
        "xaxis8": {
         "anchor": "y8",
         "domain": [
          0.7875,
          1
         ],
         "gridcolor": "#E1E5ED",
         "showgrid": false,
         "tickfont": {
          "color": "#4D5663"
         },
         "title": {
          "font": {
           "color": "#4D5663"
          },
          "text": ""
         },
         "zerolinecolor": "#E1E5ED"
        },
        "xaxis9": {
         "anchor": "y9",
         "domain": [
          0,
          0.2125
         ],
         "gridcolor": "#E1E5ED",
         "showgrid": false,
         "tickfont": {
          "color": "#4D5663"
         },
         "title": {
          "font": {
           "color": "#4D5663"
          },
          "text": ""
         },
         "zerolinecolor": "#E1E5ED"
        },
        "yaxis": {
         "anchor": "x",
         "domain": [
          0.8025,
          1
         ],
         "gridcolor": "#E1E5ED",
         "showgrid": false,
         "tickfont": {
          "color": "#4D5663"
         },
         "title": {
          "font": {
           "color": "#4D5663"
          },
          "text": ""
         },
         "zerolinecolor": "#E1E5ED"
        },
        "yaxis10": {
         "anchor": "x10",
         "domain": [
          0.2675,
          0.465
         ],
         "gridcolor": "#E1E5ED",
         "showgrid": false,
         "tickfont": {
          "color": "#4D5663"
         },
         "title": {
          "font": {
           "color": "#4D5663"
          },
          "text": ""
         },
         "zerolinecolor": "#E1E5ED"
        },
        "yaxis11": {
         "anchor": "x11",
         "domain": [
          0.2675,
          0.465
         ],
         "gridcolor": "#E1E5ED",
         "showgrid": false,
         "tickfont": {
          "color": "#4D5663"
         },
         "title": {
          "font": {
           "color": "#4D5663"
          },
          "text": ""
         },
         "zerolinecolor": "#E1E5ED"
        },
        "yaxis12": {
         "anchor": "x12",
         "domain": [
          0.2675,
          0.465
         ],
         "gridcolor": "#E1E5ED",
         "showgrid": false,
         "tickfont": {
          "color": "#4D5663"
         },
         "title": {
          "font": {
           "color": "#4D5663"
          },
          "text": ""
         },
         "zerolinecolor": "#E1E5ED"
        },
        "yaxis13": {
         "anchor": "x13",
         "domain": [
          0,
          0.1975
         ],
         "gridcolor": "#E1E5ED",
         "showgrid": false,
         "tickfont": {
          "color": "#4D5663"
         },
         "title": {
          "font": {
           "color": "#4D5663"
          },
          "text": ""
         },
         "zerolinecolor": "#E1E5ED"
        },
        "yaxis14": {
         "anchor": "x14",
         "domain": [
          0,
          0.1975
         ],
         "gridcolor": "#E1E5ED",
         "showgrid": false,
         "tickfont": {
          "color": "#4D5663"
         },
         "title": {
          "font": {
           "color": "#4D5663"
          },
          "text": ""
         },
         "zerolinecolor": "#E1E5ED"
        },
        "yaxis15": {
         "anchor": "x15",
         "domain": [
          0,
          0.1975
         ],
         "gridcolor": "#E1E5ED",
         "showgrid": false,
         "tickfont": {
          "color": "#4D5663"
         },
         "title": {
          "font": {
           "color": "#4D5663"
          },
          "text": ""
         },
         "zerolinecolor": "#E1E5ED"
        },
        "yaxis16": {
         "anchor": "x16",
         "domain": [
          0,
          0.1975
         ],
         "gridcolor": "#E1E5ED",
         "showgrid": false,
         "tickfont": {
          "color": "#4D5663"
         },
         "title": {
          "font": {
           "color": "#4D5663"
          },
          "text": ""
         },
         "zerolinecolor": "#E1E5ED"
        },
        "yaxis2": {
         "anchor": "x2",
         "domain": [
          0.8025,
          1
         ],
         "gridcolor": "#E1E5ED",
         "showgrid": false,
         "tickfont": {
          "color": "#4D5663"
         },
         "title": {
          "font": {
           "color": "#4D5663"
          },
          "text": ""
         },
         "zerolinecolor": "#E1E5ED"
        },
        "yaxis3": {
         "anchor": "x3",
         "domain": [
          0.8025,
          1
         ],
         "gridcolor": "#E1E5ED",
         "showgrid": false,
         "tickfont": {
          "color": "#4D5663"
         },
         "title": {
          "font": {
           "color": "#4D5663"
          },
          "text": ""
         },
         "zerolinecolor": "#E1E5ED"
        },
        "yaxis4": {
         "anchor": "x4",
         "domain": [
          0.8025,
          1
         ],
         "gridcolor": "#E1E5ED",
         "showgrid": false,
         "tickfont": {
          "color": "#4D5663"
         },
         "title": {
          "font": {
           "color": "#4D5663"
          },
          "text": ""
         },
         "zerolinecolor": "#E1E5ED"
        },
        "yaxis5": {
         "anchor": "x5",
         "domain": [
          0.535,
          0.7325
         ],
         "gridcolor": "#E1E5ED",
         "showgrid": false,
         "tickfont": {
          "color": "#4D5663"
         },
         "title": {
          "font": {
           "color": "#4D5663"
          },
          "text": ""
         },
         "zerolinecolor": "#E1E5ED"
        },
        "yaxis6": {
         "anchor": "x6",
         "domain": [
          0.535,
          0.7325
         ],
         "gridcolor": "#E1E5ED",
         "showgrid": false,
         "tickfont": {
          "color": "#4D5663"
         },
         "title": {
          "font": {
           "color": "#4D5663"
          },
          "text": ""
         },
         "zerolinecolor": "#E1E5ED"
        },
        "yaxis7": {
         "anchor": "x7",
         "domain": [
          0.535,
          0.7325
         ],
         "gridcolor": "#E1E5ED",
         "showgrid": false,
         "tickfont": {
          "color": "#4D5663"
         },
         "title": {
          "font": {
           "color": "#4D5663"
          },
          "text": ""
         },
         "zerolinecolor": "#E1E5ED"
        },
        "yaxis8": {
         "anchor": "x8",
         "domain": [
          0.535,
          0.7325
         ],
         "gridcolor": "#E1E5ED",
         "showgrid": false,
         "tickfont": {
          "color": "#4D5663"
         },
         "title": {
          "font": {
           "color": "#4D5663"
          },
          "text": ""
         },
         "zerolinecolor": "#E1E5ED"
        },
        "yaxis9": {
         "anchor": "x9",
         "domain": [
          0.2675,
          0.465
         ],
         "gridcolor": "#E1E5ED",
         "showgrid": false,
         "tickfont": {
          "color": "#4D5663"
         },
         "title": {
          "font": {
           "color": "#4D5663"
          },
          "text": ""
         },
         "zerolinecolor": "#E1E5ED"
        }
       }
      },
      "text/html": [
       "<div>                            <div id=\"6edd19a3-18e3-4777-b2fc-54d9821f1115\" class=\"plotly-graph-div\" style=\"height:525px; width:100%;\"></div>            <script type=\"text/javascript\">                require([\"plotly\"], function(Plotly) {                    window.PLOTLYENV=window.PLOTLYENV || {};\n",
       "                    window.PLOTLYENV.BASE_URL='https://plot.ly';                                    if (document.getElementById(\"6edd19a3-18e3-4777-b2fc-54d9821f1115\")) {                    Plotly.newPlot(                        \"6edd19a3-18e3-4777-b2fc-54d9821f1115\",                        [{\"histfunc\":\"count\",\"histnorm\":\"\",\"marker\":{\"color\":\"rgba(255, 153, 51, 1.0)\",\"line\":{\"color\":\"#4D5663\",\"width\":1.3}},\"name\":\"A\",\"nbinsx\":10,\"opacity\":0.8,\"orientation\":\"v\",\"type\":\"histogram\",\"x\":[-1.0206472791320926,0.051856060673617886,0.9647955540467175,-0.04575644997517332,0.5698958108657399,-0.2771160176114073,0.6743782176988691,1.1334862342367846,0.8310518336563363,0.8478826680455306,2.1049439394759686,2.3467568101723724,0.471647951479405,-1.2913115835715805,-0.654693311813495,0.24421849479729904,0.09926206507316876,0.27347604364371714,0.6654321688845871,1.5441310592053583,0.4888350095325806,0.85642862115761,1.1995385573927553,0.4503558668432003,-0.9454681741341744,0.701552165824799,0.633064354844197,-2.538557521943568,2.100020731645149,-0.7309540000436948,0.6871288068240419,-0.028292285608094582,0.9182916080767636,-1.1949457214256833,-1.0222052787895517,-1.2514672068784334,1.9246498366119915,1.4123911331033236,-2.322350025852475,-0.05664151881160213,-1.3779867444667755,-1.5498274819787017,1.0424787347683493,0.3668668769136654,0.34794585434742087,-0.085468005814318,-0.4776892351955959,-0.41465365897849416,0.036054477415273366,-0.20401231462808525,1.161933593045215,0.2572211399583732,-0.41632458709140546,0.29579936461538775,1.150198739003133,-0.8558190523878071,0.5808270794162296,0.41731649079801186,-0.5199105582655607,-2.6536129916330564,-0.06255168951021686,-0.8144212770271861,0.383458149641642,0.33043639336985287,1.3016023329577706,0.3533783749387897,-0.7015607338711178,0.8265510740131821,-0.9446908627414659,-0.8394308436032527,1.1415191740097297,-0.9322500161850434,0.4453069113668292,0.6512042687445224,1.3332779351706576,0.9311953072551885,0.1487293030571078,-0.5091459935053668,-1.3200135704942564,-0.1628574076500507,1.051182645365468,-1.6572506810120788,-0.11636388492189238,0.37233883307653604,1.7893157472842727,-0.3045955172233988,1.4008269920829313,0.6601985256765023,0.7506108391927792,-2.342043098724719,0.06261592265701701,1.5248256573020205,-2.052558012593074,1.082105581164093,1.4130868971484738,0.5979348791248525,-1.61064676866785,-0.714945330445735,0.22106443159093367,0.3812254917441854],\"xaxis\":\"x\",\"yaxis\":\"y\"},{\"line\":{\"color\":\"rgba(128, 128, 128, 1.0)\",\"dash\":\"solid\",\"shape\":\"linear\",\"width\":1.3},\"marker\":{\"size\":2,\"symbol\":\"circle\"},\"mode\":\"markers\",\"name\":\"A\",\"text\":\"\",\"type\":\"scatter\",\"x\":[0.49530524243032753,-0.33155284111894245,0.3823433216033376,0.9086742417323572,-0.9406898519372928,-0.8483154273799747,1.6571589657439307,-1.938873260364442,0.24490043966031677,0.18352639143114957,0.9049069442332238,0.03157437335473936,-0.2977416259693257,-1.8732813079088602,0.17078376111279628,-0.8810607662376312,0.2641159821815766,-0.012533982640648764,-0.9081288971485045,-0.9810406405593401,-0.9379219216301571,0.29968958943973506,-1.0119355406104276,-0.7816240835348891,-0.2837443190188271,0.5475878740687695,0.4743559307052271,-1.210423651310594,0.9249605228193762,0.3138368128256702,-0.09785414678591046,-0.7625445904547198,-0.1862413274505684,-0.3320865504202027,-0.8859063878791051,0.37679083266045055,0.9416492196016312,-0.007690460086156482,0.2297348916331496,-1.8412669166114761,1.657077117123675,-0.7564363578096798,0.659923250433344,1.2928900454577736,0.9449583129144369,-0.17798151351480912,0.6489246064349281,1.3156893789224975,1.2456668799367667,-1.080640862986375,1.539258854092646,-2.565655163178437,0.169025045961495,0.5999296572081371,1.3206214739408846,0.5561738385726992,-0.3476283799882969,-1.1093599651666206,0.6135274982162919,-1.0407166273927153,0.9470732034080648,-0.42440506264589123,1.3324077616499677,-0.6303178536842527,-0.5087271349329137,1.4278230591076921,-0.7303842795602131,0.8822983642819051,-0.9625648779028388,1.366666141526766,-0.22461546330143253,-0.013347324341547062,0.34389365060092164,-0.08241598369271212,1.1262608158821759,-2.014612205802725,0.3779595899831078,-1.9012238535971318,-0.13046129724341862,-0.5366218036792957,-0.12607265453927644,-0.5400340075676425,1.462777927141379,0.33414458333389485,-2.1199296704021457,-0.40834563774284355,-0.40434317871986625,0.9887146043266994,0.91164489839338,-1.6901142716218078,0.45073429879340104,-1.0270114127775605,0.8129813019936439,-1.6497272066853281,0.2103360616377157,1.4329526295414792,-1.581915708301178,-0.3759567547149745,-0.14636819627345232,-0.34260170380114285],\"xaxis\":\"x2\",\"y\":[-1.0206472791320926,0.051856060673617886,0.9647955540467175,-0.04575644997517332,0.5698958108657399,-0.2771160176114073,0.6743782176988691,1.1334862342367846,0.8310518336563363,0.8478826680455306,2.1049439394759686,2.3467568101723724,0.471647951479405,-1.2913115835715805,-0.654693311813495,0.24421849479729904,0.09926206507316876,0.27347604364371714,0.6654321688845871,1.5441310592053583,0.4888350095325806,0.85642862115761,1.1995385573927553,0.4503558668432003,-0.9454681741341744,0.701552165824799,0.633064354844197,-2.538557521943568,2.100020731645149,-0.7309540000436948,0.6871288068240419,-0.028292285608094582,0.9182916080767636,-1.1949457214256833,-1.0222052787895517,-1.2514672068784334,1.9246498366119915,1.4123911331033236,-2.322350025852475,-0.05664151881160213,-1.3779867444667755,-1.5498274819787017,1.0424787347683493,0.3668668769136654,0.34794585434742087,-0.085468005814318,-0.4776892351955959,-0.41465365897849416,0.036054477415273366,-0.20401231462808525,1.161933593045215,0.2572211399583732,-0.41632458709140546,0.29579936461538775,1.150198739003133,-0.8558190523878071,0.5808270794162296,0.41731649079801186,-0.5199105582655607,-2.6536129916330564,-0.06255168951021686,-0.8144212770271861,0.383458149641642,0.33043639336985287,1.3016023329577706,0.3533783749387897,-0.7015607338711178,0.8265510740131821,-0.9446908627414659,-0.8394308436032527,1.1415191740097297,-0.9322500161850434,0.4453069113668292,0.6512042687445224,1.3332779351706576,0.9311953072551885,0.1487293030571078,-0.5091459935053668,-1.3200135704942564,-0.1628574076500507,1.051182645365468,-1.6572506810120788,-0.11636388492189238,0.37233883307653604,1.7893157472842727,-0.3045955172233988,1.4008269920829313,0.6601985256765023,0.7506108391927792,-2.342043098724719,0.06261592265701701,1.5248256573020205,-2.052558012593074,1.082105581164093,1.4130868971484738,0.5979348791248525,-1.61064676866785,-0.714945330445735,0.22106443159093367,0.3812254917441854],\"yaxis\":\"y2\"},{\"line\":{\"color\":\"rgba(128, 128, 128, 1.0)\",\"dash\":\"solid\",\"shape\":\"linear\",\"width\":1.3},\"marker\":{\"size\":2,\"symbol\":\"circle\"},\"mode\":\"markers\",\"name\":\"A\",\"text\":\"\",\"type\":\"scatter\",\"x\":[0.12807187542398446,-0.3379463377964324,1.4633959013920768,-0.7738598484728232,-1.0506891784607324,-1.09518691881857,0.044644608263914184,-1.9890471028668202,-0.4979235596864153,-0.4917194995315308,0.3723206047024177,1.4797020017419786,0.5822251097411749,0.5690730061828009,0.8982496318252999,0.17036934960817704,-0.3348729005798415,-1.6858302901496391,-0.09501172767999093,-0.7619592055406335,-0.32528897590914885,0.6038411479342818,-0.648527324425865,-0.27739186473579414,-1.1519450600777303,0.35994010301896,-1.0047115407190013,0.018081751091101536,-0.5757856328012967,0.39663682494637903,1.4596645528499967,-1.0962404173890326,-2.4598285717737594,-0.17083847101992244,-0.6761894887970228,0.24866589158258182,-0.029436222060168354,1.4155548765095454,-1.3271971507233289,1.120612037768788,-1.7569662771148205,-0.8837976051847442,0.7814504711599632,-1.1585953557552133,0.8296550448227875,-1.022371651731951,2.6474934379087967,-0.1912819262932093,-1.9066585577083526,-0.3901423136816461,-0.3760894204814213,0.6152684209827143,0.32727873814900565,0.41456818164039266,-1.0900178944425651,0.18417547935634557,-0.011093448019438791,-1.0297139516709861,1.8751686118475495,1.441084167812649,0.6884012654943377,2.2678012801697065,2.574679436025041,0.9451138305462838,-2.4745569767804945,1.3778785688946562,-1.1319363625136982,0.9294825643245276,-2.2649043477165414,0.18409100590505723,-1.0863010954183472,1.0165512494366178,-0.4926783393127255,1.5575130252219136,0.42694304228021995,-1.5016976988685655,1.7556337797231079,0.16630108389176115,0.2005436626847083,-0.5662535692768542,0.7000057752049412,0.20418566509752173,-0.8085208385874586,1.3547112958490681,0.7484134879484421,0.7516113952927546,1.0302314724346373,-0.6282968589562925,0.6241653504657344,0.051760190304043205,0.07008875643568846,-0.6663436136115266,-0.16976616290151544,-0.9639158937639654,1.332975648244094,0.15542889576827051,-1.0420319739732598,-0.4051167484244614,0.9892453566514525,0.03987956195702824],\"xaxis\":\"x3\",\"y\":[-1.0206472791320926,0.051856060673617886,0.9647955540467175,-0.04575644997517332,0.5698958108657399,-0.2771160176114073,0.6743782176988691,1.1334862342367846,0.8310518336563363,0.8478826680455306,2.1049439394759686,2.3467568101723724,0.471647951479405,-1.2913115835715805,-0.654693311813495,0.24421849479729904,0.09926206507316876,0.27347604364371714,0.6654321688845871,1.5441310592053583,0.4888350095325806,0.85642862115761,1.1995385573927553,0.4503558668432003,-0.9454681741341744,0.701552165824799,0.633064354844197,-2.538557521943568,2.100020731645149,-0.7309540000436948,0.6871288068240419,-0.028292285608094582,0.9182916080767636,-1.1949457214256833,-1.0222052787895517,-1.2514672068784334,1.9246498366119915,1.4123911331033236,-2.322350025852475,-0.05664151881160213,-1.3779867444667755,-1.5498274819787017,1.0424787347683493,0.3668668769136654,0.34794585434742087,-0.085468005814318,-0.4776892351955959,-0.41465365897849416,0.036054477415273366,-0.20401231462808525,1.161933593045215,0.2572211399583732,-0.41632458709140546,0.29579936461538775,1.150198739003133,-0.8558190523878071,0.5808270794162296,0.41731649079801186,-0.5199105582655607,-2.6536129916330564,-0.06255168951021686,-0.8144212770271861,0.383458149641642,0.33043639336985287,1.3016023329577706,0.3533783749387897,-0.7015607338711178,0.8265510740131821,-0.9446908627414659,-0.8394308436032527,1.1415191740097297,-0.9322500161850434,0.4453069113668292,0.6512042687445224,1.3332779351706576,0.9311953072551885,0.1487293030571078,-0.5091459935053668,-1.3200135704942564,-0.1628574076500507,1.051182645365468,-1.6572506810120788,-0.11636388492189238,0.37233883307653604,1.7893157472842727,-0.3045955172233988,1.4008269920829313,0.6601985256765023,0.7506108391927792,-2.342043098724719,0.06261592265701701,1.5248256573020205,-2.052558012593074,1.082105581164093,1.4130868971484738,0.5979348791248525,-1.61064676866785,-0.714945330445735,0.22106443159093367,0.3812254917441854],\"yaxis\":\"y3\"},{\"line\":{\"color\":\"rgba(128, 128, 128, 1.0)\",\"dash\":\"solid\",\"shape\":\"linear\",\"width\":1.3},\"marker\":{\"size\":2,\"symbol\":\"circle\"},\"mode\":\"markers\",\"name\":\"A\",\"text\":\"\",\"type\":\"scatter\",\"x\":[-0.04991211993374211,-0.12439110703781973,0.7101003614182688,-0.35398370554287545,1.5164722533933743,-0.41835023750400413,1.5578918472611498,-1.0470709111688634,-0.21564737040826687,0.25162592947540413,-0.7905196919300693,0.9560849098301893,1.4076471419284666,-1.2314418596796994,0.06572488882951952,-0.19774577889226952,-0.2591421126525056,1.4120511137012324,-1.982797453619798,-0.7368091611591652,-0.8908859816266917,0.8493942792511213,-0.9343664832323013,-0.9386450383133357,2.2357034181115303,-0.9649586851045795,-0.047329575850956734,0.1474778487189868,0.2842770948925106,0.7390626475625436,1.9440813080345196,0.9362213920110779,0.04646899136067646,-1.3895335865701155,-1.4293090319454262,-0.08369349619341691,-0.1031727868141034,0.4318333905014164,1.060558604243418,-0.6757995431173397,-0.7096132372107928,0.10785597274051674,-0.16725231627786866,0.2771413691585504,-0.10731638343080796,-1.8451425109836772,1.274677229320815,0.58717604479936,0.061611251382167664,-0.6430230342613754,-1.4743013694904314,-0.9158900645774197,-0.954786758280121,0.6822081948259144,0.34839879704861276,-0.04598070960361859,-0.3477887295783607,0.3424614556936414,1.2537422587256064,-0.3144636316232511,-0.33088166767918203,0.24098583691838285,-1.8494257216038525,-1.303321892877603,0.08727993420435855,-0.21144392685744304,-0.99802670303803,-0.582998972099361,0.12599760514905586,0.33768209228641816,0.9832081914713734,0.6142968437316982,-0.4867280205325363,-0.4611200177845175,1.0887127777617118,0.9745419332751694,-0.1944659262355014,-0.08836951316997524,-0.2280425629868187,-1.1624890707556061,1.3342967092565288,-1.4914465689637137,1.4051448495954553,0.07991409864922384,1.4488475536515766,-0.4812499254280882,-1.3720939113128368,1.6994099505627416,-0.48774505776445826,-0.458635435852188,-1.065294785120887,-1.2646413351401742,-0.803687099083522,-0.47927193126466255,-0.4379284085692556,0.2669769600358279,1.069464782804705,0.973077922156685,0.973895942338388,1.97257060193517],\"xaxis\":\"x4\",\"y\":[-1.0206472791320926,0.051856060673617886,0.9647955540467175,-0.04575644997517332,0.5698958108657399,-0.2771160176114073,0.6743782176988691,1.1334862342367846,0.8310518336563363,0.8478826680455306,2.1049439394759686,2.3467568101723724,0.471647951479405,-1.2913115835715805,-0.654693311813495,0.24421849479729904,0.09926206507316876,0.27347604364371714,0.6654321688845871,1.5441310592053583,0.4888350095325806,0.85642862115761,1.1995385573927553,0.4503558668432003,-0.9454681741341744,0.701552165824799,0.633064354844197,-2.538557521943568,2.100020731645149,-0.7309540000436948,0.6871288068240419,-0.028292285608094582,0.9182916080767636,-1.1949457214256833,-1.0222052787895517,-1.2514672068784334,1.9246498366119915,1.4123911331033236,-2.322350025852475,-0.05664151881160213,-1.3779867444667755,-1.5498274819787017,1.0424787347683493,0.3668668769136654,0.34794585434742087,-0.085468005814318,-0.4776892351955959,-0.41465365897849416,0.036054477415273366,-0.20401231462808525,1.161933593045215,0.2572211399583732,-0.41632458709140546,0.29579936461538775,1.150198739003133,-0.8558190523878071,0.5808270794162296,0.41731649079801186,-0.5199105582655607,-2.6536129916330564,-0.06255168951021686,-0.8144212770271861,0.383458149641642,0.33043639336985287,1.3016023329577706,0.3533783749387897,-0.7015607338711178,0.8265510740131821,-0.9446908627414659,-0.8394308436032527,1.1415191740097297,-0.9322500161850434,0.4453069113668292,0.6512042687445224,1.3332779351706576,0.9311953072551885,0.1487293030571078,-0.5091459935053668,-1.3200135704942564,-0.1628574076500507,1.051182645365468,-1.6572506810120788,-0.11636388492189238,0.37233883307653604,1.7893157472842727,-0.3045955172233988,1.4008269920829313,0.6601985256765023,0.7506108391927792,-2.342043098724719,0.06261592265701701,1.5248256573020205,-2.052558012593074,1.082105581164093,1.4130868971484738,0.5979348791248525,-1.61064676866785,-0.714945330445735,0.22106443159093367,0.3812254917441854],\"yaxis\":\"y4\"},{\"line\":{\"color\":\"rgba(128, 128, 128, 1.0)\",\"dash\":\"solid\",\"shape\":\"linear\",\"width\":1.3},\"marker\":{\"size\":2,\"symbol\":\"circle\"},\"mode\":\"markers\",\"name\":\"B\",\"text\":\"\",\"type\":\"scatter\",\"x\":[-1.0206472791320926,0.051856060673617886,0.9647955540467175,-0.04575644997517332,0.5698958108657399,-0.2771160176114073,0.6743782176988691,1.1334862342367846,0.8310518336563363,0.8478826680455306,2.1049439394759686,2.3467568101723724,0.471647951479405,-1.2913115835715805,-0.654693311813495,0.24421849479729904,0.09926206507316876,0.27347604364371714,0.6654321688845871,1.5441310592053583,0.4888350095325806,0.85642862115761,1.1995385573927553,0.4503558668432003,-0.9454681741341744,0.701552165824799,0.633064354844197,-2.538557521943568,2.100020731645149,-0.7309540000436948,0.6871288068240419,-0.028292285608094582,0.9182916080767636,-1.1949457214256833,-1.0222052787895517,-1.2514672068784334,1.9246498366119915,1.4123911331033236,-2.322350025852475,-0.05664151881160213,-1.3779867444667755,-1.5498274819787017,1.0424787347683493,0.3668668769136654,0.34794585434742087,-0.085468005814318,-0.4776892351955959,-0.41465365897849416,0.036054477415273366,-0.20401231462808525,1.161933593045215,0.2572211399583732,-0.41632458709140546,0.29579936461538775,1.150198739003133,-0.8558190523878071,0.5808270794162296,0.41731649079801186,-0.5199105582655607,-2.6536129916330564,-0.06255168951021686,-0.8144212770271861,0.383458149641642,0.33043639336985287,1.3016023329577706,0.3533783749387897,-0.7015607338711178,0.8265510740131821,-0.9446908627414659,-0.8394308436032527,1.1415191740097297,-0.9322500161850434,0.4453069113668292,0.6512042687445224,1.3332779351706576,0.9311953072551885,0.1487293030571078,-0.5091459935053668,-1.3200135704942564,-0.1628574076500507,1.051182645365468,-1.6572506810120788,-0.11636388492189238,0.37233883307653604,1.7893157472842727,-0.3045955172233988,1.4008269920829313,0.6601985256765023,0.7506108391927792,-2.342043098724719,0.06261592265701701,1.5248256573020205,-2.052558012593074,1.082105581164093,1.4130868971484738,0.5979348791248525,-1.61064676866785,-0.714945330445735,0.22106443159093367,0.3812254917441854],\"xaxis\":\"x5\",\"y\":[0.49530524243032753,-0.33155284111894245,0.3823433216033376,0.9086742417323572,-0.9406898519372928,-0.8483154273799747,1.6571589657439307,-1.938873260364442,0.24490043966031677,0.18352639143114957,0.9049069442332238,0.03157437335473936,-0.2977416259693257,-1.8732813079088602,0.17078376111279628,-0.8810607662376312,0.2641159821815766,-0.012533982640648764,-0.9081288971485045,-0.9810406405593401,-0.9379219216301571,0.29968958943973506,-1.0119355406104276,-0.7816240835348891,-0.2837443190188271,0.5475878740687695,0.4743559307052271,-1.210423651310594,0.9249605228193762,0.3138368128256702,-0.09785414678591046,-0.7625445904547198,-0.1862413274505684,-0.3320865504202027,-0.8859063878791051,0.37679083266045055,0.9416492196016312,-0.007690460086156482,0.2297348916331496,-1.8412669166114761,1.657077117123675,-0.7564363578096798,0.659923250433344,1.2928900454577736,0.9449583129144369,-0.17798151351480912,0.6489246064349281,1.3156893789224975,1.2456668799367667,-1.080640862986375,1.539258854092646,-2.565655163178437,0.169025045961495,0.5999296572081371,1.3206214739408846,0.5561738385726992,-0.3476283799882969,-1.1093599651666206,0.6135274982162919,-1.0407166273927153,0.9470732034080648,-0.42440506264589123,1.3324077616499677,-0.6303178536842527,-0.5087271349329137,1.4278230591076921,-0.7303842795602131,0.8822983642819051,-0.9625648779028388,1.366666141526766,-0.22461546330143253,-0.013347324341547062,0.34389365060092164,-0.08241598369271212,1.1262608158821759,-2.014612205802725,0.3779595899831078,-1.9012238535971318,-0.13046129724341862,-0.5366218036792957,-0.12607265453927644,-0.5400340075676425,1.462777927141379,0.33414458333389485,-2.1199296704021457,-0.40834563774284355,-0.40434317871986625,0.9887146043266994,0.91164489839338,-1.6901142716218078,0.45073429879340104,-1.0270114127775605,0.8129813019936439,-1.6497272066853281,0.2103360616377157,1.4329526295414792,-1.581915708301178,-0.3759567547149745,-0.14636819627345232,-0.34260170380114285],\"yaxis\":\"y5\"},{\"histfunc\":\"count\",\"histnorm\":\"\",\"marker\":{\"color\":\"rgba(55, 128, 191, 1.0)\",\"line\":{\"color\":\"#4D5663\",\"width\":1.3}},\"name\":\"B\",\"nbinsx\":10,\"opacity\":0.8,\"orientation\":\"v\",\"type\":\"histogram\",\"x\":[0.49530524243032753,-0.33155284111894245,0.3823433216033376,0.9086742417323572,-0.9406898519372928,-0.8483154273799747,1.6571589657439307,-1.938873260364442,0.24490043966031677,0.18352639143114957,0.9049069442332238,0.03157437335473936,-0.2977416259693257,-1.8732813079088602,0.17078376111279628,-0.8810607662376312,0.2641159821815766,-0.012533982640648764,-0.9081288971485045,-0.9810406405593401,-0.9379219216301571,0.29968958943973506,-1.0119355406104276,-0.7816240835348891,-0.2837443190188271,0.5475878740687695,0.4743559307052271,-1.210423651310594,0.9249605228193762,0.3138368128256702,-0.09785414678591046,-0.7625445904547198,-0.1862413274505684,-0.3320865504202027,-0.8859063878791051,0.37679083266045055,0.9416492196016312,-0.007690460086156482,0.2297348916331496,-1.8412669166114761,1.657077117123675,-0.7564363578096798,0.659923250433344,1.2928900454577736,0.9449583129144369,-0.17798151351480912,0.6489246064349281,1.3156893789224975,1.2456668799367667,-1.080640862986375,1.539258854092646,-2.565655163178437,0.169025045961495,0.5999296572081371,1.3206214739408846,0.5561738385726992,-0.3476283799882969,-1.1093599651666206,0.6135274982162919,-1.0407166273927153,0.9470732034080648,-0.42440506264589123,1.3324077616499677,-0.6303178536842527,-0.5087271349329137,1.4278230591076921,-0.7303842795602131,0.8822983642819051,-0.9625648779028388,1.366666141526766,-0.22461546330143253,-0.013347324341547062,0.34389365060092164,-0.08241598369271212,1.1262608158821759,-2.014612205802725,0.3779595899831078,-1.9012238535971318,-0.13046129724341862,-0.5366218036792957,-0.12607265453927644,-0.5400340075676425,1.462777927141379,0.33414458333389485,-2.1199296704021457,-0.40834563774284355,-0.40434317871986625,0.9887146043266994,0.91164489839338,-1.6901142716218078,0.45073429879340104,-1.0270114127775605,0.8129813019936439,-1.6497272066853281,0.2103360616377157,1.4329526295414792,-1.581915708301178,-0.3759567547149745,-0.14636819627345232,-0.34260170380114285],\"xaxis\":\"x6\",\"yaxis\":\"y6\"},{\"line\":{\"color\":\"rgba(128, 128, 128, 1.0)\",\"dash\":\"solid\",\"shape\":\"linear\",\"width\":1.3},\"marker\":{\"size\":2,\"symbol\":\"circle\"},\"mode\":\"markers\",\"name\":\"B\",\"text\":\"\",\"type\":\"scatter\",\"x\":[0.12807187542398446,-0.3379463377964324,1.4633959013920768,-0.7738598484728232,-1.0506891784607324,-1.09518691881857,0.044644608263914184,-1.9890471028668202,-0.4979235596864153,-0.4917194995315308,0.3723206047024177,1.4797020017419786,0.5822251097411749,0.5690730061828009,0.8982496318252999,0.17036934960817704,-0.3348729005798415,-1.6858302901496391,-0.09501172767999093,-0.7619592055406335,-0.32528897590914885,0.6038411479342818,-0.648527324425865,-0.27739186473579414,-1.1519450600777303,0.35994010301896,-1.0047115407190013,0.018081751091101536,-0.5757856328012967,0.39663682494637903,1.4596645528499967,-1.0962404173890326,-2.4598285717737594,-0.17083847101992244,-0.6761894887970228,0.24866589158258182,-0.029436222060168354,1.4155548765095454,-1.3271971507233289,1.120612037768788,-1.7569662771148205,-0.8837976051847442,0.7814504711599632,-1.1585953557552133,0.8296550448227875,-1.022371651731951,2.6474934379087967,-0.1912819262932093,-1.9066585577083526,-0.3901423136816461,-0.3760894204814213,0.6152684209827143,0.32727873814900565,0.41456818164039266,-1.0900178944425651,0.18417547935634557,-0.011093448019438791,-1.0297139516709861,1.8751686118475495,1.441084167812649,0.6884012654943377,2.2678012801697065,2.574679436025041,0.9451138305462838,-2.4745569767804945,1.3778785688946562,-1.1319363625136982,0.9294825643245276,-2.2649043477165414,0.18409100590505723,-1.0863010954183472,1.0165512494366178,-0.4926783393127255,1.5575130252219136,0.42694304228021995,-1.5016976988685655,1.7556337797231079,0.16630108389176115,0.2005436626847083,-0.5662535692768542,0.7000057752049412,0.20418566509752173,-0.8085208385874586,1.3547112958490681,0.7484134879484421,0.7516113952927546,1.0302314724346373,-0.6282968589562925,0.6241653504657344,0.051760190304043205,0.07008875643568846,-0.6663436136115266,-0.16976616290151544,-0.9639158937639654,1.332975648244094,0.15542889576827051,-1.0420319739732598,-0.4051167484244614,0.9892453566514525,0.03987956195702824],\"xaxis\":\"x7\",\"y\":[0.49530524243032753,-0.33155284111894245,0.3823433216033376,0.9086742417323572,-0.9406898519372928,-0.8483154273799747,1.6571589657439307,-1.938873260364442,0.24490043966031677,0.18352639143114957,0.9049069442332238,0.03157437335473936,-0.2977416259693257,-1.8732813079088602,0.17078376111279628,-0.8810607662376312,0.2641159821815766,-0.012533982640648764,-0.9081288971485045,-0.9810406405593401,-0.9379219216301571,0.29968958943973506,-1.0119355406104276,-0.7816240835348891,-0.2837443190188271,0.5475878740687695,0.4743559307052271,-1.210423651310594,0.9249605228193762,0.3138368128256702,-0.09785414678591046,-0.7625445904547198,-0.1862413274505684,-0.3320865504202027,-0.8859063878791051,0.37679083266045055,0.9416492196016312,-0.007690460086156482,0.2297348916331496,-1.8412669166114761,1.657077117123675,-0.7564363578096798,0.659923250433344,1.2928900454577736,0.9449583129144369,-0.17798151351480912,0.6489246064349281,1.3156893789224975,1.2456668799367667,-1.080640862986375,1.539258854092646,-2.565655163178437,0.169025045961495,0.5999296572081371,1.3206214739408846,0.5561738385726992,-0.3476283799882969,-1.1093599651666206,0.6135274982162919,-1.0407166273927153,0.9470732034080648,-0.42440506264589123,1.3324077616499677,-0.6303178536842527,-0.5087271349329137,1.4278230591076921,-0.7303842795602131,0.8822983642819051,-0.9625648779028388,1.366666141526766,-0.22461546330143253,-0.013347324341547062,0.34389365060092164,-0.08241598369271212,1.1262608158821759,-2.014612205802725,0.3779595899831078,-1.9012238535971318,-0.13046129724341862,-0.5366218036792957,-0.12607265453927644,-0.5400340075676425,1.462777927141379,0.33414458333389485,-2.1199296704021457,-0.40834563774284355,-0.40434317871986625,0.9887146043266994,0.91164489839338,-1.6901142716218078,0.45073429879340104,-1.0270114127775605,0.8129813019936439,-1.6497272066853281,0.2103360616377157,1.4329526295414792,-1.581915708301178,-0.3759567547149745,-0.14636819627345232,-0.34260170380114285],\"yaxis\":\"y7\"},{\"line\":{\"color\":\"rgba(128, 128, 128, 1.0)\",\"dash\":\"solid\",\"shape\":\"linear\",\"width\":1.3},\"marker\":{\"size\":2,\"symbol\":\"circle\"},\"mode\":\"markers\",\"name\":\"B\",\"text\":\"\",\"type\":\"scatter\",\"x\":[-0.04991211993374211,-0.12439110703781973,0.7101003614182688,-0.35398370554287545,1.5164722533933743,-0.41835023750400413,1.5578918472611498,-1.0470709111688634,-0.21564737040826687,0.25162592947540413,-0.7905196919300693,0.9560849098301893,1.4076471419284666,-1.2314418596796994,0.06572488882951952,-0.19774577889226952,-0.2591421126525056,1.4120511137012324,-1.982797453619798,-0.7368091611591652,-0.8908859816266917,0.8493942792511213,-0.9343664832323013,-0.9386450383133357,2.2357034181115303,-0.9649586851045795,-0.047329575850956734,0.1474778487189868,0.2842770948925106,0.7390626475625436,1.9440813080345196,0.9362213920110779,0.04646899136067646,-1.3895335865701155,-1.4293090319454262,-0.08369349619341691,-0.1031727868141034,0.4318333905014164,1.060558604243418,-0.6757995431173397,-0.7096132372107928,0.10785597274051674,-0.16725231627786866,0.2771413691585504,-0.10731638343080796,-1.8451425109836772,1.274677229320815,0.58717604479936,0.061611251382167664,-0.6430230342613754,-1.4743013694904314,-0.9158900645774197,-0.954786758280121,0.6822081948259144,0.34839879704861276,-0.04598070960361859,-0.3477887295783607,0.3424614556936414,1.2537422587256064,-0.3144636316232511,-0.33088166767918203,0.24098583691838285,-1.8494257216038525,-1.303321892877603,0.08727993420435855,-0.21144392685744304,-0.99802670303803,-0.582998972099361,0.12599760514905586,0.33768209228641816,0.9832081914713734,0.6142968437316982,-0.4867280205325363,-0.4611200177845175,1.0887127777617118,0.9745419332751694,-0.1944659262355014,-0.08836951316997524,-0.2280425629868187,-1.1624890707556061,1.3342967092565288,-1.4914465689637137,1.4051448495954553,0.07991409864922384,1.4488475536515766,-0.4812499254280882,-1.3720939113128368,1.6994099505627416,-0.48774505776445826,-0.458635435852188,-1.065294785120887,-1.2646413351401742,-0.803687099083522,-0.47927193126466255,-0.4379284085692556,0.2669769600358279,1.069464782804705,0.973077922156685,0.973895942338388,1.97257060193517],\"xaxis\":\"x8\",\"y\":[0.49530524243032753,-0.33155284111894245,0.3823433216033376,0.9086742417323572,-0.9406898519372928,-0.8483154273799747,1.6571589657439307,-1.938873260364442,0.24490043966031677,0.18352639143114957,0.9049069442332238,0.03157437335473936,-0.2977416259693257,-1.8732813079088602,0.17078376111279628,-0.8810607662376312,0.2641159821815766,-0.012533982640648764,-0.9081288971485045,-0.9810406405593401,-0.9379219216301571,0.29968958943973506,-1.0119355406104276,-0.7816240835348891,-0.2837443190188271,0.5475878740687695,0.4743559307052271,-1.210423651310594,0.9249605228193762,0.3138368128256702,-0.09785414678591046,-0.7625445904547198,-0.1862413274505684,-0.3320865504202027,-0.8859063878791051,0.37679083266045055,0.9416492196016312,-0.007690460086156482,0.2297348916331496,-1.8412669166114761,1.657077117123675,-0.7564363578096798,0.659923250433344,1.2928900454577736,0.9449583129144369,-0.17798151351480912,0.6489246064349281,1.3156893789224975,1.2456668799367667,-1.080640862986375,1.539258854092646,-2.565655163178437,0.169025045961495,0.5999296572081371,1.3206214739408846,0.5561738385726992,-0.3476283799882969,-1.1093599651666206,0.6135274982162919,-1.0407166273927153,0.9470732034080648,-0.42440506264589123,1.3324077616499677,-0.6303178536842527,-0.5087271349329137,1.4278230591076921,-0.7303842795602131,0.8822983642819051,-0.9625648779028388,1.366666141526766,-0.22461546330143253,-0.013347324341547062,0.34389365060092164,-0.08241598369271212,1.1262608158821759,-2.014612205802725,0.3779595899831078,-1.9012238535971318,-0.13046129724341862,-0.5366218036792957,-0.12607265453927644,-0.5400340075676425,1.462777927141379,0.33414458333389485,-2.1199296704021457,-0.40834563774284355,-0.40434317871986625,0.9887146043266994,0.91164489839338,-1.6901142716218078,0.45073429879340104,-1.0270114127775605,0.8129813019936439,-1.6497272066853281,0.2103360616377157,1.4329526295414792,-1.581915708301178,-0.3759567547149745,-0.14636819627345232,-0.34260170380114285],\"yaxis\":\"y8\"},{\"line\":{\"color\":\"rgba(128, 128, 128, 1.0)\",\"dash\":\"solid\",\"shape\":\"linear\",\"width\":1.3},\"marker\":{\"size\":2,\"symbol\":\"circle\"},\"mode\":\"markers\",\"name\":\"C\",\"text\":\"\",\"type\":\"scatter\",\"x\":[-1.0206472791320926,0.051856060673617886,0.9647955540467175,-0.04575644997517332,0.5698958108657399,-0.2771160176114073,0.6743782176988691,1.1334862342367846,0.8310518336563363,0.8478826680455306,2.1049439394759686,2.3467568101723724,0.471647951479405,-1.2913115835715805,-0.654693311813495,0.24421849479729904,0.09926206507316876,0.27347604364371714,0.6654321688845871,1.5441310592053583,0.4888350095325806,0.85642862115761,1.1995385573927553,0.4503558668432003,-0.9454681741341744,0.701552165824799,0.633064354844197,-2.538557521943568,2.100020731645149,-0.7309540000436948,0.6871288068240419,-0.028292285608094582,0.9182916080767636,-1.1949457214256833,-1.0222052787895517,-1.2514672068784334,1.9246498366119915,1.4123911331033236,-2.322350025852475,-0.05664151881160213,-1.3779867444667755,-1.5498274819787017,1.0424787347683493,0.3668668769136654,0.34794585434742087,-0.085468005814318,-0.4776892351955959,-0.41465365897849416,0.036054477415273366,-0.20401231462808525,1.161933593045215,0.2572211399583732,-0.41632458709140546,0.29579936461538775,1.150198739003133,-0.8558190523878071,0.5808270794162296,0.41731649079801186,-0.5199105582655607,-2.6536129916330564,-0.06255168951021686,-0.8144212770271861,0.383458149641642,0.33043639336985287,1.3016023329577706,0.3533783749387897,-0.7015607338711178,0.8265510740131821,-0.9446908627414659,-0.8394308436032527,1.1415191740097297,-0.9322500161850434,0.4453069113668292,0.6512042687445224,1.3332779351706576,0.9311953072551885,0.1487293030571078,-0.5091459935053668,-1.3200135704942564,-0.1628574076500507,1.051182645365468,-1.6572506810120788,-0.11636388492189238,0.37233883307653604,1.7893157472842727,-0.3045955172233988,1.4008269920829313,0.6601985256765023,0.7506108391927792,-2.342043098724719,0.06261592265701701,1.5248256573020205,-2.052558012593074,1.082105581164093,1.4130868971484738,0.5979348791248525,-1.61064676866785,-0.714945330445735,0.22106443159093367,0.3812254917441854],\"xaxis\":\"x9\",\"y\":[0.12807187542398446,-0.3379463377964324,1.4633959013920768,-0.7738598484728232,-1.0506891784607324,-1.09518691881857,0.044644608263914184,-1.9890471028668202,-0.4979235596864153,-0.4917194995315308,0.3723206047024177,1.4797020017419786,0.5822251097411749,0.5690730061828009,0.8982496318252999,0.17036934960817704,-0.3348729005798415,-1.6858302901496391,-0.09501172767999093,-0.7619592055406335,-0.32528897590914885,0.6038411479342818,-0.648527324425865,-0.27739186473579414,-1.1519450600777303,0.35994010301896,-1.0047115407190013,0.018081751091101536,-0.5757856328012967,0.39663682494637903,1.4596645528499967,-1.0962404173890326,-2.4598285717737594,-0.17083847101992244,-0.6761894887970228,0.24866589158258182,-0.029436222060168354,1.4155548765095454,-1.3271971507233289,1.120612037768788,-1.7569662771148205,-0.8837976051847442,0.7814504711599632,-1.1585953557552133,0.8296550448227875,-1.022371651731951,2.6474934379087967,-0.1912819262932093,-1.9066585577083526,-0.3901423136816461,-0.3760894204814213,0.6152684209827143,0.32727873814900565,0.41456818164039266,-1.0900178944425651,0.18417547935634557,-0.011093448019438791,-1.0297139516709861,1.8751686118475495,1.441084167812649,0.6884012654943377,2.2678012801697065,2.574679436025041,0.9451138305462838,-2.4745569767804945,1.3778785688946562,-1.1319363625136982,0.9294825643245276,-2.2649043477165414,0.18409100590505723,-1.0863010954183472,1.0165512494366178,-0.4926783393127255,1.5575130252219136,0.42694304228021995,-1.5016976988685655,1.7556337797231079,0.16630108389176115,0.2005436626847083,-0.5662535692768542,0.7000057752049412,0.20418566509752173,-0.8085208385874586,1.3547112958490681,0.7484134879484421,0.7516113952927546,1.0302314724346373,-0.6282968589562925,0.6241653504657344,0.051760190304043205,0.07008875643568846,-0.6663436136115266,-0.16976616290151544,-0.9639158937639654,1.332975648244094,0.15542889576827051,-1.0420319739732598,-0.4051167484244614,0.9892453566514525,0.03987956195702824],\"yaxis\":\"y9\"},{\"line\":{\"color\":\"rgba(128, 128, 128, 1.0)\",\"dash\":\"solid\",\"shape\":\"linear\",\"width\":1.3},\"marker\":{\"size\":2,\"symbol\":\"circle\"},\"mode\":\"markers\",\"name\":\"C\",\"text\":\"\",\"type\":\"scatter\",\"x\":[0.49530524243032753,-0.33155284111894245,0.3823433216033376,0.9086742417323572,-0.9406898519372928,-0.8483154273799747,1.6571589657439307,-1.938873260364442,0.24490043966031677,0.18352639143114957,0.9049069442332238,0.03157437335473936,-0.2977416259693257,-1.8732813079088602,0.17078376111279628,-0.8810607662376312,0.2641159821815766,-0.012533982640648764,-0.9081288971485045,-0.9810406405593401,-0.9379219216301571,0.29968958943973506,-1.0119355406104276,-0.7816240835348891,-0.2837443190188271,0.5475878740687695,0.4743559307052271,-1.210423651310594,0.9249605228193762,0.3138368128256702,-0.09785414678591046,-0.7625445904547198,-0.1862413274505684,-0.3320865504202027,-0.8859063878791051,0.37679083266045055,0.9416492196016312,-0.007690460086156482,0.2297348916331496,-1.8412669166114761,1.657077117123675,-0.7564363578096798,0.659923250433344,1.2928900454577736,0.9449583129144369,-0.17798151351480912,0.6489246064349281,1.3156893789224975,1.2456668799367667,-1.080640862986375,1.539258854092646,-2.565655163178437,0.169025045961495,0.5999296572081371,1.3206214739408846,0.5561738385726992,-0.3476283799882969,-1.1093599651666206,0.6135274982162919,-1.0407166273927153,0.9470732034080648,-0.42440506264589123,1.3324077616499677,-0.6303178536842527,-0.5087271349329137,1.4278230591076921,-0.7303842795602131,0.8822983642819051,-0.9625648779028388,1.366666141526766,-0.22461546330143253,-0.013347324341547062,0.34389365060092164,-0.08241598369271212,1.1262608158821759,-2.014612205802725,0.3779595899831078,-1.9012238535971318,-0.13046129724341862,-0.5366218036792957,-0.12607265453927644,-0.5400340075676425,1.462777927141379,0.33414458333389485,-2.1199296704021457,-0.40834563774284355,-0.40434317871986625,0.9887146043266994,0.91164489839338,-1.6901142716218078,0.45073429879340104,-1.0270114127775605,0.8129813019936439,-1.6497272066853281,0.2103360616377157,1.4329526295414792,-1.581915708301178,-0.3759567547149745,-0.14636819627345232,-0.34260170380114285],\"xaxis\":\"x10\",\"y\":[0.12807187542398446,-0.3379463377964324,1.4633959013920768,-0.7738598484728232,-1.0506891784607324,-1.09518691881857,0.044644608263914184,-1.9890471028668202,-0.4979235596864153,-0.4917194995315308,0.3723206047024177,1.4797020017419786,0.5822251097411749,0.5690730061828009,0.8982496318252999,0.17036934960817704,-0.3348729005798415,-1.6858302901496391,-0.09501172767999093,-0.7619592055406335,-0.32528897590914885,0.6038411479342818,-0.648527324425865,-0.27739186473579414,-1.1519450600777303,0.35994010301896,-1.0047115407190013,0.018081751091101536,-0.5757856328012967,0.39663682494637903,1.4596645528499967,-1.0962404173890326,-2.4598285717737594,-0.17083847101992244,-0.6761894887970228,0.24866589158258182,-0.029436222060168354,1.4155548765095454,-1.3271971507233289,1.120612037768788,-1.7569662771148205,-0.8837976051847442,0.7814504711599632,-1.1585953557552133,0.8296550448227875,-1.022371651731951,2.6474934379087967,-0.1912819262932093,-1.9066585577083526,-0.3901423136816461,-0.3760894204814213,0.6152684209827143,0.32727873814900565,0.41456818164039266,-1.0900178944425651,0.18417547935634557,-0.011093448019438791,-1.0297139516709861,1.8751686118475495,1.441084167812649,0.6884012654943377,2.2678012801697065,2.574679436025041,0.9451138305462838,-2.4745569767804945,1.3778785688946562,-1.1319363625136982,0.9294825643245276,-2.2649043477165414,0.18409100590505723,-1.0863010954183472,1.0165512494366178,-0.4926783393127255,1.5575130252219136,0.42694304228021995,-1.5016976988685655,1.7556337797231079,0.16630108389176115,0.2005436626847083,-0.5662535692768542,0.7000057752049412,0.20418566509752173,-0.8085208385874586,1.3547112958490681,0.7484134879484421,0.7516113952927546,1.0302314724346373,-0.6282968589562925,0.6241653504657344,0.051760190304043205,0.07008875643568846,-0.6663436136115266,-0.16976616290151544,-0.9639158937639654,1.332975648244094,0.15542889576827051,-1.0420319739732598,-0.4051167484244614,0.9892453566514525,0.03987956195702824],\"yaxis\":\"y10\"},{\"histfunc\":\"count\",\"histnorm\":\"\",\"marker\":{\"color\":\"rgba(50, 171, 96, 1.0)\",\"line\":{\"color\":\"#4D5663\",\"width\":1.3}},\"name\":\"C\",\"nbinsx\":10,\"opacity\":0.8,\"orientation\":\"v\",\"type\":\"histogram\",\"x\":[0.12807187542398446,-0.3379463377964324,1.4633959013920768,-0.7738598484728232,-1.0506891784607324,-1.09518691881857,0.044644608263914184,-1.9890471028668202,-0.4979235596864153,-0.4917194995315308,0.3723206047024177,1.4797020017419786,0.5822251097411749,0.5690730061828009,0.8982496318252999,0.17036934960817704,-0.3348729005798415,-1.6858302901496391,-0.09501172767999093,-0.7619592055406335,-0.32528897590914885,0.6038411479342818,-0.648527324425865,-0.27739186473579414,-1.1519450600777303,0.35994010301896,-1.0047115407190013,0.018081751091101536,-0.5757856328012967,0.39663682494637903,1.4596645528499967,-1.0962404173890326,-2.4598285717737594,-0.17083847101992244,-0.6761894887970228,0.24866589158258182,-0.029436222060168354,1.4155548765095454,-1.3271971507233289,1.120612037768788,-1.7569662771148205,-0.8837976051847442,0.7814504711599632,-1.1585953557552133,0.8296550448227875,-1.022371651731951,2.6474934379087967,-0.1912819262932093,-1.9066585577083526,-0.3901423136816461,-0.3760894204814213,0.6152684209827143,0.32727873814900565,0.41456818164039266,-1.0900178944425651,0.18417547935634557,-0.011093448019438791,-1.0297139516709861,1.8751686118475495,1.441084167812649,0.6884012654943377,2.2678012801697065,2.574679436025041,0.9451138305462838,-2.4745569767804945,1.3778785688946562,-1.1319363625136982,0.9294825643245276,-2.2649043477165414,0.18409100590505723,-1.0863010954183472,1.0165512494366178,-0.4926783393127255,1.5575130252219136,0.42694304228021995,-1.5016976988685655,1.7556337797231079,0.16630108389176115,0.2005436626847083,-0.5662535692768542,0.7000057752049412,0.20418566509752173,-0.8085208385874586,1.3547112958490681,0.7484134879484421,0.7516113952927546,1.0302314724346373,-0.6282968589562925,0.6241653504657344,0.051760190304043205,0.07008875643568846,-0.6663436136115266,-0.16976616290151544,-0.9639158937639654,1.332975648244094,0.15542889576827051,-1.0420319739732598,-0.4051167484244614,0.9892453566514525,0.03987956195702824],\"xaxis\":\"x11\",\"yaxis\":\"y11\"},{\"line\":{\"color\":\"rgba(128, 128, 128, 1.0)\",\"dash\":\"solid\",\"shape\":\"linear\",\"width\":1.3},\"marker\":{\"size\":2,\"symbol\":\"circle\"},\"mode\":\"markers\",\"name\":\"C\",\"text\":\"\",\"type\":\"scatter\",\"x\":[-0.04991211993374211,-0.12439110703781973,0.7101003614182688,-0.35398370554287545,1.5164722533933743,-0.41835023750400413,1.5578918472611498,-1.0470709111688634,-0.21564737040826687,0.25162592947540413,-0.7905196919300693,0.9560849098301893,1.4076471419284666,-1.2314418596796994,0.06572488882951952,-0.19774577889226952,-0.2591421126525056,1.4120511137012324,-1.982797453619798,-0.7368091611591652,-0.8908859816266917,0.8493942792511213,-0.9343664832323013,-0.9386450383133357,2.2357034181115303,-0.9649586851045795,-0.047329575850956734,0.1474778487189868,0.2842770948925106,0.7390626475625436,1.9440813080345196,0.9362213920110779,0.04646899136067646,-1.3895335865701155,-1.4293090319454262,-0.08369349619341691,-0.1031727868141034,0.4318333905014164,1.060558604243418,-0.6757995431173397,-0.7096132372107928,0.10785597274051674,-0.16725231627786866,0.2771413691585504,-0.10731638343080796,-1.8451425109836772,1.274677229320815,0.58717604479936,0.061611251382167664,-0.6430230342613754,-1.4743013694904314,-0.9158900645774197,-0.954786758280121,0.6822081948259144,0.34839879704861276,-0.04598070960361859,-0.3477887295783607,0.3424614556936414,1.2537422587256064,-0.3144636316232511,-0.33088166767918203,0.24098583691838285,-1.8494257216038525,-1.303321892877603,0.08727993420435855,-0.21144392685744304,-0.99802670303803,-0.582998972099361,0.12599760514905586,0.33768209228641816,0.9832081914713734,0.6142968437316982,-0.4867280205325363,-0.4611200177845175,1.0887127777617118,0.9745419332751694,-0.1944659262355014,-0.08836951316997524,-0.2280425629868187,-1.1624890707556061,1.3342967092565288,-1.4914465689637137,1.4051448495954553,0.07991409864922384,1.4488475536515766,-0.4812499254280882,-1.3720939113128368,1.6994099505627416,-0.48774505776445826,-0.458635435852188,-1.065294785120887,-1.2646413351401742,-0.803687099083522,-0.47927193126466255,-0.4379284085692556,0.2669769600358279,1.069464782804705,0.973077922156685,0.973895942338388,1.97257060193517],\"xaxis\":\"x12\",\"y\":[0.12807187542398446,-0.3379463377964324,1.4633959013920768,-0.7738598484728232,-1.0506891784607324,-1.09518691881857,0.044644608263914184,-1.9890471028668202,-0.4979235596864153,-0.4917194995315308,0.3723206047024177,1.4797020017419786,0.5822251097411749,0.5690730061828009,0.8982496318252999,0.17036934960817704,-0.3348729005798415,-1.6858302901496391,-0.09501172767999093,-0.7619592055406335,-0.32528897590914885,0.6038411479342818,-0.648527324425865,-0.27739186473579414,-1.1519450600777303,0.35994010301896,-1.0047115407190013,0.018081751091101536,-0.5757856328012967,0.39663682494637903,1.4596645528499967,-1.0962404173890326,-2.4598285717737594,-0.17083847101992244,-0.6761894887970228,0.24866589158258182,-0.029436222060168354,1.4155548765095454,-1.3271971507233289,1.120612037768788,-1.7569662771148205,-0.8837976051847442,0.7814504711599632,-1.1585953557552133,0.8296550448227875,-1.022371651731951,2.6474934379087967,-0.1912819262932093,-1.9066585577083526,-0.3901423136816461,-0.3760894204814213,0.6152684209827143,0.32727873814900565,0.41456818164039266,-1.0900178944425651,0.18417547935634557,-0.011093448019438791,-1.0297139516709861,1.8751686118475495,1.441084167812649,0.6884012654943377,2.2678012801697065,2.574679436025041,0.9451138305462838,-2.4745569767804945,1.3778785688946562,-1.1319363625136982,0.9294825643245276,-2.2649043477165414,0.18409100590505723,-1.0863010954183472,1.0165512494366178,-0.4926783393127255,1.5575130252219136,0.42694304228021995,-1.5016976988685655,1.7556337797231079,0.16630108389176115,0.2005436626847083,-0.5662535692768542,0.7000057752049412,0.20418566509752173,-0.8085208385874586,1.3547112958490681,0.7484134879484421,0.7516113952927546,1.0302314724346373,-0.6282968589562925,0.6241653504657344,0.051760190304043205,0.07008875643568846,-0.6663436136115266,-0.16976616290151544,-0.9639158937639654,1.332975648244094,0.15542889576827051,-1.0420319739732598,-0.4051167484244614,0.9892453566514525,0.03987956195702824],\"yaxis\":\"y12\"},{\"line\":{\"color\":\"rgba(128, 128, 128, 1.0)\",\"dash\":\"solid\",\"shape\":\"linear\",\"width\":1.3},\"marker\":{\"size\":2,\"symbol\":\"circle\"},\"mode\":\"markers\",\"name\":\"D\",\"text\":\"\",\"type\":\"scatter\",\"x\":[-1.0206472791320926,0.051856060673617886,0.9647955540467175,-0.04575644997517332,0.5698958108657399,-0.2771160176114073,0.6743782176988691,1.1334862342367846,0.8310518336563363,0.8478826680455306,2.1049439394759686,2.3467568101723724,0.471647951479405,-1.2913115835715805,-0.654693311813495,0.24421849479729904,0.09926206507316876,0.27347604364371714,0.6654321688845871,1.5441310592053583,0.4888350095325806,0.85642862115761,1.1995385573927553,0.4503558668432003,-0.9454681741341744,0.701552165824799,0.633064354844197,-2.538557521943568,2.100020731645149,-0.7309540000436948,0.6871288068240419,-0.028292285608094582,0.9182916080767636,-1.1949457214256833,-1.0222052787895517,-1.2514672068784334,1.9246498366119915,1.4123911331033236,-2.322350025852475,-0.05664151881160213,-1.3779867444667755,-1.5498274819787017,1.0424787347683493,0.3668668769136654,0.34794585434742087,-0.085468005814318,-0.4776892351955959,-0.41465365897849416,0.036054477415273366,-0.20401231462808525,1.161933593045215,0.2572211399583732,-0.41632458709140546,0.29579936461538775,1.150198739003133,-0.8558190523878071,0.5808270794162296,0.41731649079801186,-0.5199105582655607,-2.6536129916330564,-0.06255168951021686,-0.8144212770271861,0.383458149641642,0.33043639336985287,1.3016023329577706,0.3533783749387897,-0.7015607338711178,0.8265510740131821,-0.9446908627414659,-0.8394308436032527,1.1415191740097297,-0.9322500161850434,0.4453069113668292,0.6512042687445224,1.3332779351706576,0.9311953072551885,0.1487293030571078,-0.5091459935053668,-1.3200135704942564,-0.1628574076500507,1.051182645365468,-1.6572506810120788,-0.11636388492189238,0.37233883307653604,1.7893157472842727,-0.3045955172233988,1.4008269920829313,0.6601985256765023,0.7506108391927792,-2.342043098724719,0.06261592265701701,1.5248256573020205,-2.052558012593074,1.082105581164093,1.4130868971484738,0.5979348791248525,-1.61064676866785,-0.714945330445735,0.22106443159093367,0.3812254917441854],\"xaxis\":\"x13\",\"y\":[-0.04991211993374211,-0.12439110703781973,0.7101003614182688,-0.35398370554287545,1.5164722533933743,-0.41835023750400413,1.5578918472611498,-1.0470709111688634,-0.21564737040826687,0.25162592947540413,-0.7905196919300693,0.9560849098301893,1.4076471419284666,-1.2314418596796994,0.06572488882951952,-0.19774577889226952,-0.2591421126525056,1.4120511137012324,-1.982797453619798,-0.7368091611591652,-0.8908859816266917,0.8493942792511213,-0.9343664832323013,-0.9386450383133357,2.2357034181115303,-0.9649586851045795,-0.047329575850956734,0.1474778487189868,0.2842770948925106,0.7390626475625436,1.9440813080345196,0.9362213920110779,0.04646899136067646,-1.3895335865701155,-1.4293090319454262,-0.08369349619341691,-0.1031727868141034,0.4318333905014164,1.060558604243418,-0.6757995431173397,-0.7096132372107928,0.10785597274051674,-0.16725231627786866,0.2771413691585504,-0.10731638343080796,-1.8451425109836772,1.274677229320815,0.58717604479936,0.061611251382167664,-0.6430230342613754,-1.4743013694904314,-0.9158900645774197,-0.954786758280121,0.6822081948259144,0.34839879704861276,-0.04598070960361859,-0.3477887295783607,0.3424614556936414,1.2537422587256064,-0.3144636316232511,-0.33088166767918203,0.24098583691838285,-1.8494257216038525,-1.303321892877603,0.08727993420435855,-0.21144392685744304,-0.99802670303803,-0.582998972099361,0.12599760514905586,0.33768209228641816,0.9832081914713734,0.6142968437316982,-0.4867280205325363,-0.4611200177845175,1.0887127777617118,0.9745419332751694,-0.1944659262355014,-0.08836951316997524,-0.2280425629868187,-1.1624890707556061,1.3342967092565288,-1.4914465689637137,1.4051448495954553,0.07991409864922384,1.4488475536515766,-0.4812499254280882,-1.3720939113128368,1.6994099505627416,-0.48774505776445826,-0.458635435852188,-1.065294785120887,-1.2646413351401742,-0.803687099083522,-0.47927193126466255,-0.4379284085692556,0.2669769600358279,1.069464782804705,0.973077922156685,0.973895942338388,1.97257060193517],\"yaxis\":\"y13\"},{\"line\":{\"color\":\"rgba(128, 128, 128, 1.0)\",\"dash\":\"solid\",\"shape\":\"linear\",\"width\":1.3},\"marker\":{\"size\":2,\"symbol\":\"circle\"},\"mode\":\"markers\",\"name\":\"D\",\"text\":\"\",\"type\":\"scatter\",\"x\":[0.49530524243032753,-0.33155284111894245,0.3823433216033376,0.9086742417323572,-0.9406898519372928,-0.8483154273799747,1.6571589657439307,-1.938873260364442,0.24490043966031677,0.18352639143114957,0.9049069442332238,0.03157437335473936,-0.2977416259693257,-1.8732813079088602,0.17078376111279628,-0.8810607662376312,0.2641159821815766,-0.012533982640648764,-0.9081288971485045,-0.9810406405593401,-0.9379219216301571,0.29968958943973506,-1.0119355406104276,-0.7816240835348891,-0.2837443190188271,0.5475878740687695,0.4743559307052271,-1.210423651310594,0.9249605228193762,0.3138368128256702,-0.09785414678591046,-0.7625445904547198,-0.1862413274505684,-0.3320865504202027,-0.8859063878791051,0.37679083266045055,0.9416492196016312,-0.007690460086156482,0.2297348916331496,-1.8412669166114761,1.657077117123675,-0.7564363578096798,0.659923250433344,1.2928900454577736,0.9449583129144369,-0.17798151351480912,0.6489246064349281,1.3156893789224975,1.2456668799367667,-1.080640862986375,1.539258854092646,-2.565655163178437,0.169025045961495,0.5999296572081371,1.3206214739408846,0.5561738385726992,-0.3476283799882969,-1.1093599651666206,0.6135274982162919,-1.0407166273927153,0.9470732034080648,-0.42440506264589123,1.3324077616499677,-0.6303178536842527,-0.5087271349329137,1.4278230591076921,-0.7303842795602131,0.8822983642819051,-0.9625648779028388,1.366666141526766,-0.22461546330143253,-0.013347324341547062,0.34389365060092164,-0.08241598369271212,1.1262608158821759,-2.014612205802725,0.3779595899831078,-1.9012238535971318,-0.13046129724341862,-0.5366218036792957,-0.12607265453927644,-0.5400340075676425,1.462777927141379,0.33414458333389485,-2.1199296704021457,-0.40834563774284355,-0.40434317871986625,0.9887146043266994,0.91164489839338,-1.6901142716218078,0.45073429879340104,-1.0270114127775605,0.8129813019936439,-1.6497272066853281,0.2103360616377157,1.4329526295414792,-1.581915708301178,-0.3759567547149745,-0.14636819627345232,-0.34260170380114285],\"xaxis\":\"x14\",\"y\":[-0.04991211993374211,-0.12439110703781973,0.7101003614182688,-0.35398370554287545,1.5164722533933743,-0.41835023750400413,1.5578918472611498,-1.0470709111688634,-0.21564737040826687,0.25162592947540413,-0.7905196919300693,0.9560849098301893,1.4076471419284666,-1.2314418596796994,0.06572488882951952,-0.19774577889226952,-0.2591421126525056,1.4120511137012324,-1.982797453619798,-0.7368091611591652,-0.8908859816266917,0.8493942792511213,-0.9343664832323013,-0.9386450383133357,2.2357034181115303,-0.9649586851045795,-0.047329575850956734,0.1474778487189868,0.2842770948925106,0.7390626475625436,1.9440813080345196,0.9362213920110779,0.04646899136067646,-1.3895335865701155,-1.4293090319454262,-0.08369349619341691,-0.1031727868141034,0.4318333905014164,1.060558604243418,-0.6757995431173397,-0.7096132372107928,0.10785597274051674,-0.16725231627786866,0.2771413691585504,-0.10731638343080796,-1.8451425109836772,1.274677229320815,0.58717604479936,0.061611251382167664,-0.6430230342613754,-1.4743013694904314,-0.9158900645774197,-0.954786758280121,0.6822081948259144,0.34839879704861276,-0.04598070960361859,-0.3477887295783607,0.3424614556936414,1.2537422587256064,-0.3144636316232511,-0.33088166767918203,0.24098583691838285,-1.8494257216038525,-1.303321892877603,0.08727993420435855,-0.21144392685744304,-0.99802670303803,-0.582998972099361,0.12599760514905586,0.33768209228641816,0.9832081914713734,0.6142968437316982,-0.4867280205325363,-0.4611200177845175,1.0887127777617118,0.9745419332751694,-0.1944659262355014,-0.08836951316997524,-0.2280425629868187,-1.1624890707556061,1.3342967092565288,-1.4914465689637137,1.4051448495954553,0.07991409864922384,1.4488475536515766,-0.4812499254280882,-1.3720939113128368,1.6994099505627416,-0.48774505776445826,-0.458635435852188,-1.065294785120887,-1.2646413351401742,-0.803687099083522,-0.47927193126466255,-0.4379284085692556,0.2669769600358279,1.069464782804705,0.973077922156685,0.973895942338388,1.97257060193517],\"yaxis\":\"y14\"},{\"line\":{\"color\":\"rgba(128, 128, 128, 1.0)\",\"dash\":\"solid\",\"shape\":\"linear\",\"width\":1.3},\"marker\":{\"size\":2,\"symbol\":\"circle\"},\"mode\":\"markers\",\"name\":\"D\",\"text\":\"\",\"type\":\"scatter\",\"x\":[0.12807187542398446,-0.3379463377964324,1.4633959013920768,-0.7738598484728232,-1.0506891784607324,-1.09518691881857,0.044644608263914184,-1.9890471028668202,-0.4979235596864153,-0.4917194995315308,0.3723206047024177,1.4797020017419786,0.5822251097411749,0.5690730061828009,0.8982496318252999,0.17036934960817704,-0.3348729005798415,-1.6858302901496391,-0.09501172767999093,-0.7619592055406335,-0.32528897590914885,0.6038411479342818,-0.648527324425865,-0.27739186473579414,-1.1519450600777303,0.35994010301896,-1.0047115407190013,0.018081751091101536,-0.5757856328012967,0.39663682494637903,1.4596645528499967,-1.0962404173890326,-2.4598285717737594,-0.17083847101992244,-0.6761894887970228,0.24866589158258182,-0.029436222060168354,1.4155548765095454,-1.3271971507233289,1.120612037768788,-1.7569662771148205,-0.8837976051847442,0.7814504711599632,-1.1585953557552133,0.8296550448227875,-1.022371651731951,2.6474934379087967,-0.1912819262932093,-1.9066585577083526,-0.3901423136816461,-0.3760894204814213,0.6152684209827143,0.32727873814900565,0.41456818164039266,-1.0900178944425651,0.18417547935634557,-0.011093448019438791,-1.0297139516709861,1.8751686118475495,1.441084167812649,0.6884012654943377,2.2678012801697065,2.574679436025041,0.9451138305462838,-2.4745569767804945,1.3778785688946562,-1.1319363625136982,0.9294825643245276,-2.2649043477165414,0.18409100590505723,-1.0863010954183472,1.0165512494366178,-0.4926783393127255,1.5575130252219136,0.42694304228021995,-1.5016976988685655,1.7556337797231079,0.16630108389176115,0.2005436626847083,-0.5662535692768542,0.7000057752049412,0.20418566509752173,-0.8085208385874586,1.3547112958490681,0.7484134879484421,0.7516113952927546,1.0302314724346373,-0.6282968589562925,0.6241653504657344,0.051760190304043205,0.07008875643568846,-0.6663436136115266,-0.16976616290151544,-0.9639158937639654,1.332975648244094,0.15542889576827051,-1.0420319739732598,-0.4051167484244614,0.9892453566514525,0.03987956195702824],\"xaxis\":\"x15\",\"y\":[-0.04991211993374211,-0.12439110703781973,0.7101003614182688,-0.35398370554287545,1.5164722533933743,-0.41835023750400413,1.5578918472611498,-1.0470709111688634,-0.21564737040826687,0.25162592947540413,-0.7905196919300693,0.9560849098301893,1.4076471419284666,-1.2314418596796994,0.06572488882951952,-0.19774577889226952,-0.2591421126525056,1.4120511137012324,-1.982797453619798,-0.7368091611591652,-0.8908859816266917,0.8493942792511213,-0.9343664832323013,-0.9386450383133357,2.2357034181115303,-0.9649586851045795,-0.047329575850956734,0.1474778487189868,0.2842770948925106,0.7390626475625436,1.9440813080345196,0.9362213920110779,0.04646899136067646,-1.3895335865701155,-1.4293090319454262,-0.08369349619341691,-0.1031727868141034,0.4318333905014164,1.060558604243418,-0.6757995431173397,-0.7096132372107928,0.10785597274051674,-0.16725231627786866,0.2771413691585504,-0.10731638343080796,-1.8451425109836772,1.274677229320815,0.58717604479936,0.061611251382167664,-0.6430230342613754,-1.4743013694904314,-0.9158900645774197,-0.954786758280121,0.6822081948259144,0.34839879704861276,-0.04598070960361859,-0.3477887295783607,0.3424614556936414,1.2537422587256064,-0.3144636316232511,-0.33088166767918203,0.24098583691838285,-1.8494257216038525,-1.303321892877603,0.08727993420435855,-0.21144392685744304,-0.99802670303803,-0.582998972099361,0.12599760514905586,0.33768209228641816,0.9832081914713734,0.6142968437316982,-0.4867280205325363,-0.4611200177845175,1.0887127777617118,0.9745419332751694,-0.1944659262355014,-0.08836951316997524,-0.2280425629868187,-1.1624890707556061,1.3342967092565288,-1.4914465689637137,1.4051448495954553,0.07991409864922384,1.4488475536515766,-0.4812499254280882,-1.3720939113128368,1.6994099505627416,-0.48774505776445826,-0.458635435852188,-1.065294785120887,-1.2646413351401742,-0.803687099083522,-0.47927193126466255,-0.4379284085692556,0.2669769600358279,1.069464782804705,0.973077922156685,0.973895942338388,1.97257060193517],\"yaxis\":\"y15\"},{\"histfunc\":\"count\",\"histnorm\":\"\",\"marker\":{\"color\":\"rgba(128, 0, 128, 1.0)\",\"line\":{\"color\":\"#4D5663\",\"width\":1.3}},\"name\":\"D\",\"nbinsx\":10,\"opacity\":0.8,\"orientation\":\"v\",\"type\":\"histogram\",\"x\":[-0.04991211993374211,-0.12439110703781973,0.7101003614182688,-0.35398370554287545,1.5164722533933743,-0.41835023750400413,1.5578918472611498,-1.0470709111688634,-0.21564737040826687,0.25162592947540413,-0.7905196919300693,0.9560849098301893,1.4076471419284666,-1.2314418596796994,0.06572488882951952,-0.19774577889226952,-0.2591421126525056,1.4120511137012324,-1.982797453619798,-0.7368091611591652,-0.8908859816266917,0.8493942792511213,-0.9343664832323013,-0.9386450383133357,2.2357034181115303,-0.9649586851045795,-0.047329575850956734,0.1474778487189868,0.2842770948925106,0.7390626475625436,1.9440813080345196,0.9362213920110779,0.04646899136067646,-1.3895335865701155,-1.4293090319454262,-0.08369349619341691,-0.1031727868141034,0.4318333905014164,1.060558604243418,-0.6757995431173397,-0.7096132372107928,0.10785597274051674,-0.16725231627786866,0.2771413691585504,-0.10731638343080796,-1.8451425109836772,1.274677229320815,0.58717604479936,0.061611251382167664,-0.6430230342613754,-1.4743013694904314,-0.9158900645774197,-0.954786758280121,0.6822081948259144,0.34839879704861276,-0.04598070960361859,-0.3477887295783607,0.3424614556936414,1.2537422587256064,-0.3144636316232511,-0.33088166767918203,0.24098583691838285,-1.8494257216038525,-1.303321892877603,0.08727993420435855,-0.21144392685744304,-0.99802670303803,-0.582998972099361,0.12599760514905586,0.33768209228641816,0.9832081914713734,0.6142968437316982,-0.4867280205325363,-0.4611200177845175,1.0887127777617118,0.9745419332751694,-0.1944659262355014,-0.08836951316997524,-0.2280425629868187,-1.1624890707556061,1.3342967092565288,-1.4914465689637137,1.4051448495954553,0.07991409864922384,1.4488475536515766,-0.4812499254280882,-1.3720939113128368,1.6994099505627416,-0.48774505776445826,-0.458635435852188,-1.065294785120887,-1.2646413351401742,-0.803687099083522,-0.47927193126466255,-0.4379284085692556,0.2669769600358279,1.069464782804705,0.973077922156685,0.973895942338388,1.97257060193517],\"xaxis\":\"x16\",\"yaxis\":\"y16\"}],                        {\"bargap\":0.02,\"legend\":{\"bgcolor\":\"#F5F6F9\",\"font\":{\"color\":\"#4D5663\"}},\"paper_bgcolor\":\"#F5F6F9\",\"plot_bgcolor\":\"#F5F6F9\",\"showlegend\":false,\"template\":{\"data\":{\"bar\":[{\"error_x\":{\"color\":\"#2a3f5f\"},\"error_y\":{\"color\":\"#2a3f5f\"},\"marker\":{\"line\":{\"color\":\"#E5ECF6\",\"width\":0.5},\"pattern\":{\"fillmode\":\"overlay\",\"size\":10,\"solidity\":0.2}},\"type\":\"bar\"}],\"barpolar\":[{\"marker\":{\"line\":{\"color\":\"#E5ECF6\",\"width\":0.5},\"pattern\":{\"fillmode\":\"overlay\",\"size\":10,\"solidity\":0.2}},\"type\":\"barpolar\"}],\"carpet\":[{\"aaxis\":{\"endlinecolor\":\"#2a3f5f\",\"gridcolor\":\"white\",\"linecolor\":\"white\",\"minorgridcolor\":\"white\",\"startlinecolor\":\"#2a3f5f\"},\"baxis\":{\"endlinecolor\":\"#2a3f5f\",\"gridcolor\":\"white\",\"linecolor\":\"white\",\"minorgridcolor\":\"white\",\"startlinecolor\":\"#2a3f5f\"},\"type\":\"carpet\"}],\"choropleth\":[{\"colorbar\":{\"outlinewidth\":0,\"ticks\":\"\"},\"type\":\"choropleth\"}],\"contour\":[{\"colorbar\":{\"outlinewidth\":0,\"ticks\":\"\"},\"colorscale\":[[0.0,\"#0d0887\"],[0.1111111111111111,\"#46039f\"],[0.2222222222222222,\"#7201a8\"],[0.3333333333333333,\"#9c179e\"],[0.4444444444444444,\"#bd3786\"],[0.5555555555555556,\"#d8576b\"],[0.6666666666666666,\"#ed7953\"],[0.7777777777777778,\"#fb9f3a\"],[0.8888888888888888,\"#fdca26\"],[1.0,\"#f0f921\"]],\"type\":\"contour\"}],\"contourcarpet\":[{\"colorbar\":{\"outlinewidth\":0,\"ticks\":\"\"},\"type\":\"contourcarpet\"}],\"heatmap\":[{\"colorbar\":{\"outlinewidth\":0,\"ticks\":\"\"},\"colorscale\":[[0.0,\"#0d0887\"],[0.1111111111111111,\"#46039f\"],[0.2222222222222222,\"#7201a8\"],[0.3333333333333333,\"#9c179e\"],[0.4444444444444444,\"#bd3786\"],[0.5555555555555556,\"#d8576b\"],[0.6666666666666666,\"#ed7953\"],[0.7777777777777778,\"#fb9f3a\"],[0.8888888888888888,\"#fdca26\"],[1.0,\"#f0f921\"]],\"type\":\"heatmap\"}],\"heatmapgl\":[{\"colorbar\":{\"outlinewidth\":0,\"ticks\":\"\"},\"colorscale\":[[0.0,\"#0d0887\"],[0.1111111111111111,\"#46039f\"],[0.2222222222222222,\"#7201a8\"],[0.3333333333333333,\"#9c179e\"],[0.4444444444444444,\"#bd3786\"],[0.5555555555555556,\"#d8576b\"],[0.6666666666666666,\"#ed7953\"],[0.7777777777777778,\"#fb9f3a\"],[0.8888888888888888,\"#fdca26\"],[1.0,\"#f0f921\"]],\"type\":\"heatmapgl\"}],\"histogram\":[{\"marker\":{\"pattern\":{\"fillmode\":\"overlay\",\"size\":10,\"solidity\":0.2}},\"type\":\"histogram\"}],\"histogram2d\":[{\"colorbar\":{\"outlinewidth\":0,\"ticks\":\"\"},\"colorscale\":[[0.0,\"#0d0887\"],[0.1111111111111111,\"#46039f\"],[0.2222222222222222,\"#7201a8\"],[0.3333333333333333,\"#9c179e\"],[0.4444444444444444,\"#bd3786\"],[0.5555555555555556,\"#d8576b\"],[0.6666666666666666,\"#ed7953\"],[0.7777777777777778,\"#fb9f3a\"],[0.8888888888888888,\"#fdca26\"],[1.0,\"#f0f921\"]],\"type\":\"histogram2d\"}],\"histogram2dcontour\":[{\"colorbar\":{\"outlinewidth\":0,\"ticks\":\"\"},\"colorscale\":[[0.0,\"#0d0887\"],[0.1111111111111111,\"#46039f\"],[0.2222222222222222,\"#7201a8\"],[0.3333333333333333,\"#9c179e\"],[0.4444444444444444,\"#bd3786\"],[0.5555555555555556,\"#d8576b\"],[0.6666666666666666,\"#ed7953\"],[0.7777777777777778,\"#fb9f3a\"],[0.8888888888888888,\"#fdca26\"],[1.0,\"#f0f921\"]],\"type\":\"histogram2dcontour\"}],\"mesh3d\":[{\"colorbar\":{\"outlinewidth\":0,\"ticks\":\"\"},\"type\":\"mesh3d\"}],\"parcoords\":[{\"line\":{\"colorbar\":{\"outlinewidth\":0,\"ticks\":\"\"}},\"type\":\"parcoords\"}],\"pie\":[{\"automargin\":true,\"type\":\"pie\"}],\"scatter\":[{\"marker\":{\"colorbar\":{\"outlinewidth\":0,\"ticks\":\"\"}},\"type\":\"scatter\"}],\"scatter3d\":[{\"line\":{\"colorbar\":{\"outlinewidth\":0,\"ticks\":\"\"}},\"marker\":{\"colorbar\":{\"outlinewidth\":0,\"ticks\":\"\"}},\"type\":\"scatter3d\"}],\"scattercarpet\":[{\"marker\":{\"colorbar\":{\"outlinewidth\":0,\"ticks\":\"\"}},\"type\":\"scattercarpet\"}],\"scattergeo\":[{\"marker\":{\"colorbar\":{\"outlinewidth\":0,\"ticks\":\"\"}},\"type\":\"scattergeo\"}],\"scattergl\":[{\"marker\":{\"colorbar\":{\"outlinewidth\":0,\"ticks\":\"\"}},\"type\":\"scattergl\"}],\"scattermapbox\":[{\"marker\":{\"colorbar\":{\"outlinewidth\":0,\"ticks\":\"\"}},\"type\":\"scattermapbox\"}],\"scatterpolar\":[{\"marker\":{\"colorbar\":{\"outlinewidth\":0,\"ticks\":\"\"}},\"type\":\"scatterpolar\"}],\"scatterpolargl\":[{\"marker\":{\"colorbar\":{\"outlinewidth\":0,\"ticks\":\"\"}},\"type\":\"scatterpolargl\"}],\"scatterternary\":[{\"marker\":{\"colorbar\":{\"outlinewidth\":0,\"ticks\":\"\"}},\"type\":\"scatterternary\"}],\"surface\":[{\"colorbar\":{\"outlinewidth\":0,\"ticks\":\"\"},\"colorscale\":[[0.0,\"#0d0887\"],[0.1111111111111111,\"#46039f\"],[0.2222222222222222,\"#7201a8\"],[0.3333333333333333,\"#9c179e\"],[0.4444444444444444,\"#bd3786\"],[0.5555555555555556,\"#d8576b\"],[0.6666666666666666,\"#ed7953\"],[0.7777777777777778,\"#fb9f3a\"],[0.8888888888888888,\"#fdca26\"],[1.0,\"#f0f921\"]],\"type\":\"surface\"}],\"table\":[{\"cells\":{\"fill\":{\"color\":\"#EBF0F8\"},\"line\":{\"color\":\"white\"}},\"header\":{\"fill\":{\"color\":\"#C8D4E3\"},\"line\":{\"color\":\"white\"}},\"type\":\"table\"}]},\"layout\":{\"annotationdefaults\":{\"arrowcolor\":\"#2a3f5f\",\"arrowhead\":0,\"arrowwidth\":1},\"autotypenumbers\":\"strict\",\"coloraxis\":{\"colorbar\":{\"outlinewidth\":0,\"ticks\":\"\"}},\"colorscale\":{\"diverging\":[[0,\"#8e0152\"],[0.1,\"#c51b7d\"],[0.2,\"#de77ae\"],[0.3,\"#f1b6da\"],[0.4,\"#fde0ef\"],[0.5,\"#f7f7f7\"],[0.6,\"#e6f5d0\"],[0.7,\"#b8e186\"],[0.8,\"#7fbc41\"],[0.9,\"#4d9221\"],[1,\"#276419\"]],\"sequential\":[[0.0,\"#0d0887\"],[0.1111111111111111,\"#46039f\"],[0.2222222222222222,\"#7201a8\"],[0.3333333333333333,\"#9c179e\"],[0.4444444444444444,\"#bd3786\"],[0.5555555555555556,\"#d8576b\"],[0.6666666666666666,\"#ed7953\"],[0.7777777777777778,\"#fb9f3a\"],[0.8888888888888888,\"#fdca26\"],[1.0,\"#f0f921\"]],\"sequentialminus\":[[0.0,\"#0d0887\"],[0.1111111111111111,\"#46039f\"],[0.2222222222222222,\"#7201a8\"],[0.3333333333333333,\"#9c179e\"],[0.4444444444444444,\"#bd3786\"],[0.5555555555555556,\"#d8576b\"],[0.6666666666666666,\"#ed7953\"],[0.7777777777777778,\"#fb9f3a\"],[0.8888888888888888,\"#fdca26\"],[1.0,\"#f0f921\"]]},\"colorway\":[\"#636efa\",\"#EF553B\",\"#00cc96\",\"#ab63fa\",\"#FFA15A\",\"#19d3f3\",\"#FF6692\",\"#B6E880\",\"#FF97FF\",\"#FECB52\"],\"font\":{\"color\":\"#2a3f5f\"},\"geo\":{\"bgcolor\":\"white\",\"lakecolor\":\"white\",\"landcolor\":\"#E5ECF6\",\"showlakes\":true,\"showland\":true,\"subunitcolor\":\"white\"},\"hoverlabel\":{\"align\":\"left\"},\"hovermode\":\"closest\",\"mapbox\":{\"style\":\"light\"},\"paper_bgcolor\":\"white\",\"plot_bgcolor\":\"#E5ECF6\",\"polar\":{\"angularaxis\":{\"gridcolor\":\"white\",\"linecolor\":\"white\",\"ticks\":\"\"},\"bgcolor\":\"#E5ECF6\",\"radialaxis\":{\"gridcolor\":\"white\",\"linecolor\":\"white\",\"ticks\":\"\"}},\"scene\":{\"xaxis\":{\"backgroundcolor\":\"#E5ECF6\",\"gridcolor\":\"white\",\"gridwidth\":2,\"linecolor\":\"white\",\"showbackground\":true,\"ticks\":\"\",\"zerolinecolor\":\"white\"},\"yaxis\":{\"backgroundcolor\":\"#E5ECF6\",\"gridcolor\":\"white\",\"gridwidth\":2,\"linecolor\":\"white\",\"showbackground\":true,\"ticks\":\"\",\"zerolinecolor\":\"white\"},\"zaxis\":{\"backgroundcolor\":\"#E5ECF6\",\"gridcolor\":\"white\",\"gridwidth\":2,\"linecolor\":\"white\",\"showbackground\":true,\"ticks\":\"\",\"zerolinecolor\":\"white\"}},\"shapedefaults\":{\"line\":{\"color\":\"#2a3f5f\"}},\"ternary\":{\"aaxis\":{\"gridcolor\":\"white\",\"linecolor\":\"white\",\"ticks\":\"\"},\"baxis\":{\"gridcolor\":\"white\",\"linecolor\":\"white\",\"ticks\":\"\"},\"bgcolor\":\"#E5ECF6\",\"caxis\":{\"gridcolor\":\"white\",\"linecolor\":\"white\",\"ticks\":\"\"}},\"title\":{\"x\":0.05},\"xaxis\":{\"automargin\":true,\"gridcolor\":\"white\",\"linecolor\":\"white\",\"ticks\":\"\",\"title\":{\"standoff\":15},\"zerolinecolor\":\"white\",\"zerolinewidth\":2},\"yaxis\":{\"automargin\":true,\"gridcolor\":\"white\",\"linecolor\":\"white\",\"ticks\":\"\",\"title\":{\"standoff\":15},\"zerolinecolor\":\"white\",\"zerolinewidth\":2}}},\"title\":{\"font\":{\"color\":\"#4D5663\"}},\"xaxis\":{\"anchor\":\"y\",\"domain\":[0.0,0.2125],\"gridcolor\":\"#E1E5ED\",\"showgrid\":false,\"tickfont\":{\"color\":\"#4D5663\"},\"title\":{\"font\":{\"color\":\"#4D5663\"},\"text\":\"\"},\"zerolinecolor\":\"#E1E5ED\"},\"xaxis10\":{\"anchor\":\"y10\",\"domain\":[0.2625,0.475],\"gridcolor\":\"#E1E5ED\",\"showgrid\":false,\"tickfont\":{\"color\":\"#4D5663\"},\"title\":{\"font\":{\"color\":\"#4D5663\"},\"text\":\"\"},\"zerolinecolor\":\"#E1E5ED\"},\"xaxis11\":{\"anchor\":\"y11\",\"domain\":[0.525,0.7375],\"gridcolor\":\"#E1E5ED\",\"showgrid\":false,\"tickfont\":{\"color\":\"#4D5663\"},\"title\":{\"font\":{\"color\":\"#4D5663\"},\"text\":\"\"},\"zerolinecolor\":\"#E1E5ED\"},\"xaxis12\":{\"anchor\":\"y12\",\"domain\":[0.7875,1.0],\"gridcolor\":\"#E1E5ED\",\"showgrid\":false,\"tickfont\":{\"color\":\"#4D5663\"},\"title\":{\"font\":{\"color\":\"#4D5663\"},\"text\":\"\"},\"zerolinecolor\":\"#E1E5ED\"},\"xaxis13\":{\"anchor\":\"y13\",\"domain\":[0.0,0.2125],\"gridcolor\":\"#E1E5ED\",\"showgrid\":false,\"tickfont\":{\"color\":\"#4D5663\"},\"title\":{\"font\":{\"color\":\"#4D5663\"},\"text\":\"\"},\"zerolinecolor\":\"#E1E5ED\"},\"xaxis14\":{\"anchor\":\"y14\",\"domain\":[0.2625,0.475],\"gridcolor\":\"#E1E5ED\",\"showgrid\":false,\"tickfont\":{\"color\":\"#4D5663\"},\"title\":{\"font\":{\"color\":\"#4D5663\"},\"text\":\"\"},\"zerolinecolor\":\"#E1E5ED\"},\"xaxis15\":{\"anchor\":\"y15\",\"domain\":[0.525,0.7375],\"gridcolor\":\"#E1E5ED\",\"showgrid\":false,\"tickfont\":{\"color\":\"#4D5663\"},\"title\":{\"font\":{\"color\":\"#4D5663\"},\"text\":\"\"},\"zerolinecolor\":\"#E1E5ED\"},\"xaxis16\":{\"anchor\":\"y16\",\"domain\":[0.7875,1.0],\"gridcolor\":\"#E1E5ED\",\"showgrid\":false,\"tickfont\":{\"color\":\"#4D5663\"},\"title\":{\"font\":{\"color\":\"#4D5663\"},\"text\":\"\"},\"zerolinecolor\":\"#E1E5ED\"},\"xaxis2\":{\"anchor\":\"y2\",\"domain\":[0.2625,0.475],\"gridcolor\":\"#E1E5ED\",\"showgrid\":false,\"tickfont\":{\"color\":\"#4D5663\"},\"title\":{\"font\":{\"color\":\"#4D5663\"},\"text\":\"\"},\"zerolinecolor\":\"#E1E5ED\"},\"xaxis3\":{\"anchor\":\"y3\",\"domain\":[0.525,0.7375],\"gridcolor\":\"#E1E5ED\",\"showgrid\":false,\"tickfont\":{\"color\":\"#4D5663\"},\"title\":{\"font\":{\"color\":\"#4D5663\"},\"text\":\"\"},\"zerolinecolor\":\"#E1E5ED\"},\"xaxis4\":{\"anchor\":\"y4\",\"domain\":[0.7875,1.0],\"gridcolor\":\"#E1E5ED\",\"showgrid\":false,\"tickfont\":{\"color\":\"#4D5663\"},\"title\":{\"font\":{\"color\":\"#4D5663\"},\"text\":\"\"},\"zerolinecolor\":\"#E1E5ED\"},\"xaxis5\":{\"anchor\":\"y5\",\"domain\":[0.0,0.2125],\"gridcolor\":\"#E1E5ED\",\"showgrid\":false,\"tickfont\":{\"color\":\"#4D5663\"},\"title\":{\"font\":{\"color\":\"#4D5663\"},\"text\":\"\"},\"zerolinecolor\":\"#E1E5ED\"},\"xaxis6\":{\"anchor\":\"y6\",\"domain\":[0.2625,0.475],\"gridcolor\":\"#E1E5ED\",\"showgrid\":false,\"tickfont\":{\"color\":\"#4D5663\"},\"title\":{\"font\":{\"color\":\"#4D5663\"},\"text\":\"\"},\"zerolinecolor\":\"#E1E5ED\"},\"xaxis7\":{\"anchor\":\"y7\",\"domain\":[0.525,0.7375],\"gridcolor\":\"#E1E5ED\",\"showgrid\":false,\"tickfont\":{\"color\":\"#4D5663\"},\"title\":{\"font\":{\"color\":\"#4D5663\"},\"text\":\"\"},\"zerolinecolor\":\"#E1E5ED\"},\"xaxis8\":{\"anchor\":\"y8\",\"domain\":[0.7875,1.0],\"gridcolor\":\"#E1E5ED\",\"showgrid\":false,\"tickfont\":{\"color\":\"#4D5663\"},\"title\":{\"font\":{\"color\":\"#4D5663\"},\"text\":\"\"},\"zerolinecolor\":\"#E1E5ED\"},\"xaxis9\":{\"anchor\":\"y9\",\"domain\":[0.0,0.2125],\"gridcolor\":\"#E1E5ED\",\"showgrid\":false,\"tickfont\":{\"color\":\"#4D5663\"},\"title\":{\"font\":{\"color\":\"#4D5663\"},\"text\":\"\"},\"zerolinecolor\":\"#E1E5ED\"},\"yaxis\":{\"anchor\":\"x\",\"domain\":[0.8025,1.0],\"gridcolor\":\"#E1E5ED\",\"showgrid\":false,\"tickfont\":{\"color\":\"#4D5663\"},\"title\":{\"font\":{\"color\":\"#4D5663\"},\"text\":\"\"},\"zerolinecolor\":\"#E1E5ED\"},\"yaxis10\":{\"anchor\":\"x10\",\"domain\":[0.2675,0.465],\"gridcolor\":\"#E1E5ED\",\"showgrid\":false,\"tickfont\":{\"color\":\"#4D5663\"},\"title\":{\"font\":{\"color\":\"#4D5663\"},\"text\":\"\"},\"zerolinecolor\":\"#E1E5ED\"},\"yaxis11\":{\"anchor\":\"x11\",\"domain\":[0.2675,0.465],\"gridcolor\":\"#E1E5ED\",\"showgrid\":false,\"tickfont\":{\"color\":\"#4D5663\"},\"title\":{\"font\":{\"color\":\"#4D5663\"},\"text\":\"\"},\"zerolinecolor\":\"#E1E5ED\"},\"yaxis12\":{\"anchor\":\"x12\",\"domain\":[0.2675,0.465],\"gridcolor\":\"#E1E5ED\",\"showgrid\":false,\"tickfont\":{\"color\":\"#4D5663\"},\"title\":{\"font\":{\"color\":\"#4D5663\"},\"text\":\"\"},\"zerolinecolor\":\"#E1E5ED\"},\"yaxis13\":{\"anchor\":\"x13\",\"domain\":[0.0,0.1975],\"gridcolor\":\"#E1E5ED\",\"showgrid\":false,\"tickfont\":{\"color\":\"#4D5663\"},\"title\":{\"font\":{\"color\":\"#4D5663\"},\"text\":\"\"},\"zerolinecolor\":\"#E1E5ED\"},\"yaxis14\":{\"anchor\":\"x14\",\"domain\":[0.0,0.1975],\"gridcolor\":\"#E1E5ED\",\"showgrid\":false,\"tickfont\":{\"color\":\"#4D5663\"},\"title\":{\"font\":{\"color\":\"#4D5663\"},\"text\":\"\"},\"zerolinecolor\":\"#E1E5ED\"},\"yaxis15\":{\"anchor\":\"x15\",\"domain\":[0.0,0.1975],\"gridcolor\":\"#E1E5ED\",\"showgrid\":false,\"tickfont\":{\"color\":\"#4D5663\"},\"title\":{\"font\":{\"color\":\"#4D5663\"},\"text\":\"\"},\"zerolinecolor\":\"#E1E5ED\"},\"yaxis16\":{\"anchor\":\"x16\",\"domain\":[0.0,0.1975],\"gridcolor\":\"#E1E5ED\",\"showgrid\":false,\"tickfont\":{\"color\":\"#4D5663\"},\"title\":{\"font\":{\"color\":\"#4D5663\"},\"text\":\"\"},\"zerolinecolor\":\"#E1E5ED\"},\"yaxis2\":{\"anchor\":\"x2\",\"domain\":[0.8025,1.0],\"gridcolor\":\"#E1E5ED\",\"showgrid\":false,\"tickfont\":{\"color\":\"#4D5663\"},\"title\":{\"font\":{\"color\":\"#4D5663\"},\"text\":\"\"},\"zerolinecolor\":\"#E1E5ED\"},\"yaxis3\":{\"anchor\":\"x3\",\"domain\":[0.8025,1.0],\"gridcolor\":\"#E1E5ED\",\"showgrid\":false,\"tickfont\":{\"color\":\"#4D5663\"},\"title\":{\"font\":{\"color\":\"#4D5663\"},\"text\":\"\"},\"zerolinecolor\":\"#E1E5ED\"},\"yaxis4\":{\"anchor\":\"x4\",\"domain\":[0.8025,1.0],\"gridcolor\":\"#E1E5ED\",\"showgrid\":false,\"tickfont\":{\"color\":\"#4D5663\"},\"title\":{\"font\":{\"color\":\"#4D5663\"},\"text\":\"\"},\"zerolinecolor\":\"#E1E5ED\"},\"yaxis5\":{\"anchor\":\"x5\",\"domain\":[0.535,0.7325],\"gridcolor\":\"#E1E5ED\",\"showgrid\":false,\"tickfont\":{\"color\":\"#4D5663\"},\"title\":{\"font\":{\"color\":\"#4D5663\"},\"text\":\"\"},\"zerolinecolor\":\"#E1E5ED\"},\"yaxis6\":{\"anchor\":\"x6\",\"domain\":[0.535,0.7325],\"gridcolor\":\"#E1E5ED\",\"showgrid\":false,\"tickfont\":{\"color\":\"#4D5663\"},\"title\":{\"font\":{\"color\":\"#4D5663\"},\"text\":\"\"},\"zerolinecolor\":\"#E1E5ED\"},\"yaxis7\":{\"anchor\":\"x7\",\"domain\":[0.535,0.7325],\"gridcolor\":\"#E1E5ED\",\"showgrid\":false,\"tickfont\":{\"color\":\"#4D5663\"},\"title\":{\"font\":{\"color\":\"#4D5663\"},\"text\":\"\"},\"zerolinecolor\":\"#E1E5ED\"},\"yaxis8\":{\"anchor\":\"x8\",\"domain\":[0.535,0.7325],\"gridcolor\":\"#E1E5ED\",\"showgrid\":false,\"tickfont\":{\"color\":\"#4D5663\"},\"title\":{\"font\":{\"color\":\"#4D5663\"},\"text\":\"\"},\"zerolinecolor\":\"#E1E5ED\"},\"yaxis9\":{\"anchor\":\"x9\",\"domain\":[0.2675,0.465],\"gridcolor\":\"#E1E5ED\",\"showgrid\":false,\"tickfont\":{\"color\":\"#4D5663\"},\"title\":{\"font\":{\"color\":\"#4D5663\"},\"text\":\"\"},\"zerolinecolor\":\"#E1E5ED\"}},                        {\"showLink\": true, \"linkText\": \"Export to plot.ly\", \"plotlyServerURL\": \"https://plot.ly\", \"responsive\": true}                    ).then(function(){\n",
       "                            \n",
       "var gd = document.getElementById('6edd19a3-18e3-4777-b2fc-54d9821f1115');\n",
       "var x = new MutationObserver(function (mutations, observer) {{\n",
       "        var display = window.getComputedStyle(gd).display;\n",
       "        if (!display || display === 'none') {{\n",
       "            console.log([gd, 'removed!']);\n",
       "            Plotly.purge(gd);\n",
       "            observer.disconnect();\n",
       "        }}\n",
       "}});\n",
       "\n",
       "// Listen for the removal of the full notebook cells\n",
       "var notebookContainer = gd.closest('#notebook-container');\n",
       "if (notebookContainer) {{\n",
       "    x.observe(notebookContainer, {childList: true});\n",
       "}}\n",
       "\n",
       "// Listen for the clearing of the current output cell\n",
       "var outputEl = gd.closest('.output');\n",
       "if (outputEl) {{\n",
       "    x.observe(outputEl, {childList: true});\n",
       "}}\n",
       "\n",
       "                        })                };                });            </script>        </div>"
      ]
     },
     "metadata": {},
     "output_type": "display_data"
    }
   ],
   "source": [
    "df.scatter_matrix()"
   ]
  },
  {
   "cell_type": "markdown",
   "metadata": {
    "collapsed": true
   },
   "source": [
    "# Buen trabajo!"
   ]
  }
 ],
 "metadata": {
  "kernelspec": {
   "display_name": "Python 3",
   "language": "python",
   "name": "python3"
  },
  "language_info": {
   "codemirror_mode": {
    "name": "ipython",
    "version": 3
   },
   "file_extension": ".py",
   "mimetype": "text/x-python",
   "name": "python",
   "nbconvert_exporter": "python",
   "pygments_lexer": "ipython3",
   "version": "3.8.8"
  }
 },
 "nbformat": 4,
 "nbformat_minor": 1
}
