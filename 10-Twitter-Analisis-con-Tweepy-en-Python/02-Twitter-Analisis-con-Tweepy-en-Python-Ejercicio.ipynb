{
 "cells": [
  {
   "attachments": {
    "tweepy-python-twitter.png": {
     "image/png": "[encoded data removed]"
    }
   },
   "cell_type": "markdown",
   "metadata": {},
   "source": [
    "![tweepy-python-twitter.png](attachment:tweepy-python-twitter.png)"
   ]
  },
  {
   "cell_type": "markdown",
   "metadata": {},
   "source": [
    "## Ejercicio - Análisis de Twitter con Tweepy y TexBlob"
   ]
  },
  {
   "cell_type": "markdown",
   "metadata": {},
   "source": [
    "Cargaremos un archivo de texto llamado **segunda_vuelta.csv** conteniendo tweets que resultaron de la busqueada con el hashtag **#fraudeenmesa** del 8 al 14 de junio del 2021.\n",
    "\n",
    "Realizar las operaciones que se solicitan.\n",
    "\n",
    "**Nota:** Mayor info sobre el diccionario de datos del objeto \"tweet\" se describe en: https://developer.twitter.com/en/docs/twitter-api/v1/data-dictionary/object-model/tweet"
   ]
  },
  {
   "cell_type": "markdown",
   "metadata": {},
   "source": [
    "### 1. Importación de librerias"
   ]
  },
  {
   "cell_type": "code",
   "execution_count": 2,
   "metadata": {},
   "outputs": [],
   "source": [
    "import pandas as pd\n",
    "import numpy as np"
   ]
  },
  {
   "cell_type": "markdown",
   "metadata": {},
   "source": [
    "### 2. Carga de Tweets"
   ]
  },
  {
   "cell_type": "markdown",
   "metadata": {},
   "source": [
    "**(a) Cargamos los tweets contenidos en **segunda_vuelta.csv** en un dataframe llamado data**"
   ]
  },
  {
   "cell_type": "code",
   "execution_count": 4,
   "metadata": {},
   "outputs": [],
   "source": [
    "data = pd.read_csv(\"segunda_vuelta.csv\")"
   ]
  },
  {
   "cell_type": "markdown",
   "metadata": {},
   "source": [
    "### 3. Análisis de datos"
   ]
  },
  {
   "cell_type": "markdown",
   "metadata": {},
   "source": [
    "**(b) Observamos las 10 primeras observaciones de data**"
   ]
  },
  {
   "cell_type": "code",
   "execution_count": 5,
   "metadata": {},
   "outputs": [
    {
     "data": {
      "text/html": [
       "<div>\n",
       "<style scoped>\n",
       "    .dataframe tbody tr th:only-of-type {\n",
       "        vertical-align: middle;\n",
       "    }\n",
       "\n",
       "    .dataframe tbody tr th {\n",
       "        vertical-align: top;\n",
       "    }\n",
       "\n",
       "    .dataframe thead th {\n",
       "        text-align: right;\n",
       "    }\n",
       "</style>\n",
       "<table border=\"1\" class=\"dataframe\">\n",
       "  <thead>\n",
       "    <tr style=\"text-align: right;\">\n",
       "      <th></th>\n",
       "      <th>created_at</th>\n",
       "      <th>text</th>\n",
       "      <th>likes</th>\n",
       "      <th>RTs</th>\n",
       "      <th>user_name</th>\n",
       "    </tr>\n",
       "  </thead>\n",
       "  <tbody>\n",
       "    <tr>\n",
       "      <th>0</th>\n",
       "      <td>13/06/2021 23:59</td>\n",
       "      <td>@MarthaChavezC @ONPE_oficial Estas elecciones ...</td>\n",
       "      <td>7.0</td>\n",
       "      <td>3.0</td>\n",
       "      <td>la_charapita</td>\n",
       "    </tr>\n",
       "    <tr>\n",
       "      <th>1</th>\n",
       "      <td>13/06/2021 23:58</td>\n",
       "      <td>@DavidU1924 @MarthaChavezC ¡Cuantas actas mas ...</td>\n",
       "      <td>12.0</td>\n",
       "      <td>0.0</td>\n",
       "      <td>DPostigo50</td>\n",
       "    </tr>\n",
       "    <tr>\n",
       "      <th>2</th>\n",
       "      <td>13/06/2021 23:54</td>\n",
       "      <td>@ONPE_oficial @alecosta @kennethsanchezg La @O...</td>\n",
       "      <td>1.0</td>\n",
       "      <td>0.0</td>\n",
       "      <td>AleGayoso2</td>\n",
       "    </tr>\n",
       "    <tr>\n",
       "      <th>3</th>\n",
       "      <td>13/06/2021 23:46</td>\n",
       "      <td>@JNE_Peru @tuesta @fidh_es PERDIERON CREDIBILI...</td>\n",
       "      <td>0.0</td>\n",
       "      <td>0.0</td>\n",
       "      <td>E062020</td>\n",
       "    </tr>\n",
       "    <tr>\n",
       "      <th>4</th>\n",
       "      <td>13/06/2021 23:45</td>\n",
       "      <td>@susanaabad @MarleneChG1 Con el #FraudeEnMesa</td>\n",
       "      <td>0.0</td>\n",
       "      <td>0.0</td>\n",
       "      <td>HILARYCAMPOVER2</td>\n",
       "    </tr>\n",
       "    <tr>\n",
       "      <th>5</th>\n",
       "      <td>13/06/2021 23:44</td>\n",
       "      <td>@IndiraHuilca Yo no vi a nadie destilar odio e...</td>\n",
       "      <td>0.0</td>\n",
       "      <td>0.0</td>\n",
       "      <td>TheRealGuille82</td>\n",
       "    </tr>\n",
       "    <tr>\n",
       "      <th>6</th>\n",
       "      <td>13/06/2021 23:41</td>\n",
       "      <td>@Tgiusseppe @ONPE_oficial @KeikoFujimori Segur...</td>\n",
       "      <td>1.0</td>\n",
       "      <td>1.0</td>\n",
       "      <td>NANKARINA5</td>\n",
       "    </tr>\n",
       "    <tr>\n",
       "      <th>7</th>\n",
       "      <td>13/06/2021 23:39</td>\n",
       "      <td>#fraudeEnMesa una más de las miles fraudulenta...</td>\n",
       "      <td>2.0</td>\n",
       "      <td>1.0</td>\n",
       "      <td>yzarich</td>\n",
       "    </tr>\n",
       "    <tr>\n",
       "      <th>8</th>\n",
       "      <td>13/06/2021 23:37</td>\n",
       "      <td>@amariateguibnof Ya es el colmo el pulpo que h...</td>\n",
       "      <td>8.0</td>\n",
       "      <td>4.0</td>\n",
       "      <td>Juaniperezc</td>\n",
       "    </tr>\n",
       "    <tr>\n",
       "      <th>9</th>\n",
       "      <td>13/06/2021 23:37</td>\n",
       "      <td>@America24Horas @KeikoFujimori Han anulado act...</td>\n",
       "      <td>0.0</td>\n",
       "      <td>0.0</td>\n",
       "      <td>GabrielOmarPM</td>\n",
       "    </tr>\n",
       "  </tbody>\n",
       "</table>\n",
       "</div>"
      ],
      "text/plain": [
       "         created_at                                               text  likes  \\\n",
       "0  13/06/2021 23:59  @MarthaChavezC @ONPE_oficial Estas elecciones ...    7.0   \n",
       "1  13/06/2021 23:58  @DavidU1924 @MarthaChavezC ¡Cuantas actas mas ...   12.0   \n",
       "2  13/06/2021 23:54  @ONPE_oficial @alecosta @kennethsanchezg La @O...    1.0   \n",
       "3  13/06/2021 23:46  @JNE_Peru @tuesta @fidh_es PERDIERON CREDIBILI...    0.0   \n",
       "4  13/06/2021 23:45      @susanaabad @MarleneChG1 Con el #FraudeEnMesa    0.0   \n",
       "5  13/06/2021 23:44  @IndiraHuilca Yo no vi a nadie destilar odio e...    0.0   \n",
       "6  13/06/2021 23:41  @Tgiusseppe @ONPE_oficial @KeikoFujimori Segur...    1.0   \n",
       "7  13/06/2021 23:39  #fraudeEnMesa una más de las miles fraudulenta...    2.0   \n",
       "8  13/06/2021 23:37  @amariateguibnof Ya es el colmo el pulpo que h...    8.0   \n",
       "9  13/06/2021 23:37  @America24Horas @KeikoFujimori Han anulado act...    0.0   \n",
       "\n",
       "   RTs        user_name  \n",
       "0  3.0     la_charapita  \n",
       "1  0.0       DPostigo50  \n",
       "2  0.0       AleGayoso2  \n",
       "3  0.0          E062020  \n",
       "4  0.0  HILARYCAMPOVER2  \n",
       "5  0.0  TheRealGuille82  \n",
       "6  1.0       NANKARINA5  \n",
       "7  1.0          yzarich  \n",
       "8  4.0      Juaniperezc  \n",
       "9  0.0    GabrielOmarPM  "
      ]
     },
     "execution_count": 5,
     "metadata": {},
     "output_type": "execute_result"
    }
   ],
   "source": [
    "# ESCRIBE TU CODIGO AQUI\n",
    "data.head(10)"
   ]
  },
  {
   "cell_type": "code",
   "execution_count": 3,
   "metadata": {},
   "outputs": [
    {
     "data": {
      "text/html": [
       "<div>\n",
       "<style scoped>\n",
       "    .dataframe tbody tr th:only-of-type {\n",
       "        vertical-align: middle;\n",
       "    }\n",
       "\n",
       "    .dataframe tbody tr th {\n",
       "        vertical-align: top;\n",
       "    }\n",
       "\n",
       "    .dataframe thead th {\n",
       "        text-align: right;\n",
       "    }\n",
       "</style>\n",
       "<table border=\"1\" class=\"dataframe\">\n",
       "  <thead>\n",
       "    <tr style=\"text-align: right;\">\n",
       "      <th></th>\n",
       "      <th>created_at</th>\n",
       "      <th>text</th>\n",
       "      <th>likes</th>\n",
       "      <th>RTs</th>\n",
       "      <th>user_name</th>\n",
       "    </tr>\n",
       "  </thead>\n",
       "  <tbody>\n",
       "    <tr>\n",
       "      <th>0</th>\n",
       "      <td>13/06/2021 23:59</td>\n",
       "      <td>@MarthaChavezC @ONPE_oficial Estas elecciones ...</td>\n",
       "      <td>7.0</td>\n",
       "      <td>3.0</td>\n",
       "      <td>la_charapita</td>\n",
       "    </tr>\n",
       "    <tr>\n",
       "      <th>1</th>\n",
       "      <td>13/06/2021 23:58</td>\n",
       "      <td>@DavidU1924 @MarthaChavezC ¡Cuantas actas mas ...</td>\n",
       "      <td>12.0</td>\n",
       "      <td>0.0</td>\n",
       "      <td>DPostigo50</td>\n",
       "    </tr>\n",
       "    <tr>\n",
       "      <th>2</th>\n",
       "      <td>13/06/2021 23:54</td>\n",
       "      <td>@ONPE_oficial @alecosta @kennethsanchezg La @O...</td>\n",
       "      <td>1.0</td>\n",
       "      <td>0.0</td>\n",
       "      <td>AleGayoso2</td>\n",
       "    </tr>\n",
       "    <tr>\n",
       "      <th>3</th>\n",
       "      <td>13/06/2021 23:46</td>\n",
       "      <td>@JNE_Peru @tuesta @fidh_es PERDIERON CREDIBILI...</td>\n",
       "      <td>0.0</td>\n",
       "      <td>0.0</td>\n",
       "      <td>E062020</td>\n",
       "    </tr>\n",
       "    <tr>\n",
       "      <th>4</th>\n",
       "      <td>13/06/2021 23:45</td>\n",
       "      <td>@susanaabad @MarleneChG1 Con el #FraudeEnMesa</td>\n",
       "      <td>0.0</td>\n",
       "      <td>0.0</td>\n",
       "      <td>HILARYCAMPOVER2</td>\n",
       "    </tr>\n",
       "    <tr>\n",
       "      <th>5</th>\n",
       "      <td>13/06/2021 23:44</td>\n",
       "      <td>@IndiraHuilca Yo no vi a nadie destilar odio e...</td>\n",
       "      <td>0.0</td>\n",
       "      <td>0.0</td>\n",
       "      <td>TheRealGuille82</td>\n",
       "    </tr>\n",
       "    <tr>\n",
       "      <th>6</th>\n",
       "      <td>13/06/2021 23:41</td>\n",
       "      <td>@Tgiusseppe @ONPE_oficial @KeikoFujimori Segur...</td>\n",
       "      <td>1.0</td>\n",
       "      <td>1.0</td>\n",
       "      <td>NANKARINA5</td>\n",
       "    </tr>\n",
       "    <tr>\n",
       "      <th>7</th>\n",
       "      <td>13/06/2021 23:39</td>\n",
       "      <td>#fraudeEnMesa una más de las miles fraudulenta...</td>\n",
       "      <td>2.0</td>\n",
       "      <td>1.0</td>\n",
       "      <td>yzarich</td>\n",
       "    </tr>\n",
       "    <tr>\n",
       "      <th>8</th>\n",
       "      <td>13/06/2021 23:37</td>\n",
       "      <td>@amariateguibnof Ya es el colmo el pulpo que h...</td>\n",
       "      <td>8.0</td>\n",
       "      <td>4.0</td>\n",
       "      <td>Juaniperezc</td>\n",
       "    </tr>\n",
       "    <tr>\n",
       "      <th>9</th>\n",
       "      <td>13/06/2021 23:37</td>\n",
       "      <td>@America24Horas @KeikoFujimori Han anulado act...</td>\n",
       "      <td>0.0</td>\n",
       "      <td>0.0</td>\n",
       "      <td>GabrielOmarPM</td>\n",
       "    </tr>\n",
       "  </tbody>\n",
       "</table>\n",
       "</div>"
      ],
      "text/plain": [
       "         created_at                                               text  likes  \\\n",
       "0  13/06/2021 23:59  @MarthaChavezC @ONPE_oficial Estas elecciones ...    7.0   \n",
       "1  13/06/2021 23:58  @DavidU1924 @MarthaChavezC ¡Cuantas actas mas ...   12.0   \n",
       "2  13/06/2021 23:54  @ONPE_oficial @alecosta @kennethsanchezg La @O...    1.0   \n",
       "3  13/06/2021 23:46  @JNE_Peru @tuesta @fidh_es PERDIERON CREDIBILI...    0.0   \n",
       "4  13/06/2021 23:45      @susanaabad @MarleneChG1 Con el #FraudeEnMesa    0.0   \n",
       "5  13/06/2021 23:44  @IndiraHuilca Yo no vi a nadie destilar odio e...    0.0   \n",
       "6  13/06/2021 23:41  @Tgiusseppe @ONPE_oficial @KeikoFujimori Segur...    1.0   \n",
       "7  13/06/2021 23:39  #fraudeEnMesa una más de las miles fraudulenta...    2.0   \n",
       "8  13/06/2021 23:37  @amariateguibnof Ya es el colmo el pulpo que h...    8.0   \n",
       "9  13/06/2021 23:37  @America24Horas @KeikoFujimori Han anulado act...    0.0   \n",
       "\n",
       "   RTs        user_name  \n",
       "0  3.0     la_charapita  \n",
       "1  0.0       DPostigo50  \n",
       "2  0.0       AleGayoso2  \n",
       "3  0.0          E062020  \n",
       "4  0.0  HILARYCAMPOVER2  \n",
       "5  0.0  TheRealGuille82  \n",
       "6  1.0       NANKARINA5  \n",
       "7  1.0          yzarich  \n",
       "8  4.0      Juaniperezc  \n",
       "9  0.0    GabrielOmarPM  "
      ]
     },
     "execution_count": 3,
     "metadata": {},
     "output_type": "execute_result"
    }
   ],
   "source": []
  },
  {
   "cell_type": "markdown",
   "metadata": {},
   "source": [
    "**(c) Cuantas observaciones tiene el dataframe llamado data?**"
   ]
  },
  {
   "cell_type": "code",
   "execution_count": 7,
   "metadata": {},
   "outputs": [
    {
     "data": {
      "text/plain": [
       "17839"
      ]
     },
     "execution_count": 7,
     "metadata": {},
     "output_type": "execute_result"
    }
   ],
   "source": [
    "# ESCRIBE TU CODIGO AQUI\n",
    "len(data.index)"
   ]
  },
  {
   "cell_type": "code",
   "execution_count": 4,
   "metadata": {},
   "outputs": [
    {
     "data": {
      "text/plain": [
       "17839"
      ]
     },
     "execution_count": 4,
     "metadata": {},
     "output_type": "execute_result"
    }
   ],
   "source": []
  },
  {
   "cell_type": "markdown",
   "metadata": {},
   "source": [
    "**(d)Que info tiene el conjuno de datos?**"
   ]
  },
  {
   "cell_type": "code",
   "execution_count": 16,
   "metadata": {},
   "outputs": [
    {
     "name": "stdout",
     "output_type": "stream",
     "text": [
      "<class 'pandas.core.frame.DataFrame'>\n",
      "RangeIndex: 17839 entries, 0 to 17838\n",
      "Data columns (total 5 columns):\n",
      " #   Column      Non-Null Count  Dtype  \n",
      "---  ------      --------------  -----  \n",
      " 0   created_at  17838 non-null  object \n",
      " 1   text        17839 non-null  object \n",
      " 2   likes       17838 non-null  float64\n",
      " 3   RTs         17838 non-null  float64\n",
      " 4   user_name   17839 non-null  object \n",
      "dtypes: float64(2), object(3)\n",
      "memory usage: 697.0+ KB\n"
     ]
    }
   ],
   "source": [
    "# ESCRIBE TU CODIGO AQUI\n",
    "data.info()"
   ]
  },
  {
   "cell_type": "code",
   "execution_count": 5,
   "metadata": {},
   "outputs": [
    {
     "name": "stdout",
     "output_type": "stream",
     "text": [
      "<class 'pandas.core.frame.DataFrame'>\n",
      "RangeIndex: 17839 entries, 0 to 17838\n",
      "Data columns (total 5 columns):\n",
      " #   Column      Non-Null Count  Dtype  \n",
      "---  ------      --------------  -----  \n",
      " 0   created_at  17838 non-null  object \n",
      " 1   text        17839 non-null  object \n",
      " 2   likes       17838 non-null  float64\n",
      " 3   RTs         17838 non-null  float64\n",
      " 4   user_name   17839 non-null  object \n",
      "dtypes: float64(2), object(3)\n",
      "memory usage: 697.0+ KB\n"
     ]
    }
   ],
   "source": []
  },
  {
   "cell_type": "markdown",
   "metadata": {},
   "source": [
    "**(e) Cual es el promedio de likes?** "
   ]
  },
  {
   "cell_type": "code",
   "execution_count": 21,
   "metadata": {},
   "outputs": [
    {
     "name": "stdout",
     "output_type": "stream",
     "text": [
      "Promedio de likes: 12.09\n"
     ]
    }
   ],
   "source": [
    "# ESCRIBE TU CODIGO AQUI\n",
    "print(\"Promedio de likes:\", round(data[\"likes\"].mean(), 2))"
   ]
  },
  {
   "cell_type": "code",
   "execution_count": 6,
   "metadata": {},
   "outputs": [
    {
     "name": "stdout",
     "output_type": "stream",
     "text": [
      "Promedio de likes: 12.09 \n",
      "\n"
     ]
    }
   ],
   "source": []
  },
  {
   "cell_type": "markdown",
   "metadata": {},
   "source": [
    "**(f) Cual es el promedio de retweets?** "
   ]
  },
  {
   "cell_type": "code",
   "execution_count": 23,
   "metadata": {},
   "outputs": [
    {
     "name": "stdout",
     "output_type": "stream",
     "text": [
      "Promedio de RTs: 4.88\n"
     ]
    }
   ],
   "source": [
    "# ESCRIBE TU CODIGO AQUI\n",
    "print(\"Promedio de RTs:\", round(data[\"RTs\"].mean(), 2))"
   ]
  },
  {
   "cell_type": "code",
   "execution_count": 7,
   "metadata": {},
   "outputs": [
    {
     "name": "stdout",
     "output_type": "stream",
     "text": [
      "Promedio de RTs: 4.88 \n",
      "\n"
     ]
    }
   ],
   "source": []
  },
  {
   "cell_type": "markdown",
   "metadata": {},
   "source": [
    "**(g) Cual es el tweet con más likes y cual el que tiene más retweets?**"
   ]
  },
  {
   "cell_type": "code",
   "execution_count": 44,
   "metadata": {},
   "outputs": [
    {
     "name": "stdout",
     "output_type": "stream",
     "text": [
      "Tweet con mas likes: 5399.0 likes\n",
      "Indice del Tweet com mas likes: 12505\n",
      "Usuario: patriciagamarra\n",
      "Sí. Perdí las elecciones. Pero saben qué? Lo acepté y no me vieron haciendo berrinche ni gritando #FraudeEnMesa https://t.co/FsuerTSYVO\n"
     ]
    }
   ],
   "source": [
    "# ESCRIBE TU CODIGO AQUI\n",
    "lk_max = np.max(data[\"likes\"])\n",
    "\n",
    "lk = data[data.likes == lk_max].index[0]\n",
    "\n",
    "print(\"Tweet con mas likes:\", data[\"likes\"][data.index[lk]], \"likes\")\n",
    "print(\"Indice del Tweet com mas likes:\", lk)\n",
    "print(\"Usuario:\", data[\"user_name\"][data.index[lk]])\n",
    "print(data[\"text\"][data.index[lk]])"
   ]
  },
  {
   "cell_type": "code",
   "execution_count": 8,
   "metadata": {},
   "outputs": [
    {
     "name": "stdout",
     "output_type": "stream",
     "text": [
      "Tweet con mas likes:  5399.0  likes\n",
      "Indice del Tweet con mas likes:  12505\n",
      "Usuario:  patriciagamarra\n",
      "Sí. Perdí las elecciones. Pero saben qué? Lo acepté y no me vieron haciendo berrinche ni gritando #FraudeEnMesa https://t.co/FsuerTSYVO\n"
     ]
    }
   ],
   "source": []
  },
  {
   "cell_type": "code",
   "execution_count": 45,
   "metadata": {},
   "outputs": [
    {
     "name": "stdout",
     "output_type": "stream",
     "text": [
      "Tweet con mas retweets: 1925.0 retweets\n",
      "Indice del Tweet com mas RTs: 12490\n",
      "Usuario: JulianMaciasT\n",
      "Keiko y su pack completo trumpista/Atlas Network: Amenaza de golpe, acusaciones de fraude sin prueba, campaña de od… https://t.co/XbyJsKT1Xn\n"
     ]
    }
   ],
   "source": [
    "# ESCRIBE TU CODIGO AQUI\n",
    "rt_max = np.max(data[\"RTs\"])\n",
    "\n",
    "rt = data[data.RTs == rt_max].index[0]\n",
    "\n",
    "print(\"Tweet con mas retweets:\", data[\"RTs\"][data.index[rt]], \"retweets\")\n",
    "print(\"Indice del Tweet com mas RTs:\", rt)\n",
    "print(\"Usuario:\", data[\"user_name\"][data.index[rt]])\n",
    "print(data[\"text\"][data.index[rt]])"
   ]
  },
  {
   "cell_type": "code",
   "execution_count": 9,
   "metadata": {},
   "outputs": [
    {
     "name": "stdout",
     "output_type": "stream",
     "text": [
      "Tweet con mas retweets:  1925.0  retweets\n",
      "Indice del Tweet con mas RTs:  12490\n",
      "Usuario:  JulianMaciasT\n",
      "Keiko y su pack completo trumpista/Atlas Network: Amenaza de golpe, acusaciones de fraude sin prueba, campaña de od… https://t.co/XbyJsKT1Xn\n"
     ]
    }
   ],
   "source": []
  },
  {
   "cell_type": "markdown",
   "metadata": {},
   "source": [
    "### 4. Visualizaciones"
   ]
  },
  {
   "cell_type": "markdown",
   "metadata": {},
   "source": [
    "**(a) Crea una serie de tiempo para las columnas 'likes' y \"RTs\" por separado**"
   ]
  },
  {
   "cell_type": "code",
   "execution_count": 46,
   "metadata": {},
   "outputs": [],
   "source": [
    "# ESCRIBE TU CODIGO AQUI\n",
    "tlik = pd.Series(data=data['likes'].values, index=data['created_at'])\n",
    "trtw = pd.Series(data=data['RTs'].values, index=data['created_at'])"
   ]
  },
  {
   "cell_type": "code",
   "execution_count": 51,
   "metadata": {},
   "outputs": [
    {
     "data": {
      "image/png": "[encoded data removed]",
      "text/plain": [
       "<Figure size 1152x288 with 1 Axes>"
      ]
     },
     "metadata": {
      "needs_background": "light"
     },
     "output_type": "display_data"
    }
   ],
   "source": [
    "tlik.plot(figsize=(16,4), color='r', title=\"Evolucion de los likes en el tiempo\");"
   ]
  },
  {
   "cell_type": "code",
   "execution_count": 11,
   "metadata": {},
   "outputs": [
    {
     "data": {
      "image/png": "[encoded data removed]",
      "text/plain": [
       "<Figure size 1152x288 with 1 Axes>"
      ]
     },
     "metadata": {
      "needs_background": "light"
     },
     "output_type": "display_data"
    }
   ],
   "source": []
  },
  {
   "cell_type": "code",
   "execution_count": 52,
   "metadata": {},
   "outputs": [
    {
     "data": {
      "image/png": "[encoded data removed]",
      "text/plain": [
       "<Figure size 1152x288 with 1 Axes>"
      ]
     },
     "metadata": {
      "needs_background": "light"
     },
     "output_type": "display_data"
    }
   ],
   "source": [
    "# ESCRIBE TU CODIGO AQUI\n",
    "trtw.plot(figsize=(16,4), color='g', title=\"Evolucion de los RTs en el tiempo\");"
   ]
  },
  {
   "cell_type": "code",
   "execution_count": 12,
   "metadata": {},
   "outputs": [
    {
     "data": {
      "image/png": "[encoded data removed]",
      "text/plain": [
       "<Figure size 1152x288 with 1 Axes>"
      ]
     },
     "metadata": {
      "needs_background": "light"
     },
     "output_type": "display_data"
    }
   ],
   "source": []
  },
  {
   "cell_type": "markdown",
   "metadata": {},
   "source": [
    "**(b) Crea una serie de tiempo para las columnas 'likes' y \"RTs\" juntos en el mismo grafico**"
   ]
  },
  {
   "cell_type": "code",
   "execution_count": 58,
   "metadata": {},
   "outputs": [
    {
     "data": {
      "image/png": "[encoded data removed]",
      "text/plain": [
       "<Figure size 1152x288 with 1 Axes>"
      ]
     },
     "metadata": {
      "needs_background": "light"
     },
     "output_type": "display_data"
    }
   ],
   "source": [
    "# ESCRIBE TU CODIGO AQUI\n",
    "tlik.plot(figsize=(16,4), color='r', title=\"Evolucion de los Likes vs RTS en el tiempo\", legend=True, label=\"Likes\");\n",
    "trtw.plot(figsize=(16,4), color='g', legend=True, label=\"Retweets\");"
   ]
  },
  {
   "cell_type": "code",
   "execution_count": 13,
   "metadata": {},
   "outputs": [
    {
     "data": {
      "image/png": "[encoded data removed]",
      "text/plain": [
       "<Figure size 1152x288 with 1 Axes>"
      ]
     },
     "metadata": {
      "needs_background": "light"
     },
     "output_type": "display_data"
    }
   ],
   "source": []
  },
  {
   "cell_type": "markdown",
   "metadata": {},
   "source": [
    "### 5. Análisis de Sentimientos"
   ]
  },
  {
   "cell_type": "code",
   "execution_count": 59,
   "metadata": {},
   "outputs": [],
   "source": [
    "from textblob import TextBlob\n",
    "import re\n",
    "\n",
    "def clean_tweet(tweet):\n",
    "    '''\n",
    "    Función de utilidad para limpiar el texto de un tweet eliminando\n",
    "     enlaces y caracteres especiales que utilizan expresiones regulares.\n",
    "    '''\n",
    "    return ' '.join(re.sub(\"(@[A-Za-z0-9]+)|([^0-9A-Za-z \\t])|(\\w+:\\/\\/\\S+)\", \" \", tweet).split())\n",
    "\n",
    "def analize_sentiment(tweet):\n",
    "    '''\n",
    "    Función de utilidad para clasificar la polaridad de un tweet\n",
    "     usando textblob.\n",
    "    '''\n",
    "    analysis = TextBlob(clean_tweet(tweet))\n",
    "    if analysis.sentiment.polarity > 0:\n",
    "        return 1\n",
    "    elif analysis.sentiment.polarity == 0:\n",
    "        return 0\n",
    "    else:\n",
    "        return -1"
   ]
  },
  {
   "cell_type": "markdown",
   "metadata": {},
   "source": [
    "**(a) Crea una nueva columna llamada SA (Sentimental Analysis) en el dataframe data y asignale un valor de polaridad utilizando la funcion analize_sentiment()**"
   ]
  },
  {
   "cell_type": "code",
   "execution_count": 62,
   "metadata": {},
   "outputs": [],
   "source": [
    "# ESCRIBE TU CODIGO AQUI\n",
    "data['SA'] = np.array([ analize_sentiment(tweet) for tweet in data['text'] ])"
   ]
  },
  {
   "cell_type": "code",
   "execution_count": 63,
   "metadata": {},
   "outputs": [
    {
     "data": {
      "text/html": [
       "<div>\n",
       "<style scoped>\n",
       "    .dataframe tbody tr th:only-of-type {\n",
       "        vertical-align: middle;\n",
       "    }\n",
       "\n",
       "    .dataframe tbody tr th {\n",
       "        vertical-align: top;\n",
       "    }\n",
       "\n",
       "    .dataframe thead th {\n",
       "        text-align: right;\n",
       "    }\n",
       "</style>\n",
       "<table border=\"1\" class=\"dataframe\">\n",
       "  <thead>\n",
       "    <tr style=\"text-align: right;\">\n",
       "      <th></th>\n",
       "      <th>created_at</th>\n",
       "      <th>text</th>\n",
       "      <th>likes</th>\n",
       "      <th>RTs</th>\n",
       "      <th>user_name</th>\n",
       "      <th>SA</th>\n",
       "    </tr>\n",
       "  </thead>\n",
       "  <tbody>\n",
       "    <tr>\n",
       "      <th>0</th>\n",
       "      <td>13/06/2021 23:59</td>\n",
       "      <td>@MarthaChavezC @ONPE_oficial Estas elecciones ...</td>\n",
       "      <td>7.0</td>\n",
       "      <td>3.0</td>\n",
       "      <td>la_charapita</td>\n",
       "      <td>0</td>\n",
       "    </tr>\n",
       "    <tr>\n",
       "      <th>1</th>\n",
       "      <td>13/06/2021 23:58</td>\n",
       "      <td>@DavidU1924 @MarthaChavezC ¡Cuantas actas mas ...</td>\n",
       "      <td>12.0</td>\n",
       "      <td>0.0</td>\n",
       "      <td>DPostigo50</td>\n",
       "      <td>0</td>\n",
       "    </tr>\n",
       "    <tr>\n",
       "      <th>2</th>\n",
       "      <td>13/06/2021 23:54</td>\n",
       "      <td>@ONPE_oficial @alecosta @kennethsanchezg La @O...</td>\n",
       "      <td>1.0</td>\n",
       "      <td>0.0</td>\n",
       "      <td>AleGayoso2</td>\n",
       "      <td>0</td>\n",
       "    </tr>\n",
       "    <tr>\n",
       "      <th>3</th>\n",
       "      <td>13/06/2021 23:46</td>\n",
       "      <td>@JNE_Peru @tuesta @fidh_es PERDIERON CREDIBILI...</td>\n",
       "      <td>0.0</td>\n",
       "      <td>0.0</td>\n",
       "      <td>E062020</td>\n",
       "      <td>0</td>\n",
       "    </tr>\n",
       "    <tr>\n",
       "      <th>4</th>\n",
       "      <td>13/06/2021 23:45</td>\n",
       "      <td>@susanaabad @MarleneChG1 Con el #FraudeEnMesa</td>\n",
       "      <td>0.0</td>\n",
       "      <td>0.0</td>\n",
       "      <td>HILARYCAMPOVER2</td>\n",
       "      <td>0</td>\n",
       "    </tr>\n",
       "    <tr>\n",
       "      <th>5</th>\n",
       "      <td>13/06/2021 23:44</td>\n",
       "      <td>@IndiraHuilca Yo no vi a nadie destilar odio e...</td>\n",
       "      <td>0.0</td>\n",
       "      <td>0.0</td>\n",
       "      <td>TheRealGuille82</td>\n",
       "      <td>0</td>\n",
       "    </tr>\n",
       "    <tr>\n",
       "      <th>6</th>\n",
       "      <td>13/06/2021 23:41</td>\n",
       "      <td>@Tgiusseppe @ONPE_oficial @KeikoFujimori Segur...</td>\n",
       "      <td>1.0</td>\n",
       "      <td>1.0</td>\n",
       "      <td>NANKARINA5</td>\n",
       "      <td>0</td>\n",
       "    </tr>\n",
       "    <tr>\n",
       "      <th>7</th>\n",
       "      <td>13/06/2021 23:39</td>\n",
       "      <td>#fraudeEnMesa una más de las miles fraudulenta...</td>\n",
       "      <td>2.0</td>\n",
       "      <td>1.0</td>\n",
       "      <td>yzarich</td>\n",
       "      <td>0</td>\n",
       "    </tr>\n",
       "    <tr>\n",
       "      <th>8</th>\n",
       "      <td>13/06/2021 23:37</td>\n",
       "      <td>@amariateguibnof Ya es el colmo el pulpo que h...</td>\n",
       "      <td>8.0</td>\n",
       "      <td>4.0</td>\n",
       "      <td>Juaniperezc</td>\n",
       "      <td>0</td>\n",
       "    </tr>\n",
       "    <tr>\n",
       "      <th>9</th>\n",
       "      <td>13/06/2021 23:37</td>\n",
       "      <td>@America24Horas @KeikoFujimori Han anulado act...</td>\n",
       "      <td>0.0</td>\n",
       "      <td>0.0</td>\n",
       "      <td>GabrielOmarPM</td>\n",
       "      <td>0</td>\n",
       "    </tr>\n",
       "  </tbody>\n",
       "</table>\n",
       "</div>"
      ],
      "text/plain": [
       "         created_at                                               text  likes  \\\n",
       "0  13/06/2021 23:59  @MarthaChavezC @ONPE_oficial Estas elecciones ...    7.0   \n",
       "1  13/06/2021 23:58  @DavidU1924 @MarthaChavezC ¡Cuantas actas mas ...   12.0   \n",
       "2  13/06/2021 23:54  @ONPE_oficial @alecosta @kennethsanchezg La @O...    1.0   \n",
       "3  13/06/2021 23:46  @JNE_Peru @tuesta @fidh_es PERDIERON CREDIBILI...    0.0   \n",
       "4  13/06/2021 23:45      @susanaabad @MarleneChG1 Con el #FraudeEnMesa    0.0   \n",
       "5  13/06/2021 23:44  @IndiraHuilca Yo no vi a nadie destilar odio e...    0.0   \n",
       "6  13/06/2021 23:41  @Tgiusseppe @ONPE_oficial @KeikoFujimori Segur...    1.0   \n",
       "7  13/06/2021 23:39  #fraudeEnMesa una más de las miles fraudulenta...    2.0   \n",
       "8  13/06/2021 23:37  @amariateguibnof Ya es el colmo el pulpo que h...    8.0   \n",
       "9  13/06/2021 23:37  @America24Horas @KeikoFujimori Han anulado act...    0.0   \n",
       "\n",
       "   RTs        user_name  SA  \n",
       "0  3.0     la_charapita   0  \n",
       "1  0.0       DPostigo50   0  \n",
       "2  0.0       AleGayoso2   0  \n",
       "3  0.0          E062020   0  \n",
       "4  0.0  HILARYCAMPOVER2   0  \n",
       "5  0.0  TheRealGuille82   0  \n",
       "6  1.0       NANKARINA5   0  \n",
       "7  1.0          yzarich   0  \n",
       "8  4.0      Juaniperezc   0  \n",
       "9  0.0    GabrielOmarPM   0  "
      ]
     },
     "execution_count": 63,
     "metadata": {},
     "output_type": "execute_result"
    }
   ],
   "source": [
    "data.head(10)"
   ]
  },
  {
   "cell_type": "code",
   "execution_count": 15,
   "metadata": {},
   "outputs": [
    {
     "data": {
      "text/html": [
       "<div>\n",
       "<style scoped>\n",
       "    .dataframe tbody tr th:only-of-type {\n",
       "        vertical-align: middle;\n",
       "    }\n",
       "\n",
       "    .dataframe tbody tr th {\n",
       "        vertical-align: top;\n",
       "    }\n",
       "\n",
       "    .dataframe thead th {\n",
       "        text-align: right;\n",
       "    }\n",
       "</style>\n",
       "<table border=\"1\" class=\"dataframe\">\n",
       "  <thead>\n",
       "    <tr style=\"text-align: right;\">\n",
       "      <th></th>\n",
       "      <th>created_at</th>\n",
       "      <th>text</th>\n",
       "      <th>likes</th>\n",
       "      <th>RTs</th>\n",
       "      <th>user_name</th>\n",
       "      <th>SA</th>\n",
       "    </tr>\n",
       "  </thead>\n",
       "  <tbody>\n",
       "    <tr>\n",
       "      <th>0</th>\n",
       "      <td>13/06/2021 23:59</td>\n",
       "      <td>@MarthaChavezC @ONPE_oficial Estas elecciones ...</td>\n",
       "      <td>7.0</td>\n",
       "      <td>3.0</td>\n",
       "      <td>la_charapita</td>\n",
       "      <td>0</td>\n",
       "    </tr>\n",
       "    <tr>\n",
       "      <th>1</th>\n",
       "      <td>13/06/2021 23:58</td>\n",
       "      <td>@DavidU1924 @MarthaChavezC ¡Cuantas actas mas ...</td>\n",
       "      <td>12.0</td>\n",
       "      <td>0.0</td>\n",
       "      <td>DPostigo50</td>\n",
       "      <td>0</td>\n",
       "    </tr>\n",
       "    <tr>\n",
       "      <th>2</th>\n",
       "      <td>13/06/2021 23:54</td>\n",
       "      <td>@ONPE_oficial @alecosta @kennethsanchezg La @O...</td>\n",
       "      <td>1.0</td>\n",
       "      <td>0.0</td>\n",
       "      <td>AleGayoso2</td>\n",
       "      <td>0</td>\n",
       "    </tr>\n",
       "    <tr>\n",
       "      <th>3</th>\n",
       "      <td>13/06/2021 23:46</td>\n",
       "      <td>@JNE_Peru @tuesta @fidh_es PERDIERON CREDIBILI...</td>\n",
       "      <td>0.0</td>\n",
       "      <td>0.0</td>\n",
       "      <td>E062020</td>\n",
       "      <td>0</td>\n",
       "    </tr>\n",
       "    <tr>\n",
       "      <th>4</th>\n",
       "      <td>13/06/2021 23:45</td>\n",
       "      <td>@susanaabad @MarleneChG1 Con el #FraudeEnMesa</td>\n",
       "      <td>0.0</td>\n",
       "      <td>0.0</td>\n",
       "      <td>HILARYCAMPOVER2</td>\n",
       "      <td>0</td>\n",
       "    </tr>\n",
       "    <tr>\n",
       "      <th>5</th>\n",
       "      <td>13/06/2021 23:44</td>\n",
       "      <td>@IndiraHuilca Yo no vi a nadie destilar odio e...</td>\n",
       "      <td>0.0</td>\n",
       "      <td>0.0</td>\n",
       "      <td>TheRealGuille82</td>\n",
       "      <td>0</td>\n",
       "    </tr>\n",
       "    <tr>\n",
       "      <th>6</th>\n",
       "      <td>13/06/2021 23:41</td>\n",
       "      <td>@Tgiusseppe @ONPE_oficial @KeikoFujimori Segur...</td>\n",
       "      <td>1.0</td>\n",
       "      <td>1.0</td>\n",
       "      <td>NANKARINA5</td>\n",
       "      <td>0</td>\n",
       "    </tr>\n",
       "    <tr>\n",
       "      <th>7</th>\n",
       "      <td>13/06/2021 23:39</td>\n",
       "      <td>#fraudeEnMesa una más de las miles fraudulenta...</td>\n",
       "      <td>2.0</td>\n",
       "      <td>1.0</td>\n",
       "      <td>yzarich</td>\n",
       "      <td>0</td>\n",
       "    </tr>\n",
       "    <tr>\n",
       "      <th>8</th>\n",
       "      <td>13/06/2021 23:37</td>\n",
       "      <td>@amariateguibnof Ya es el colmo el pulpo que h...</td>\n",
       "      <td>8.0</td>\n",
       "      <td>4.0</td>\n",
       "      <td>Juaniperezc</td>\n",
       "      <td>0</td>\n",
       "    </tr>\n",
       "    <tr>\n",
       "      <th>9</th>\n",
       "      <td>13/06/2021 23:37</td>\n",
       "      <td>@America24Horas @KeikoFujimori Han anulado act...</td>\n",
       "      <td>0.0</td>\n",
       "      <td>0.0</td>\n",
       "      <td>GabrielOmarPM</td>\n",
       "      <td>0</td>\n",
       "    </tr>\n",
       "  </tbody>\n",
       "</table>\n",
       "</div>"
      ],
      "text/plain": [
       "         created_at                                               text  likes  \\\n",
       "0  13/06/2021 23:59  @MarthaChavezC @ONPE_oficial Estas elecciones ...    7.0   \n",
       "1  13/06/2021 23:58  @DavidU1924 @MarthaChavezC ¡Cuantas actas mas ...   12.0   \n",
       "2  13/06/2021 23:54  @ONPE_oficial @alecosta @kennethsanchezg La @O...    1.0   \n",
       "3  13/06/2021 23:46  @JNE_Peru @tuesta @fidh_es PERDIERON CREDIBILI...    0.0   \n",
       "4  13/06/2021 23:45      @susanaabad @MarleneChG1 Con el #FraudeEnMesa    0.0   \n",
       "5  13/06/2021 23:44  @IndiraHuilca Yo no vi a nadie destilar odio e...    0.0   \n",
       "6  13/06/2021 23:41  @Tgiusseppe @ONPE_oficial @KeikoFujimori Segur...    1.0   \n",
       "7  13/06/2021 23:39  #fraudeEnMesa una más de las miles fraudulenta...    2.0   \n",
       "8  13/06/2021 23:37  @amariateguibnof Ya es el colmo el pulpo que h...    8.0   \n",
       "9  13/06/2021 23:37  @America24Horas @KeikoFujimori Han anulado act...    0.0   \n",
       "\n",
       "   RTs        user_name  SA  \n",
       "0  3.0     la_charapita   0  \n",
       "1  0.0       DPostigo50   0  \n",
       "2  0.0       AleGayoso2   0  \n",
       "3  0.0          E062020   0  \n",
       "4  0.0  HILARYCAMPOVER2   0  \n",
       "5  0.0  TheRealGuille82   0  \n",
       "6  1.0       NANKARINA5   0  \n",
       "7  1.0          yzarich   0  \n",
       "8  4.0      Juaniperezc   0  \n",
       "9  0.0    GabrielOmarPM   0  "
      ]
     },
     "metadata": {},
     "output_type": "display_data"
    }
   ],
   "source": []
  },
  {
   "cell_type": "markdown",
   "metadata": {},
   "source": [
    "**(b) Obten la cantidad total de tweets positivos, neutrales y negativos**"
   ]
  },
  {
   "cell_type": "code",
   "execution_count": 64,
   "metadata": {},
   "outputs": [],
   "source": [
    "# ESCRIBE TU CODIGO AQUI\n",
    "pos_tweets = [ tweet for index, tweet in enumerate(data['text']) if data['SA'][index] > 0]\n",
    "neu_tweets = [ tweet for index, tweet in enumerate(data['text']) if data['SA'][index] == 0]\n",
    "neg_tweets = [ tweet for index, tweet in enumerate(data['text']) if data['SA'][index] < 0]"
   ]
  },
  {
   "cell_type": "code",
   "execution_count": 68,
   "metadata": {},
   "outputs": [
    {
     "name": "stdout",
     "output_type": "stream",
     "text": [
      "Cantidad de tweets positivos: 476\n",
      "Cantidad de tweets neutrales: 17164\n",
      "Cantidad de tweets negativos: 199\n"
     ]
    }
   ],
   "source": [
    "print(f\"Cantidad de tweets positivos: {len(pos_tweets)}\")\n",
    "print(f\"Cantidad de tweets neutrales: {len(neu_tweets)}\")\n",
    "print(f\"Cantidad de tweets negativos: {len(neg_tweets)}\")"
   ]
  },
  {
   "cell_type": "code",
   "execution_count": 16,
   "metadata": {
    "scrolled": true
   },
   "outputs": [
    {
     "name": "stdout",
     "output_type": "stream",
     "text": [
      "Cantidad de tweets positivos :  476\n",
      "Cantidad de tweets neutrales:  17164\n",
      "Cantidad de tweets negativos:  199\n"
     ]
    }
   ],
   "source": []
  },
  {
   "cell_type": "markdown",
   "metadata": {},
   "source": [
    "**(c) Obten el % de tweets positivos, neutrales y negativos**"
   ]
  },
  {
   "cell_type": "code",
   "execution_count": 71,
   "metadata": {},
   "outputs": [
    {
     "name": "stdout",
     "output_type": "stream",
     "text": [
      "Porcentaje de tweets positivos: 2.6683110039800435%\n",
      "Porcentaje de tweets neutrales: 96.21615561410393%\n",
      "Porcentaje de tweets negativos: 1.1155333819160267%\n"
     ]
    }
   ],
   "source": [
    "# ESCRIBE TU CODIGO AQUI\n",
    "print(f\"Porcentaje de tweets positivos: {len(pos_tweets)*100/len(data['text'])}%\")\n",
    "print(f\"Porcentaje de tweets neutrales: {len(neu_tweets)*100/len(data['text'])}%\")\n",
    "print(f\"Porcentaje de tweets negativos: {len(neg_tweets)*100/len(data['text'])}%\")"
   ]
  },
  {
   "cell_type": "code",
   "execution_count": 17,
   "metadata": {},
   "outputs": [
    {
     "name": "stdout",
     "output_type": "stream",
     "text": [
      "Percentaje de tweets positivos : 2.6683110039800435%\n",
      "Percentaje de tweets neutrales: 96.21615561410393%\n",
      "Percentaje de tweets negativos: 1.1155333819160267%\n"
     ]
    }
   ],
   "source": []
  },
  {
   "cell_type": "markdown",
   "metadata": {},
   "source": [
    "Que opinas de los RESULTADOS obtenidos?  LOS PERUANOS SOMOS NEUTRALES?"
   ]
  },
  {
   "cell_type": "markdown",
   "metadata": {},
   "source": [
    "## Buen trabajo!"
   ]
  }
 ],
 "metadata": {
  "kernelspec": {
   "display_name": "Python 3",
   "language": "python",
   "name": "python3"
  },
  "language_info": {
   "codemirror_mode": {
    "name": "ipython",
    "version": 3
   },
   "file_extension": ".py",
   "mimetype": "text/x-python",
   "name": "python",
   "nbconvert_exporter": "python",
   "pygments_lexer": "ipython3",
   "version": "3.8.8"
  }
 },
 "nbformat": 4,
 "nbformat_minor": 4
}
